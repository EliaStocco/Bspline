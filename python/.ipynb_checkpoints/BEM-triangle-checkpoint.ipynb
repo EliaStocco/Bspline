{
 "cells": [
  {
   "cell_type": "markdown",
   "metadata": {},
   "source": [
    "# Periodic Bspline"
   ]
  },
  {
   "cell_type": "markdown",
   "metadata": {},
   "source": [
    "### Pacchetti"
   ]
  },
  {
   "cell_type": "code",
   "execution_count": 1,
   "metadata": {
    "ExecuteTime": {
     "end_time": "2021-03-18T20:35:37.388149Z",
     "start_time": "2021-03-18T20:35:29.083518Z"
    }
   },
   "outputs": [
    {
     "name": "stderr",
     "output_type": "stream",
     "text": [
      "[NbConvertApp] Converting notebook pyBspline.ipynb to script\n",
      "[NbConvertApp] Writing 75446 bytes to pyBspline.py\n"
     ]
    }
   ],
   "source": [
    "import pyBspline as Bs\n",
    "import numpy as np\n",
    "from numpy import random\n",
    "import matplotlib.pyplot as plt\n",
    "#import matplotlib.colors as mcolors\n",
    "from matplotlib.colors import Normalize\n",
    "import matplotlib.cm as cm\n",
    "import scipy\n",
    "from scipy.misc import derivative\n",
    "from scipy.optimize import curve_fit\n",
    "import pandas as pd\n",
    "#from ipywidgets import interactive\n",
    "#import ipywidgets as widgets\n",
    "#from ipywidgets import AppLayout, FloatSlider\n",
    "#from mpl_toolkits.mplot3d import Axes3D\n",
    "import copy\n",
    "import pandas as pd\n",
    "#from scipy import integrate\n",
    "#import itertools \n",
    "#import time\n",
    "import os\n",
    "import scipy.special\n",
    "import re"
   ]
  },
  {
   "cell_type": "markdown",
   "metadata": {},
   "source": [
    "## Triangle $k=20$"
   ]
  },
  {
   "cell_type": "markdown",
   "metadata": {},
   "source": [
    "### Definition"
   ]
  },
  {
   "cell_type": "code",
   "execution_count": 3,
   "metadata": {
    "ExecuteTime": {
     "end_time": "2021-03-18T20:35:44.116846Z",
     "start_time": "2021-03-18T20:35:44.092866Z"
    }
   },
   "outputs": [],
   "source": [
    "k_in = 20*np.asarray([0.5,np.sqrt(3)/2])\n",
    "wavevector = np.sqrt(np.sum(np.power(k_in,2.0)))\n",
    "I = np.complex(0,1)\n",
    "\n",
    "xmin = -1.5\n",
    "xmax = 1.5\n",
    "ymin = -1.5\n",
    "ymax = 1.5"
   ]
  },
  {
   "cell_type": "code",
   "execution_count": 4,
   "metadata": {
    "ExecuteTime": {
     "end_time": "2021-03-18T20:35:45.465744Z",
     "start_time": "2021-03-18T20:35:45.446755Z"
    },
    "code_folding": []
   },
   "outputs": [],
   "source": [
    "#definisco la dimensionaità:\n",
    "sh = Bs.shape(1,2)\n",
    "#sh.show()\n",
    "\n",
    "#defiisco i knot vector\n",
    "P=1 #polinomial degree\n",
    "N=100 #base caridnality\n",
    "xminBs = 0.0\n",
    "xmaxBs = 1.0\n",
    "\n",
    "\n",
    "#\n",
    "#kv = Bs.uniform_open_kv(xmin,xmax,p=P,n=N)#Bs.knot_vector(P,N,v)\n",
    "#kv = periodic_kv(xmin,xmax,p=P,n=N)\n",
    "kv = Bs.periodic_kv(xminBs,xmaxBs,p=P,n=N)\n",
    "#kv.show()\n",
    "\n",
    "#alloco la Bspline\n",
    "bs = Bs.Bspline(sh,[kv],periodic=[True])"
   ]
  },
  {
   "cell_type": "code",
   "execution_count": 5,
   "metadata": {
    "ExecuteTime": {
     "end_time": "2021-03-18T20:35:47.058761Z",
     "start_time": "2021-03-18T20:35:47.039773Z"
    }
   },
   "outputs": [],
   "source": [
    "file_dir = \"files/BEM/\"\n",
    "suffix = \"triangle-P=\"+str(P)+\"-N=\"+str(N)+\"-k=\"+str(wavevector)+\".csv\""
   ]
  },
  {
   "cell_type": "code",
   "execution_count": 6,
   "metadata": {
    "ExecuteTime": {
     "end_time": "2021-03-18T20:35:47.824168Z",
     "start_time": "2021-03-18T20:35:47.799183Z"
    }
   },
   "outputs": [],
   "source": [
    "x0 = -0.5\n",
    "y0 =  -0.5\n",
    "\n",
    "a = 1.0 / (2+np.sqrt(2))\n",
    "b = (1.0+np.sqrt(2)) / (2+np.sqrt(2))\n",
    "delta = b-a\n",
    "\n",
    "sx = 1.0\n",
    "sy = 1.0\n",
    "\n",
    "def triangle_x(i):\n",
    "    if i <= a :\n",
    "        return i\n",
    "    elif i > a and i <= b :\n",
    "        j = i-a\n",
    "        return a - j*a/(delta)\n",
    "    else :\n",
    "        return 0\n",
    "    \n",
    "def triangle_y(i):\n",
    "    if i <= a :\n",
    "        return 0\n",
    "    elif i > a and i <= b :\n",
    "        j = i-a\n",
    "        return j*a/(delta)\n",
    "    else :\n",
    "        j = i-b\n",
    "        return a-j\n",
    "    \n",
    "def triangle(t):\n",
    "    out = np.zeros((len(t),2))\n",
    "    out[:,0] = [triangle_x(i) for i in t]\n",
    "    out[:,1] = [triangle_y(i) for i in t]\n",
    "            \n",
    "    out[:,0] = sx*out[:,0]/a+x0\n",
    "    out[:,1] = sy*out[:,1]/a+y0\n",
    "    return out"
   ]
  },
  {
   "cell_type": "code",
   "execution_count": 7,
   "metadata": {
    "ExecuteTime": {
     "end_time": "2021-03-18T20:35:49.038334Z",
     "start_time": "2021-03-18T20:35:49.021345Z"
    }
   },
   "outputs": [],
   "source": [
    "t = np.linspace(0,1,N)\n",
    "cp = triangle(t)\n",
    "for i in range(len(t)):\n",
    "    #bs._cp[i] = cp[i]\n",
    "    bs.set_cp(i,cp[i])\n",
    "cpx = cp[:,0]\n",
    "cpy = cp[:,1]"
   ]
  },
  {
   "cell_type": "code",
   "execution_count": 8,
   "metadata": {
    "deletable": false,
    "editable": false,
    "run_control": {
     "frozen": true
    }
   },
   "outputs": [],
   "source": [
    "#function\n",
    "x0 = 0.0\n",
    "y0 = 0.0\n",
    "a = 0.5\n",
    "b = 0.5\n",
    "def func(t):\n",
    "    #print(cpz)\n",
    "    cpx = a*np.cos(2*np.pi*t)+x0#np.random.rand(N)\n",
    "    cpy = b*np.sin(2*np.pi*t)+y0#np.random.rand(N)\n",
    "    out = np.zeros(shape=(len(t),2))\n",
    "    for i in range(len(t)):\n",
    "        out[i,0] = cpx[i]\n",
    "        out[i,1] = cpy[i]\n",
    "    return out"
   ]
  },
  {
   "cell_type": "code",
   "execution_count": 9,
   "metadata": {
    "deletable": false,
    "editable": false,
    "run_control": {
     "frozen": true
    }
   },
   "outputs": [],
   "source": [
    "t = np.linspace(0,1,N)\n",
    "cp = func(t)\n",
    "for i in range(len(t)):\n",
    "    #bs._cp[i] = cp[i]\n",
    "    bs.set_cp(i,cp[i])\n",
    "cpx = cp[:,0]\n",
    "cpy = cp[:,1]"
   ]
  },
  {
   "cell_type": "markdown",
   "metadata": {},
   "source": [
    "### Geometry"
   ]
  },
  {
   "cell_type": "code",
   "execution_count": 8,
   "metadata": {
    "ExecuteTime": {
     "end_time": "2021-03-18T20:36:03.907129Z",
     "start_time": "2021-03-18T20:36:02.858773Z"
    }
   },
   "outputs": [],
   "source": [
    "#\n",
    "NN = 1000\n",
    "T = np.linspace(xminBs,xmaxBs,NN,endpoint=True)\n",
    "xy   = bs.evaluate(T)\n",
    "df = pd.DataFrame(xy)\n",
    "df = df.rename(columns={0:\"x\",1:\"y\"})"
   ]
  },
  {
   "cell_type": "code",
   "execution_count": 10,
   "metadata": {
    "ExecuteTime": {
     "end_time": "2021-03-18T20:36:16.500655Z",
     "start_time": "2021-03-18T20:36:15.991181Z"
    }
   },
   "outputs": [
    {
     "data": {
      "image/png": "[encoded data removed]",
      "text/plain": [
       "<Figure size 360x360 with 1 Axes>"
      ]
     },
     "metadata": {
      "needs_background": "light"
     },
     "output_type": "display_data"
    }
   ],
   "source": [
    "#grafico\n",
    "fig = plt.figure ( 0 , figsize = ( 5, 5 ) )\n",
    "   \n",
    "#converto in dataframe    \n",
    "ax = fig.add_subplot(111)\n",
    "plt.plot(cpx,cpy,color=\"green\",label=\"cp\",linestyle=\"--\")\n",
    "plt.scatter(cpx,cpy,color=\"green\")\n",
    "plt.scatter(df[\"x\"], df[\"y\"], color= \"red\",label=\"Bspline\")\n",
    "plt.grid()\n",
    "plt.legend()\n",
    "ax.set_aspect('equal')\n",
    "#plt.xlim(xmin,xmax)\n",
    "#plt.ylim(ymin,ymax)\n",
    "plt.show()"
   ]
  },
  {
   "cell_type": "markdown",
   "metadata": {},
   "source": [
    "### Stiffness Matrix"
   ]
  },
  {
   "cell_type": "code",
   "execution_count": 11,
   "metadata": {
    "ExecuteTime": {
     "end_time": "2021-03-18T20:36:42.649592Z",
     "start_time": "2021-03-18T20:36:42.621617Z"
    }
   },
   "outputs": [
    {
     "data": {
      "text/plain": [
       "'files/BEM/stiffness_matrix/triangle-P=1-N=100-k=20.0.csv'"
      ]
     },
     "execution_count": 11,
     "metadata": {},
     "output_type": "execute_result"
    }
   ],
   "source": [
    "file = file_dir+\"stiffness_matrix/\"+suffix\n",
    "file"
   ]
  },
  {
   "cell_type": "code",
   "execution_count": null,
   "metadata": {
    "ExecuteTime": {
     "end_time": "2021-03-18T21:05:26.626506Z",
     "start_time": "2021-03-18T20:37:06.976475Z"
    }
   },
   "outputs": [],
   "source": [
    "READ = False\n",
    "SAVE = True\n",
    "if os.path.exists(file) and READ == True :\n",
    "    sm = bs.load(\"sm-BEM\",file)\n",
    "else :\n",
    "    sm = bs.stiffness_matrix_BEM(k=wavevector,opts={\"print\":True})\n",
    "    if SAVE == True :\n",
    "        bs.save(\"sm-BEM\",file)\n",
    "#sm"
   ]
  },
  {
   "cell_type": "markdown",
   "metadata": {},
   "source": [
    "### Single Layer Potential basis"
   ]
  },
  {
   "cell_type": "code",
   "execution_count": 14,
   "metadata": {
    "ExecuteTime": {
     "end_time": "2021-03-18T21:05:28.203533Z",
     "start_time": "2021-03-18T21:05:27.922706Z"
    }
   },
   "outputs": [
    {
     "name": "stdout",
     "output_type": "stream",
     "text": [
      "3600  =  1.0 h\n"
     ]
    }
   ],
   "source": [
    "Nx= int(xmax-xmin)*20\n",
    "Ny = int(ymax-ymin)*20\n",
    "x = np.linspace(xmin,xmax,Nx)\n",
    "y = np.linspace(ymin,ymax,Ny)\n",
    "X,Y = np.meshgrid(x,y)\n",
    "\n",
    "XY = np.zeros((Nx*Ny,2))\n",
    "XY[:,0] = X.reshape((Nx*Ny,))\n",
    "XY[:,1] = Y.reshape((Nx*Ny,))\n",
    "\n",
    "#tolgo elementi interni\n",
    "radius = np.asarray([np.sqrt(np.sum(np.power(i,2.0))) for i in XY])\n",
    "XYslp = XY#radius > 1.0]\n",
    "print(len(XYslp),\" = \",len(XYslp)/3600,\"h\")"
   ]
  },
  {
   "cell_type": "code",
   "execution_count": 15,
   "metadata": {
    "ExecuteTime": {
     "end_time": "2021-03-18T21:05:29.454761Z",
     "start_time": "2021-03-18T21:05:29.429775Z"
    }
   },
   "outputs": [
    {
     "data": {
      "text/plain": [
       "'files/BEM/single_layer_potential/triangle-P=1-N=100-k=20.0.csv'"
      ]
     },
     "execution_count": 15,
     "metadata": {},
     "output_type": "execute_result"
    }
   ],
   "source": [
    "file = file_dir+\"single_layer_potential/\"+suffix\n",
    "file"
   ]
  },
  {
   "cell_type": "code",
   "execution_count": null,
   "metadata": {
    "ExecuteTime": {
     "start_time": "2021-03-18T20:37:13.611Z"
    }
   },
   "outputs": [
    {
     "name": "stdout",
     "output_type": "stream",
     "text": [
      "310 / 3600\r"
     ]
    }
   ],
   "source": [
    "READ = False\n",
    "SAVE = True\n",
    "if os.path.exists(file) and READ == True :\n",
    "    slp = bs.load(\"slp-BEM\",file)\n",
    "else :\n",
    "    slp = bs.single_layer_potential_basis_BEM(XY=XYslp,k=wavevector,opts={\"print\":True})\n",
    "    if SAVE == True :\n",
    "        bs.save(\"slp-BEM\",file)\n",
    "#slp"
   ]
  },
  {
   "cell_type": "markdown",
   "metadata": {},
   "source": [
    "### Plane wave"
   ]
  },
  {
   "cell_type": "code",
   "execution_count": null,
   "metadata": {
    "ExecuteTime": {
     "start_time": "2021-03-18T20:37:14.720Z"
    }
   },
   "outputs": [],
   "source": [
    "def plane_wave(xx): # soluzione\n",
    "    xx = np.asarray(xx)\n",
    "    theta = np.dot(xx,k_in)\n",
    "    return np.exp(I*theta)"
   ]
  },
  {
   "cell_type": "markdown",
   "metadata": {},
   "source": [
    "#### Incident wave"
   ]
  },
  {
   "cell_type": "code",
   "execution_count": null,
   "metadata": {
    "ExecuteTime": {
     "start_time": "2021-03-18T20:37:16.851Z"
    }
   },
   "outputs": [],
   "source": [
    "#\n",
    "NN = 1000\n",
    "T = np.linspace(xminBs,xmaxBs,NN,endpoint=True)\n",
    "xy   = bs.evaluate(T)\n",
    "uinc = plane_wave(xy)"
   ]
  },
  {
   "cell_type": "code",
   "execution_count": null,
   "metadata": {
    "ExecuteTime": {
     "start_time": "2021-03-18T20:37:18.157Z"
    }
   },
   "outputs": [],
   "source": [
    "fig = plt.figure ( 0 , figsize = ( 15, 5 ) )\n",
    "\n",
    "#\n",
    "#s = 0.2\n",
    "ax = fig.add_subplot(121, projection='3d')\n",
    "ax.plot(xy[:,0], xy[:,1],uinc.real,color=\"blue\",label=\"real\")\n",
    "ax.plot(xy[:,0], xy[:,1],uinc.imag,color=\"green\",label=\"imag\")\n",
    "ax.plot(xy[:,0], xy[:,1],0.0,color=\"red\",label=\"Bspline\")\n",
    "plt.grid(True)\n",
    "plt.legend()\n",
    "\n",
    "#\n",
    "ax = fig.add_subplot(122)#, projection='3d')\n",
    "ax.plot(T,uinc.real,color=\"blue\",label=\"real\")\n",
    "ax.plot(T,uinc.imag,color=\"green\",label=\"imag\")\n",
    "plt.grid(True)\n",
    "plt.legend()\n",
    "\n",
    "plt.show()"
   ]
  },
  {
   "cell_type": "markdown",
   "metadata": {},
   "source": [
    "#### Solution"
   ]
  },
  {
   "cell_type": "code",
   "execution_count": null,
   "metadata": {
    "ExecuteTime": {
     "start_time": "2021-03-18T20:37:23.862Z"
    },
    "code_folding": []
   },
   "outputs": [],
   "source": [
    "#\n",
    "file_sol = file_dir+\"solution/\"+\"plane_wave-\"+suffix\n",
    "file_lv  = file_dir+\"load_vector/\"+\"plane_wave-\"+suffix\n",
    "file_ind = file_dir+\"indirect_solution/\"+\"plane_wave-\"+suffix\n",
    "print(file_sol)\n",
    "print(file_lv)\n",
    "print(file_ind)"
   ]
  },
  {
   "cell_type": "code",
   "execution_count": null,
   "metadata": {
    "ExecuteTime": {
     "start_time": "2021-03-18T20:37:29.456Z"
    },
    "code_folding": []
   },
   "outputs": [],
   "source": [
    "#\n",
    "READ = False\n",
    "SAVE = True\n",
    "if os.path.exists(file_sol) and READ == True :\n",
    "    sol,Xnp,Valnp = bs.load(\"sol-BEM\",file_sol)\n",
    "    \n",
    "if os.path.exists(file_lv) and READ == True :\n",
    "    sol,Xnp,Valnp = bs.load(\"lv-BEM\",file_lv)\n",
    "    \n",
    "if os.path.exists(file_ind) and READ == True :\n",
    "    sol,Xnp,Valnp = bs.load(\"ind_sol-BEM\",file_ind)\n",
    "    \n",
    "else :\n",
    "    sol,Xnp,Valnp = bs.BEM(uinc=plane_wave,k=wavevector,XY=XYslp,opts=None)\n",
    "    if SAVE == True :\n",
    "        bs.save(\"sol-BEM\",file_sol)\n",
    "        bs.save(\"lv-BEM\",file_lv)\n",
    "        bs.save(\"ind_sol-BEM\",file_ind)\n",
    "#sol"
   ]
  },
  {
   "cell_type": "code",
   "execution_count": null,
   "metadata": {
    "ExecuteTime": {
     "start_time": "2021-03-18T20:37:32.132Z"
    },
    "code_folding": []
   },
   "outputs": [],
   "source": [
    "#\n",
    "Uinc = plane_wave(XYslp)#.reshape(Nx,Ny).transpose()\n",
    "total = Uinc + Valnp"
   ]
  },
  {
   "cell_type": "code",
   "execution_count": null,
   "metadata": {
    "ExecuteTime": {
     "start_time": "2021-03-18T20:37:32.675Z"
    }
   },
   "outputs": [],
   "source": [
    "#grafico\n",
    "fig = plt.figure ( 0 , figsize = ( 15 , 10 ) )\n",
    "\n",
    "cmap = 'RdYlBu'\n",
    "\n",
    "def plot(fig,n,xB,yB,x,y,c,title):\n",
    "    \n",
    "    ax = fig.add_subplot(n)\n",
    "    ax.plot(xB, yB, color= \"black\",label=\"Bspline\")\n",
    "    sc = ax.scatter(x,y,c=c,cmap=cmap)\n",
    "    plt.colorbar(sc)\n",
    "    ax.set_aspect('equal')\n",
    "    plt.xlim(xmin,xmax)\n",
    "    plt.ylim(ymin,ymax)\n",
    "    plt.title(title)\n",
    "    \n",
    "    return\n",
    "    \n",
    "plot(fig,331,df[\"x\"], df[\"y\"],XYslp[:,0],XYslp[:,1],Uinc.real,\"$u_{inc}$ : real\")\n",
    "plot(fig,334,df[\"x\"], df[\"y\"],XYslp[:,0],XYslp[:,1],Uinc.imag,\"$u_{inc}$ : imag\")\n",
    "plot(fig,337,df[\"x\"], df[\"y\"],XYslp[:,0],XYslp[:,1],np.absolute(Uinc),\"$u_{inc}$ : abs\")\n",
    "\n",
    "plot(fig,332,df[\"x\"], df[\"y\"],XYslp[:,0],XYslp[:,1],Valnp.real,\"$u_{scat}$ : real\")\n",
    "plot(fig,335,df[\"x\"], df[\"y\"],XYslp[:,0],XYslp[:,1],Valnp.imag,\"$u_{scat}$ : imag\")\n",
    "plot(fig,338,df[\"x\"], df[\"y\"],XYslp[:,0],XYslp[:,1],np.absolute(Valnp),\"$u_{scat}$ : abs\")\n",
    "\n",
    "plot(fig,333,df[\"x\"], df[\"y\"],XYslp[:,0],XYslp[:,1],total.real,\"$u_{tot}$ : real\")\n",
    "plot(fig,336,df[\"x\"], df[\"y\"],XYslp[:,0],XYslp[:,1],total.real,\"$u_{tot}$ : imag\")\n",
    "plot(fig,339,df[\"x\"], df[\"y\"],XYslp[:,0],XYslp[:,1],np.absolute(total),\"$u_{tot}$ : abs\")\n",
    "\n",
    "plt.show()"
   ]
  },
  {
   "cell_type": "code",
   "execution_count": null,
   "metadata": {},
   "outputs": [],
   "source": []
  }
 ],
 "metadata": {
  "kernelspec": {
   "display_name": "Python 3",
   "language": "python",
   "name": "python3"
  },
  "latex_envs": {
   "LaTeX_envs_menu_present": true,
   "autoclose": true,
   "autocomplete": true,
   "bibliofile": "biblio.bib",
   "cite_by": "apalike",
   "current_citInitial": 1,
   "eqLabelWithNumbers": true,
   "eqNumInitial": 1,
   "hotkeys": {
    "equation": "Ctrl-E",
    "itemize": "Ctrl-I"
   },
   "labels_anchors": false,
   "latex_user_defs": false,
   "report_style_numbering": false,
   "user_envs_cfg": false
  },
  "toc": {
   "base_numbering": 1,
   "nav_menu": {},
   "number_sections": true,
   "sideBar": true,
   "skip_h1_title": false,
   "title_cell": "Table of Contents",
   "title_sidebar": "Contents",
   "toc_cell": false,
   "toc_position": {
    "height": "446px",
    "left": "244px",
    "top": "128px",
    "width": "273.2px"
   },
   "toc_section_display": true,
   "toc_window_display": true
  },
  "varInspector": {
   "cols": {
    "lenName": 16,
    "lenType": 16,
    "lenVar": 40
   },
   "kernels_config": {
    "python": {
     "delete_cmd_postfix": "",
     "delete_cmd_prefix": "del ",
     "library": "var_list.py",
     "varRefreshCmd": "print(var_dic_list())"
    },
    "r": {
     "delete_cmd_postfix": ") ",
     "delete_cmd_prefix": "rm(",
     "library": "var_list.r",
     "varRefreshCmd": "cat(var_dic_list()) "
    }
   },
   "oldHeight": 417.85,
   "position": {
    "height": "402.85px",
    "left": "753px",
    "right": "20px",
    "top": "74px",
    "width": "531px"
   },
   "types_to_exclude": [
    "module",
    "function",
    "builtin_function_or_method",
    "instance",
    "_Feature"
   ],
   "varInspector_section_display": "block",
   "window_display": false
  }
 },
 "nbformat": 4,
 "nbformat_minor": 4
}
