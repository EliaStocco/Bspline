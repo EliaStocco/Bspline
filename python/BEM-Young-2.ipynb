{
 "cells": [
  {
   "cell_type": "markdown",
   "metadata": {},
   "source": [
    "# Pacchetti"
   ]
  },
  {
   "cell_type": "code",
   "execution_count": 1,
   "metadata": {
    "ExecuteTime": {
     "end_time": "2021-03-19T10:21:45.659568Z",
     "start_time": "2021-03-19T10:21:33.124170Z"
    }
   },
   "outputs": [],
   "source": [
    "import pyBspline as Bs\n",
    "import numpy as np\n",
    "from numpy import random\n",
    "import matplotlib.pyplot as plt\n",
    "#import matplotlib.colors as mcolors\n",
    "from matplotlib.colors import Normalize\n",
    "import matplotlib.cm as cm\n",
    "import scipy\n",
    "from scipy.misc import derivative\n",
    "from scipy.optimize import curve_fit\n",
    "import pandas as pd\n",
    "import copy\n",
    "import pandas as pd\n",
    "import os\n",
    "import scipy.special\n",
    "import re\n",
    "import FFT as esFFT\n",
    "from imp import reload \n",
    "\n",
    "###\n",
    "def norm(x):\n",
    "    return np.sqrt(np.sum(np.power(x,2.0)))   "
   ]
  },
  {
   "cell_type": "code",
   "execution_count": 2,
   "metadata": {
    "code_folding": [
     0
    ]
   },
   "outputs": [],
   "source": [
    "#\n",
    "def plot_sol(fig,n,xB,yB,x,y,c,title):\n",
    "    \n",
    "    ax = fig.add_subplot(n)\n",
    "    ax.plot(xB, yB, color= \"black\",label=\"Bspline\")\n",
    "    sc = ax.scatter(x,y,c=c,cmap=cmap)\n",
    "    plt.colorbar(sc)\n",
    "    ax.set_aspect('equal')\n",
    "    plt.xlim(xmin,xmax)\n",
    "    plt.ylim(ymin,ymax)\n",
    "    plt.title(title)\n",
    "    \n",
    "    return"
   ]
  },
  {
   "cell_type": "code",
   "execution_count": 3,
   "metadata": {
    "code_folding": []
   },
   "outputs": [],
   "source": [
    "#\n",
    "def plot_sol_disc(fig,n,xB_arr,yB_arr,x,y,c,title,cmap):\n",
    "    \n",
    "    ax = fig.add_subplot(n)\n",
    "    for xB,yB in zip(xB_arr,yB_arr):\n",
    "        ax.plot(xB, yB, color= \"black\",label=\"Bspline\")\n",
    "    sc = ax.scatter(x,y,c=c,cmap=cmap)\n",
    "    plt.colorbar(sc)\n",
    "    #ax.set_aspect('equal')\n",
    "    plt.xlim(xmin,xmax)\n",
    "    plt.ylim(ymin,ymax)\n",
    "    plt.title(title)\n",
    "    \n",
    "    return"
   ]
  },
  {
   "cell_type": "code",
   "execution_count": 4,
   "metadata": {
    "code_folding": [
     0
    ]
   },
   "outputs": [],
   "source": [
    "#\n",
    "def plot_matrix(sm,file_png=None):\n",
    "    #\n",
    "    sm2 = sm.copy()\n",
    "    sm2[\"index\"] = sm2.index\n",
    "    #\n",
    "    new = sm2.melt(id_vars=['index'])# = sm.index\n",
    "    #\n",
    "    new2 = new.copy()\n",
    "    new2[\"index\"] = [ i[0] for i in new2[\"index\"]]\n",
    "    new2[\"variable\"] = [ i[0] for i in new2[\"variable\"]]\n",
    "    #new2[\"value\"] = [np.complex(i) for i in new2[\"value\"] ]\n",
    "    new2[\"real\"] = np.real(new2[\"value\"])\n",
    "    new2[\"imag\"] = np.imag(new2[\"value\"])\n",
    "    new2[\"abs\"] = np.absolute(new2[\"value\"])\n",
    "    new2[\"phase\"] = np.angle(new2[\"value\"])/np.pi\n",
    "    df = new2\n",
    "    \n",
    "    #\n",
    "    fig = plt.figure ( 0 , figsize = ( 15 , 10 ) )\n",
    "\n",
    "    cmap = 'RdYlBu'\n",
    "\n",
    "    #\n",
    "    ax = fig.add_subplot(221)\n",
    "    sc = ax.scatter(df[\"index\"],df[\"variable\"],c=df[\"real\"],cmap = 'RdYlBu')\n",
    "    plt.colorbar(sc)\n",
    "    plt.xlim(min(df[\"index\"]),max(df[\"index\"]))\n",
    "    plt.ylim(min(df[\"index\"]),max(df[\"index\"]))\n",
    "    ax.set_aspect('equal')\n",
    "    plt.title(\"stiffness matrix : real\")\n",
    "\n",
    "    #\n",
    "    ax = fig.add_subplot(222)\n",
    "    sc = ax.scatter(df[\"index\"],df[\"variable\"],c=df[\"imag\"],cmap = 'RdYlBu')\n",
    "    plt.colorbar(sc)\n",
    "    plt.xlim(min(df[\"index\"]),max(df[\"index\"]))\n",
    "    plt.ylim(min(df[\"index\"]),max(df[\"index\"]))\n",
    "    ax.set_aspect('equal')\n",
    "    plt.title(\"stiffness matrix : imag\")\n",
    "\n",
    "    #\n",
    "    ax = fig.add_subplot(223)\n",
    "    sc = ax.scatter(df[\"index\"],df[\"variable\"],c=df[\"abs\"],cmap = 'RdYlBu')\n",
    "    plt.colorbar(sc)\n",
    "    plt.xlim(min(df[\"index\"]),max(df[\"index\"]))\n",
    "    plt.ylim(min(df[\"index\"]),max(df[\"index\"]))\n",
    "    ax.set_aspect('equal')\n",
    "    plt.title(\"stiffness matrix : abs\")\n",
    "\n",
    "    #\n",
    "    ax = fig.add_subplot(224)\n",
    "    sc = ax.scatter(df[\"index\"],df[\"variable\"],c=df[\"phase\"],cmap = 'RdYlBu')\n",
    "    plt.colorbar(sc)\n",
    "    plt.xlim(min(df[\"index\"]),max(df[\"index\"]))\n",
    "    plt.ylim(min(df[\"index\"]),max(df[\"index\"]))\n",
    "    ax.set_aspect('equal')\n",
    "    plt.title(\"stiffness matrix : $\\\\theta / \\pi$\")\n",
    "\n",
    "    plt.tight_layout()\n",
    "    if file_png is not None :\n",
    "        plt.savefig(file_png)\n",
    "    plt.show()\n",
    "    "
   ]
  },
  {
   "cell_type": "markdown",
   "metadata": {},
   "source": [
    "# Young"
   ]
  },
  {
   "cell_type": "markdown",
   "metadata": {},
   "source": [
    "## Definition"
   ]
  },
  {
   "cell_type": "code",
   "execution_count": 5,
   "metadata": {
    "ExecuteTime": {
     "end_time": "2021-03-19T10:22:02.503614Z",
     "start_time": "2021-03-19T10:22:02.482636Z"
    }
   },
   "outputs": [
    {
     "name": "stdout",
     "output_type": "stream",
     "text": [
      "|k_in|: 30.0\n",
      "w: 30\n",
      "h: 0.020943951023931952\n",
      "lambda: 0.20943951023931953\n"
     ]
    }
   ],
   "source": [
    "k_in = 30*np.asarray([1,0])\n",
    "wavevector = 30#np.sqrt(np.sum(np.power(k_in,2.0)))\n",
    "print(\"|k_in|:\",norm(k_in))\n",
    "print(\"w:\",wavevector)\n",
    "print(\"h:\",np.pi/(5*wavevector))\n",
    "print(\"lambda:\",2*np.pi/wavevector)\n",
    "I = np.complex(0,1)\n",
    "\n",
    "\n",
    "xmin = -0.2\n",
    "xmax = 4\n",
    "ymin = -7\n",
    "ymax = 7"
   ]
  },
  {
   "cell_type": "code",
   "execution_count": 6,
   "metadata": {
    "ExecuteTime": {
     "end_time": "2021-03-19T10:22:03.774426Z",
     "start_time": "2021-03-19T10:22:03.737449Z"
    },
    "code_folding": []
   },
   "outputs": [],
   "source": [
    "#definisco la dimensionaità:\n",
    "sh = Bs.shape(1,2)\n",
    "#sh.show()\n",
    "\n",
    "#defiisco i knot vector\n",
    "P=1 #polinomial degree\n",
    "N=10 #base caridnality\n",
    "xminBs = 0.0\n",
    "xmaxBs = 1.0\n",
    "\n",
    "\n",
    "#\n",
    "#kv = Bs.uniform_open_kv(xmin,xmax,p=P,n=N)#Bs.knot_vector(P,N,v)\n",
    "#kv = periodic_kv(xmin,xmax,p=P,n=N)\n",
    "kv = Bs.periodic_kv(xminBs,xmaxBs,p=P,n=N)\n",
    "#kv.show()\n",
    "\n",
    "#alloco la Bspline\n",
    "bs = Bs.Bspline(sh,[kv],properties={\"periodic\":[True]})\n",
    "#center = Bs.Bspline(sh,[kv],properties={\"periodic\":[True]})\n",
    "#down = Bs.Bspline(sh,[kv],properties={\"periodic\":[True]})\n",
    "\n",
    "#questo lo definisco dopo\n",
    "#bs_arr = [bs,bs,bs]"
   ]
  },
  {
   "cell_type": "code",
   "execution_count": 7,
   "metadata": {
    "ExecuteTime": {
     "end_time": "2021-03-19T10:22:46.925997Z",
     "start_time": "2021-03-19T10:22:46.903011Z"
    }
   },
   "outputs": [],
   "source": [
    "file_dir = \"files/BEM/Young-2/\"\n",
    "suffixPNK = \"P=\"+str(P)+\"-N=\"+str(N)+\"-k=\"+str(wavevector)#+\".csv\"\n",
    "suffixPN  = \"P=\"+str(P)+\"-N=\"+str(N)#+\".csv\""
   ]
  },
  {
   "cell_type": "markdown",
   "metadata": {},
   "source": [
    "## Geometry"
   ]
  },
  {
   "cell_type": "code",
   "execution_count": 8,
   "metadata": {
    "code_folding": []
   },
   "outputs": [],
   "source": [
    "#\n",
    "r0 = [0,4+2*np.pi/wavevector]\n",
    "r1 = [0,0]\n",
    "r2 = [0,-4-2*np.pi/wavevector]\n",
    "#\n",
    "b = 2.*np.pi/wavevector\n",
    "h = 4."
   ]
  },
  {
   "cell_type": "code",
   "execution_count": 9,
   "metadata": {
    "code_folding": []
   },
   "outputs": [],
   "source": [
    "#rectangle \n",
    "def rectangle(x0y0,x1y1,T):\n",
    "    # T in [0,1]\n",
    "    \n",
    "    print(x0y0)\n",
    "    print(x1y1)\n",
    "    # base\n",
    "    b = x1y1[0] - x0y0[0]\n",
    "    # altezza\n",
    "    h = x1y1[1] - x0y0[1]\n",
    "    # angoli\n",
    "    c0 = 0.\n",
    "    c1 = 0.5*b/(b+h)\n",
    "    c2 = 0.5\n",
    "    c3 = 0.5*(2*b+h)/(b+h)\n",
    "    #\n",
    "    N = len(T)\n",
    "    n0 = int(0.5*N*b/(b+h))\n",
    "    if n0 == 0 :\n",
    "        n0 = 1\n",
    "    n1 = int(0.5*N-n0)\n",
    "    n2 = n0\n",
    "    n3 = n1\n",
    "    \n",
    "    print(\"n0:\",n0)\n",
    "    print(\"n1:\",n1)\n",
    "    print(\"n2:\",n2)\n",
    "    print(\"n3:\",n3)\n",
    "\n",
    "    if len(T) != n0+n1+n2+n3:\n",
    "        print(\"error\")\n",
    "\n",
    "    out = np.zeros((len(T),2))\n",
    "\n",
    "    x0 = np.linspace(x0y0[0],x1y1[0],n0,endpoint=False)\n",
    "    y0 = np.linspace(x0y0[1],x0y0[1],n0,endpoint=False)\n",
    "\n",
    "    x1 = np.linspace(x1y1[0],x1y1[0],n1,endpoint=False)\n",
    "    y1 = np.linspace(x0y0[1],x1y1[1],n1,endpoint=False)\n",
    "\n",
    "    x2 = np.linspace(x1y1[0],x0y0[0],n2,endpoint=False)\n",
    "    y2 = np.linspace(x1y1[1],x1y1[1],n2,endpoint=False)\n",
    "\n",
    "    x3 = np.linspace(x0y0[0],x0y0[0],n3,endpoint=False)\n",
    "    y3 = np.linspace(x1y1[1],x0y0[1],n3,endpoint=False)\n",
    "\n",
    "    out[:,0] = np.concatenate((x0,x1,x2,x3))           \n",
    "    out[:,1] = np.concatenate((y0,y1,y2,y3))    \n",
    "    \n",
    "    return out"
   ]
  },
  {
   "cell_type": "code",
   "execution_count": 10,
   "metadata": {},
   "outputs": [
    {
     "name": "stdout",
     "output_type": "stream",
     "text": [
      "[-0.10471975511965977, -2.0]\n",
      "[0.10471975511965977, 2.0]\n",
      "n0: 1\n",
      "n1: 4\n",
      "n2: 1\n",
      "n3: 4\n"
     ]
    }
   ],
   "source": [
    "T = np.linspace(0.,1.,N,endpoint=True)\n",
    "rect   = rectangle([-b/2.,-h/2.],[b/2.,h/2.],T)\n",
    "#cen_rect  = rectangle([-0.5,-1],[0.5,1],T)\n",
    "#down_rect = rectangle([-0.5,-6],[0.5,-2],T)"
   ]
  },
  {
   "cell_type": "code",
   "execution_count": 11,
   "metadata": {},
   "outputs": [],
   "source": [
    "for i in range(len(T)):\n",
    "    bs.set_cp(i,rect[i])\n",
    "    #center.set_cp(i,cen_rect[i])\n",
    "    #down.set_cp(i,down_rect[i])"
   ]
  },
  {
   "cell_type": "code",
   "execution_count": 12,
   "metadata": {
    "ExecuteTime": {
     "end_time": "2021-03-19T10:23:02.045619Z",
     "start_time": "2021-03-19T10:23:01.480917Z"
    },
    "code_folding": []
   },
   "outputs": [
    {
     "data": {
      "text/html": [
       "<div>\n",
       "<style scoped>\n",
       "    .dataframe tbody tr th:only-of-type {\n",
       "        vertical-align: middle;\n",
       "    }\n",
       "\n",
       "    .dataframe tbody tr th {\n",
       "        vertical-align: top;\n",
       "    }\n",
       "\n",
       "    .dataframe thead tr th {\n",
       "        text-align: left;\n",
       "    }\n",
       "</style>\n",
       "<table border=\"1\" class=\"dataframe\">\n",
       "  <thead>\n",
       "    <tr>\n",
       "      <th></th>\n",
       "      <th colspan=\"2\" halign=\"left\">up</th>\n",
       "      <th colspan=\"2\" halign=\"left\">center</th>\n",
       "      <th colspan=\"2\" halign=\"left\">down</th>\n",
       "      <th>t</th>\n",
       "    </tr>\n",
       "    <tr>\n",
       "      <th></th>\n",
       "      <th>x</th>\n",
       "      <th>y</th>\n",
       "      <th>x</th>\n",
       "      <th>y</th>\n",
       "      <th>x</th>\n",
       "      <th>y</th>\n",
       "      <th></th>\n",
       "    </tr>\n",
       "  </thead>\n",
       "  <tbody>\n",
       "    <tr>\n",
       "      <th>0</th>\n",
       "      <td>-0.104720</td>\n",
       "      <td>2.20944</td>\n",
       "      <td>-0.104720</td>\n",
       "      <td>-2.0</td>\n",
       "      <td>-0.104720</td>\n",
       "      <td>-6.20944</td>\n",
       "      <td>0.000000</td>\n",
       "    </tr>\n",
       "    <tr>\n",
       "      <th>1</th>\n",
       "      <td>-0.102623</td>\n",
       "      <td>2.20944</td>\n",
       "      <td>-0.102623</td>\n",
       "      <td>-2.0</td>\n",
       "      <td>-0.102623</td>\n",
       "      <td>-6.20944</td>\n",
       "      <td>0.001001</td>\n",
       "    </tr>\n",
       "    <tr>\n",
       "      <th>2</th>\n",
       "      <td>-0.100527</td>\n",
       "      <td>2.20944</td>\n",
       "      <td>-0.100527</td>\n",
       "      <td>-2.0</td>\n",
       "      <td>-0.100527</td>\n",
       "      <td>-6.20944</td>\n",
       "      <td>0.002002</td>\n",
       "    </tr>\n",
       "    <tr>\n",
       "      <th>3</th>\n",
       "      <td>-0.098430</td>\n",
       "      <td>2.20944</td>\n",
       "      <td>-0.098430</td>\n",
       "      <td>-2.0</td>\n",
       "      <td>-0.098430</td>\n",
       "      <td>-6.20944</td>\n",
       "      <td>0.003003</td>\n",
       "    </tr>\n",
       "    <tr>\n",
       "      <th>4</th>\n",
       "      <td>-0.096334</td>\n",
       "      <td>2.20944</td>\n",
       "      <td>-0.096334</td>\n",
       "      <td>-2.0</td>\n",
       "      <td>-0.096334</td>\n",
       "      <td>-6.20944</td>\n",
       "      <td>0.004004</td>\n",
       "    </tr>\n",
       "  </tbody>\n",
       "</table>\n",
       "</div>"
      ],
      "text/plain": [
       "         up             center           down                  t\n",
       "          x        y         x    y         x        y          \n",
       "0 -0.104720  2.20944 -0.104720 -2.0 -0.104720 -6.20944  0.000000\n",
       "1 -0.102623  2.20944 -0.102623 -2.0 -0.102623 -6.20944  0.001001\n",
       "2 -0.100527  2.20944 -0.100527 -2.0 -0.100527 -6.20944  0.002002\n",
       "3 -0.098430  2.20944 -0.098430 -2.0 -0.098430 -6.20944  0.003003\n",
       "4 -0.096334  2.20944 -0.096334 -2.0 -0.096334 -6.20944  0.004004"
      ]
     },
     "execution_count": 12,
     "metadata": {},
     "output_type": "execute_result"
    }
   ],
   "source": [
    "#\n",
    "NN = 1000\n",
    "t = np.linspace(xminBs,xmaxBs,NN,endpoint=True)\n",
    "df = pd.DataFrame(index=np.arange(0,len(t)),columns=np.arange(0,6),dtype=object)\n",
    "index = [  (\"up\",\"x\") , (\"up\",\"y\"),\\\n",
    "          (\"center\",\"x\") , (\"center\",\"y\"),\\\n",
    "          (\"down\",\"x\") , (\"down\",\"y\")]\n",
    "mi = pd.MultiIndex.from_tuples(index)\n",
    "df = df.reindex(columns=mi)\n",
    "\n",
    "df[\"t\"]      = t\n",
    "\n",
    "xy = bs.evaluate(t)\n",
    "#c = center.evaluate(t)\n",
    "#d =  down.evaluate(t)\n",
    "\n",
    "df[(\"up\",\"x\")]  = xy[:,0] + r0[0]\n",
    "df[(\"up\",\"y\")]  = xy[:,1] + r0[1]\n",
    "\n",
    "df[(\"center\",\"x\")] = xy[:,0] + r1[0]\n",
    "df[(\"center\",\"y\")] = xy[:,1] + r1[1]\n",
    "\n",
    "df[(\"down\",\"x\")]   = xy[:,0] + r2[0]\n",
    "df[(\"down\",\"y\")]   = xy[:,1] + r2[1]\n",
    "\n",
    "df.head()"
   ]
  },
  {
   "cell_type": "code",
   "execution_count": 13,
   "metadata": {
    "ExecuteTime": {
     "end_time": "2021-03-19T10:23:03.264658Z",
     "start_time": "2021-03-19T10:23:02.055614Z"
    },
    "code_folding": []
   },
   "outputs": [
    {
     "data": {
      "image/png": "[encoded data removed]",
      "text/plain": [
       "<Figure size 1080x360 with 3 Axes>"
      ]
     },
     "metadata": {
      "needs_background": "light"
     },
     "output_type": "display_data"
    }
   ],
   "source": [
    "#\n",
    "fig = plt.figure ( 0 , figsize = ( 15, 5 ) )\n",
    "\n",
    "#\n",
    "s = 0.1\n",
    "ax = fig.add_subplot(131)\n",
    "plt.scatter(df[(\"up\",\"x\")], df[(\"up\",\"y\")], color= \"red\",label=\"up\",s=s)\n",
    "plt.scatter(df[(\"center\",\"x\")], df[(\"center\",\"y\")], color= \"green\",label=\"center\",s=s)\n",
    "plt.scatter(df[(\"down\",\"x\")], df[(\"down\",\"y\")], color= \"blue\",label=\"down\",s=s)\n",
    "plt.grid()\n",
    "plt.legend()\n",
    "plt.xlim(xmin,xmax)\n",
    "plt.ylim(ymin,ymax)\n",
    "#ax.set_aspect('equal')\n",
    "\n",
    "#\n",
    "ax = fig.add_subplot(132)#, projection='3d')\n",
    "ax.plot(df[\"t\"],df[(\"up\",\"x\")],color=\"red\",label=\"up\")\n",
    "ax.plot(df[\"t\"],df[(\"center\",\"x\")],color=\"green\",label=\"center\")\n",
    "ax.plot(df[\"t\"],df[(\"down\",\"x\")],color=\"blue\",label=\"down\")\n",
    "plt.grid(True)\n",
    "plt.legend()\n",
    "plt.title(\"x\")\n",
    "\n",
    "#\n",
    "ax = fig.add_subplot(133)#, projection='3d')\n",
    "ax.plot(df[\"t\"],df[(\"up\",\"y\")],color=\"red\",label=\"up\")\n",
    "ax.plot(df[\"t\"],df[(\"center\",\"y\")],color=\"green\",label=\"center\")\n",
    "ax.plot(df[\"t\"],df[(\"down\",\"y\")],color=\"blue\",label=\"down\")\n",
    "plt.grid(True)\n",
    "plt.legend()\n",
    "plt.title(\"y\")\n",
    "\n",
    "\n",
    "plt.show()"
   ]
  },
  {
   "cell_type": "markdown",
   "metadata": {},
   "source": [
    "### Stiffness Matrix"
   ]
  },
  {
   "cell_type": "code",
   "execution_count": 14,
   "metadata": {
    "scrolled": true
   },
   "outputs": [
    {
     "name": "stdout",
     "output_type": "stream",
     "text": [
      "files/BEM/Young-2/stiffness_matrix-P=1-N=10-k=30.csv\n"
     ]
    },
    {
     "data": {
      "image/png": "[encoded data removed]",
      "text/plain": [
       "<Figure size 1080x720 with 8 Axes>"
      ]
     },
     "metadata": {
      "needs_background": "light"
     },
     "output_type": "display_data"
    }
   ],
   "source": [
    "READ = True\n",
    "SAVE = True\n",
    "\n",
    "#names = [\"up\",\"center\",\"down\"]\n",
    "opts = {\"print\":True,\"N\":[6],\"ready_sm_BEM\":True,\"return_both\":False}\n",
    "#sm = [None,None,None]\n",
    "\n",
    "#for b,n,i in zip(bs,names,[0,1,2]):    \n",
    "    \n",
    "file = file_dir+\"stiffness_matrix-\"+ suffixPNK+\".csv\"\n",
    "file_png = file_dir+\"stiffness_matrix-\"+suffixPNK +\".png\"\n",
    "\n",
    "print(file)\n",
    "\n",
    "if os.path.exists(file) and READ == True :\n",
    "    sm = bs.load(\"sm-BEM\",file)\n",
    "else :\n",
    "    sm = bs.stiffness_matrix_BEM(k=wavevector,opts=opts)\n",
    "\n",
    "    if SAVE == True :\n",
    "        bs.save(\"sm-BEM\",file)\n",
    "\n",
    "plot_matrix(sm,file_png)"
   ]
  },
  {
   "cell_type": "markdown",
   "metadata": {},
   "source": [
    "### Single Layer Potential basis"
   ]
  },
  {
   "cell_type": "code",
   "execution_count": 15,
   "metadata": {},
   "outputs": [
    {
     "name": "stdout",
     "output_type": "stream",
     "text": [
      "4790\n"
     ]
    }
   ],
   "source": [
    "Nx= 100#int(xmax-xmin)*10\n",
    "Ny = 50#int(ymax-ymin)*10\n",
    "x = np.linspace(xmin,xmax,Nx)\n",
    "y = np.linspace(ymin,ymax,Ny)\n",
    "X,Y = np.meshgrid(x,y)\n",
    "\n",
    "XY = np.zeros((Nx*Ny,2))\n",
    "XY[:,0] = X.reshape((Nx*Ny,))\n",
    "XY[:,1] = Y.reshape((Nx*Ny,))\n",
    "\n",
    "r = [r0,r1,r2]\n",
    "\n",
    "for t in r:\n",
    "    t = np.asarray(t)\n",
    "    bs.traslate_cp(t)\n",
    "    internal = bs.internal_points(XY=XY,NN=1000,xmin=0.,xmax=1.,opts=None)\n",
    "    XY = XY[ np.logical_not(internal) ]\n",
    "    bs.traslate_cp(-t)\n",
    "    \n",
    "print(len(XY))"
   ]
  },
  {
   "cell_type": "code",
   "execution_count": 16,
   "metadata": {},
   "outputs": [
    {
     "data": {
      "image/png": "[encoded data removed]",
      "text/plain": [
       "<Figure size 1080x360 with 1 Axes>"
      ]
     },
     "metadata": {
      "needs_background": "light"
     },
     "output_type": "display_data"
    }
   ],
   "source": [
    "#\n",
    "fig = plt.figure ( 0 , figsize = ( 15, 5 ) )\n",
    "#\n",
    "ax = fig.add_subplot(111)\n",
    "plt.plot(df[(\"up\",\"x\")], df[(\"up\",\"y\")], color= \"black\",label=\"up\")\n",
    "plt.plot(df[(\"center\",\"x\")], df[(\"center\",\"y\")], color= \"black\",label=\"center\")\n",
    "plt.plot(df[(\"down\",\"x\")], df[(\"down\",\"y\")], color= \"black\",label=\"down\")\n",
    "plt.scatter(XY[:,0],XY[:,1], color= \"blue\",label=\"points\",s=0.1)\n",
    "#plt.grid()\n",
    "#plt.legend()\n",
    "plt.xlim(xmin,xmax)\n",
    "plt.ylim(ymin,ymax)\n",
    "#ax.set_aspect('equal')\n",
    "plt.show()"
   ]
  },
  {
   "cell_type": "code",
   "execution_count": null,
   "metadata": {},
   "outputs": [
    {
     "name": "stdout",
     "output_type": "stream",
     "text": [
      "files/BEM/Young-2/single_layer_potential-P=1-N=10-k=30.csv\n",
      "reading file  files/BEM/Young-2/single_layer_potential-P=1-N=10-k=30.csv\n",
      "single_layer_potential_basis_BEM\n",
      "Calculating \"partial solution\" for  4740  points\n",
      "759 / 4740\r"
     ]
    }
   ],
   "source": [
    "READ = True\n",
    "SAVE = True\n",
    "\n",
    "#names = [\"up\",\"center\",\"down\"]\n",
    "opts = {\"print\":True,\"N\":[6]}#,\"equal\":[ [(0,0),(1,1)] , [(0,0),(2,2)] , [(0,1),(1,2)] ]}\n",
    "\n",
    "#for b,n,i in zip(bs_arr,names,[0,1,2]):\n",
    "        \n",
    "file = file_dir+\"single_layer_potential-\"+suffixPNK + \".csv\"\n",
    "\n",
    "print(file)\n",
    "\n",
    "if os.path.exists(file) and READ == True :\n",
    "    print(\"reading file \",file)\n",
    "    slp = bs.load(\"slp-BEM\",file)\n",
    "\n",
    "slp = bs.single_layer_potential_basis_BEM(XY=XY,k=wavevector,opts=opts)    \n",
    "\n",
    "if SAVE == True :\n",
    "    bs.save(\"slp-BEM\",file)\n",
    "\n",
    "slp.head()    "
   ]
  },
  {
   "cell_type": "markdown",
   "metadata": {},
   "source": [
    "### Plane wave"
   ]
  },
  {
   "cell_type": "markdown",
   "metadata": {},
   "source": [
    "#### Preparation"
   ]
  },
  {
   "cell_type": "code",
   "execution_count": null,
   "metadata": {
    "ExecuteTime": {
     "end_time": "2021-03-19T10:23:32.584956Z",
     "start_time": "2021-03-19T10:23:32.561968Z"
    }
   },
   "outputs": [],
   "source": [
    "def plane_wave(xx): # soluzione\n",
    "    xx = np.asarray(xx)\n",
    "    theta = np.dot(xx,k_in)\n",
    "    return np.exp(I*theta)"
   ]
  },
  {
   "cell_type": "code",
   "execution_count": null,
   "metadata": {},
   "outputs": [],
   "source": [
    "df[(\"up\",\"z\")]     = plane_wave(df[[(\"up\",\"x\"),(\"up\",\"y\")]])\n",
    "df[(\"center\",\"z\")] = plane_wave(df[[(\"center\",\"x\"),(\"center\",\"y\")]])\n",
    "df[(\"down\",\"z\")]   = plane_wave(df[[(\"down\",\"x\"),(\"down\",\"y\")]])\n",
    "df  = df[ [(\"up\",\"x\")     , (\"up\",\"y\")    ,(\"up\",\"z\")    ,\\\n",
    "          (\"center\",\"x\") , (\"center\",\"y\"),(\"center\",\"z\"),\\\n",
    "          (\"down\",\"x\")   , (\"down\",\"y\")  ,(\"down\",\"z\")]  ]\n",
    "df.head()"
   ]
  },
  {
   "cell_type": "code",
   "execution_count": null,
   "metadata": {
    "code_folding": [
     0
    ],
    "scrolled": false
   },
   "outputs": [],
   "source": [
    "#\n",
    "fig = plt.figure ( 0 , figsize = ( 15, 10 ) )\n",
    "\n",
    "##########################################\n",
    "ax = fig.add_subplot(231, projection='3d')\n",
    "ax.plot(df[(\"up\",\"x\")]    ,df[(\"up\",\"y\")]    ,0 ,color= \"black\")#,label=\"up\")\n",
    "ax.plot(df[(\"center\",\"x\")],df[(\"center\",\"y\")],0 ,color= \"black\")#,label=\"center\")\n",
    "ax.plot(df[(\"down\",\"x\")]  ,df[(\"down\",\"y\")]  ,0 ,color= \"black\")#,label=\"down\")\n",
    "\n",
    "ax.plot(df[(\"up\",\"x\")]    ,df[(\"up\",\"y\")]    ,np.real(df[(\"up\",\"z\")])    ,color= \"red\",label=\"up\")\n",
    "#ax.plot(df[(\"center\",\"x\")],df[(\"center\",\"y\")],np.real(df[(\"center\",\"z\")]),color= \"green\",label=\"center\")\n",
    "#ax.plot(df[(\"down\",\"x\")]  ,df[(\"down\",\"y\")]  ,np.real(df[(\"down\",\"z\")])  ,color= \"blue\",label=\"down\")\n",
    "plt.grid(True)\n",
    "plt.legend()\n",
    "plt.title(\"real\")\n",
    "\n",
    "#\n",
    "ax = fig.add_subplot(234, projection='3d')\n",
    "ax.plot(df[(\"up\",\"x\")]    ,df[(\"up\",\"y\")]    ,0 ,color= \"black\")#,label=\"up\")\n",
    "ax.plot(df[(\"center\",\"x\")],df[(\"center\",\"y\")],0 ,color= \"black\")#,label=\"center\")\n",
    "ax.plot(df[(\"down\",\"x\")]  ,df[(\"down\",\"y\")]  ,0 ,color= \"black\")#,label=\"down\")\n",
    "\n",
    "ax.plot(df[(\"up\",\"x\")]    ,df[(\"up\",\"y\")]    ,np.imag(df[(\"up\",\"z\")])    ,color= \"red\",label=\"up\")\n",
    "#ax.plot(df[(\"center\",\"x\")],df[(\"center\",\"y\")],np.imag(df[(\"center\",\"z\")]),color= \"green\",label=\"center\")\n",
    "#ax.plot(df[(\"down\",\"x\")]  ,df[(\"down\",\"y\")]  ,np.imag(df[(\"down\",\"z\")])  ,color= \"blue\",label=\"down\")\n",
    "plt.grid(True)\n",
    "plt.legend()\n",
    "plt.title(\"imag\")\n",
    "\n",
    "##########################################\n",
    "ax = fig.add_subplot(232, projection='3d')\n",
    "ax.plot(df[(\"up\",\"x\")]    ,df[(\"up\",\"y\")]    ,0 ,color= \"black\")#,label=\"up\")\n",
    "ax.plot(df[(\"center\",\"x\")],df[(\"center\",\"y\")],0 ,color= \"black\")#,label=\"center\")\n",
    "ax.plot(df[(\"down\",\"x\")]  ,df[(\"down\",\"y\")]  ,0 ,color= \"black\")#,label=\"down\")\n",
    "\n",
    "#ax.plot(df[(\"up\",\"x\")]    ,df[(\"up\",\"y\")]    ,np.real(df[(\"up\",\"z\")])    ,color= \"red\",label=\"up\")\n",
    "ax.plot(df[(\"center\",\"x\")],df[(\"center\",\"y\")],np.real(df[(\"center\",\"z\")]),color= \"green\",label=\"center\")\n",
    "#ax.plot(df[(\"down\",\"x\")]  ,df[(\"down\",\"y\")]  ,np.real(df[(\"down\",\"z\")])  ,color= \"blue\",label=\"down\")\n",
    "plt.grid(True)\n",
    "plt.legend()\n",
    "plt.title(\"real\")\n",
    "\n",
    "#\n",
    "ax = fig.add_subplot(235, projection='3d')\n",
    "ax.plot(df[(\"up\",\"x\")]    ,df[(\"up\",\"y\")]    ,0 ,color= \"black\")#,label=\"up\")\n",
    "ax.plot(df[(\"center\",\"x\")],df[(\"center\",\"y\")],0 ,color= \"black\")#,label=\"center\")\n",
    "ax.plot(df[(\"down\",\"x\")]  ,df[(\"down\",\"y\")]  ,0 ,color= \"black\")#,label=\"down\")\n",
    "\n",
    "#ax.plot(df[(\"up\",\"x\")]    ,df[(\"up\",\"y\")]    ,np.imag(df[(\"up\",\"z\")])    ,color= \"red\",label=\"up\")\n",
    "ax.plot(df[(\"center\",\"x\")],df[(\"center\",\"y\")],np.imag(df[(\"center\",\"z\")]),color= \"green\",label=\"center\")\n",
    "#ax.plot(df[(\"down\",\"x\")]  ,df[(\"down\",\"y\")]  ,np.imag(df[(\"down\",\"z\")])  ,color= \"blue\",label=\"down\")\n",
    "plt.grid(True)\n",
    "plt.legend()\n",
    "plt.title(\"imag\")\n",
    "\n",
    "##########################################\n",
    "ax = fig.add_subplot(233, projection='3d')\n",
    "ax.plot(df[(\"up\",\"x\")]    ,df[(\"up\",\"y\")]    ,0 ,color= \"black\")#,label=\"up\")\n",
    "ax.plot(df[(\"center\",\"x\")],df[(\"center\",\"y\")],0 ,color= \"black\")#,label=\"center\")\n",
    "ax.plot(df[(\"down\",\"x\")]  ,df[(\"down\",\"y\")]  ,0 ,color= \"black\")#,label=\"down\")\n",
    "\n",
    "#ax.plot(df[(\"up\",\"x\")]    ,df[(\"up\",\"y\")]    ,np.real(df[(\"up\",\"z\")])    ,color= \"red\",label=\"up\")\n",
    "#ax.plot(df[(\"center\",\"x\")],df[(\"center\",\"y\")],np.real(df[(\"center\",\"z\")]),color= \"green\",label=\"center\")\n",
    "ax.plot(df[(\"down\",\"x\")]  ,df[(\"down\",\"y\")]  ,np.real(df[(\"down\",\"z\")])  ,color= \"blue\",label=\"down\")\n",
    "plt.grid(True)\n",
    "plt.legend()\n",
    "plt.title(\"real\")\n",
    "\n",
    "#\n",
    "ax = fig.add_subplot(236, projection='3d')\n",
    "ax.plot(df[(\"up\",\"x\")]    ,df[(\"up\",\"y\")]    ,0 ,color= \"black\")#,label=\"up\")\n",
    "ax.plot(df[(\"center\",\"x\")],df[(\"center\",\"y\")],0 ,color= \"black\")#,label=\"center\")\n",
    "ax.plot(df[(\"down\",\"x\")]  ,df[(\"down\",\"y\")]  ,0 ,color= \"black\")#,label=\"down\")\n",
    "\n",
    "#ax.plot(df[(\"up\",\"x\")]    ,df[(\"up\",\"y\")]    ,np.imag(df[(\"up\",\"z\")])    ,color= \"red\",label=\"up\")\n",
    "#ax.plot(df[(\"center\",\"x\")],df[(\"center\",\"y\")],np.imag(df[(\"center\",\"z\")]),color= \"green\",label=\"center\")\n",
    "ax.plot(df[(\"down\",\"x\")]  ,df[(\"down\",\"y\")]  ,np.imag(df[(\"down\",\"z\")])  ,color= \"blue\",label=\"down\")\n",
    "plt.grid(True)\n",
    "plt.legend()\n",
    "plt.title(\"imag\")\n",
    "\n",
    "plt.show()"
   ]
  },
  {
   "cell_type": "code",
   "execution_count": null,
   "metadata": {
    "ExecuteTime": {
     "end_time": "2021-03-19T10:23:32.553975Z",
     "start_time": "2021-03-19T10:23:32.515999Z"
    }
   },
   "outputs": [],
   "source": [
    "def plot(fig,n,xB,yB,x,y,c,title,cmap):\n",
    "    \n",
    "    ax = fig.add_subplot(n)\n",
    "    ax.scatter(xB, yB, color= \"black\",label=\"Bspline\")\n",
    "    sc = ax.scatter(x,y,c=c,cmap=cmap)\n",
    "    plt.colorbar(sc)\n",
    "    #ax.set_aspect('equal')\n",
    "    #plt.xlim(min(x),max(x))\n",
    "    #plt.ylim(min(y),max(y))\n",
    "    plt.title(title)\n",
    "    \n",
    "    return"
   ]
  },
  {
   "cell_type": "code",
   "execution_count": null,
   "metadata": {
    "ExecuteTime": {
     "end_time": "2021-03-19T10:27:25.928898Z",
     "start_time": "2021-03-19T10:27:22.730894Z"
    }
   },
   "outputs": [],
   "source": [
    "#\n",
    "fig = plt.figure ( 0 , figsize = ( 15 , 5 ) )\n",
    "\n",
    "Uinc = plane_wave(XY)\n",
    "\n",
    "cmap = 'RdYlBu'\n",
    "\n",
    "x = np.concatenate((np.asarray(df[(\"up\",\"x\")]),\\\n",
    "                    np.asarray(df[(\"center\",\"x\")]),\\\n",
    "                    np.asarray(df[(\"down\",\"x\")])))\n",
    "\n",
    "y = np.concatenate((np.asarray(df[(\"up\",\"y\")]),\\\n",
    "                    np.asarray(df[(\"center\",\"y\")]),\\\n",
    "                    np.asarray(df[(\"down\",\"y\")])))\n",
    "    \n",
    "plot(fig,131,x,y,XY[:,0],XY[:,1],Uinc.real,\"$u_{inc}$ : real\",cmap)\n",
    "plot(fig,132,x,y,XY[:,0],XY[:,1],Uinc.imag,\"$u_{inc}$ : imag\",cmap)\n",
    "plot(fig,133,x,y,XY[:,0],XY[:,1],np.absolute(Uinc),\"$u_{inc}$ : abs\",cmap)\n",
    "\n",
    "plt.show()"
   ]
  },
  {
   "cell_type": "markdown",
   "metadata": {},
   "source": [
    "#### Solution"
   ]
  },
  {
   "cell_type": "code",
   "execution_count": null,
   "metadata": {
    "ExecuteTime": {
     "end_time": "2021-03-19T08:38:52.012879Z",
     "start_time": "2021-03-19T08:38:51.991892Z"
    }
   },
   "outputs": [],
   "source": [
    "file_sol = file_dir+\"solution-plane_wave-\"+suffixPNK+\".csv\"\n",
    "file_lv  = file_dir+\"load_vector-plane_wave-\"+suffixPNK+\".csv\"\n",
    "file_ind = file_dir+\"indirect_solution-plane_wave-\"+suffixPNK+\".csv\"\n",
    "print(file_sol)\n",
    "print(file_lv)\n",
    "print(file_ind)"
   ]
  },
  {
   "cell_type": "code",
   "execution_count": null,
   "metadata": {},
   "outputs": [],
   "source": [
    "opts = {\"print\":True,\"N\":[6],\"equal\":[ [(0,0),(1,1)] , [(0,0),(2,2)] , [(0,1),(1,2)] ]}\n",
    "\n",
    "bs_arr = [bs.copy(),bs.copy(),bs.copy()]\n",
    "bs_arr[0].traslate_cp(r0)\n",
    "bs_arr[1].traslate_cp(r1)\n",
    "bs_arr[2].traslate_cp(r2)"
   ]
  },
  {
   "cell_type": "code",
   "execution_count": null,
   "metadata": {
    "scrolled": true
   },
   "outputs": [],
   "source": [
    "#opts = {\"print\":False}\n",
    "SLP,Xnp,Valnp = Bs.BEM_disconnected(bs=bs_arr,uinc=plane_wave,k=wavevector,XY=XY,opts=opts)"
   ]
  },
  {
   "cell_type": "code",
   "execution_count": null,
   "metadata": {},
   "outputs": [],
   "source": [
    "Valnp.shape"
   ]
  },
  {
   "cell_type": "code",
   "execution_count": null,
   "metadata": {},
   "outputs": [],
   "source": [
    "file = file_dir+\"solution-plane_wave-\"+suffixPNK+\".csv\"\n",
    "SLP.to_csv(file,index_label=\"index\")"
   ]
  },
  {
   "cell_type": "code",
   "execution_count": null,
   "metadata": {},
   "outputs": [],
   "source": [
    "file = file_dir+\"SM-plane_wave-\"+suffixPNK+\".csv\"\n",
    "Bs._sm_BEM_disc.to_csv(file,index_label=\"index\")"
   ]
  },
  {
   "cell_type": "code",
   "execution_count": null,
   "metadata": {},
   "outputs": [],
   "source": [
    "file = file_dir+\"LV-plane_wave-\"+suffixPNK+\".csv\"\n",
    "Bs._lv_BEM_disc.to_csv(file,index_label=\"index\")"
   ]
  },
  {
   "cell_type": "code",
   "execution_count": null,
   "metadata": {},
   "outputs": [],
   "source": [
    "#\n",
    "Uinc = plane_wave(XY)#.reshape(Nx,Ny).transpose()\n",
    "total = Uinc + Valnp"
   ]
  },
  {
   "cell_type": "code",
   "execution_count": null,
   "metadata": {},
   "outputs": [],
   "source": [
    "#\n",
    "fig = plt.figure ( 0 , figsize = ( 15 , 10 ) )\n",
    "\n",
    "cmap = 'RdYlBu'\n",
    "\n",
    "x = [np.asarray(df[(\"up\",\"x\")]),\\\n",
    "                    np.asarray(df[(\"center\",\"x\")]),\\\n",
    "                    np.asarray(df[(\"down\",\"x\")])]\n",
    "\n",
    "y = [np.asarray(df[(\"up\",\"y\")]),\\\n",
    "                    np.asarray(df[(\"center\",\"y\")]),\\\n",
    "                    np.asarray(df[(\"down\",\"y\")])]\n",
    "    \n",
    "plot_sol_disc(fig,331,x,y,XY[:,0],XY[:,1],Uinc.real,\"$u_{inc}$ : real\",cmap)\n",
    "plot_sol_disc(fig,334,x,y,XY[:,0],XY[:,1],Uinc.imag,\"$u_{inc}$ : imag\",cmap)\n",
    "plot_sol_disc(fig,337,x,y,XY[:,0],XY[:,1],np.absolute(Uinc),\"$u_{inc}$ : abs\",cmap)\n",
    "\n",
    "plot_sol_disc(fig,332,x,y,XY[:,0],XY[:,1],Valnp.real,\"$u_{scat}$ : real\",cmap)\n",
    "plot_sol_disc(fig,335,x,y,XY[:,0],XY[:,1],Valnp.imag,\"$u_{scat}$ : imag\",cmap)\n",
    "plot_sol_disc(fig,338,x,y,XY[:,0],XY[:,1],np.absolute(Valnp),\"$u_{scat}$ : abs\",cmap)\n",
    "\n",
    "plot_sol_disc(fig,333,x,y,XY[:,0],XY[:,1],total.real,\"$u_{tot}$ : real\",cmap)\n",
    "plot_sol_disc(fig,336,x,y,XY[:,0],XY[:,1],total.imag,\"$u_{tot}$ : imag\",cmap)\n",
    "plot_sol_disc(fig,339,x,y,XY[:,0],XY[:,1],np.absolute(total),\"$u_{tot}$ : abs\",cmap)\n",
    "\n",
    "plt.show()"
   ]
  },
  {
   "cell_type": "code",
   "execution_count": null,
   "metadata": {},
   "outputs": [],
   "source": []
  }
 ],
 "metadata": {
  "kernelspec": {
   "display_name": "Python 3",
   "language": "python",
   "name": "python3"
  },
  "language_info": {
   "codemirror_mode": {
    "name": "ipython",
    "version": 3
   },
   "file_extension": ".py",
   "mimetype": "text/x-python",
   "name": "python",
   "nbconvert_exporter": "python",
   "pygments_lexer": "ipython3",
   "version": "3.8.3"
  },
  "latex_envs": {
   "LaTeX_envs_menu_present": true,
   "autoclose": true,
   "autocomplete": true,
   "bibliofile": "biblio.bib",
   "cite_by": "apalike",
   "current_citInitial": 1,
   "eqLabelWithNumbers": true,
   "eqNumInitial": 1,
   "hotkeys": {
    "equation": "Ctrl-E",
    "itemize": "Ctrl-I"
   },
   "labels_anchors": false,
   "latex_user_defs": false,
   "report_style_numbering": false,
   "user_envs_cfg": false
  },
  "toc": {
   "base_numbering": 1,
   "nav_menu": {},
   "number_sections": true,
   "sideBar": true,
   "skip_h1_title": false,
   "title_cell": "Table of Contents",
   "title_sidebar": "Contents",
   "toc_cell": false,
   "toc_position": {
    "height": "446px",
    "left": "244px",
    "top": "128px",
    "width": "212.733px"
   },
   "toc_section_display": true,
   "toc_window_display": true
  },
  "varInspector": {
   "cols": {
    "lenName": 16,
    "lenType": 16,
    "lenVar": 40
   },
   "kernels_config": {
    "python": {
     "delete_cmd_postfix": "",
     "delete_cmd_prefix": "del ",
     "library": "var_list.py",
     "varRefreshCmd": "print(var_dic_list())"
    },
    "r": {
     "delete_cmd_postfix": ") ",
     "delete_cmd_prefix": "rm(",
     "library": "var_list.r",
     "varRefreshCmd": "cat(var_dic_list()) "
    }
   },
   "position": {
    "height": "144.85px",
    "left": "997px",
    "right": "20px",
    "top": "120px",
    "width": "350px"
   },
   "types_to_exclude": [
    "module",
    "function",
    "builtin_function_or_method",
    "instance",
    "_Feature"
   ],
   "window_display": false
  }
 },
 "nbformat": 4,
 "nbformat_minor": 4
}
