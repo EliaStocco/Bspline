{
 "cells": [
  {
   "cell_type": "markdown",
   "metadata": {},
   "source": [
    "# Derivative"
   ]
  },
  {
   "cell_type": "markdown",
   "metadata": {},
   "source": [
    "$\\mathbf{r}\\left(t\\right) = \\sum_{k=0}^{n} \\mathbf{P}_k N^{p}_{k}\\left(t\\right)$\n",
    "\n",
    "$\\dfrac{ \\partial \\mathbf{r}}{\\partial t} =\\sum_{k=0}^{n} \\mathbf{P}_k \\frac{ \\partial  N^{p}_{k}\\left(t\\right) }{\\partial t}$\n",
    "\n",
    "$ N^{p}_{k}\\left(t\\right) = \\dfrac{t - u_k}{u_{k+p}-u_{k}} N^{p-1}_{k}\\left(t\\right) - \\dfrac{t - u_{k+p+1}}{u_{k+p+1}-u_{k+1}} N^{p-1}_{k+1}\\left(t\\right) $\n",
    "\n",
    "Se $p=1$ otteniamo\n",
    "$\\dfrac{ \\partial  N^{p}_{k}\\left(t\\right) }{\\partial t} = p \\left[ \\dfrac{N^{p-1}_{k}}{u_{k+p}-u_{k}}  - \\dfrac{N^{p-1}_{k+1}}{u_{k+p+1}-u_{k+1}}  \\right] $\n",
    "\n",
    "Procediamo per induzione (tenendo conto che passiamo da polinomi di grado $p$ a polinomi di grado $p-1$ e che stiamo togliendo il primo e ultimo elemento del knot vector)\n",
    "\n",
    "$\\dfrac{ \\partial  N^{p}_{k} }{\\partial t} =  %\n",
    "\\dfrac{N^{p-1}_{k}}{u_{k+p}-u_k} + %\n",
    "\\dfrac{t-u_k}{u_{k+p}-u_k}\\dfrac{ \\partial  N^{p-1}_{k} }{\\partial t} - %\n",
    "\\dfrac{N^{p-1}_{k+1}}{u_{k+p+1}-u_{k+1}} - %\n",
    "\\dfrac{t-u_{k+1}}{u_{k+p+1}-u_{k+1}}\\dfrac{ \\partial  N^{p-1}_{k+1}}{\\partial t}  \\\\%\n",
    "= \\dfrac{N^{p-1}_{k}}{u_{k+p}-u_k} - %\n",
    "\\dfrac{N^{p-1}_{k+1}}{u_{k+p+1}-u_{k+1}} + %\n",
    "\\dfrac{\\left(t-u_k\\right)\\left(p-1\\right)}{u_{k+p}-u_k} \\left[ \\dfrac{N^{p-2}_{k}}{u_{k+p}-u_{k}}  - \\dfrac{N^{p-2}_{k+1}}{u_{k+p+1}-u_{k+1}} \\right] - %\n",
    "\\dfrac{\\left(t-u_{k+1}\\right)\\left(p-1\\right)}{u_{k+p+1}-u_{k+1}} \\left[ \\dfrac{N^{p-2}_{k+1}}{u_{k+p+1}-u_{k+1}}  - \\dfrac{N^{p-2}_{k+2}}{u_{k+p+2}-u_{k+2}} \\right] \\\\\n",
    "= \\dfrac{N^{p-1}_{k}}{u_{k+p}-u_k} - %\n",
    "\\dfrac{N^{p-1}_{k+1}}{u_{k+p+1}-u_{k+1}} + %\n",
    "\\dfrac{\\left(p-1\\right)}{u_{k+p}-u_k} N^{p-1}_{k} -%\n",
    "\\dfrac{\\left(p-1\\right)}{u_{k+p+1}-u_{k+1}}N^{p-1}_{k+1} \\\\\n",
    "= p \\left[ \\dfrac{N^{p-1}_{k}}{u_{k+p}-u_k} - %\n",
    "\\dfrac{N^{p-1}_{k+1}}{u_{k+p+1}-u_{k+1}} \\right]$\n",
    "\n",
    "dunque\n",
    "\n",
    "$\\dfrac{ \\partial \\mathbf{r}}{\\partial t} = %\n",
    "\\sum_{k=0}^{n} \\mathbf{P}_k p \\left[ \\dfrac{N^{p-1}_{k}}{u_{k+p}-u_k} - %\n",
    "\\dfrac{N^{p-1}_{k+1}}{u_{k+p+1}-u_{k+1}} \\right]  \\\\\n",
    "= \\sum_{k=0}^{n-1} N^{p-1}_{k+1} \\left[ p \\dfrac{\\mathbf{P}_{k+1} - \\mathbf{P}_{k}}{u_{k+p+1}-u_{k+1}}\\right] \\\\\n",
    "= \\sum_{k=0}^{n-1} N^{p-1}_{k} \\mathbf{Q}_{k} $\n",
    "\n",
    "poiché $N^{p-1}_{k+1}$ valutato sul knot vector originale è uguale a $N^{p-1}_{k}$ valutato sul nuovo (open) knot vector.\n",
    "Abbiamo definito\n",
    "\n",
    "$\\mathbf{Q}_{k} = p \\dfrac{\\mathbf{P}_{k+1} - \\mathbf{P}_{k}}{u_{k+p+1}-u_{k+1}} $"
   ]
  },
  {
   "cell_type": "markdown",
   "metadata": {},
   "source": [
    "# Surface Bspline"
   ]
  },
  {
   "cell_type": "markdown",
   "metadata": {},
   "source": [
    "$\\mathbf{r}\\left(x,y\\right) = \\sum_{i=0}^{n}\\sum_{j=0}^{m} \\mathbf{P}_{ij} N^{p}_{i}\\left(x\\right) M^{q}_{j}\\left(y\\right) \\\\\n",
    "= \\sum_{i=0}^{n} N^{p}_{i}\\left(x\\right) \\left( \\sum_{j=0}^{m} \\mathbf{P}_{ij} M^{q}_{j}\\left(y\\right) \\right)  \\\\ \n",
    "= \\sum_{i=0}^{n} N^{p}_{i}\\left(x\\right) \\mathbf{Q}_{i}\\left(y\\right)$\n",
    "\n",
    "con \n",
    "\n",
    "$ \\sum_{j=0}^{m} \\mathbf{P}_{ij} M^{q}_{j}\\left(y\\right) = \\mathbf{Q}_{i}\\left(y\\right) $"
   ]
  },
  {
   "cell_type": "markdown",
   "metadata": {},
   "source": [
    "# Galerkin method"
   ]
  },
  {
   "cell_type": "markdown",
   "metadata": {},
   "source": [
    "\n"
   ]
  }
 ],
 "metadata": {
  "kernelspec": {
   "display_name": "Python 3",
   "language": "python",
   "name": "python3"
  },
  "language_info": {
   "codemirror_mode": {
    "name": "ipython",
    "version": 3
   },
   "file_extension": ".py",
   "mimetype": "text/x-python",
   "name": "python",
   "nbconvert_exporter": "python",
   "pygments_lexer": "ipython3",
   "version": "3.8.3"
  },
  "latex_envs": {
   "LaTeX_envs_menu_present": true,
   "autoclose": true,
   "autocomplete": true,
   "bibliofile": "biblio.bib",
   "cite_by": "apalike",
   "current_citInitial": 1,
   "eqLabelWithNumbers": true,
   "eqNumInitial": 1,
   "hotkeys": {
    "equation": "Ctrl-E",
    "itemize": "Ctrl-I"
   },
   "labels_anchors": false,
   "latex_user_defs": false,
   "report_style_numbering": false,
   "user_envs_cfg": false
  },
  "toc": {
   "base_numbering": 1,
   "nav_menu": {},
   "number_sections": true,
   "sideBar": true,
   "skip_h1_title": false,
   "title_cell": "Table of Contents",
   "title_sidebar": "Contents",
   "toc_cell": false,
   "toc_position": {
    "height": "calc(100% - 180px)",
    "left": "10px",
    "top": "150px",
    "width": "180px"
   },
   "toc_section_display": true,
   "toc_window_display": true
  },
  "varInspector": {
   "cols": {
    "lenName": 16,
    "lenType": 16,
    "lenVar": 40
   },
   "kernels_config": {
    "python": {
     "delete_cmd_postfix": "",
     "delete_cmd_prefix": "del ",
     "library": "var_list.py",
     "varRefreshCmd": "print(var_dic_list())"
    },
    "r": {
     "delete_cmd_postfix": ") ",
     "delete_cmd_prefix": "rm(",
     "library": "var_list.r",
     "varRefreshCmd": "cat(var_dic_list()) "
    }
   },
   "types_to_exclude": [
    "module",
    "function",
    "builtin_function_or_method",
    "instance",
    "_Feature"
   ],
   "window_display": false
  }
 },
 "nbformat": 4,
 "nbformat_minor": 4
}
