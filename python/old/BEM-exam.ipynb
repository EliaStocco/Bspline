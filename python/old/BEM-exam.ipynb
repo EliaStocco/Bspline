{
 "cells": [
  {
   "cell_type": "markdown",
   "metadata": {},
   "source": [
    "# Introduzione"
   ]
  },
  {
   "cell_type": "markdown",
   "metadata": {
    "heading_collapsed": true
   },
   "source": [
    "## Trattazione teorica"
   ]
  },
  {
   "cell_type": "markdown",
   "metadata": {
    "heading_collapsed": true,
    "hidden": true
   },
   "source": [
    "### Bspline"
   ]
  },
  {
   "cell_type": "markdown",
   "metadata": {
    "hidden": true
   },
   "source": [
    "Questo notebook è una presentazione delle possibili applicazioni della libreria `pyBspline`, contenuta nel file omonimo.\n",
    "Questa libreria contiene 3 classi, di cui 2 *di appoggio*, `shape` e `knot_vector`, che servono per definire i parametri di input per allocare un oggetto della classe `Bspline`, la terza e principale classe della libreria. \n",
    "Quest'ultima classe permette di gestire delle funzioni Bspline:\n",
    "- scegliendo il grado polinomiale `P` delle funzioni di base dello spazio delle Bspline\n",
    "- scegliendo il numero `N` di funzioni di base dello spazio\n",
    "- scegliendo il knot vector `v`\n",
    "- scegliendo la dimensionalità del dominio delle funzioni: è possibile usare curve Bspline, defininendo un solo knot vector, superfici Bspline definendo 2 knot vector, ecc...\n",
    "- scegliendo la dimensionalità del codominio: se i control points della Bspline sono scalari allora si definisce una funzione scalare, se hanno valori vettoriali si descrivono curve e superfici."
   ]
  },
  {
   "cell_type": "markdown",
   "metadata": {
    "heading_collapsed": true,
    "hidden": true
   },
   "source": [
    "### Equazione di Helmholtz"
   ]
  },
  {
   "cell_type": "markdown",
   "metadata": {
    "hidden": true
   },
   "source": [
    "La libreria `pyBspline` è stata implementata per poter risolvere anche l'equazione di Helmholtz in $\\mathbf{R}^2$ in domini non semplicemente connessi tramite l'approccio detto BEM: Boundary Element Method.\n",
    "\n",
    "Data un'onda incidente $u^{inc}$ (soluzione dell'equazion di Helmholtz) su un ostacolo $\\Omega_{-}$ con bordo $\\Gamma$, vogliamo trovare la funzione $u^{scat}$ \"emessa\" dell'ostacolo affinchè siano valide le seguenti relazioni\n",
    "\\begin{align*}\n",
    "\\Delta u^{scat} + k^2 u^{scat} = 0 & \\quad\\text{in} \\quad \\quad\\Omega_{+}\\\\\n",
    "\\gamma^{+} \\left( u^{scat} + u^{inc} \\right) = 0 & \\quad\\text{in} \\quad\\Gamma\\\\\n",
    "u^{scat} \\quad\\text{è uscente}\n",
    "\\end{align*}\n",
    "\n",
    "Questo è quello che viene detto *Sound-soft scattering problem*, o SSSP, a seguito delle condizioni al bordo $\\Gamma$ imposte. Questo problema si può mostrare essere riconducibile al problema detto EDP (*Exterior Dirichlet problem*):\n",
    "\\begin{align*}\n",
    "\\Delta u + k^2 u = 0 & \\quad\\text{in} \\quad \\quad\\Omega_{+}\\\\\n",
    "\\gamma^{+} u  = g_D & \\quad\\text{in} \\quad\\Gamma\\\\\n",
    "u \\quad\\text{è uscente}\n",
    "\\end{align*}\n",
    "SSSp è riconducibile a EDP se\n",
    "\\begin{align*}\n",
    "u = u^{scat}\\\\\n",
    "g_D = -  \\gamma^{+} u^{inc}\n",
    "\\end{align*}"
   ]
  },
  {
   "cell_type": "markdown",
   "metadata": {
    "hidden": true
   },
   "source": [
    "### BEM"
   ]
  },
  {
   "cell_type": "markdown",
   "metadata": {
    "hidden": true
   },
   "source": [
    "Definendo la soluzione fondamentale dell'equazione di Helmholtz in $\\mathbf{R}^2$\n",
    "\\begin{equation*}\n",
    "\\Phi_k \\left(\\mathbf{x},\\mathbf{y}\\right) \\equiv \\frac{i}{4} H^{\\left(1\\right)}_{0}\\left(k\\lvert \\mathbf{x}-\\mathbf{y}\\rvert\\right) \\quad\\text{con}\\quad\\mathbf{x}\\neq \\mathbf{y} \\in \\mathbf{R}^2\n",
    "\\end{equation*}\n",
    "è pissibile prendere una qualunque sovrapposizione lineare di soluzioni fondamentali per generare un'altra soluzione dell'equazione di Helmholtz. \n",
    "\n",
    "Per trovare la corretta sovrapposizione lineare che porti alle condizioni al bordo richieste è sufficiente trovare $\\psi$ definita in $\\Gamma$ che risolva la BIE (*Boundary Integral Equation*) \n",
    "\\begin{equation*}\n",
    "S\\psi = g_D \\quad\\text{in}\\quad\\Gamma\n",
    "\\end{equation*}\n",
    "dove abbiamo definto il *single-layer operator* $S$ come\n",
    "\\begin{equation*}\n",
    "\\left(S\\psi\\right)\\left( \\mathbf{x}\\right) = \\int_{\\Gamma} \\Phi_k \\left(\\mathbf{x},\\mathbf{y}\\right) \\psi \\left(\\mathbf{y}\\right)ds\\left(\\mathbf{y}\\right) \\quad\\text{con}\\quad\\mathbf{x} \\in \\Gamma\n",
    "\\end{equation*}\n",
    "\n",
    "In questo modo è possibile trovare la soluzione $u$ del EDP tramite la *representation formula* \n",
    "\\begin{equation*}\n",
    "u = \\mathcal{S}\\psi \\quad\\text{in}\\quad\\Omega_{+}\n",
    "\\end{equation*}\n",
    "\n",
    "dove abbiamo definito il *single-layer potential* $\\mathcal{S}$ come\n",
    "\\begin{equation*}\n",
    "\\left(\\mathcal{S}\\psi\\right)\\left( \\mathbf{x}\\right) = \\int_{\\Gamma} \\Phi_k \\left(\\mathbf{x},\\mathbf{y}\\right) \\psi \\left(\\mathbf{y}\\right)ds\\left(\\mathbf{y}\\right) \\quad\\text{con}\\quad\\mathbf{x}\\in \\Omega_{+}\n",
    "\\end{equation*}\n",
    "\n",
    "Notiamo subito che la differenza tra $S$ e $\\mathcal{S}$ sta solo nel fatto che nel primo caso $\\mathbf{x}\\in\\Gamma$ mentre nel socondo $\\mathbf{x}\\in\\Omega_{+}$, di conseguenza si può mostrare che \n",
    "\\begin{equation*}\n",
    "S\\psi = \\gamma^{+}\\left( \\mathcal{S}\\psi\\right)\n",
    "\\end{equation*}\n",
    "\n"
   ]
  },
  {
   "cell_type": "markdown",
   "metadata": {
    "hidden": true
   },
   "source": [
    "### Metodo di Galerkin"
   ]
  },
  {
   "cell_type": "markdown",
   "metadata": {
    "hidden": true
   },
   "source": [
    "Per risolvere la BIE è possibile sfruttare il metodo di Galerkin, cioè restringere lo spazio delle funzioni definite in $\\Gamma$ ad uno spazio discreto $V_N$ e trovare $\\psi_N\\in V_N$ tale per cui\n",
    "\\begin{equation*}\n",
    "\\mathcal{A}\\left(\\psi_N,\\xi_N\\right) = \\int_{\\Gamma} \\left( S \\psi_N \\right) \\bar{\\xi}_N ds = \\int_{\\Gamma} g_D \\bar{\\xi}_N = \\mathcal{F}\\left(\\xi_N\\right) \\quad\\forall\\xi_N\\in V_N\n",
    "\\end{equation*}\n",
    "\n",
    "La soluzione sarà una sovrapposizione lineare delle funzioni di base dello spazio $V_N$, cioè\n",
    "\\begin{equation*}\n",
    "\\psi_N = \\sum_{j=1}^{N} c_j \\phi_j\n",
    "\\end{equation*}\n",
    "\n",
    "E' possibile trovare i coefficienti $c_j$ risolvendo un sistema lineare con matrice dei coefficienti $A^{Gal}_{ij}$ e vettore dei termini noti $F^{Gal}_j$ definiti nel seguente modo\n",
    "\\begin{align*}\n",
    "A^{Gal}_{ji} & = \\int_{\\Gamma} \\left( S \\phi_i \\right) \\bar{\\phi}_j ds\\left(\\mathbf{x}\\right) =%\n",
    "\\int_{\\Gamma} \\int_{\\Gamma} \\Phi_k\\left(\\mathbf{x},\\mathbf{y}\\right) \\phi_i\\left(\\mathbf{y}\\right) \\bar{\\phi}_j\\left(\\mathbf{x}\\right) ds\\left(\\mathbf{y}\\right)ds\\left(\\mathbf{x}\\right)\\\\\n",
    "F^{Gal}_j & = \\int_{\\Gamma} g_D\\left( \\mathbf{x} \\right) \\bar{\\phi}_j \\left(\\mathbf{x}\\right)ds\\left(\\mathbf{x}\\right)\n",
    "\\end{align*}\n"
   ]
  },
  {
   "cell_type": "markdown",
   "metadata": {
    "hidden": true
   },
   "source": [
    "### IGA"
   ]
  },
  {
   "cell_type": "markdown",
   "metadata": {
    "hidden": true
   },
   "source": [
    "Data una Bspline che definisce una curva o una superficie è possibile sfruttare l'approccio detto *IsoGeometric Analysis* per definire su tale curva o superficie delle funzioni: negli approcci FEM o BEM il dominio delle funzioni di base $\\Gamma$ diventa una \"varietà\" parametrizzata dalle Bspline.\n",
    "Come conseguenza di tale approccio, che ha tra i vantaggi la possibilità di poter rappresentare anche domini $\\Gamma$ curvi (alcuni anche in modo esatto), gli integrali che il metodo di Galerkin richiede di calcolare non vengono valutati su $\\Gamma$ ma in $\\left[0,1\\right]$. Questo perché anche le funzioni di base appartenenti a $V_N$ e definite in $\\Gamma$ vengono \"riscritte\" in funzioni Bspline scalari definite in $\\left[0,1\\right]$. Le funzioni di $V_N$ vengono infatti scelte in modo tale che \n",
    "\\begin{equation*}\n",
    "\\phi_i \\left(\\mathbf{x}\\right) = \\phi_i \\left(\\mathbf{x}\\left(t\\right)\\right) = \\hat{\\phi_i}\\left(t\\right) \\quad\\text{con}\\quad\\,t\\in  \\left[0,1\\right]\n",
    "\\end{equation*}\n",
    "Dunque la funzione $t\\rightarrow \\mathbf{x}\\left(t\\right)$ è rappresentata da una curva Bspline `bs` definita in $\\left[0,1\\right]$ a valori in $\\mathbf{R}^2$ mentre le funzioni di base $\\hat{\\phi_i}\\left(t\\right)$ sono delle funzioni Bspline scalari, con lo stesso grado polinomiale `P`, con la stessa cardinalità `N`, con lo stesso knot vector `u` di `bs` ma a valori scalari.\n",
    "\n",
    "Gli integrali precedenti vengono dunque calcolati nel seguente modo\n",
    "\\begin{align*}\n",
    "A^{Gal}_{ji} & = %\n",
    "\\int_{\\left[0,1\\right]} \\int_{\\left[0,1\\right]} %\n",
    "\\Phi_k\\left(\\mathbf{x}\\left(t\\right),\\mathbf{x}\\left(s\\right)\\right) %\n",
    "\\hat{\\phi}_i\\left(s\\right) %\n",
    "\\hat{\\phi}_j\\left(t\\right)  %\n",
    "\\left| \\frac{\\partial \\mathbf{x}}{\\partial t} \\right| %\n",
    "\\left| \\frac{\\partial \\mathbf{x}}{\\partial s} \\right| %\n",
    "dt ds \\\\\n",
    "F^{Gal}_j & = %\n",
    "\\int_{\\left[0,1\\right]} %\n",
    "g_D\\left( \\mathbf{x}\\left(t\\right) \\right) %\n",
    "\\hat{\\phi}_j \\left(t\\right)%\n",
    "\\left| \\frac{\\partial \\mathbf{x}}{\\partial t} \\right|\n",
    "dt\n",
    "\\end{align*}\n",
    "Non è stato scritto il simbolo di complesso coniugato perché tanto nel nostro caso le funzioni di base sono tutte a valori reali.\n",
    "\n",
    "Ovviamente le funzioni di base sono polinomi a tratti, quindi il loro sostegno non è $\\left[0,1\\right]$ ma un intervallo in esso compreso: nel codice si è tenuto conto di questo fatto per ottimizzare il calcolo degli integrali.\n",
    "\n",
    "Per quanto riguarda la *representation formula*, l'integrale è stato valutato tramite un approccio IGA ma con una piccola ottimizzazione che sfrutta la linearità della soluzione\n",
    "\\begin{align*}\n",
    "\\left(\\mathcal{S}\\psi_N\\right)\\left( \\mathbf{x}\\right) & = %\n",
    "\\int_{\\Gamma} \\Phi_k \\left(\\mathbf{x},\\mathbf{y}\\right) %\n",
    "\\psi_N \\left(\\mathbf{y}\\right)ds\\left(\\mathbf{y}\\right) %\n",
    "\\quad\\text{con}\\quad\\mathbf{x}\\in \\Omega_{+}\\\\\n",
    "& = \\int_{\\Gamma} \\Phi_k \\left(\\mathbf{x},\\mathbf{y}\\right)%\n",
    "\\sum_{j=1}^{N} c_j \\phi_j \\left(\\mathbf{y}\\right)ds\\left(\\mathbf{y}\\right)\\\\\n",
    "& = \\sum_{j=1}^{N} c_j %\n",
    "\\int_{\\Gamma} \\Phi_k \\left(\\mathbf{x},\\mathbf{y}\\right)%\n",
    "\\phi_j \\left(\\mathbf{y}\\right)ds\\left(\\mathbf{y}\\right)\\\\\n",
    "& = \\sum_{j=1}^{N} c_j %\n",
    "\\int_{\\left[0,1\\right]} \\Phi_k \\left(\\mathbf{x},\\mathbf{y}\\left(t\\right)\\right)%\n",
    "\\hat{\\phi}_j \\left(t\\right) %\n",
    "\\left| \\frac{\\partial \\mathbf{y}}{\\partial t} \\right| dt\\\\\n",
    "& = \\sum_{j=1}^{N} c_j  M_j\\left(\\mathbf{x}\\right)\n",
    "\\end{align*}\n",
    "Dove gli elementi della sommatoria sono stati valutati separatamente per ogni punti $\\mathbf{x}$ richiesto, in questo modo variando l'onda incidente $u^{inc}$ (dunque variando i coefficienti $c_j$) non era necessario valutare di nuovo l'integrale appena scritto ma soltanto calcolare la somma dell'ultima riga"
   ]
  },
  {
   "cell_type": "markdown",
   "metadata": {
    "heading_collapsed": true
   },
   "source": [
    "## Implementazione"
   ]
  },
  {
   "cell_type": "markdown",
   "metadata": {
    "hidden": true
   },
   "source": [
    "Le principali funzioni della classe `Bspline` necessarie per descrivere funzioni, curve e superfici sono le seguenti:\n",
    "- `__init__` : costruttore della classe, è necessario specificare il grado polinomiale `P` (in tutto il notebook si sono usate solo Bspline di grado polinomiale `P=1`), il numero di gradi di libertà `N` che coincide con la dimensionalità dello spazio $V_N$ (si faccia attenzione che questo non coincide esattamete con *il numero di funzioni di base Bspline*, questo deriva dal fatto che stiamo usando Bspline periodiche, spiegherò meglio questo dettaglio in [seguito](#periodicity)), il knot vector `v` ed altri parametri di importanza secondaria\n",
    "- `get_cp` e `set_cp` : per impostare i control points e ottenerne il valore (i control points sono allocati come `ndarray` di `numpy`)\n",
    "- `control_points` : funzione ausiliaria per vedere *scritti bene* e in modo intuitivo i control points come dataframe di `pandas`\n",
    "- `basis_range`: restituisce l'effettivo dominio delle varie funzioni di base\n",
    "- `show`: stampa a schermo le informazioni principali della classe\n",
    "- `dim` e `codim`: restituisce la dimensionalità del dominio e del codominio, nel nostro caso saranno sempre rispettivamente `dim=1` e `codim=2` (per la Bspline che parametrizza $\\Gamma$) e `codim=1` per le funzioni di base\n",
    "- `evaluate` : funzione per valutare la Bspline in un punto `x`, viene usato l'algoritmo di deBoor, sfrutta altre funzioni di appoggio\n",
    "\n",
    "Il BEM è invece stato implementato tramite l'omonima funzione `BEM` che chiama in ordine le seguenti funzioni:\n",
    "- `stiffness_matrix_BEM`: calcola la matrice $A^{Gal}_{ij}$\n",
    "- `load_vector_BEM`: calcola il vettore $F^{Gal}_{i}$ data la una funzione $g_D$\n",
    "- `indirect_solution_BEM`: risolve il sistema lineare che deriva dal metodo di Galerkin\n",
    "- `single_layer_potential_basis_BEM`: calcola gli elementi $M_j\\left(\\mathbf{x}\\right)$ data una lista di punti\n",
    "- `single_layer_potential_BEM`: calcola la somma $\\left(\\mathcal{S}\\psi_N\\right)\\left( \\mathbf{x}\\right) = \\sum_{j=1}^{N} c_j  M_j\\left(\\mathbf{x}\\right)$\n",
    "\n",
    "Altre funzioni importanti e ampiamente usate sono:\n",
    "- `internal_points`: calcolo l'indice di avvolgimento di un punto per capire se questo è interno o esterno ad una curva\n",
    "- `derivative`: la derivata di una Bspline di grado `P`, con `N` funzioni di base e knot vector `v` è una Bspline di grado `P-1`, con `N-1` funzioni di base e knot vector `v` a cui sono stati eliminati il primo e l'ultimo knot, questa funzione restituisce dunque una nuova Bspline\n",
    "- `_scalar`: data la Bspline `bs` che parametrizza il dominio $\\Gamma$, questa funzione restituisce una Bspline scalare, cioè una della funzioni $\\hat{\\phi}_i$ (è sufficiente cambiare i control points con la funzione `set_cp` per passare da una Bspline scalare all'altra)\n",
    "- `save` e `load`: scrivono/leggono su/da file alcune variabili contenute nella classe, come per esempio i control points, $A^{Gal}_{ij}$, $F^{Gal}_{i}$, i coefficienti $M_j\\left(\\mathbf{x}\\right)$, etc...\n",
    "- `make_vector_periodic` e `make_matrix_periodic`: il numero di funzioni di *Bspline di base* non coincide con il numero di *gradi di libertà* o delle funzioni di base $\\hat{\\phi}_i$ (come verrà mostrato in [seguito](#periodicity)), questo perché la periodicità della curva è ottenuta fornzando alcuni control points ad essere uguali tra di loro. Bisogna tener conto di questa cosa nel calcolo della matrice $A^{Gal}_{ij}$ e del vettore $F^{Gal}_{i}$."
   ]
  },
  {
   "cell_type": "markdown",
   "metadata": {
    "heading_collapsed": true
   },
   "source": [
    "# Pacchetti"
   ]
  },
  {
   "cell_type": "markdown",
   "metadata": {
    "hidden": true
   },
   "source": [
    "Carico le due librerie scritte da me:\n",
    "- `pyBspline`: libreria contenente 3 classi contenuta el file omonimo, la principale è la classe `Bspline` contenente tutti gli algoritmi e funzioni di interesse, le altre due sono le classi `shape` e `knot_vector`\n",
    "- `FFT`: libreria contenuta el file omonimo per gestire velocemente le trasformate di Fourier e la soluzione analitica dell'equazioen di Helmholtz nel caso di ostacolo circolare"
   ]
  },
  {
   "cell_type": "code",
   "execution_count": null,
   "metadata": {
    "hidden": true
   },
   "outputs": [],
   "source": [
    "import pyBspline as Bs\n",
    "import FFT as esFFT"
   ]
  },
  {
   "cell_type": "markdown",
   "metadata": {
    "hidden": true
   },
   "source": [
    "Carico i pacchetti di Pyhton:\n",
    "- `numpy`: libreria numerica *di base*, ampiamente usata in tutto il notebook\n",
    "- `matplotlib`: libreria per fare i grafici, usata per fare qualunque grafico del notebook\n",
    "- `pandas`: libreria per gestire i dataframe, usata ampiamente in tutto il notebook per gestire i dataframe, per leggerli e scriverli da e su file ed manipolarli. \n",
    "- `scipy`: libreria numerica *avanzata*, usata poco\n",
    "- `os`: *operating system*, libreria per gestire i files\n",
    "- `re`: libreria per gestire le stringhe con le *regular expression*\n",
    "- `copy`: libreria per copiare *correttamente* una variabile o una classe"
   ]
  },
  {
   "cell_type": "code",
   "execution_count": null,
   "metadata": {
    "ExecuteTime": {
     "end_time": "2021-03-19T10:21:45.659568Z",
     "start_time": "2021-03-19T10:21:33.124170Z"
    },
    "hidden": true
   },
   "outputs": [],
   "source": [
    "import numpy as np\n",
    "from numpy import random\n",
    "\n",
    "import matplotlib.pyplot as plt\n",
    "from matplotlib.colors import Normalize\n",
    "import matplotlib.cm as cm\n",
    "\n",
    "import scipy\n",
    "from scipy.misc import derivative\n",
    "from scipy.optimize import curve_fit\n",
    "import scipy.special\n",
    "\n",
    "import pandas as pd\n",
    "import copy\n",
    "import os\n",
    "\n",
    "import re\n",
    "\n",
    "#from imp import reload "
   ]
  },
  {
   "cell_type": "markdown",
   "metadata": {
    "hidden": true
   },
   "source": [
    "Definisco alcune funzioni usata più volte nel notebook per fare alcuni tipi di grafici *ricorrenti*"
   ]
  },
  {
   "cell_type": "code",
   "execution_count": null,
   "metadata": {
    "code_folding": [
     0
    ],
    "hidden": true
   },
   "outputs": [],
   "source": [
    "###\n",
    "def norm(x):\n",
    "    return np.sqrt(np.sum(np.power(x,2.0)))        \n",
    "      "
   ]
  },
  {
   "cell_type": "code",
   "execution_count": null,
   "metadata": {
    "ExecuteTime": {
     "end_time": "2021-03-19T10:23:32.553975Z",
     "start_time": "2021-03-19T10:23:32.515999Z"
    },
    "code_folding": [
     0
    ],
    "hidden": true
   },
   "outputs": [],
   "source": [
    "#\n",
    "def plot(fig,n,xB,yB,x,y,c,title,cmap):\n",
    "    \n",
    "    ax = fig.add_subplot(n)\n",
    "    ax.plot(xB, yB, color= \"black\",label=\"Bspline\")\n",
    "    sc = ax.scatter(x,y,c=c,cmap=cmap)\n",
    "    plt.colorbar(sc)\n",
    "    ax.set_aspect('equal')\n",
    "    plt.xlim(min(x),max(x))\n",
    "    plt.ylim(min(y),max(y))\n",
    "    plt.title(title)\n",
    "    \n",
    "    return"
   ]
  },
  {
   "cell_type": "code",
   "execution_count": null,
   "metadata": {
    "code_folding": [
     0
    ],
    "hidden": true
   },
   "outputs": [],
   "source": [
    "#\n",
    "def plot_sol_disc(fig,n,xB_arr,yB_arr,x,y,c,title,cmap):\n",
    "    \n",
    "    ax = fig.add_subplot(n)\n",
    "    for xB,yB in zip(xB_arr,yB_arr):\n",
    "        ax.plot(xB, yB, color= \"black\",label=\"Bspline\")\n",
    "    sc = ax.scatter(x,y,c=c,cmap=cmap)\n",
    "    plt.colorbar(sc)\n",
    "    ax.set_aspect('equal')\n",
    "    plt.xlim(xmin,xmax)\n",
    "    plt.ylim(ymin,ymax)\n",
    "    plt.title(title)\n",
    "    \n",
    "    return"
   ]
  },
  {
   "cell_type": "code",
   "execution_count": null,
   "metadata": {
    "code_folding": [
     0
    ],
    "hidden": true
   },
   "outputs": [],
   "source": [
    "#\n",
    "def plot_sol(fig,n,xB,yB,x,y,c,title):\n",
    "    \n",
    "    ax = fig.add_subplot(n)\n",
    "    ax.plot(xB, yB, color= \"black\",label=\"Bspline\")\n",
    "    sc = ax.scatter(x,y,c=c,cmap=cmap)\n",
    "    plt.colorbar(sc)\n",
    "    ax.set_aspect('equal')\n",
    "    plt.xlim(xmin,xmax)\n",
    "    plt.ylim(ymin,ymax)\n",
    "    plt.title(title)\n",
    "    \n",
    "    return"
   ]
  },
  {
   "cell_type": "code",
   "execution_count": null,
   "metadata": {
    "code_folding": [
     0
    ],
    "hidden": true
   },
   "outputs": [],
   "source": [
    "#\n",
    "def plot_matrix(sm,file_png=None):\n",
    "    #\n",
    "    sm2 = sm.copy()\n",
    "    sm2[\"index\"] = sm2.index\n",
    "    #\n",
    "    new = sm2.melt(id_vars=['index'])# = sm.index\n",
    "    #\n",
    "    new2 = new.copy()\n",
    "    new2[\"index\"] = [ i[0] for i in new2[\"index\"]]\n",
    "    new2[\"variable\"] = [ i[0] for i in new2[\"variable\"]]\n",
    "    #new2[\"value\"] = [np.complex(i) for i in new2[\"value\"] ]\n",
    "    new2[\"real\"] = np.real(new2[\"value\"])\n",
    "    new2[\"imag\"] = np.imag(new2[\"value\"])\n",
    "    new2[\"abs\"] = np.absolute(new2[\"value\"])\n",
    "    new2[\"phase\"] = np.angle(new2[\"value\"])/np.pi\n",
    "    df = new2\n",
    "    \n",
    "    #\n",
    "    fig = plt.figure ( 0 , figsize = ( 15 , 10 ) )\n",
    "\n",
    "    cmap = 'RdYlBu'\n",
    "\n",
    "    #\n",
    "    ax = fig.add_subplot(221)\n",
    "    sc = ax.scatter(df[\"index\"],df[\"variable\"],c=df[\"real\"],cmap = 'RdYlBu')\n",
    "    plt.colorbar(sc)\n",
    "    plt.xlim(min(df[\"index\"]),max(df[\"index\"]))\n",
    "    plt.ylim(min(df[\"index\"]),max(df[\"index\"]))\n",
    "    ax.set_aspect('equal')\n",
    "    plt.title(\"stiffness matrix : real\")\n",
    "\n",
    "    #\n",
    "    ax = fig.add_subplot(222)\n",
    "    sc = ax.scatter(df[\"index\"],df[\"variable\"],c=df[\"imag\"],cmap = 'RdYlBu')\n",
    "    plt.colorbar(sc)\n",
    "    plt.xlim(min(df[\"index\"]),max(df[\"index\"]))\n",
    "    plt.ylim(min(df[\"index\"]),max(df[\"index\"]))\n",
    "    ax.set_aspect('equal')\n",
    "    plt.title(\"stiffness matrix : imag\")\n",
    "\n",
    "    #\n",
    "    ax = fig.add_subplot(223)\n",
    "    sc = ax.scatter(df[\"index\"],df[\"variable\"],c=df[\"abs\"],cmap = 'RdYlBu')\n",
    "    plt.colorbar(sc)\n",
    "    plt.xlim(min(df[\"index\"]),max(df[\"index\"]))\n",
    "    plt.ylim(min(df[\"index\"]),max(df[\"index\"]))\n",
    "    ax.set_aspect('equal')\n",
    "    plt.title(\"stiffness matrix : abs\")\n",
    "\n",
    "    #\n",
    "    ax = fig.add_subplot(224)\n",
    "    sc = ax.scatter(df[\"index\"],df[\"variable\"],c=df[\"phase\"],cmap = 'RdYlBu')\n",
    "    plt.colorbar(sc)\n",
    "    plt.xlim(min(df[\"index\"]),max(df[\"index\"]))\n",
    "    plt.ylim(min(df[\"index\"]),max(df[\"index\"]))\n",
    "    ax.set_aspect('equal')\n",
    "    plt.title(\"stiffness matrix : $\\\\theta / \\pi$\")\n",
    "\n",
    "    plt.tight_layout()\n",
    "    if file_png is not None :\n",
    "        plt.savefig(file_png)\n",
    "    plt.show()\n",
    "    "
   ]
  },
  {
   "cell_type": "markdown",
   "metadata": {
    "heading_collapsed": true
   },
   "source": [
    "# Basis function"
   ]
  },
  {
   "cell_type": "markdown",
   "metadata": {
    "hidden": true
   },
   "source": [
    "In questa parte do una rappresentazione grafica delle funzioni di base $\\phi_j$ nel caso in cui $\\Gamma$ sia una circonferenza. Inoltre cerco di spiegare nel dettaglio come vengono allocati gli oggetti di tipo `Bspline`.\n",
    "\n",
    "La seguente cella permette di definire una classe `Bspline` nel seguente modo :\n",
    "- si definisce la variabile `sh` come un oggetto di tipo `shape`, classe che mi permette di definire la dimensionalità del dominio e del codominio della futura Bspline\n",
    "- si definisce un knot vector tramite la variabile `kv`: ho creato una funzione che mi genera in automatico il knot vector corretto dato il dominio \"effettivo\" della Bspline, il numero di gradi di libertà e il grado polinomiale\n",
    "- passo le variabili `sh` e `kv` al costruttore della classe `Bspline` (assieme ad un `dictionary` che mi specifica alcune proprietà, come il fatto che la Bspline dovrà essere periodica) per ottenere la variabile `bs`"
   ]
  },
  {
   "cell_type": "code",
   "execution_count": null,
   "metadata": {
    "ExecuteTime": {
     "end_time": "2021-03-19T09:03:13.179930Z",
     "start_time": "2021-03-19T09:03:13.158947Z"
    },
    "code_folding": [],
    "hidden": true
   },
   "outputs": [],
   "source": [
    "#definisco la Bspline\n",
    "\n",
    "#shape\n",
    "sh = Bs.shape(1,2)\n",
    "\n",
    "#defiisco i knot vector\n",
    "P=1  #polinomial degree\n",
    "N=20 #base caridnality\n",
    "\n",
    "#dominio della funzione\n",
    "xminBs = 0.0 \n",
    "xmaxBs = 1.0\n",
    "\n",
    "\n",
    "#knot vector\n",
    "kv = Bs.periodic_kv(xminBs,xmaxBs,p=P,n=N)\n",
    "#kv.show()\n",
    "\n",
    "#alloco la Bspline\n",
    "bs = Bs.Bspline(sh,[kv],properties={\"periodic\":[True]})"
   ]
  },
  {
   "cell_type": "markdown",
   "metadata": {
    "hidden": true
   },
   "source": [
    "Chiamando la funzione `show` della variabile `kv` è possibile stampare a video tutte le informazioni contenute in tale variabile. Notiamo due cose:\n",
    "- il valore massimo e minimo assunto dai vari knots non coincide con quelli specificati nella funzione `periodic_kv`, cioè con `xminBs` e `xmaxBs`, ma questo è corretto perché il dominio di una Bspline non coincide con l'intervallo spaziato dal knot vector. \n",
    "- il numero di funzioni di base non coincide con il numero di gradi di libertà `N` passato alla funzione `periodic_kv` (`N` infatti vuole rappresentare il numero di gradi di libertà e non il numero di funzioni di base), ma questo è corretto perché andremo ad utilizzare una Bspline periodica e questa è ottenuta da una Bspline \"semplice\" forzando alcuni control points ad essegue uguali ad altri, andando quindi a ridurre il numero di control points \"liberi\", cioè il numero di gradi di libertà effettivi.\n",
    "\n",
    "La funzione `periodic_kv` automatizza il calcolo del knot vector in modo tale che la variabile `kv` restituita vada poi a definire effettivamente una Bspline con `N` gradi di libertà (anche se con un numero maggiore di `N` di funzioni di base) e dominio $\\left[\\right.$ `xminBs`,`xmaxBs` $\\left. \\right]$"
   ]
  },
  {
   "cell_type": "code",
   "execution_count": null,
   "metadata": {
    "hidden": true
   },
   "outputs": [],
   "source": [
    "kv.show()"
   ]
  },
  {
   "cell_type": "markdown",
   "metadata": {
    "hidden": true
   },
   "source": [
    "Nelle prossime celle vado ad impostare i control points della Bspline `bs` in modo tale che questa vada ad approssimare un cerchio.\n",
    "Questa figura geometria infatti non è rappresentabile in modo esatto con delle Bspline, per farlo servirebbero delle NURBS, che non sono ancora state implementate: una volta implementare però l'intero codice che implementa il BEM potrà essere usato ugualmente senza alcuna modifica.\n",
    "\n",
    "Quello che vado a fare infatti è rappresentare un poligono regolare in modo esatto: vado ad impostare come control points i vertici di tale poligono, essengo poi la Bspline di grado polinomiale `P=1` ottengo una linea spezzata (polinomio lineare a tratti) in $\\mathbf{R}^2$"
   ]
  },
  {
   "cell_type": "code",
   "execution_count": null,
   "metadata": {
    "ExecuteTime": {
     "end_time": "2021-03-19T09:03:14.356518Z",
     "start_time": "2021-03-19T09:03:14.336528Z"
    },
    "code_folding": [
     0
    ],
    "hidden": true
   },
   "outputs": [],
   "source": [
    "#function\n",
    "x0 = 0.0\n",
    "y0 = 0.0\n",
    "a = 1.0\n",
    "b = 1.0\n",
    "def func(t):\n",
    "    #print(cpz)\n",
    "    cpx = a*np.cos(2*np.pi*t)+x0#np.random.rand(N)\n",
    "    cpy = b*np.sin(2*np.pi*t)+y0#np.random.rand(N)\n",
    "    out = np.zeros(shape=(len(t),2))\n",
    "    for i in range(len(t)):\n",
    "        out[i,0] = cpx[i]\n",
    "        out[i,1] = cpy[i]\n",
    "    return out"
   ]
  },
  {
   "cell_type": "code",
   "execution_count": null,
   "metadata": {
    "ExecuteTime": {
     "end_time": "2021-03-19T09:03:14.667325Z",
     "start_time": "2021-03-19T09:03:14.644337Z"
    },
    "code_folding": [
     0
    ],
    "hidden": true
   },
   "outputs": [],
   "source": [
    "#control points\n",
    "t = np.linspace(0,1,N,endpoint=False)\n",
    "cp = func(t)\n",
    "for i in range(len(t)):\n",
    "    #bs._cp[i] = cp[i]\n",
    "    bs.set_cp(i,cp[i])\n",
    "cpx = cp[:,0]\n",
    "cpy = cp[:,1]"
   ]
  },
  {
   "cell_type": "markdown",
   "metadata": {
    "hidden": true
   },
   "source": [
    "<a id=\"periodicity\"></a>\n",
    "Una volta assegnati i control points è utile visualizzarli (prossima cella):\n",
    "- si noti che sono $22$, cioè quanti la variabile `kv` indica essere la cardinalità delle funzioni di base\n",
    "- si noti che però il primo e il secondo control points soo uguali rispettivamente al penultimo e all'ultimo,riducendo così di $2$ il numero di gradi di libertà: i gradi di libertà sono infatti $20$, che è uguale al valore di `N` che avevamo prima specificato\n",
    "- si noti che ogni control point è un array di lunghezza $2$\n",
    "\n",
    "Se avessimo desiderato allocare una Bspline di grado polinomiale $2$ anzichè $1$ avremmo dovuto identificare (il codice lo fa in automatico ovviamente) i seguenti control points:\n",
    "- il primo con il terzultimo\n",
    "- il secondo con il penultimo\n",
    "- il terzo con l'ultimo\n",
    "\n",
    "L'identificazione del primo control points con l'ultimo è sufficiente a garantire che la curva sia chiusa, ma identificare anche altri contol points in base al grado polinomiale garantisce che anche la derivata prima e quelle di ordine superiore (se definite) \"si comportino bene\" e nel nostro caso è importante perché abbiamo bisogno di valutare anche la derivata prima della funzione."
   ]
  },
  {
   "cell_type": "code",
   "execution_count": null,
   "metadata": {
    "hidden": true
   },
   "outputs": [],
   "source": [
    "bs.control_points().T"
   ]
  },
  {
   "cell_type": "markdown",
   "metadata": {
    "hidden": true
   },
   "source": [
    "Nella seguente cella vado a fare un grafico delle funzioni di base $\\phi_j$ sfruttando la funzione `_scalar` ed andando a valutare le varie funzioni $\\phi_j$ soltanto nel loto effettivo dominio, che conosco perché me lo restituisce la funzione `basis_range`: può essere utile vederne l'output."
   ]
  },
  {
   "cell_type": "code",
   "execution_count": null,
   "metadata": {
    "hidden": true
   },
   "outputs": [],
   "source": [
    "bs.basis_range().T"
   ]
  },
  {
   "cell_type": "code",
   "execution_count": null,
   "metadata": {
    "ExecuteTime": {
     "start_time": "2021-03-18T20:38:49.841Z"
    },
    "code_folding": [
     0
    ],
    "hidden": true
   },
   "outputs": [],
   "source": [
    "#valutazione della Bspline\n",
    "NN = 1000\n",
    "T = np.linspace(xminBs,xmaxBs,NN,endpoint=True)\n",
    "xy   = bs.evaluate(T)\n",
    "df = pd.DataFrame(xy)\n",
    "df = df.rename(columns={0:\"x\",1:\"y\"})\n",
    "\n",
    "#grafico\n",
    "fig = plt.figure ( 0 , figsize = ( 10, 8 ) )\n",
    "\n",
    "bsCopy = bs.copy()\n",
    "bsCopy.clear_cp()\n",
    "bsScal = bsCopy._scalar()\n",
    "br = bs.basis_range()\n",
    "\n",
    "#\n",
    "#s = 0.2\n",
    "ax = fig.add_subplot(111, projection='3d')\n",
    "\n",
    "for i in range(N):\n",
    "    print(i+1,\"/\",N,end=\"\\r\")\n",
    "    u = np.linspace(br.at[(i,),(\"min\",0)],br.at[(i,),(\"max\",0)],100)\n",
    "    #u = np.linspace(0,1,1000,endpoint=True)\n",
    "    bsCopy.set_cp(i,bs.get_cp(i))\n",
    "    bsScal.set_cp(i,1.)\n",
    "    xyB = bs.evaluate(u)\n",
    "    zB = bsScal.evaluate(u)\n",
    "    \n",
    "    #xyB = xyB[zB != 0]\n",
    "    #zB  = zB[zB != 0]\n",
    "    \n",
    "    #xyB,zB = [ i,j for i,j in zip(xyB,zB) if j != 0.0 ]\n",
    "    \n",
    "    ax.plot(xyB[:,0], xyB[:,1],zB,label=str(i))\n",
    "    \n",
    "    bsCopy.set_cp(i,[0,0])\n",
    "    bsScal.set_cp(i,0.)\n",
    "    \n",
    "print(\"Finished\")\n",
    "\n",
    "ax.plot(xy[:,0], xy[:,1],0.0,color=\"red\",label=\"Bspline\")\n",
    "ax.set_zlim(0,1)\n",
    "plt.grid(True)\n",
    "#plt.legend()\n",
    "plt.show()"
   ]
  },
  {
   "cell_type": "markdown",
   "metadata": {
    "heading_collapsed": true
   },
   "source": [
    "# Triangle"
   ]
  },
  {
   "cell_type": "markdown",
   "metadata": {
    "hidden": true
   },
   "source": [
    "Per rendere meno dispersivi i commenti, descriverò buona parte del capitolo [Triangle](#Triangle) qui.\n",
    "\n",
    "In questo capitolo applico il BEM ad un problema di scattering con un ostacolo di forma triangolare: devo dunque impostare i control points della variabile `bs` in modo tale che questa rappresenti un triangolo: di [seguito](#grafico-triangolo) è possibile vedere un grafico della Bspline e dei control points. \n",
    "\n",
    "Nella prossima cella vado invece a definire il vettore d'onda del problema:\n",
    "- definisco il vettore `k_in` che mi servirà poi nella valutazione dell'onda piana incidente sull'ostacolo\n",
    "- definisco il suo modulo `wavevector=20.0`\n",
    "\n",
    "Nella sezione [Stiffness matrix](#triangle-sm) vado a calcolare tramite la funzione `stiffness_matrix_BEM` la matrice $A^{Gal}_{ij}$.\n",
    "Vado poi a graficarne il valore reale, immaginario, il modulo e la fase usando il colore come \"indicatore dell'intensità\", mentre sull'asse delle x e delle y sono presenti i vari control points: l'immagine sembra un continuo ma in realtà è uno scatterplot formato da punti molto fitti (sono stati usati `N=100` gradi di libertà). \n",
    "\n",
    "Questi grafici hanno adesso poca importanza, ma sono stati durante la fase di sviluppo del codice molto importanti per controllare che non vi fossero \"discontinuità\" nel calcolo di $A^{Gal}_{ij}$: tramite questi grafici è stato possibile infatti controllare che control points \"vicini\" restituissero elementi di $A^{Gal}_{ij}$ simili e che la continuità di $A^{Gal}_{ij}$ è preservata anche attraversando i bordi del grafico. Si ricordi che stiamo analizzando una curva chiusa, quindi il control points di indice $0$ è in realtà a contatto con quello di indice $99$: la presenza di \"discontinuità\" nei pressi del bordo destro e del bordo in alto del grafico mostrava *visivamente* la presenza di errori nel codice che sono poi stati corretti.\n",
    "\n",
    "Nella sezione [Single Layer Potential Basis](#triangle-slp) si va a generare una griglia di punti `XY0` e tramite la funzione `internal_points` si va a calcolare l'indice di avvolgimento dei vari punti scelti: quelli che risultano interni alla curva vengono ovviamente scartati, quelli esterni sono rappresentati nella variabile `XY`.\n",
    "Nell'ultima cella di questa sezione si chiama la funzione `single_layer_potential_basis_BEM` per calcolare i coefficienti che ho prima indicato con $M_j\\left(\\mathbf{x}\\right)$ per tutti i punti contenuti nella variabile `XY`.\n",
    "\n",
    "Sia la matrice $A^{Gal}_{ij}$ che i coefficienti $M_j\\left(\\mathbf{x}\\right)$ (contenuti nelle variabii rispettivamente `bs._sm_BEM` e `bs._slp_BEM`) vengono salvati su file tramite la funzione `save`. E' possibile anche leggere queste variabili da file tramite la funzione `load` in modo tale da evitarne di nuovo il calcolo.\n",
    "\n",
    "Nonostante le funzioni `stiffness_matrix_BEM` e `single_layer_potential_basis_BEM` verrebbero chiamate automaticamente dalla funzione `BEM` (vero cuore dell'approccio BEM) ho scelto di controllarne gli output accuratamente proprio nelle due sezioni: [Stiffness matrix](#triangle-sm) e [Single Layer Potential Basis](#triangle-slp). \n",
    "\n",
    "Questo deriva anche dal fatto che il calcolo di queste variabili non dipende dalla funzione incidente $u^{inc}$: $A^{Gal}_{ij}$ e $M_j\\left(\\mathbf{x}\\right)$ verranno usati identici sia nel caso in cui l'onda incidente sia un'[onda piana](#triangle-planewave) che nel caso sia una funzione di [Herglotz](#triangle-herglotz). \n",
    "\n",
    "Ovviamente è possibile definire un qualunque altro tipo di onda indicente andando a riscrivere opportunamente una nuova sezione del notebook sulla falsa riga di [Plane wave](#triangle-planewave) o [Herglotz](#triangle-herglotz) senza dover ricalcolare `stiffness_matrix_BEM` e `single_layer_potential_basis_BEM`. \n",
    "\n",
    "I commenti relativi alle sezioni [Plane wave](#triangle-planewave) e [Herglotz](#triangle-herglotz) si trovano in tali sezioni."
   ]
  },
  {
   "cell_type": "markdown",
   "metadata": {
    "hidden": true
   },
   "source": [
    "## Definition"
   ]
  },
  {
   "cell_type": "code",
   "execution_count": null,
   "metadata": {
    "ExecuteTime": {
     "end_time": "2021-03-18T20:35:44.116846Z",
     "start_time": "2021-03-18T20:35:44.092866Z"
    },
    "code_folding": [],
    "hidden": true
   },
   "outputs": [],
   "source": [
    "#definisco il vettor d'onda\n",
    "k_in = 20*np.asarray([0.5,np.sqrt(3)/2])\n",
    "wavevector = np.sqrt(np.sum(np.power(k_in,2.0)))\n",
    "I = np.complex(0,1)\n",
    "\n",
    "xmin = -1.5\n",
    "xmax = 1.5\n",
    "ymin = -1.5\n",
    "ymax = 1.5\n",
    "\n",
    "print(wavevector)"
   ]
  },
  {
   "cell_type": "code",
   "execution_count": null,
   "metadata": {
    "ExecuteTime": {
     "end_time": "2021-03-18T20:35:45.465744Z",
     "start_time": "2021-03-18T20:35:45.446755Z"
    },
    "code_folding": [
     0
    ],
    "hidden": true
   },
   "outputs": [],
   "source": [
    "#definisco la dimensionaità:\n",
    "sh = Bs.shape(1,2)\n",
    "#sh.show()\n",
    "\n",
    "#defiisco i knot vector\n",
    "P=1 #polinomial degree\n",
    "N=100 #base caridnality\n",
    "xminBs = 0.0\n",
    "xmaxBs = 1.0\n",
    "\n",
    "\n",
    "#\n",
    "#kv = Bs.uniform_open_kv(xmin,xmax,p=P,n=N)#Bs.knot_vector(P,N,v)\n",
    "#kv = periodic_kv(xmin,xmax,p=P,n=N)\n",
    "kv = Bs.periodic_kv(xminBs,xmaxBs,p=P,n=N)\n",
    "#kv.show()\n",
    "\n",
    "#alloco la Bspline\n",
    "bs = Bs.Bspline(sh,[kv],properties={\"periodic\":[True]})"
   ]
  },
  {
   "cell_type": "code",
   "execution_count": null,
   "metadata": {
    "ExecuteTime": {
     "end_time": "2021-03-18T20:35:47.058761Z",
     "start_time": "2021-03-18T20:35:47.039773Z"
    },
    "code_folding": [
     0
    ],
    "hidden": true
   },
   "outputs": [],
   "source": [
    "#files\n",
    "file_dir = \"files/BEM/triangle-periodic/\"\n",
    "suffix = \"P=\"+str(P)+\"-N=\"+str(N)+\"-k=\"+str(wavevector)+\".csv\"\n",
    "suffix_png = \"P=\"+str(P)+\"-N=\"+str(N)+\"-k=\"+str(wavevector)+\".png\""
   ]
  },
  {
   "cell_type": "markdown",
   "metadata": {
    "hidden": true
   },
   "source": [
    "<a id=\"grafico-triangolo\"></a>\n",
    "## Geometry"
   ]
  },
  {
   "cell_type": "code",
   "execution_count": null,
   "metadata": {
    "ExecuteTime": {
     "end_time": "2021-03-18T20:35:47.824168Z",
     "start_time": "2021-03-18T20:35:47.799183Z"
    },
    "code_folding": [
     0
    ],
    "hidden": true
   },
   "outputs": [],
   "source": [
    "#triangolo\n",
    "x0 = -0.5\n",
    "y0 =  -0.5\n",
    "\n",
    "a = 1.0 / (2+np.sqrt(2))\n",
    "b = (1.0+np.sqrt(2)) / (2+np.sqrt(2))\n",
    "delta = b-a\n",
    "\n",
    "sx = 1.0\n",
    "sy = 1.0\n",
    "\n",
    "def triangle_x(i):\n",
    "    if i <= a :\n",
    "        return i\n",
    "    elif i > a and i <= b :\n",
    "        j = i-a\n",
    "        return a - j*a/(delta)\n",
    "    else :\n",
    "        return 0\n",
    "    \n",
    "def triangle_y(i):\n",
    "    if i <= a :\n",
    "        return 0\n",
    "    elif i > a and i <= b :\n",
    "        j = i-a\n",
    "        return j*a/(delta)\n",
    "    else :\n",
    "        j = i-b\n",
    "        return a-j\n",
    "    \n",
    "def func(t):\n",
    "    out = np.zeros((len(t),2))\n",
    "    out[:,0] = [triangle_x(i) for i in t]\n",
    "    out[:,1] = [triangle_y(i) for i in t]\n",
    "            \n",
    "    out[:,0] = sx*out[:,0]/a+x0\n",
    "    out[:,1] = sy*out[:,1]/a+y0\n",
    "    return out"
   ]
  },
  {
   "cell_type": "code",
   "execution_count": null,
   "metadata": {
    "ExecuteTime": {
     "end_time": "2021-03-18T20:35:49.038334Z",
     "start_time": "2021-03-18T20:35:49.021345Z"
    },
    "code_folding": [
     0
    ],
    "hidden": true
   },
   "outputs": [],
   "source": [
    "#ATTENZIONE: mi servono dei punti distribuiti in modo uniforme\n",
    "# per come ho costruito func so che\n",
    "# func(0.) = func(1.)\n",
    "# quindi genero un punto in più\n",
    "t = np.linspace(0,1,N+1,endpoint=True)#[0:-2]\n",
    "cp = func(t)\n",
    "for i in range(len(t)):\n",
    "    #bs._cp[i] = cp[i]\n",
    "    bs.set_cp(i,cp[i])\n",
    "cpx = cp[:,0]\n",
    "cpy = cp[:,1]"
   ]
  },
  {
   "cell_type": "code",
   "execution_count": null,
   "metadata": {
    "ExecuteTime": {
     "end_time": "2021-03-18T20:36:03.907129Z",
     "start_time": "2021-03-18T20:36:02.858773Z"
    },
    "code_folding": [
     0
    ],
    "hidden": true
   },
   "outputs": [],
   "source": [
    "#valutazione della Bspline\n",
    "NN = 1000\n",
    "T = np.linspace(xminBs,xmaxBs,NN,endpoint=True)\n",
    "xy   = bs.evaluate(T)\n",
    "Txy = func(T)\n",
    "df = pd.DataFrame(xy)\n",
    "df = df.rename(columns={0:\"x\",1:\"y\"})"
   ]
  },
  {
   "cell_type": "code",
   "execution_count": null,
   "metadata": {
    "code_folding": [
     0
    ],
    "hidden": true
   },
   "outputs": [],
   "source": [
    "#grafico\n",
    "fig = plt.figure ( 0 , figsize = ( 15, 5 ) )\n",
    "\n",
    "#converto in dataframe    \n",
    "ax = fig.add_subplot(131)\n",
    "plt.plot(Txy[:,0],Txy[:,1],color=\"green\",label=\"triangle\",linestyle=\"--\")\n",
    "plt.scatter(cpx,cpy,color=\"green\",label=\"cp\")\n",
    "#plt.scatter(df[\"x\"], df[\"y\"], color= \"red\",label=\"Bspline\")\n",
    "plt.grid()\n",
    "plt.legend()\n",
    "ax.set_aspect('equal')\n",
    "\n",
    "ax = fig.add_subplot(132)\n",
    "#plt.plot(cpx,cpy,color=\"green\",label=\"cp\",linestyle=\"--\")\n",
    "#plt.scatter(cpx,cpy,color=\"green\",label=\"cp\")\n",
    "plt.scatter(df[\"x\"], df[\"y\"], color= \"red\",label=\"Bspline\")\n",
    "plt.grid()\n",
    "plt.legend()\n",
    "ax.set_aspect('equal')\n",
    "\n",
    "#real\n",
    "ax = fig.add_subplot(133)#, projection='3d')\n",
    "ax.plot(T,df[\"x\"],color=\"blue\",label=\"x\")\n",
    "ax.plot(T,df[\"y\"],color=\"green\",label=\"y\")\n",
    "#ax.plot(df[\"t\"],np.real(df[\"trace\"]),color=\"red\",label=\"trace\")\n",
    "#plt.title(\"real\")\n",
    "plt.grid(True)\n",
    "plt.legend()\n",
    "plt.show()"
   ]
  },
  {
   "cell_type": "markdown",
   "metadata": {
    "hidden": true
   },
   "source": [
    "<a id=\"triangle-sm\"></a>\n",
    "## Stiffness Matrix"
   ]
  },
  {
   "cell_type": "code",
   "execution_count": null,
   "metadata": {
    "ExecuteTime": {
     "end_time": "2021-03-18T20:36:42.649592Z",
     "start_time": "2021-03-18T20:36:42.621617Z"
    },
    "code_folding": [
     0
    ],
    "hidden": true
   },
   "outputs": [],
   "source": [
    "#files\n",
    "file = file_dir+\"stiffness_matrix-n=6-random=False-\"+suffix\n",
    "file"
   ]
  },
  {
   "cell_type": "code",
   "execution_count": null,
   "metadata": {
    "ExecuteTime": {
     "end_time": "2021-03-18T21:05:26.626506Z",
     "start_time": "2021-03-18T20:37:06.976475Z"
    },
    "code_folding": [
     0
    ],
    "hidden": true,
    "scrolled": true
   },
   "outputs": [],
   "source": [
    "#stiffness matrix\n",
    "READ = True\n",
    "SAVE = False\n",
    "if os.path.exists(file) and READ == True :\n",
    "    sm = bs.load(\"sm-BEM\",file)\n",
    "else :\n",
    "    sm,out = bs.stiffness_matrix_BEM(k=wavevector,\\\n",
    "                opts={\"print\":True,\"N\":[6],\"return_both\":True,\"ready_sm_BEM\":False,\"random\":False})\n",
    "    if SAVE == True :\n",
    "        bs.save(\"sm-BEM\",file)\n",
    "sm.head()"
   ]
  },
  {
   "cell_type": "code",
   "execution_count": null,
   "metadata": {
    "code_folding": [
     0
    ],
    "hidden": true
   },
   "outputs": [],
   "source": [
    "#\n",
    "def plot_matrix(sm,file_png=None):\n",
    "    #\n",
    "    sm2 = sm.copy()\n",
    "    sm2[\"index\"] = sm2.index\n",
    "    #\n",
    "    new = sm2.melt(id_vars=['index'])# = sm.index\n",
    "    #\n",
    "    new2 = new.copy()\n",
    "    new2[\"index\"] = [ i[0] for i in new2[\"index\"]]\n",
    "    new2[\"variable\"] = [ i[0] for i in new2[\"variable\"]]\n",
    "    #new2[\"value\"] = [np.complex(i) for i in new2[\"value\"] ]\n",
    "    new2[\"real\"] = np.real(new2[\"value\"])\n",
    "    new2[\"imag\"] = np.imag(new2[\"value\"])\n",
    "    new2[\"abs\"] = np.absolute(new2[\"value\"])\n",
    "    new2[\"phase\"] = np.angle(new2[\"value\"])/np.pi\n",
    "    df = new2\n",
    "    \n",
    "    #\n",
    "    fig = plt.figure ( 0 , figsize = ( 15 , 10 ) )\n",
    "\n",
    "    cmap = 'RdYlBu'\n",
    "\n",
    "    #\n",
    "    ax = fig.add_subplot(221)\n",
    "    sc = ax.scatter(df[\"index\"],df[\"variable\"],c=df[\"real\"],cmap = 'RdYlBu')\n",
    "    plt.colorbar(sc)\n",
    "    plt.xlim(min(df[\"index\"]),max(df[\"index\"]))\n",
    "    plt.ylim(min(df[\"index\"]),max(df[\"index\"]))\n",
    "    ax.set_aspect('equal')\n",
    "    plt.title(\"stiffness matrix : real\")\n",
    "\n",
    "    #\n",
    "    ax = fig.add_subplot(222)\n",
    "    sc = ax.scatter(df[\"index\"],df[\"variable\"],c=df[\"imag\"],cmap = 'RdYlBu')\n",
    "    plt.colorbar(sc)\n",
    "    plt.xlim(min(df[\"index\"]),max(df[\"index\"]))\n",
    "    plt.ylim(min(df[\"index\"]),max(df[\"index\"]))\n",
    "    ax.set_aspect('equal')\n",
    "    plt.title(\"stiffness matrix : imag\")\n",
    "\n",
    "    #\n",
    "    ax = fig.add_subplot(223)\n",
    "    sc = ax.scatter(df[\"index\"],df[\"variable\"],c=df[\"abs\"],cmap = 'RdYlBu')\n",
    "    plt.colorbar(sc)\n",
    "    plt.xlim(min(df[\"index\"]),max(df[\"index\"]))\n",
    "    plt.ylim(min(df[\"index\"]),max(df[\"index\"]))\n",
    "    ax.set_aspect('equal')\n",
    "    plt.title(\"stiffness matrix : abs\")\n",
    "\n",
    "    #\n",
    "    ax = fig.add_subplot(224)\n",
    "    sc = ax.scatter(df[\"index\"],df[\"variable\"],c=df[\"phase\"],cmap = 'RdYlBu')\n",
    "    plt.colorbar(sc)\n",
    "    plt.xlim(min(df[\"index\"]),max(df[\"index\"]))\n",
    "    plt.ylim(min(df[\"index\"]),max(df[\"index\"]))\n",
    "    ax.set_aspect('equal')\n",
    "    plt.title(\"stiffness matrix : $\\\\theta / \\pi$\")\n",
    "\n",
    "    plt.tight_layout()\n",
    "    if file_png is not None :\n",
    "        plt.savefig(file_png)\n",
    "    plt.show()\n",
    "    "
   ]
  },
  {
   "cell_type": "code",
   "execution_count": null,
   "metadata": {
    "code_folding": [
     0
    ],
    "hidden": true
   },
   "outputs": [],
   "source": [
    "#grafico\n",
    "ile_png = file_dir+\"stiffness_matrix-n=6-random=False-\"+suffix_png\n",
    "plot_matrix(sm,file_png)"
   ]
  },
  {
   "cell_type": "markdown",
   "metadata": {
    "hidden": true
   },
   "source": [
    "<a id=\"triangle-slp\"></a>\n",
    "## Single Layer Potential basis"
   ]
  },
  {
   "cell_type": "code",
   "execution_count": null,
   "metadata": {
    "ExecuteTime": {
     "end_time": "2021-03-18T21:05:29.454761Z",
     "start_time": "2021-03-18T21:05:29.429775Z"
    },
    "code_folding": [
     0
    ],
    "hidden": true
   },
   "outputs": [],
   "source": [
    "#files\n",
    "file = file_dir+\"single_layer_potential-\"+suffix\n",
    "file"
   ]
  },
  {
   "cell_type": "code",
   "execution_count": null,
   "metadata": {
    "code_folding": [
     0
    ],
    "hidden": true
   },
   "outputs": [],
   "source": [
    "#punti XY\n",
    "Nx= int(xmax-xmin)*20\n",
    "Ny = int(ymax-ymin)*20\n",
    "x = np.linspace(xmin,xmax,Nx)\n",
    "y = np.linspace(ymin,ymax,Ny)\n",
    "X,Y = np.meshgrid(x,y)\n",
    "\n",
    "XY0 = np.zeros((Nx*Ny,2))\n",
    "XY0[:,0] = X.reshape((Nx*Ny,))\n",
    "XY0[:,1] = Y.reshape((Nx*Ny,))\n",
    "\n",
    "#tolgo elementi interni\n",
    "#radius = np.asarray([np.sqrt(np.sum(np.power(i,2.0))) for i in XY])\n",
    "internal = bs.internal_points(XY=XY0,NN=1000,xmin=0.,xmax=1.,opts=None)\n",
    "XY = XY0[ np.logical_not(internal) ]"
   ]
  },
  {
   "cell_type": "code",
   "execution_count": null,
   "metadata": {
    "ExecuteTime": {
     "end_time": "2021-03-19T00:03:09.230272Z",
     "start_time": "2021-03-18T21:05:30.630037Z"
    },
    "code_folding": [
     0
    ],
    "hidden": true
   },
   "outputs": [],
   "source": [
    "#single layer potentail per le funzioni di base\n",
    "READ = True\n",
    "SAVE = True\n",
    "if os.path.exists(file) and READ == True :\n",
    "    slp = bs.load(\"slp-BEM\",file)\n",
    "#else :\n",
    "\n",
    "# I can update it adding some  points\n",
    "slp = bs.single_layer_potential_basis_BEM(XY=XY,k=wavevector,\\\n",
    "                                              opts={\"print\":True,\"N\":[6]})\n",
    "if SAVE == True :\n",
    "    bs.save(\"slp-BEM\",file)\n",
    "    \n",
    "slp.head()"
   ]
  },
  {
   "cell_type": "markdown",
   "metadata": {
    "hidden": true
   },
   "source": [
    "<a id=\"triangle-planewave\"></a>\n",
    "## Plane wave"
   ]
  },
  {
   "cell_type": "markdown",
   "metadata": {
    "hidden": true
   },
   "source": [
    "Scelgo come onda incidente un'onda piana con un vettor d'onda rappresentato dalla varaibile `k_in`, per fare ciò definisco la funzione `plane_wave`. \n",
    "Vado poi a graficarne la traccia $\\gamma^{+}u^{inc}$ in $\\Gamma$ e il valore (parte reale a sinistra e immaginaria a destra) che questa assume in $\\Omega^{+}$.\n",
    "\n",
    "Nella sottosezione [Solution](#triangle-BEM\") richiamo la funzione `BEM`: sfrutto il metodo di Galerkin e poi sfrutto la *representation formula* per ricavare la soluzione del EDP. \n",
    "\n",
    "Salvo poi su file per usi futuri la soluzione $\\psi_N$ (`bs.save(\"ind_sol-BEM\",file_ind`), il vettore $F^{Gal}_j$ (`bs.save(\"lv-BEM\",file_lv)`) e la soluzione $u^{scat}$ trovata (`bs.save(\"sol-BEM\",file_sol)`).\n",
    "\n",
    "Per trovare la soluzione del SSSP devo sommare all'onda incidente $u^{inc}$ l'onda generata dall'ostacolo $u^{scat}$: nell'ultimo grafico della sezione sono graficati $u^{inc}$,$u^{scat}$ e $u^{tot}$"
   ]
  },
  {
   "cell_type": "markdown",
   "metadata": {
    "hidden": true
   },
   "source": [
    "### Preparation"
   ]
  },
  {
   "cell_type": "code",
   "execution_count": null,
   "metadata": {
    "ExecuteTime": {
     "end_time": "2021-03-18T21:05:28.203533Z",
     "start_time": "2021-03-18T21:05:27.922706Z"
    },
    "code_folding": [
     0
    ],
    "hidden": true
   },
   "outputs": [],
   "source": [
    "#punti XY\n",
    "Nx= int(xmax-xmin)*20\n",
    "Ny = int(ymax-ymin)*20\n",
    "x = np.linspace(xmin,xmax,Nx)\n",
    "y = np.linspace(ymin,ymax,Ny)\n",
    "X,Y = np.meshgrid(x,y)\n",
    "\n",
    "XY0 = np.zeros((Nx*Ny,2))\n",
    "XY0[:,0] = X.reshape((Nx*Ny,))\n",
    "XY0[:,1] = Y.reshape((Nx*Ny,))\n",
    "\n",
    "#tolgo elementi interni\n",
    "#radius = np.asarray([np.sqrt(np.sum(np.power(i,2.0))) for i in XY])\n",
    "internal = bs.internal_points(XY=XY0,NN=1000,xmin=0.,xmax=1.,opts=None)\n",
    "XY = XY0[ np.logical_not(internal) ]"
   ]
  },
  {
   "cell_type": "code",
   "execution_count": null,
   "metadata": {
    "ExecuteTime": {
     "end_time": "2021-03-19T00:03:11.290001Z",
     "start_time": "2021-03-19T00:03:11.266017Z"
    },
    "code_folding": [],
    "hidden": true
   },
   "outputs": [],
   "source": [
    "#plane wave\n",
    "def plane_wave(xx): # soluzione\n",
    "    xx = np.asarray(xx)\n",
    "    theta = np.dot(xx,k_in)\n",
    "    return np.exp(I*theta)"
   ]
  },
  {
   "cell_type": "code",
   "execution_count": null,
   "metadata": {
    "ExecuteTime": {
     "end_time": "2021-03-19T00:03:14.793838Z",
     "start_time": "2021-03-19T00:03:13.216811Z"
    },
    "code_folding": [
     0
    ],
    "hidden": true
   },
   "outputs": [],
   "source": [
    "#valutazione della Bspline\n",
    "NN = 1000\n",
    "T = np.linspace(xminBs,xmaxBs,NN,endpoint=True)\n",
    "xy   = bs.evaluate(T)\n",
    "df = pd.DataFrame(xy)\n",
    "df = df.rename(columns={0:\"x\",1:\"y\"})\n",
    "uinc = plane_wave(xy)"
   ]
  },
  {
   "cell_type": "code",
   "execution_count": null,
   "metadata": {
    "ExecuteTime": {
     "end_time": "2021-03-19T00:03:18.496554Z",
     "start_time": "2021-03-19T00:03:16.698664Z"
    },
    "code_folding": [
     0
    ],
    "hidden": true
   },
   "outputs": [],
   "source": [
    "#grafico\n",
    "fig = plt.figure ( 0 , figsize = ( 15, 5 ) )\n",
    "\n",
    "#\n",
    "#s = 0.2\n",
    "ax = fig.add_subplot(121, projection='3d')\n",
    "ax.plot(xy[:,0], xy[:,1],uinc.real,color=\"blue\",label=\"real\")\n",
    "ax.plot(xy[:,0], xy[:,1],uinc.imag,color=\"green\",label=\"imag\")\n",
    "ax.plot(xy[:,0], xy[:,1],0.0,color=\"red\",label=\"Bspline\")\n",
    "plt.grid(True)\n",
    "plt.legend()\n",
    "\n",
    "#\n",
    "ax = fig.add_subplot(122)#, projection='3d')\n",
    "ax.plot(T,uinc.real,color=\"blue\",label=\"real\")\n",
    "ax.plot(T,uinc.imag,color=\"green\",label=\"imag\")\n",
    "plt.grid(True)\n",
    "plt.legend()\n",
    "\n",
    "plt.show()"
   ]
  },
  {
   "cell_type": "code",
   "execution_count": null,
   "metadata": {
    "code_folding": [
     0
    ],
    "hidden": true
   },
   "outputs": [],
   "source": [
    "#grafico\n",
    "fig = plt.figure ( 0 , figsize = ( 15 , 5 ) )\n",
    "\n",
    "Uinc = plane_wave(XY)\n",
    "\n",
    "cmap = 'RdYlBu'\n",
    "    \n",
    "plot(fig,121,df[\"x\"], df[\"y\"],XY[:,0],XY[:,1],Uinc.real,\"$u_{inc}$ : real\",cmap)\n",
    "plot(fig,122,df[\"x\"], df[\"y\"],XY[:,0],XY[:,1],Uinc.imag,\"$u_{inc}$ : imag\",cmap)\n",
    "\n",
    "plt.show()"
   ]
  },
  {
   "cell_type": "markdown",
   "metadata": {
    "hidden": true
   },
   "source": [
    "<a id=\"triangle-BEM\"></a>\n",
    "### Solution"
   ]
  },
  {
   "cell_type": "code",
   "execution_count": null,
   "metadata": {
    "ExecuteTime": {
     "end_time": "2021-03-19T00:03:20.418368Z",
     "start_time": "2021-03-19T00:03:20.396381Z"
    },
    "code_folding": [
     0
    ],
    "hidden": true
   },
   "outputs": [],
   "source": [
    "#files\n",
    "file_sol = file_dir+\"solution-plane_wave-\"+suffix\n",
    "file_lv  = file_dir+\"load_vector-plane_wave-\"+suffix\n",
    "file_ind = file_dir+\"indirect_solution-plane_wave-\"+suffix\n",
    "print(file_sol)\n",
    "print(file_lv)\n",
    "print(file_ind)"
   ]
  },
  {
   "cell_type": "code",
   "execution_count": null,
   "metadata": {
    "ExecuteTime": {
     "end_time": "2021-03-19T00:03:23.671361Z",
     "start_time": "2021-03-19T00:03:22.209263Z"
    },
    "code_folding": [],
    "hidden": true
   },
   "outputs": [],
   "source": [
    "#metodo di Galerkin\n",
    "READ = False\n",
    "SAVE = True\n",
    "if os.path.exists(file_sol) and READ == True :\n",
    "    sol,Xnp,Valnp = bs.load(\"sol-BEM\",file_sol)\n",
    "    \n",
    "if os.path.exists(file_lv) and READ == True :\n",
    "    lv = bs.load(\"lv-BEM\",file_lv)\n",
    "    \n",
    "if os.path.exists(file_ind) and READ == True :\n",
    "    sol = bs.load(\"ind_sol-BEM\",file_ind)\n",
    "    \n",
    "else :\n",
    "    opts = {\"print\":True,\"ready_sol_BEM\":False,\"ready_lv_BEM\":False,\"ready_ind_sol_BEM\":False}\n",
    "    sol,Xnp,Valnp = bs.BEM(uinc=plane_wave,k=wavevector,XY=XY,opts=opts)\n",
    "    if SAVE == True :\n",
    "        bs.save(\"sol-BEM\",file_sol)\n",
    "        bs.save(\"lv-BEM\",file_lv)\n",
    "        bs.save(\"ind_sol-BEM\",file_ind)\n",
    "sol.head()"
   ]
  },
  {
   "cell_type": "code",
   "execution_count": null,
   "metadata": {
    "ExecuteTime": {
     "end_time": "2021-03-19T00:03:25.654138Z",
     "start_time": "2021-03-19T00:03:25.629152Z"
    },
    "code_folding": [
     0
    ],
    "hidden": true
   },
   "outputs": [],
   "source": [
    "#uinc\n",
    "Uinc = plane_wave(XY)#.reshape(Nx,Ny).transpose()\n",
    "total = Uinc + Valnp"
   ]
  },
  {
   "cell_type": "code",
   "execution_count": null,
   "metadata": {
    "ExecuteTime": {
     "end_time": "2021-03-19T00:03:35.281195Z",
     "start_time": "2021-03-19T00:03:27.538973Z"
    },
    "code_folding": [
     0
    ],
    "hidden": true
   },
   "outputs": [],
   "source": [
    "#grafico\n",
    "fig = plt.figure ( 0 , figsize = ( 15 , 10 ) )\n",
    "\n",
    "cmap = 'RdYlBu'\n",
    "\n",
    "    \n",
    "plot_sol(fig,331,df[\"x\"], df[\"y\"],XY[:,0],XY[:,1],Uinc.real,\"$u_{inc}$ : real\")\n",
    "plot_sol(fig,334,df[\"x\"], df[\"y\"],XY[:,0],XY[:,1],Uinc.imag,\"$u_{inc}$ : imag\")\n",
    "plot_sol(fig,337,df[\"x\"], df[\"y\"],XY[:,0],XY[:,1],np.absolute(Uinc),\"$u_{inc}$ : abs\")\n",
    "\n",
    "plot_sol(fig,332,df[\"x\"], df[\"y\"],XY[:,0],XY[:,1],Valnp.real,\"$u_{scat}$ : real\")\n",
    "plot_sol(fig,335,df[\"x\"], df[\"y\"],XY[:,0],XY[:,1],Valnp.imag,\"$u_{scat}$ : imag\")\n",
    "plot_sol(fig,338,df[\"x\"], df[\"y\"],XY[:,0],XY[:,1],np.absolute(Valnp),\"$u_{scat}$ : abs\")\n",
    "\n",
    "plot_sol(fig,333,df[\"x\"], df[\"y\"],XY[:,0],XY[:,1],total.real,\"$u_{tot}$ : real\")\n",
    "plot_sol(fig,336,df[\"x\"], df[\"y\"],XY[:,0],XY[:,1],total.imag,\"$u_{tot}$ : imag\")\n",
    "plot_sol(fig,339,df[\"x\"], df[\"y\"],XY[:,0],XY[:,1],np.absolute(total),\"$u_{tot}$ : abs\")\n",
    "\n",
    "plt.tight_layout()\n",
    "\n",
    "sol_png = file_dir+\"solution-n=6-random=False-\"+suffix_png\n",
    "plt.savefig(sol_png)\n",
    "\n",
    "plt.show()"
   ]
  },
  {
   "cell_type": "markdown",
   "metadata": {
    "hidden": true
   },
   "source": [
    "<a id=\"triangle-herglotz\"></a>\n",
    "## Herglotz"
   ]
  },
  {
   "cell_type": "markdown",
   "metadata": {
    "hidden": true
   },
   "source": [
    "Questa sezione è analoga alla [precedente](#triangle-planewave), con la sola differenza che ho scelto come onda incidente una funzione di Herglotz anzichè un'onda piana.\n",
    "\n",
    "La prima parte di questa sezione ha l'obiettivo di definire il kernel $g\\left(\\theta\\right)$ della funzione di Herglotz. Ho scelto (più o meno) lo stesso kernel presente nelle dispense in modo tale da confrontare i risultati\n",
    "\n",
    "$g\\left(\\theta\\right) = \\[   \\left\\{\n",
    "\\begin{array}{ll}\n",
    "      1 & \\pi/6 \\leq \\theta \\leq  \\pi/3 \\\\\n",
    "      0 & \\text{otherwise}\n",
    "\\end{array} \n",
    "\\right. \\]$\n",
    "\n",
    "Il kernel assume un valore pari ad $1$ soltanto in uno \"spicchio\" di $1/12$ di angolo giro: risulta comodo definire il kernel come una Bspline periodica (perché $\\theta$ è periodico), scalare, di grado polinomiale `P=0` (funzione costante a tratti) con `N=12` funzioni di base, con tutti i control points (scalari) nulli tranne il secondo, cioè quello con indice $1$. \n",
    "\n",
    "Il seguente grafico mostra la Bspline che rappresenta il kernel.\n",
    "Ho poi definito la funzione `Herglotz` che ha come parametri di input soltanto il punto in cui la si vuole valutare  (questa è la \"sostituta\" di quella che prima era la funzione `plane_wave`), che richiama però a suo volta la funzione `Herglotz_private`, che sarebbe una funzione di Herglotz generica che ha come input anche il vettor d'onda, il kernel (che sono però fissi per la funzione `Herglotz` perché lo sono anche nel nostro problema) e anche il numero di punti con cui si vuole valutare l'integrale in $\\theta$.\n",
    "Nel grafico successivo ho mostrato la parte reale, immaginaria e il modulo della funzione di Herglotz scelta.\n",
    "\n",
    "Le sottosezioni [Preparation](#triangle-herglotz-preparation) e [Solution](#triangle-herglotz-solution) sono analoghe a quelle della sezione [precedente](#triangle-planewave)."
   ]
  },
  {
   "cell_type": "markdown",
   "metadata": {
    "hidden": true
   },
   "source": [
    "### Kernel"
   ]
  },
  {
   "cell_type": "code",
   "execution_count": null,
   "metadata": {
    "code_folding": [
     0
    ],
    "hidden": true
   },
   "outputs": [],
   "source": [
    "#definisco la dimensionaità:\n",
    "sh = Bs.shape(1,1)\n",
    "#sh.show()\n",
    "\n",
    "#defiisco i knot vector\n",
    "P=0 #polinomial degree\n",
    "N=12 #base caridnality\n",
    "\n",
    "#\n",
    "#kv = Bs.uniform_open_kv(xmin,xmax,p=P,n=N)#Bs.knot_vector(P,N,v)\n",
    "#kv = periodic_kv(xmin,xmax,p=P,n=N)\n",
    "kv = Bs.periodic_kv(0.0,2*np.pi,p=P,n=N)\n",
    "#kv.show()\n",
    "\n",
    "#alloco la Bspline\n",
    "kernel = Bs.Bspline(sh,[kv],properties={\"periodic\":[True],\"dtype\":np.complex})\n",
    "#bs.show()\n",
    "\n",
    "kernel.clear_cp()\n",
    "kernel.set_cp(1,1)"
   ]
  },
  {
   "cell_type": "code",
   "execution_count": null,
   "metadata": {
    "code_folding": [
     0
    ],
    "hidden": true
   },
   "outputs": [],
   "source": [
    "#valutazione della Bspline\n",
    "NN = 1000\n",
    "T = np.linspace(0.0,2*np.pi,NN,endpoint=False)\n",
    "y   = kernel.evaluate(T)\n",
    "#df = pd.DataFrame(xy)\n",
    "#df = df.rename(columns={0:\"x\",1:\"y\"})"
   ]
  },
  {
   "cell_type": "code",
   "execution_count": null,
   "metadata": {
    "code_folding": [
     0
    ],
    "hidden": true
   },
   "outputs": [],
   "source": [
    "#grafico\n",
    "fig = plt.figure ( 0 , figsize = ( 15, 5 ) )\n",
    "\n",
    "#real\n",
    "ax = fig.add_subplot(111)#, projection='3d')\n",
    "ax.plot(T,y.real,color=\"blue\",label=\"real\")\n",
    "ax.plot(T,y.imag,color=\"green\",label=\"imag\")\n",
    "plt.xlabel(r\"$\\theta \\, \\left[ rad \\right]$\")\n",
    "plt.title(r\"Herglotz kernel $\\, g \\left( \\theta \\right) \\, : 1 \\, $ if $ \\,  - \\pi/6 < \\theta < \\pi/6$\")\n",
    "plt.grid(True)\n",
    "plt.legend()\n",
    "plt.show()"
   ]
  },
  {
   "cell_type": "code",
   "execution_count": null,
   "metadata": {
    "code_folding": [
     0
    ],
    "hidden": true
   },
   "outputs": [],
   "source": [
    "#Herglotz\n",
    "def Herglotz_private(xy,kernel,k,NN):\n",
    "    xy = np.asarray(xy)\n",
    "    theta = np.linspace(0.,2*np.pi,NN,endpoint=False)\n",
    "    cos = np.cos(theta)\n",
    "    sin = np.sin(theta)\n",
    "    g = kernel(theta)\n",
    "    phase = np.outer(xy[:,0],cos) + np.outer(xy[:,1],sin)\n",
    "    expo = np.exp(1.j*phase*k)\n",
    "    return np.dot(expo,g)/NN"
   ]
  },
  {
   "cell_type": "code",
   "execution_count": null,
   "metadata": {
    "code_folding": [
     0
    ],
    "hidden": true
   },
   "outputs": [],
   "source": [
    "#k = 30./4.\n",
    "NN = 100\n",
    "def Herglotz(xy): \n",
    "    return Herglotz_private(xy,kernel,wavevector,NN)"
   ]
  },
  {
   "cell_type": "code",
   "execution_count": null,
   "metadata": {
    "code_folding": [
     0
    ],
    "hidden": true
   },
   "outputs": [],
   "source": [
    "#punti XY\n",
    "Nx= int(xmax-xmin)*20\n",
    "Ny = int(ymax-ymin)*20\n",
    "x = np.linspace(xmin,xmax,Nx)\n",
    "y = np.linspace(ymin,ymax,Ny)\n",
    "X,Y = np.meshgrid(x,y)\n",
    "\n",
    "XY = np.zeros((Nx*Ny,2))\n",
    "XY[:,0] = X.reshape((Nx*Ny,))\n",
    "XY[:,1] = Y.reshape((Nx*Ny,))\n",
    "\n",
    "x = XY[:,0]\n",
    "y = XY[:,1]"
   ]
  },
  {
   "cell_type": "code",
   "execution_count": null,
   "metadata": {
    "hidden": true
   },
   "outputs": [],
   "source": [
    "Uinc = Herglotz(XY)"
   ]
  },
  {
   "cell_type": "code",
   "execution_count": null,
   "metadata": {
    "code_folding": [
     0
    ],
    "hidden": true
   },
   "outputs": [],
   "source": [
    "#grafico\n",
    "fig = plt.figure ( 0 , figsize = ( 15 , 5 ) )\n",
    "\n",
    "cmap = 'RdYlBu'\n",
    "\n",
    "ax = fig.add_subplot(131)\n",
    "#ax.plot(xB, yB, color= \"black\",label=\"Bspline\")\n",
    "sc = ax.scatter(x,y,c=Uinc.real,cmap=cmap)\n",
    "plt.colorbar(sc)\n",
    "ax.set_aspect('equal')\n",
    "plt.xlim(min(x),max(x))\n",
    "plt.ylim(min(y),max(y))\n",
    "plt.title(\"real\")\n",
    "\n",
    "ax = fig.add_subplot(132)\n",
    "#ax.plot(xB, yB, color= \"black\",label=\"Bspline\")\n",
    "sc = ax.scatter(x,y,c=Uinc.imag,cmap=cmap)\n",
    "plt.colorbar(sc)\n",
    "ax.set_aspect('equal')\n",
    "plt.xlim(min(x),max(x))\n",
    "plt.ylim(min(y),max(y))\n",
    "plt.title(\"imag\")\n",
    "\n",
    "ax = fig.add_subplot(133)\n",
    "#ax.plot(xB, yB, color= \"black\",label=\"Bspline\")\n",
    "sc = ax.scatter(x,y,c=np.absolute(Uinc),cmap=cmap)\n",
    "plt.colorbar(sc)\n",
    "ax.set_aspect('equal')\n",
    "plt.xlim(min(x),max(x))\n",
    "plt.ylim(min(y),max(y))\n",
    "plt.title(\"abs\")\n",
    "\n",
    "#ax = fig.add_subplot(224)\n",
    "##ax.plot(xB, yB, color= \"black\",label=\"Bspline\")\n",
    "#sc = ax.scatter(x,y,c=np.angle(Uinc),cmap=cmap)\n",
    "#plt.colorbar(sc)\n",
    "#ax.set_aspect('equal')\n",
    "#plt.xlim(min(x),max(x))\n",
    "#plt.ylim(min(y),max(y))\n",
    "#plt.title(\"phase\")\n",
    "\n",
    "plt.show()"
   ]
  },
  {
   "cell_type": "markdown",
   "metadata": {
    "hidden": true
   },
   "source": [
    "<a id=\"triangle-herglotz-preparation\"></a>\n",
    "### Preparation"
   ]
  },
  {
   "cell_type": "code",
   "execution_count": null,
   "metadata": {
    "ExecuteTime": {
     "end_time": "2021-03-19T10:26:35.768317Z",
     "start_time": "2021-03-19T10:26:34.844889Z"
    },
    "code_folding": [
     0
    ],
    "hidden": true
   },
   "outputs": [],
   "source": [
    "#punti XY\n",
    "Nx= int(xmax-xmin)*20\n",
    "Ny = int(ymax-ymin)*20\n",
    "x = np.linspace(xmin,xmax,Nx)\n",
    "y = np.linspace(ymin,ymax,Ny)\n",
    "X,Y = np.meshgrid(x,y)\n",
    "\n",
    "XY0 = np.zeros((Nx*Ny,2))\n",
    "XY0[:,0] = X.reshape((Nx*Ny,))\n",
    "XY0[:,1] = Y.reshape((Nx*Ny,))\n",
    "\n",
    "internal = bs.internal_points(XY=XY0,NN=1000,xmin=0.,xmax=1.,opts=None)\n",
    "XY = XY0[ np.logical_not(internal) ]"
   ]
  },
  {
   "cell_type": "code",
   "execution_count": null,
   "metadata": {
    "code_folding": [
     0
    ],
    "hidden": true
   },
   "outputs": [],
   "source": [
    "#valutazione della Bspline\n",
    "NN = 1000\n",
    "T = np.linspace(xminBs,xmaxBs,NN,endpoint=True)\n",
    "xy   = bs.evaluate(T)\n",
    "uinc = Herglotz(xy)"
   ]
  },
  {
   "cell_type": "code",
   "execution_count": null,
   "metadata": {
    "ExecuteTime": {
     "end_time": "2021-03-19T10:26:31.492960Z",
     "start_time": "2021-03-19T10:26:29.462209Z"
    },
    "code_folding": [
     0
    ],
    "hidden": true
   },
   "outputs": [],
   "source": [
    "#grafico\n",
    "fig = plt.figure ( 0 , figsize = ( 15, 5 ) )\n",
    "\n",
    "#\n",
    "#s = 0.2\n",
    "ax = fig.add_subplot(121, projection='3d')\n",
    "ax.plot(xy[:,0], xy[:,1],uinc.real,color=\"blue\",label=\"real\")\n",
    "ax.plot(xy[:,0], xy[:,1],uinc.imag,color=\"green\",label=\"imag\")\n",
    "ax.plot(xy[:,0], xy[:,1],0.0,color=\"red\",label=\"Bspline\")\n",
    "plt.grid(True)\n",
    "plt.legend()\n",
    "\n",
    "#\n",
    "ax = fig.add_subplot(122)#, projection='3d')\n",
    "ax.plot(T,uinc.real,color=\"blue\",label=\"real\")\n",
    "ax.plot(T,uinc.imag,color=\"green\",label=\"imag\")\n",
    "plt.grid(True)\n",
    "plt.legend()\n",
    "\n",
    "#\n",
    "#ax = fig.add_subplot(133)#, projection='3d')\n",
    "#ax.plot(T,somma.real,color=\"blue\",label=\"real\")\n",
    "#ax.plot(T,somma.imag,color=\"green\",label=\"imag\")\n",
    "#plt.grid(True)\n",
    "#plt.legend()\n",
    "\n",
    "plt.show()"
   ]
  },
  {
   "cell_type": "code",
   "execution_count": null,
   "metadata": {
    "ExecuteTime": {
     "end_time": "2021-03-19T10:27:25.928898Z",
     "start_time": "2021-03-19T10:27:22.730894Z"
    },
    "code_folding": [
     0
    ],
    "hidden": true
   },
   "outputs": [],
   "source": [
    "#grafico\n",
    "fig = plt.figure ( 0 , figsize = ( 15 , 5 ) )\n",
    "\n",
    "Uinc = Herglotz(XY)\n",
    "\n",
    "cmap = 'RdYlBu'\n",
    "    \n",
    "plot(fig,121,df[\"x\"], df[\"y\"],XY[:,0],XY[:,1],Uinc.real,\"$u_{inc}$ : real\",cmap)\n",
    "plot(fig,122,df[\"x\"], df[\"y\"],XY[:,0],XY[:,1],Uinc.imag,\"$u_{inc}$ : imag\",cmap)\n",
    "\n",
    "plt.show()"
   ]
  },
  {
   "cell_type": "markdown",
   "metadata": {
    "hidden": true
   },
   "source": [
    "<a id=\"triangle-herglotz-solution\"></a>\n",
    "### Solution"
   ]
  },
  {
   "cell_type": "code",
   "execution_count": null,
   "metadata": {
    "ExecuteTime": {
     "end_time": "2021-03-19T08:38:52.012879Z",
     "start_time": "2021-03-19T08:38:51.991892Z"
    },
    "code_folding": [
     0
    ],
    "hidden": true
   },
   "outputs": [],
   "source": [
    "#files\n",
    "file_sol = file_dir+\"solution-Herglotz-\"+suffix\n",
    "file_lv  = file_dir+\"load_vector-Herglotz-\"+suffix\n",
    "file_ind = file_dir+\"indirect_solution-Herglotz-\"+suffix\n",
    "print(file_sol)\n",
    "print(file_lv)\n",
    "print(file_ind)"
   ]
  },
  {
   "cell_type": "code",
   "execution_count": null,
   "metadata": {
    "ExecuteTime": {
     "end_time": "2021-03-19T08:39:54.239910Z",
     "start_time": "2021-03-19T08:39:51.425502Z"
    },
    "code_folding": [
     0
    ],
    "hidden": true
   },
   "outputs": [],
   "source": [
    "#metodo di Galerkin\n",
    "READ = False\n",
    "SAVE = True\n",
    "if os.path.exists(file_sol) and READ == True :\n",
    "    sol,Xnp,Valnp = bs.load(\"sol-BEM\",file_sol)\n",
    "    \n",
    "if os.path.exists(file_lv) and READ == True :\n",
    "    lv = bs.load(\"lv-BEM\",file_lv)\n",
    "    \n",
    "if os.path.exists(file_ind) and READ == True :\n",
    "    sol = bs.load(\"ind_sol-BEM\",file_ind)\n",
    "    \n",
    "else :\n",
    "    opts = {\"print\":True,\"ready_sol_BEM\":False,\"ready_lv_BEM\":False,\"ready_ind_sol_BEM\":False}\n",
    "    sol,Xnp,Valnp = bs.BEM(uinc=Herglotz,k=wavevector,XY=XY,opts=opts)\n",
    "    if SAVE == True :\n",
    "        bs.save(\"sol-BEM\",file_sol)\n",
    "        bs.save(\"lv-BEM\",file_lv)\n",
    "        bs.save(\"ind_sol-BEM\",file_ind)\n",
    "sol.head()"
   ]
  },
  {
   "cell_type": "code",
   "execution_count": null,
   "metadata": {
    "code_folding": [
     0
    ],
    "hidden": true
   },
   "outputs": [],
   "source": [
    "#uinc\n",
    "Uinc = Herglotz(XY)#.reshape(Nx,Ny).transpose()\n",
    "total = Uinc + Valnp"
   ]
  },
  {
   "cell_type": "code",
   "execution_count": null,
   "metadata": {
    "ExecuteTime": {
     "end_time": "2021-03-19T08:41:02.586654Z",
     "start_time": "2021-03-19T08:40:53.075530Z"
    },
    "code_folding": [
     0
    ],
    "hidden": true
   },
   "outputs": [],
   "source": [
    "#grafico\n",
    "fig = plt.figure ( 0 , figsize = ( 15 , 10 ) )\n",
    "\n",
    "cmap = 'RdYlBu'\n",
    "\n",
    "    \n",
    "plot_sol(fig,331,df[\"x\"], df[\"y\"],XY[:,0],XY[:,1],Uinc.real,\"$u_{inc}$ : real\")\n",
    "plot_sol(fig,334,df[\"x\"], df[\"y\"],XY[:,0],XY[:,1],Uinc.imag,\"$u_{inc}$ : imag\")\n",
    "plot_sol(fig,337,df[\"x\"], df[\"y\"],XY[:,0],XY[:,1],np.absolute(Uinc),\"$u_{inc}$ : abs\")\n",
    "\n",
    "plot_sol(fig,332,df[\"x\"], df[\"y\"],XY[:,0],XY[:,1],Valnp.real,\"$u_{scat}$ : real\")\n",
    "plot_sol(fig,335,df[\"x\"], df[\"y\"],XY[:,0],XY[:,1],Valnp.imag,\"$u_{scat}$ : imag\")\n",
    "plot_sol(fig,338,df[\"x\"], df[\"y\"],XY[:,0],XY[:,1],np.absolute(Valnp),\"$u_{scat}$ : abs\")\n",
    "\n",
    "plot_sol(fig,333,df[\"x\"], df[\"y\"],XY[:,0],XY[:,1],total.real,\"$u_{tot}$ : real\")\n",
    "plot_sol(fig,336,df[\"x\"], df[\"y\"],XY[:,0],XY[:,1],total.imag,\"$u_{tot}$ : imag\")\n",
    "plot_sol(fig,339,df[\"x\"], df[\"y\"],XY[:,0],XY[:,1],np.absolute(total),\"$u_{tot}$ : abs\")\n",
    "\n",
    "plt.tight_layout()\n",
    "\n",
    "sol_png = file_dir+\"solution-n=6-random=False-\"+suffix_png\n",
    "plt.savefig(sol_png)\n",
    "\n",
    "plt.show()"
   ]
  },
  {
   "cell_type": "markdown",
   "metadata": {
    "heading_collapsed": true
   },
   "source": [
    "# Circle"
   ]
  },
  {
   "cell_type": "markdown",
   "metadata": {
    "hidden": true
   },
   "source": [
    "Questa sezione è analoga a [Triangle](#Triangle), l'unica aggiunta sono le sottosezioni *Analytic solution* per l'[onda piana](#analytic-planewave) e per la funzione di [herglotz](#analytic-herglotz): ho inserito dei commenti solo nella parte relativa all'[onda piana](#analytic-planewave), quella con la funzione di [herglotz](#analytic-herglotz) è analoga."
   ]
  },
  {
   "cell_type": "markdown",
   "metadata": {
    "hidden": true
   },
   "source": [
    "## Definition"
   ]
  },
  {
   "cell_type": "code",
   "execution_count": null,
   "metadata": {
    "ExecuteTime": {
     "end_time": "2021-03-19T10:22:02.503614Z",
     "start_time": "2021-03-19T10:22:02.482636Z"
    },
    "code_folding": [],
    "hidden": true
   },
   "outputs": [],
   "source": [
    "#definissco il vettor d'onda\n",
    "k_in = 30/4*np.asarray([np.sqrt(3.)/2.,0.5])\n",
    "wavevector = 7.5#np.sqrt(np.sum(np.power(k_in,2.0)))\n",
    "print(\"w:\",wavevector)\n",
    "print(\"h:\",np.pi/(5*wavevector))\n",
    "I = np.complex(0,1)\n",
    "\n",
    "xmin = -3\n",
    "xmax = 3\n",
    "ymin = -3\n",
    "ymax = 3"
   ]
  },
  {
   "cell_type": "code",
   "execution_count": null,
   "metadata": {
    "ExecuteTime": {
     "end_time": "2021-03-19T10:22:03.774426Z",
     "start_time": "2021-03-19T10:22:03.737449Z"
    },
    "code_folding": [
     0
    ],
    "hidden": true
   },
   "outputs": [],
   "source": [
    "#definisco la dimensionaità:\n",
    "sh = Bs.shape(1,2)\n",
    "#sh.show()\n",
    "\n",
    "#defiisco i knot vector\n",
    "P=1 #polinomial degree\n",
    "N=100 #base caridnality\n",
    "xminBs = 0.0\n",
    "xmaxBs = 1.0\n",
    "\n",
    "\n",
    "#\n",
    "#kv = Bs.uniform_open_kv(xmin,xmax,p=P,n=N)#Bs.knot_vector(P,N,v)\n",
    "#kv = periodic_kv(xmin,xmax,p=P,n=N)\n",
    "kv = Bs.periodic_kv(xminBs,xmaxBs,p=P,n=N)\n",
    "#kv.show()\n",
    "\n",
    "#alloco la Bspline\n",
    "bs = Bs.Bspline(sh,[kv],properties={\"periodic\":[True]})"
   ]
  },
  {
   "cell_type": "code",
   "execution_count": null,
   "metadata": {
    "ExecuteTime": {
     "end_time": "2021-03-19T10:22:46.925997Z",
     "start_time": "2021-03-19T10:22:46.903011Z"
    },
    "code_folding": [
     0
    ],
    "hidden": true
   },
   "outputs": [],
   "source": [
    "#files\n",
    "file_dir = \"files/BEM/circle/\"\n",
    "suffix = \"P=\"+str(P)+\"-N=\"+str(N)+\"-k=\"+str(wavevector)+\".csv\"\n",
    "suffix_png = \"P=\"+str(P)+\"-N=\"+str(N)+\"-k=\"+str(wavevector)+\".png\""
   ]
  },
  {
   "cell_type": "markdown",
   "metadata": {
    "hidden": true
   },
   "source": [
    "## Geometry"
   ]
  },
  {
   "cell_type": "code",
   "execution_count": null,
   "metadata": {
    "ExecuteTime": {
     "end_time": "2021-03-19T10:22:46.955978Z",
     "start_time": "2021-03-19T10:22:46.932993Z"
    },
    "code_folding": [
     0
    ],
    "hidden": true
   },
   "outputs": [],
   "source": [
    "#geometria\n",
    "x0 = 0.0\n",
    "y0 = 0.0\n",
    "a = 1.0\n",
    "b = 1.0\n",
    "radius = 1.0\n",
    "def func(t):\n",
    "    #print(cpz)\n",
    "    cpx = a*np.cos(2*np.pi*t)+x0#np.random.rand(N)\n",
    "    cpy = b*np.sin(2*np.pi*t)+y0#np.random.rand(N)\n",
    "    out = np.zeros(shape=(len(t),2))\n",
    "    for i in range(len(t)):\n",
    "        out[i,0] = cpx[i]\n",
    "        out[i,1] = cpy[i]\n",
    "    return out"
   ]
  },
  {
   "cell_type": "code",
   "execution_count": null,
   "metadata": {
    "ExecuteTime": {
     "end_time": "2021-03-19T10:22:51.472951Z",
     "start_time": "2021-03-19T10:22:51.449965Z"
    },
    "code_folding": [
     0
    ],
    "hidden": true
   },
   "outputs": [],
   "source": [
    "#ATTENZIONE: mi servono dei punti distribuiti in modo uniforme\n",
    "# per come ho costruito func so che\n",
    "# func(0.) = func(1.)\n",
    "# quindi genero un punto in più\n",
    "t = np.linspace(0,1,N+1,endpoint=True)#[0:-2]\n",
    "cp = func(t)\n",
    "for i in range(len(t)):\n",
    "    #bs._cp[i] = cp[i]\n",
    "    bs.set_cp(i,cp[i])\n",
    "cpx = cp[:,0]\n",
    "cpy = cp[:,1]"
   ]
  },
  {
   "cell_type": "code",
   "execution_count": null,
   "metadata": {
    "ExecuteTime": {
     "end_time": "2021-03-19T10:23:02.045619Z",
     "start_time": "2021-03-19T10:23:01.480917Z"
    },
    "code_folding": [
     0
    ],
    "hidden": true
   },
   "outputs": [],
   "source": [
    "#valutazione della Bspline\n",
    "NN = 1000\n",
    "T = np.linspace(xminBs,xmaxBs,NN,endpoint=True)\n",
    "xy   = bs.evaluate(T)\n",
    "df = pd.DataFrame(xy)\n",
    "df = df.rename(columns={0:\"x\",1:\"y\"})"
   ]
  },
  {
   "cell_type": "code",
   "execution_count": null,
   "metadata": {
    "ExecuteTime": {
     "end_time": "2021-03-19T10:23:03.264658Z",
     "start_time": "2021-03-19T10:23:02.055614Z"
    },
    "code_folding": [
     0
    ],
    "hidden": true
   },
   "outputs": [],
   "source": [
    "#grafico\n",
    "fig = plt.figure ( 0 , figsize = ( 15, 5 ) )\n",
    "\n",
    "#converto in dataframe    \n",
    "ax = fig.add_subplot(131)\n",
    "#plt.plot(cpx,cpy,color=\"green\",label=\"cp\",linestyle=\"--\")\n",
    "plt.scatter(cpx,cpy,color=\"green\",label=\"cp\")\n",
    "#plt.scatter(df[\"x\"], df[\"y\"], color= \"red\",label=\"Bspline\")\n",
    "plt.grid()\n",
    "plt.legend()\n",
    "ax.set_aspect('equal')\n",
    "\n",
    "ax = fig.add_subplot(132)\n",
    "#plt.plot(cpx,cpy,color=\"green\",label=\"cp\",linestyle=\"--\")\n",
    "#plt.scatter(cpx,cpy,color=\"green\",label=\"cp\")\n",
    "plt.scatter(df[\"x\"], df[\"y\"], color= \"red\",label=\"Bspline\")\n",
    "plt.grid()\n",
    "plt.legend()\n",
    "ax.set_aspect('equal')\n",
    "\n",
    "#real\n",
    "ax = fig.add_subplot(133)#, projection='3d')\n",
    "ax.plot(T,df[\"x\"],color=\"blue\",label=\"x\")\n",
    "ax.plot(T,df[\"y\"],color=\"green\",label=\"y\")\n",
    "#ax.plot(df[\"t\"],np.real(df[\"trace\"]),color=\"red\",label=\"trace\")\n",
    "#plt.title(\"real\")\n",
    "plt.grid(True)\n",
    "plt.legend()\n",
    "plt.show()"
   ]
  },
  {
   "cell_type": "code",
   "execution_count": null,
   "metadata": {
    "hidden": true
   },
   "outputs": [],
   "source": [
    "filename = file_dir+\"control_points-\"+suffix\n",
    "a = bs.save(\"cp\",filename)\n",
    "#bs.load(\"cp\",filename)"
   ]
  },
  {
   "cell_type": "markdown",
   "metadata": {
    "hidden": true
   },
   "source": [
    "## Stiffness Matrix"
   ]
  },
  {
   "cell_type": "code",
   "execution_count": null,
   "metadata": {
    "ExecuteTime": {
     "start_time": "2021-03-19T10:29:02.046Z"
    },
    "code_folding": [
     0
    ],
    "hidden": true,
    "scrolled": true
   },
   "outputs": [],
   "source": [
    "#stiffness matrix\n",
    "READ = True\n",
    "SAVE = False\n",
    "file = file_dir+\"stiffness_matrix-n=6-\"+suffix\n",
    "print(file)\n",
    "\n",
    "if os.path.exists(file) and READ == True :\n",
    "    sm = bs.load(\"sm-BEM\",file)\n",
    "else :\n",
    "    sm,out = bs.stiffness_matrix_BEM(k=wavevector,\\\n",
    "                                 opts={\"print\":True,\"N\":[6],\"ready_sm_BEM\":False,\"return_both\":True})\n",
    "    if SAVE == True :\n",
    "        bs.save(\"sm-BEM\",file)\n",
    "sm.head()"
   ]
  },
  {
   "cell_type": "code",
   "execution_count": null,
   "metadata": {
    "code_folding": [
     0
    ],
    "hidden": true
   },
   "outputs": [],
   "source": [
    "#grafico\n",
    "file_png = file_dir+\"stiffness_matrix-n=6-random=False-\"+suffix_png\n",
    "plot_matrix(sm,file_png)"
   ]
  },
  {
   "cell_type": "markdown",
   "metadata": {
    "hidden": true
   },
   "source": [
    "## Single Layer Potential basis"
   ]
  },
  {
   "cell_type": "code",
   "execution_count": null,
   "metadata": {
    "code_folding": [
     0
    ],
    "hidden": true
   },
   "outputs": [],
   "source": [
    "#punti XY\n",
    "Nx= int(xmax-xmin)*10\n",
    "Ny = int(ymax-ymin)*10\n",
    "x = np.linspace(xmin,xmax,Nx)\n",
    "y = np.linspace(ymin,ymax,Ny)\n",
    "X,Y = np.meshgrid(x,y)\n",
    "\n",
    "XY0 = np.zeros((Nx*Ny,2))\n",
    "XY0[:,0] = X.reshape((Nx*Ny,))\n",
    "XY0[:,1] = Y.reshape((Nx*Ny,))\n",
    "\n",
    "internal = bs.internal_points(XY=XY0,NN=1000,xmin=0.,xmax=1.,opts=None)\n",
    "XY = XY0[ np.logical_not(internal) ]\n",
    "print(len(XY))#,\" = \",len(XYslp)/3600,\"h\")\n",
    "\n",
    "#tolgo elementi interni\n",
    "#radius = np.asarray([np.sqrt(np.sum(np.power(i,2.0))) for i in XY])\n",
    "#XYslp = XY#[radius > 1.0]\n",
    "#print(len(XYslp),\" = \",len(XYslp)*3/3600,\"h\")"
   ]
  },
  {
   "cell_type": "code",
   "execution_count": null,
   "metadata": {
    "ExecuteTime": {
     "end_time": "2021-03-19T01:16:01.683539Z",
     "start_time": "2021-03-18T20:57:18.545231Z"
    },
    "code_folding": [
     0
    ],
    "hidden": true
   },
   "outputs": [],
   "source": [
    "#single layer potential per le funzioni di base\n",
    "READ = True\n",
    "SAVE = True\n",
    "\n",
    "file = file_dir+\"single_layer_potential-\"+suffix\n",
    "print(file)\n",
    "\n",
    "if os.path.exists(file) and READ == True :\n",
    "    slp = bs.load(\"slp-BEM\",file)\n",
    "#else :\n",
    "\n",
    "# I can update it adding some  points\n",
    "slp = bs.single_layer_potential_basis_BEM(XY=XY,k=wavevector,\\\n",
    "                                              opts={\"print\":True,\"N\":[6]})\n",
    "if SAVE == True :\n",
    "    bs.save(\"slp-BEM\",file)\n",
    "    \n",
    "slp.head()"
   ]
  },
  {
   "cell_type": "markdown",
   "metadata": {
    "hidden": true
   },
   "source": [
    "## Plane wave"
   ]
  },
  {
   "cell_type": "markdown",
   "metadata": {
    "hidden": true
   },
   "source": [
    "### Preparation"
   ]
  },
  {
   "cell_type": "code",
   "execution_count": null,
   "metadata": {
    "ExecuteTime": {
     "end_time": "2021-03-19T10:26:35.768317Z",
     "start_time": "2021-03-19T10:26:34.844889Z"
    },
    "code_folding": [
     0
    ],
    "hidden": true
   },
   "outputs": [],
   "source": [
    "#punti XY\n",
    "Nx= int(xmax-xmin)*10\n",
    "Ny = int(ymax-ymin)*10\n",
    "x = np.linspace(xmin,xmax,Nx)\n",
    "y = np.linspace(ymin,ymax,Ny)\n",
    "X,Y = np.meshgrid(x,y)\n",
    "\n",
    "XY0 = np.zeros((Nx*Ny,2))\n",
    "XY0[:,0] = X.reshape((Nx*Ny,))\n",
    "XY0[:,1] = Y.reshape((Nx*Ny,))\n",
    "\n",
    "internal = bs.internal_points(XY=XY0,NN=1000,xmin=0.,xmax=1.,opts=None)\n",
    "XY = XY0[ np.logical_not(internal) ]"
   ]
  },
  {
   "cell_type": "code",
   "execution_count": null,
   "metadata": {
    "ExecuteTime": {
     "end_time": "2021-03-19T10:23:32.584956Z",
     "start_time": "2021-03-19T10:23:32.561968Z"
    },
    "code_folding": [
     0
    ],
    "hidden": true
   },
   "outputs": [],
   "source": [
    "#plane_wave\n",
    "def plane_wave(xx): # soluzione\n",
    "    xx = np.asarray(xx)\n",
    "    theta = np.dot(xx,k_in)\n",
    "    return np.exp(I*theta)"
   ]
  },
  {
   "cell_type": "code",
   "execution_count": null,
   "metadata": {
    "code_folding": [],
    "hidden": true
   },
   "outputs": [],
   "source": [
    "#valutazione della Bspline\n",
    "NN = 1000\n",
    "T = np.linspace(xminBs,xmaxBs,NN,endpoint=True)\n",
    "xy   = bs.evaluate(T)\n",
    "uinc = plane_wave(xy)"
   ]
  },
  {
   "cell_type": "code",
   "execution_count": null,
   "metadata": {
    "ExecuteTime": {
     "end_time": "2021-03-19T10:26:31.492960Z",
     "start_time": "2021-03-19T10:26:29.462209Z"
    },
    "code_folding": [],
    "hidden": true
   },
   "outputs": [],
   "source": [
    "#grafico\n",
    "fig = plt.figure ( 0 , figsize = ( 15, 5 ) )\n",
    "\n",
    "#\n",
    "#s = 0.2\n",
    "ax = fig.add_subplot(121, projection='3d')\n",
    "ax.plot(xy[:,0], xy[:,1],uinc.real,color=\"blue\",label=\"real\")\n",
    "ax.plot(xy[:,0], xy[:,1],uinc.imag,color=\"green\",label=\"imag\")\n",
    "ax.plot(xy[:,0], xy[:,1],0.0,color=\"red\",label=\"Bspline\")\n",
    "plt.grid(True)\n",
    "plt.legend()\n",
    "\n",
    "#\n",
    "ax = fig.add_subplot(122)#, projection='3d')\n",
    "ax.plot(T,uinc.real,color=\"blue\",label=\"real\")\n",
    "ax.plot(T,uinc.imag,color=\"green\",label=\"imag\")\n",
    "plt.grid(True)\n",
    "plt.legend()\n",
    "\n",
    "#Mie series\n",
    "\n",
    "\n",
    "#\n",
    "#ax = fig.add_subplot(133)#, projection='3d')\n",
    "#ax.plot(T,somma.real,color=\"blue\",label=\"real\")\n",
    "#ax.plot(T,somma.imag,color=\"green\",label=\"imag\")\n",
    "#plt.grid(True)\n",
    "#plt.legend()\n",
    "\n",
    "plt.show()"
   ]
  },
  {
   "cell_type": "code",
   "execution_count": null,
   "metadata": {
    "ExecuteTime": {
     "end_time": "2021-03-19T10:27:25.928898Z",
     "start_time": "2021-03-19T10:27:22.730894Z"
    },
    "code_folding": [
     0
    ],
    "hidden": true
   },
   "outputs": [],
   "source": [
    "#uinc\n",
    "fig = plt.figure ( 0 , figsize = ( 15 , 5 ) )\n",
    "\n",
    "Uinc = plane_wave(XY)\n",
    "\n",
    "cmap = 'RdYlBu'\n",
    "    \n",
    "plot(fig,121,df[\"x\"], df[\"y\"],XY[:,0],XY[:,1],Uinc.real,\"$u_{inc}$ : real\",cmap)\n",
    "plot(fig,122,df[\"x\"], df[\"y\"],XY[:,0],XY[:,1],Uinc.imag,\"$u_{inc}$ : imag\",cmap)\n",
    "\n",
    "plt.show()"
   ]
  },
  {
   "cell_type": "markdown",
   "metadata": {
    "hidden": true
   },
   "source": [
    "### Solution"
   ]
  },
  {
   "cell_type": "code",
   "execution_count": null,
   "metadata": {
    "ExecuteTime": {
     "end_time": "2021-03-19T08:39:54.239910Z",
     "start_time": "2021-03-19T08:39:51.425502Z"
    },
    "code_folding": [
     0
    ],
    "hidden": true
   },
   "outputs": [],
   "source": [
    "#metodo di Galerkin\n",
    "READ = True\n",
    "SAVE = False\n",
    "\n",
    "#\n",
    "file_sol = file_dir+\"solution-plane_wave-\"+suffix\n",
    "file_lv  = file_dir+\"load_vector-plane_wave-\"+suffix\n",
    "file_ind = file_dir+\"indirect_solution-plane_wave-\"+suffix\n",
    "print(file_sol)\n",
    "print(file_lv)\n",
    "print(file_ind)\n",
    "\n",
    "if os.path.exists(file_sol) and READ == True :\n",
    "    sol,Xnp,Valnp = bs.load(\"sol-BEM\",file_sol)\n",
    "    \n",
    "if os.path.exists(file_lv) and READ == True :\n",
    "    lv = bs.load(\"lv-BEM\",file_lv)\n",
    "    \n",
    "if os.path.exists(file_ind) and READ == True :\n",
    "    sol = bs.load(\"ind_sol-BEM\",file_ind)\n",
    "    \n",
    "else :\n",
    "    opts = {\"print\":True,\"ready_sol_BEM\":False,\"ready_lv_BEM\":False,\"ready_ind_sol_BEM\":False}\n",
    "    sol,Xnp,Valnp = bs.BEM(uinc=plane_wave,k=wavevector,XY=XY,opts=opts)\n",
    "    if SAVE == True :\n",
    "        bs.save(\"sol-BEM\",file_sol)\n",
    "        bs.save(\"lv-BEM\",file_lv)\n",
    "        bs.save(\"ind_sol-BEM\",file_ind)\n",
    "sol.head()"
   ]
  },
  {
   "cell_type": "code",
   "execution_count": null,
   "metadata": {
    "code_folding": [
     0
    ],
    "hidden": true
   },
   "outputs": [],
   "source": [
    "#uinc\n",
    "Uinc = plane_wave(XY)#.reshape(Nx,Ny).transpose()\n",
    "total = Uinc + Valnp"
   ]
  },
  {
   "cell_type": "code",
   "execution_count": null,
   "metadata": {
    "ExecuteTime": {
     "end_time": "2021-03-19T08:41:02.586654Z",
     "start_time": "2021-03-19T08:40:53.075530Z"
    },
    "code_folding": [
     0
    ],
    "hidden": true
   },
   "outputs": [],
   "source": [
    "#grafico\n",
    "fig = plt.figure ( 0 , figsize = ( 15 , 10 ) )\n",
    "\n",
    "cmap = 'RdYlBu'\n",
    "\n",
    "   \n",
    "plot_sol(fig,331,df[\"x\"], df[\"y\"],XY[:,0],XY[:,1],Uinc.real,\"$u_{inc}$ : real\")\n",
    "plot_sol(fig,334,df[\"x\"], df[\"y\"],XY[:,0],XY[:,1],Uinc.imag,\"$u_{inc}$ : imag\")\n",
    "plot_sol(fig,337,df[\"x\"], df[\"y\"],XY[:,0],XY[:,1],np.absolute(Uinc),\"$u_{inc}$ : abs\")\n",
    "\n",
    "plot_sol(fig,332,df[\"x\"], df[\"y\"],XY[:,0],XY[:,1],Valnp.real,\"$u_{scat}$ : real\")\n",
    "plot_sol(fig,335,df[\"x\"], df[\"y\"],XY[:,0],XY[:,1],Valnp.imag,\"$u_{scat}$ : imag\")\n",
    "plot_sol(fig,338,df[\"x\"], df[\"y\"],XY[:,0],XY[:,1],np.absolute(Valnp),\"$u_{scat}$ : abs\")\n",
    "\n",
    "plot_sol(fig,333,df[\"x\"], df[\"y\"],XY[:,0],XY[:,1],total.real,\"$u_{tot}$ : real\")\n",
    "plot_sol(fig,336,df[\"x\"], df[\"y\"],XY[:,0],XY[:,1],total.imag,\"$u_{tot}$ : imag\")\n",
    "plot_sol(fig,339,df[\"x\"], df[\"y\"],XY[:,0],XY[:,1],np.absolute(total),\"$u_{tot}$ : abs\")\n",
    "\n",
    "plt.tight_layout()\n",
    "\n",
    "sol_png = file_dir+\"solution-n=6-random=False-\"+suffix_png\n",
    "plt.savefig(sol_png)\n",
    "\n",
    "plt.show()"
   ]
  },
  {
   "cell_type": "markdown",
   "metadata": {
    "hidden": true
   },
   "source": [
    "<a id=\"analytic-planewave\"></a>\n",
    "### Analytic solution "
   ]
  },
  {
   "cell_type": "markdown",
   "metadata": {
    "hidden": true
   },
   "source": [
    "Se $\\Gamma$ è una circonferenza è possibile calcolare analiticamente la soluzione cercata: nel file `FFT` ci sono due funzioni, di cui una si chiama `analytic_solution_circle` e ha comme obiettivo proprio quello di calcolare la soluzione analitica $u^{scat}$, i parametri di ingresso di questa funzione sono:\n",
    "- un vettore `uinc` contenente i valori assunti dalla funzione incidente su $\\Gamma$\n",
    "- i punti `XY` in cui voglio calcolare la soluzione analitica\n",
    "- `wmin` e `wmax`: per calcolare la soluzione analitica è necessatio calcolare la trasformata di Fourier di `uinc`, questi due parametri impongono di andare a considerare solo un range di frequenze per calcolare la soluzione analitica\n",
    "- `radius`: raggio della circonferenza\n",
    "- `wavevector`: vettor'onda del problema\n",
    "- alcuni parametri aggiunti opzionali\n",
    "\n",
    "Di seguito grafico il valore che l'onda incidente assume su $\\Gamma$.\n",
    "Si noti che l'asse delle $x$ è ristretto tra $0$ e $1$ perché $\\Gamma$ è parametrizzato da una Bspline con dominio $\\left[0,1\\right]$: dato il valore che $u^{inc}$ assume in un punto qualunque di $\\Gamma$ sono in grado di risalive al valore di $t\\in\\left[0,1\\right]$ corrispondente. Nel grafico di destra è mostrata invece la trasformata di Fourier della funzione incidente, mentre nel grafico in basso uno \"zoom\" di questa in modo tale da vedere meglio i  modi principali della trasformata in modo da poi impostare `wmin` e `wmax` adeguatamente.\n",
    "\n",
    "Successivamente vado a richiamare la funzione `analytic_solution_circle` e ne stampo a schermo parte dell'output.\n",
    "\n",
    "Vado poi a graficare la soluzione $u^{Galerkin}$ calcolata numericamente nelle sezioni precedenti, quella calcolata analiticamente $u^{Analytic}$ e la loro differenza. \n",
    "\n",
    "Il grafico mostrato risulta però poco significativo se preso a sè: più avanti nel notebook eseguirò uno studio più dettagliato della \"differenza\" tra la soluzione analitica e quella numerica: si veda [Convergence](#Convergence)"
   ]
  },
  {
   "cell_type": "code",
   "execution_count": null,
   "metadata": {
    "code_folding": [
     0
    ],
    "hidden": true
   },
   "outputs": [],
   "source": [
    "#\n",
    "NN = 1000\n",
    "T = np.linspace(xminBs,xmaxBs,NN,endpoint=True)\n",
    "xy   = bs.evaluate(T)\n",
    "uinc = plane_wave(xy)"
   ]
  },
  {
   "cell_type": "code",
   "execution_count": null,
   "metadata": {
    "code_folding": [
     0
    ],
    "hidden": true
   },
   "outputs": [],
   "source": [
    "#\n",
    "fft = esFFT.FFT(uinc,opts={\"plot\":True})\n",
    "\n",
    "#\n",
    "fig = plt.figure ( 0 , figsize = ( 15 , 5 ) )\n",
    "ax = fig.add_subplot(111)\n",
    "plt.plot(fft.index, np.real(fft[\"fft\"]),color=\"blue\" ,label=\"real\")#,marker=\"+\")\n",
    "plt.plot(fft.index, np.imag(fft[\"fft\"]),color=\"green\",label=\"imag\")#,marker=\"x\")\n",
    "plt.xlim(-20,20)\n",
    "plt.legend()\n",
    "plt.grid(True)\n",
    "plt.title(\"Fourier Transform\")\n",
    "plt.show()\n",
    "#\n",
    "fft.head()"
   ]
  },
  {
   "cell_type": "code",
   "execution_count": null,
   "metadata": {
    "code_folding": [
     0
    ],
    "hidden": true
   },
   "outputs": [],
   "source": [
    "#\n",
    "out,analytic = esFFT.analytic_solution_circle(uinc,XY,wmin=-15,wmax=15,radius=radius,\\\n",
    "                                              wavevector=wavevector,opts={\"return\":\"both\"})\n",
    "\n",
    "analytic_tot = Uinc + analytic\n",
    "\n",
    "out.head()"
   ]
  },
  {
   "cell_type": "code",
   "execution_count": null,
   "metadata": {
    "code_folding": [
     0
    ],
    "hidden": true
   },
   "outputs": [],
   "source": [
    "#grafico\n",
    "fig = plt.figure ( 0 , figsize = ( 15 , 10 ) )\n",
    "\n",
    "cmap = 'RdYlBu'\n",
    "    \n",
    "plot_sol(fig,331,df[\"x\"], df[\"y\"],XY[:,0],XY[:,1],Valnp.real,\"$u_{scat}^{Galerkin}$ : real\")\n",
    "plot_sol(fig,334,df[\"x\"], df[\"y\"],XY[:,0],XY[:,1],Valnp.imag,\"$u_{scat}^{Galerkin}$ : imag\")\n",
    "plot_sol(fig,337,df[\"x\"], df[\"y\"],XY[:,0],XY[:,1],np.absolute(Valnp),\"$u_{scat}^{Galerkin}$ : abs\")\n",
    "\n",
    "plot_sol(fig,332,df[\"x\"], df[\"y\"],XY[:,0],XY[:,1],analytic.real,\"$u_{scat}^{analytic}$ : real\")\n",
    "plot_sol(fig,335,df[\"x\"], df[\"y\"],XY[:,0],XY[:,1],analytic.imag,\"$u_{scat}^{analytic}$ : imag\")\n",
    "plot_sol(fig,338,df[\"x\"], df[\"y\"],XY[:,0],XY[:,1],np.absolute(analytic),\"$u_{scat}^{analytic}$ : abs\")\n",
    "\n",
    "plot_sol(fig,333,df[\"x\"], df[\"y\"],XY[:,0],XY[:,1],Valnp.real-analytic.real,\\\n",
    "         \"$u_{scat}^{Galerkin}-u_{scat}^{analytic}$ : real\")\n",
    "plot_sol(fig,336,df[\"x\"], df[\"y\"],XY[:,0],XY[:,1],Valnp.imag-analytic.imag,\\\n",
    "         \"$u_{scat}^{Galerkin}-u_{scat}^{analytic}$ : imag\")\n",
    "plot_sol(fig,339,df[\"x\"], df[\"y\"],XY[:,0],XY[:,1],np.absolute(Valnp-analytic),\\\n",
    "         \"$u_{scat}^{Galerkin}-u_{scat}^{analytic}$ : abs\")\n",
    "\n",
    "\n",
    "plt.tight_layout()\n",
    "\n",
    "sol_png = file_dir+\"solution-analytic-n=6-random=False-\"+suffix_png\n",
    "plt.savefig(sol_png)\n",
    "\n",
    "plt.show()"
   ]
  },
  {
   "cell_type": "markdown",
   "metadata": {
    "hidden": true
   },
   "source": [
    "## Herglotz"
   ]
  },
  {
   "cell_type": "markdown",
   "metadata": {
    "hidden": true
   },
   "source": [
    "### Kernel"
   ]
  },
  {
   "cell_type": "code",
   "execution_count": null,
   "metadata": {
    "code_folding": [
     0
    ],
    "hidden": true
   },
   "outputs": [],
   "source": [
    "#definisco la dimensionaità:\n",
    "sh = Bs.shape(1,1)\n",
    "#sh.show()\n",
    "\n",
    "#defiisco i knot vector\n",
    "P=0 #polinomial degree\n",
    "N=12 #base caridnality\n",
    "\n",
    "#\n",
    "#kv = Bs.uniform_open_kv(xmin,xmax,p=P,n=N)#Bs.knot_vector(P,N,v)\n",
    "#kv = periodic_kv(xmin,xmax,p=P,n=N)\n",
    "kv = Bs.periodic_kv(0.0,2*np.pi,p=P,n=N)\n",
    "#kv.show()\n",
    "\n",
    "#alloco la Bspline\n",
    "kernel = Bs.Bspline(sh,[kv],properties={\"periodic\":[True],\"dtype\":np.complex})\n",
    "#bs.show()\n",
    "\n",
    "kernel.clear_cp()\n",
    "kernel.set_cp(0,1)"
   ]
  },
  {
   "cell_type": "code",
   "execution_count": null,
   "metadata": {
    "code_folding": [
     0
    ],
    "hidden": true
   },
   "outputs": [],
   "source": [
    "#\n",
    "NN = 1000\n",
    "T = np.linspace(0.0,2*np.pi,NN,endpoint=False)\n",
    "y   = kernel.evaluate(T)\n",
    "#df = pd.DataFrame(xy)\n",
    "#df = df.rename(columns={0:\"x\",1:\"y\"})"
   ]
  },
  {
   "cell_type": "code",
   "execution_count": null,
   "metadata": {
    "code_folding": [
     0
    ],
    "hidden": true
   },
   "outputs": [],
   "source": [
    "#\n",
    "fig = plt.figure ( 0 , figsize = ( 15, 5 ) )\n",
    "\n",
    "#real\n",
    "ax = fig.add_subplot(111)#, projection='3d')\n",
    "ax.plot(T,y.real,color=\"blue\",label=\"real\")\n",
    "ax.plot(T,y.imag,color=\"green\",label=\"imag\")\n",
    "plt.xlabel(r\"$\\theta \\, \\left[ rad \\right]$\")\n",
    "plt.title(r\"Herglotz kernel $\\, g \\left( \\theta \\right) \\, : 1 \\, $ if $ \\,  - \\pi/6 < \\theta < \\pi/6$\")\n",
    "plt.grid(True)\n",
    "plt.legend()\n",
    "plt.show()"
   ]
  },
  {
   "cell_type": "code",
   "execution_count": null,
   "metadata": {
    "code_folding": [
     0
    ],
    "hidden": true
   },
   "outputs": [],
   "source": [
    "#\n",
    "def Herglotz_private(xy,kernel,k,NN):\n",
    "    xy = np.asarray(xy)\n",
    "    theta = np.linspace(0.,2*np.pi,NN,endpoint=False)\n",
    "    cos = np.cos(theta)\n",
    "    sin = np.sin(theta)\n",
    "    g = kernel(theta)\n",
    "    phase = np.outer(xy[:,0],cos) + np.outer(xy[:,1],sin)\n",
    "    expo = np.exp(1.j*phase*k)\n",
    "    return np.dot(expo,g)/NN"
   ]
  },
  {
   "cell_type": "code",
   "execution_count": null,
   "metadata": {
    "code_folding": [
     0
    ],
    "hidden": true
   },
   "outputs": [],
   "source": [
    "#k = 30./4.\n",
    "NN = 100\n",
    "def Herglotz(xy): \n",
    "    return Herglotz_private(xy,kernel,wavevector,NN)"
   ]
  },
  {
   "cell_type": "code",
   "execution_count": null,
   "metadata": {
    "code_folding": [
     0
    ],
    "hidden": true
   },
   "outputs": [],
   "source": [
    "#\n",
    "Nx= int(xmax-xmin)*10\n",
    "Ny = int(ymax-ymin)*10\n",
    "x = np.linspace(xmin,xmax,Nx)\n",
    "y = np.linspace(ymin,ymax,Ny)\n",
    "X,Y = np.meshgrid(x,y)\n",
    "\n",
    "XY = np.zeros((Nx*Ny,2))\n",
    "XY[:,0] = X.reshape((Nx*Ny,))\n",
    "XY[:,1] = Y.reshape((Nx*Ny,))\n",
    "\n",
    "x = XY[:,0]\n",
    "y = XY[:,1]"
   ]
  },
  {
   "cell_type": "code",
   "execution_count": null,
   "metadata": {
    "hidden": true
   },
   "outputs": [],
   "source": [
    "Uinc = Herglotz(XY)"
   ]
  },
  {
   "cell_type": "code",
   "execution_count": null,
   "metadata": {
    "code_folding": [
     0
    ],
    "hidden": true
   },
   "outputs": [],
   "source": [
    "#\n",
    "fig = plt.figure ( 0 , figsize = ( 15 , 5 ) )\n",
    "\n",
    "cmap = 'RdYlBu'\n",
    "\n",
    "ax = fig.add_subplot(131)\n",
    "#ax.plot(xB, yB, color= \"black\",label=\"Bspline\")\n",
    "sc = ax.scatter(x,y,c=Uinc.real,cmap=cmap)\n",
    "plt.colorbar(sc)\n",
    "ax.set_aspect('equal')\n",
    "plt.xlim(min(x),max(x))\n",
    "plt.ylim(min(y),max(y))\n",
    "plt.title(\"real\")\n",
    "\n",
    "ax = fig.add_subplot(132)\n",
    "#ax.plot(xB, yB, color= \"black\",label=\"Bspline\")\n",
    "sc = ax.scatter(x,y,c=Uinc.imag,cmap=cmap)\n",
    "plt.colorbar(sc)\n",
    "ax.set_aspect('equal')\n",
    "plt.xlim(min(x),max(x))\n",
    "plt.ylim(min(y),max(y))\n",
    "plt.title(\"imag\")\n",
    "\n",
    "ax = fig.add_subplot(133)\n",
    "#ax.plot(xB, yB, color= \"black\",label=\"Bspline\")\n",
    "sc = ax.scatter(x,y,c=np.absolute(Uinc),cmap=cmap)\n",
    "plt.colorbar(sc)\n",
    "ax.set_aspect('equal')\n",
    "plt.xlim(min(x),max(x))\n",
    "plt.ylim(min(y),max(y))\n",
    "plt.title(\"abs\")\n",
    "\n",
    "#ax = fig.add_subplot(224)\n",
    "##ax.plot(xB, yB, color= \"black\",label=\"Bspline\")\n",
    "#sc = ax.scatter(x,y,c=np.angle(Uinc),cmap=cmap)\n",
    "#plt.colorbar(sc)\n",
    "#ax.set_aspect('equal')\n",
    "#plt.xlim(min(x),max(x))\n",
    "#plt.ylim(min(y),max(y))\n",
    "#plt.title(\"phase\")\n",
    "\n",
    "plt.show()"
   ]
  },
  {
   "cell_type": "markdown",
   "metadata": {
    "hidden": true
   },
   "source": [
    "### Preparation"
   ]
  },
  {
   "cell_type": "code",
   "execution_count": null,
   "metadata": {
    "code_folding": [
     0
    ],
    "hidden": true
   },
   "outputs": [],
   "source": [
    "#\n",
    "NN = 1000\n",
    "T = np.linspace(xminBs,xmaxBs,NN,endpoint=True)\n",
    "xy   = bs.evaluate(T)\n",
    "uinc = Herglotz(xy)"
   ]
  },
  {
   "cell_type": "code",
   "execution_count": null,
   "metadata": {
    "code_folding": [
     0
    ],
    "hidden": true
   },
   "outputs": [],
   "source": [
    "#\n",
    "Nx= int(xmax-xmin)*10\n",
    "Ny = int(ymax-ymin)*10\n",
    "x = np.linspace(xmin,xmax,Nx)\n",
    "y = np.linspace(ymin,ymax,Ny)\n",
    "X,Y = np.meshgrid(x,y)\n",
    "\n",
    "XY = np.zeros((Nx*Ny,2))\n",
    "XY[:,0] = X.reshape((Nx*Ny,))\n",
    "XY[:,1] = Y.reshape((Nx*Ny,))\n",
    "\n",
    "internal = bs.internal_points(XY=XY0,NN=1000,xmin=0.,xmax=1.,opts=None)\n",
    "XY = XY0[ np.logical_not(internal) ]\n",
    "\n",
    "x = XY[:,0]\n",
    "y = XY[:,1]"
   ]
  },
  {
   "cell_type": "code",
   "execution_count": null,
   "metadata": {
    "ExecuteTime": {
     "end_time": "2021-03-19T10:26:31.492960Z",
     "start_time": "2021-03-19T10:26:29.462209Z"
    },
    "code_folding": [
     0
    ],
    "hidden": true
   },
   "outputs": [],
   "source": [
    "#\n",
    "fig = plt.figure ( 0 , figsize = ( 15, 5 ) )\n",
    "\n",
    "#\n",
    "#s = 0.2\n",
    "ax = fig.add_subplot(121, projection='3d')\n",
    "ax.plot(xy[:,0], xy[:,1],uinc.real,color=\"blue\",label=\"real\")\n",
    "ax.plot(xy[:,0], xy[:,1],uinc.imag,color=\"green\",label=\"imag\")\n",
    "ax.plot(xy[:,0], xy[:,1],0.0,color=\"red\",label=\"Bspline\")\n",
    "plt.grid(True)\n",
    "plt.legend()\n",
    "\n",
    "#\n",
    "ax = fig.add_subplot(122)#, projection='3d')\n",
    "ax.plot(T,uinc.real,color=\"blue\",label=\"real\")\n",
    "ax.plot(T,uinc.imag,color=\"green\",label=\"imag\")\n",
    "plt.grid(True)\n",
    "plt.legend()\n",
    "\n",
    "#\n",
    "#ax = fig.add_subplot(133)#, projection='3d')\n",
    "#ax.plot(T,somma.real,color=\"blue\",label=\"real\")\n",
    "#ax.plot(T,somma.imag,color=\"green\",label=\"imag\")\n",
    "#plt.grid(True)\n",
    "#plt.legend()\n",
    "\n",
    "plt.show()"
   ]
  },
  {
   "cell_type": "code",
   "execution_count": null,
   "metadata": {
    "ExecuteTime": {
     "end_time": "2021-03-19T10:27:25.928898Z",
     "start_time": "2021-03-19T10:27:22.730894Z"
    },
    "code_folding": [
     0
    ],
    "hidden": true
   },
   "outputs": [],
   "source": [
    "#\n",
    "fig = plt.figure ( 0 , figsize = ( 15 , 5 ) )\n",
    "\n",
    "Uinc = Herglotz(XY)\n",
    "\n",
    "cmap = 'RdYlBu'\n",
    "    \n",
    "plot(fig,121,df[\"x\"], df[\"y\"],XY[:,0],XY[:,1],Uinc.real,\"$u_{inc}$ : real\",cmap)\n",
    "plot(fig,122,df[\"x\"], df[\"y\"],XY[:,0],XY[:,1],Uinc.imag,\"$u_{inc}$ : imag\",cmap)\n",
    "\n",
    "plt.show()"
   ]
  },
  {
   "cell_type": "markdown",
   "metadata": {
    "hidden": true
   },
   "source": [
    "### Solution"
   ]
  },
  {
   "cell_type": "code",
   "execution_count": null,
   "metadata": {
    "ExecuteTime": {
     "end_time": "2021-03-19T08:39:54.239910Z",
     "start_time": "2021-03-19T08:39:51.425502Z"
    },
    "code_folding": [
     0
    ],
    "hidden": true
   },
   "outputs": [],
   "source": [
    "#\n",
    "READ = True\n",
    "SAVE = False\n",
    "\n",
    "file_sol = file_dir+\"solution-Herglotz-\"+suffix\n",
    "file_lv  = file_dir+\"load_vector-Herglotz-\"+suffix\n",
    "file_ind = file_dir+\"indirect_solution-Herglotz-\"+suffix\n",
    "print(file_sol)\n",
    "print(file_lv)\n",
    "print(file_ind)\n",
    "\n",
    "if os.path.exists(file_sol) and READ == True :\n",
    "    sol,Xnp,Valnp = bs.load(\"sol-BEM\",file_sol)\n",
    "    \n",
    "if os.path.exists(file_lv) and READ == True :\n",
    "    lv = bs.load(\"lv-BEM\",file_lv)\n",
    "    \n",
    "if os.path.exists(file_ind) and READ == True :\n",
    "    sol = bs.load(\"ind_sol-BEM\",file_ind)\n",
    "    \n",
    "else :\n",
    "    opts = {\"print\":True,\"ready_sol_BEM\":False,\"ready_lv_BEM\":False,\"ready_ind_sol_BEM\":False}\n",
    "    sol,Xnp,Valnp = bs.BEM(uinc=Herglotz,k=wavevector,XY=XY,opts=opts)\n",
    "    if SAVE == True :\n",
    "        bs.save(\"sol-BEM\",file_sol)\n",
    "        bs.save(\"lv-BEM\",file_lv)\n",
    "        bs.save(\"ind_sol-BEM\",file_ind)\n",
    "sol.head()"
   ]
  },
  {
   "cell_type": "code",
   "execution_count": null,
   "metadata": {
    "hidden": true
   },
   "outputs": [],
   "source": [
    "#\n",
    "Uinc = Herglotz(XY)#.reshape(Nx,Ny).transpose()\n",
    "total = Uinc + Valnp"
   ]
  },
  {
   "cell_type": "code",
   "execution_count": null,
   "metadata": {
    "ExecuteTime": {
     "end_time": "2021-03-19T08:41:02.586654Z",
     "start_time": "2021-03-19T08:40:53.075530Z"
    },
    "code_folding": [
     0
    ],
    "hidden": true
   },
   "outputs": [],
   "source": [
    "#grafico\n",
    "fig = plt.figure ( 0 , figsize = ( 15 , 10 ) )\n",
    "\n",
    "cmap = 'RdYlBu'\n",
    "    \n",
    "plot_sol(fig,331,df[\"x\"], df[\"y\"],XY[:,0],XY[:,1],Uinc.real,\"$u_{inc}$ : real\")\n",
    "plot_sol(fig,334,df[\"x\"], df[\"y\"],XY[:,0],XY[:,1],Uinc.imag,\"$u_{inc}$ : imag\")\n",
    "plot_sol(fig,337,df[\"x\"], df[\"y\"],XY[:,0],XY[:,1],np.absolute(Uinc),\"$u_{inc}$ : abs\")\n",
    "\n",
    "plot_sol(fig,332,df[\"x\"], df[\"y\"],XY[:,0],XY[:,1],Valnp.real,\"$u_{scat}$ : real\")\n",
    "plot_sol(fig,335,df[\"x\"], df[\"y\"],XY[:,0],XY[:,1],Valnp.imag,\"$u_{scat}$ : imag\")\n",
    "plot_sol(fig,338,df[\"x\"], df[\"y\"],XY[:,0],XY[:,1],np.absolute(Valnp),\"$u_{scat}$ : abs\")\n",
    "\n",
    "plot_sol(fig,333,df[\"x\"], df[\"y\"],XY[:,0],XY[:,1],total.real,\"$u_{tot}$ : real\")\n",
    "plot_sol(fig,336,df[\"x\"], df[\"y\"],XY[:,0],XY[:,1],total.imag,\"$u_{tot}$ : imag\")\n",
    "plot_sol(fig,339,df[\"x\"], df[\"y\"],XY[:,0],XY[:,1],np.absolute(total),\"$u_{tot}$ : abs\")\n",
    "\n",
    "plt.tight_layout()\n",
    "\n",
    "sol_png = file_dir+\"solution-n=6-random=False-\"+suffix_png\n",
    "plt.savefig(sol_png)\n",
    "\n",
    "plt.show()"
   ]
  },
  {
   "cell_type": "markdown",
   "metadata": {
    "hidden": true
   },
   "source": [
    "<a id=\"analytic-herglotz\"></a>\n",
    "### Analytic solution"
   ]
  },
  {
   "cell_type": "markdown",
   "metadata": {
    "hidden": true
   },
   "source": [
    "Commenti analoghi [qui](#analytic-planewave)"
   ]
  },
  {
   "cell_type": "code",
   "execution_count": null,
   "metadata": {
    "code_folding": [
     0
    ],
    "hidden": true
   },
   "outputs": [],
   "source": [
    "#\n",
    "NN = 1000\n",
    "T = np.linspace(xminBs,xmaxBs,NN,endpoint=True)\n",
    "xy   = bs.evaluate(T)\n",
    "uinc = Herglotz(xy)"
   ]
  },
  {
   "cell_type": "code",
   "execution_count": null,
   "metadata": {
    "code_folding": [
     0
    ],
    "hidden": true
   },
   "outputs": [],
   "source": [
    "#\n",
    "fft = esFFT.FFT(uinc,opts={\"plot\":True})\n",
    "\n",
    "#\n",
    "fig = plt.figure ( 0 , figsize = ( 15 , 5 ) )\n",
    "ax = fig.add_subplot(111)\n",
    "plt.plot(fft.index, np.real(fft[\"fft\"]),color=\"blue\" ,label=\"real\")#,marker=\"+\")\n",
    "plt.plot(fft.index, np.imag(fft[\"fft\"]),color=\"green\",label=\"imag\")#,marker=\"x\")\n",
    "plt.xlim(-20,20)\n",
    "plt.legend()\n",
    "plt.grid(True)\n",
    "plt.title(\"Fourier Transform\")\n",
    "plt.show()\n",
    "#\n",
    "fft.head()"
   ]
  },
  {
   "cell_type": "code",
   "execution_count": null,
   "metadata": {
    "code_folding": [
     0
    ],
    "hidden": true
   },
   "outputs": [],
   "source": [
    "#\n",
    "out,analytic = esFFT.analytic_solution_circle(uinc,XY,wmin=-15,wmax=15,radius=radius,\\\n",
    "                                              wavevector=wavevector,opts={\"return\":\"both\"})\n",
    "\n",
    "analytic_tot = Uinc + analytic\n",
    "\n",
    "out.head()"
   ]
  },
  {
   "cell_type": "code",
   "execution_count": null,
   "metadata": {
    "code_folding": [
     0
    ],
    "hidden": true
   },
   "outputs": [],
   "source": [
    "#grafico\n",
    "fig = plt.figure ( 0 , figsize = ( 15 , 10 ) )\n",
    "\n",
    "cmap = 'RdYlBu'\n",
    "    \n",
    "plot_sol(fig,331,df[\"x\"], df[\"y\"],XY[:,0],XY[:,1],Valnp.real,\"$u_{scat}^{Galerkin}$ : real\")\n",
    "plot_sol(fig,334,df[\"x\"], df[\"y\"],XY[:,0],XY[:,1],Valnp.imag,\"$u_{scat}^{Galerkin}$ : imag\")\n",
    "plot_sol(fig,337,df[\"x\"], df[\"y\"],XY[:,0],XY[:,1],np.absolute(Valnp),\"$u_{scat}^{Galerkin}$ : abs\")\n",
    "\n",
    "plot_sol(fig,332,df[\"x\"], df[\"y\"],XY[:,0],XY[:,1],analytic.real,\"$u_{scat}^{analytic}$ : real\")\n",
    "plot_sol(fig,335,df[\"x\"], df[\"y\"],XY[:,0],XY[:,1],analytic.imag,\"$u_{scat}^{analytic}$ : imag\")\n",
    "plot_sol(fig,338,df[\"x\"], df[\"y\"],XY[:,0],XY[:,1],np.absolute(analytic),\"$u_{scat}^{analytic}$ : abs\")\n",
    "\n",
    "plot_sol(fig,333,df[\"x\"], df[\"y\"],XY[:,0],XY[:,1],Valnp.real-analytic.real,\\\n",
    "         \"$u_{scat}^{Galerkin}-u_{scat}^{analytic}$ : real\")\n",
    "plot_sol(fig,336,df[\"x\"], df[\"y\"],XY[:,0],XY[:,1],Valnp.imag-analytic.imag,\\\n",
    "         \"$u_{scat}^{Galerkin}-u_{scat}^{analytic}$ : imag\")\n",
    "plot_sol(fig,339,df[\"x\"], df[\"y\"],XY[:,0],XY[:,1],np.absolute(Valnp-analytic),\\\n",
    "         \"$u_{scat}^{Galerkin}-u_{scat}^{analytic}$ : abs\")\n",
    "\n",
    "\n",
    "plt.tight_layout()\n",
    "\n",
    "sol_png = file_dir+\"solution-analytic-n=6-random=False-\"+suffix_png\n",
    "plt.savefig(sol_png)\n",
    "\n",
    "plt.show()"
   ]
  },
  {
   "cell_type": "markdown",
   "metadata": {},
   "source": [
    "# Convergence"
   ]
  },
  {
   "cell_type": "markdown",
   "metadata": {},
   "source": [
    "In questa sezione vado a calcolare la norma $L^2\\left(\\Omega_{+}\\right)$ della differenza tra la soluzione analitica come calcolata nelle sezioni [Plane Wave](#analytic-planewave) e [Herglotz](#analytic-herglotz) al variare del numero di gradi di libertà usato `N` e del numero di punti usati (indicato con la variabile `opts[\"N\"]`) per calcolare gli integrali.\n",
    "\n",
    "Nella sottosezione [Cycle](#convergence-cycle) vado a ripercorrere tutto quello che è stato fatto nella sezione [Circle](#Circle):\n",
    "- variando di volta in volta i gradi di libertà `N=10,11,12,13,14,15,16,17,18,19,20,30,40,50,60,70,80,90,100`\n",
    "- variando il numero di punti usati per calcolare gli integrali `opts[\"N\"]=4,6,8`\n",
    "- alloco dunque la Bspline, imposto i control points e determino quali dei punti `XY0` sono interni alla curva\n",
    "- richiamo la funzione `BEM`, all'interno della quale vengono richiamate automaticamente le funzioni `stiffness_matrix_BEM` e `single_layer_potential_basis_BEM` che prima richiamavo a parte\n",
    "- viene calcolata la soluzione numerica tramite il metodo BEM e viene salvata nella variabile `sol`\n",
    "- nella variabile `grafico`, che poi salvo su file, inserisco i valori assunti da $u^{inc}$, $u^{scat}$ e $u^{tot}$ per i vari punti `XY`\n",
    "- grafico il risultato e lo salvo su file: tutti i grafici sono presenti nella cartella `files/BEM/circle-convergence/` con l'estensionne `png`, assieme a tutti gli altri file contenenti le variabili calcolate ($A^{Gal}_{ij}$,$M_j\\left(\\mathbf{x}\\right)$,etc...)\n",
    "\n",
    "Nella sottosezione [Norm](#convergence-norm) vado a leggere da file le grandezze calcolate in precedenza, calcolo la soluzione analitica per tutti i valori di `N` e `opts[\"N\"]` usati in precedenza e vado a calcolarne la differenza con la soluzione numerica, per poi vautarne la norma $L^2$, o meglio\n",
    "- nel dataframe `LN` inserisco la media su tutti i punti `XY` di $\\left| u_{scat}^{Galerkin}\\left(\\mathbf{x}\\right) - u_{scat}^{Analytic} \\left(\\mathbf{x}\\right)\\right|^2$\n",
    "- nel datafrem `LNv` inserisco la varianza di $\\left| u_{scat}^{Galerkin}\\left(\\mathbf{x}\\right) - u_{scat}^{Analytic} \\left(\\mathbf{x}\\right)\\right|^2$\n",
    "\n",
    "Nella sottosezione [Grafico](#convergence-grafico) vado a graficare con un errorbar `LN` e `LNv` (le barre di errore sono poco visibili):\n",
    "- sull'asse delle x è rappresentato `N`\n",
    "- sull'asse delle y è rappresentato `LN`, cioè $\\left| u_{scat}^{Galerkin}\\left(\\mathbf{x}\\right) - u_{scat}^{Analytic} \\left(\\mathbf{x}\\right)\\right|^2$ mediato su tutti i punti `XY`\n",
    "- con il colore vado a rappresentare `opts[\"N\"]`\n",
    "\n",
    "**Osservazioni**\n",
    "Si vede che usare \"troppi gradi di libertà\" risulta inutile se l'integrazione numerica è poco precisa perchè quest'ultima genera un errore che prevale su quello precedente.\n",
    "Si vedo che raffinando l'integrazione numerica l'errore descresce.\n",
    "\n",
    "**Possibili implementazioni usando l'approccio IGA**\n",
    "Si tenga a mente che nell'implementazione da me sviluppata ci sono $3$ tipi di *errore* che entrano in gioco:\n",
    "- approssimazione di $\\Gamma$, questo è vero se si usano delle Bspline per rappresentare delle circonferenze, ma per altre figure questa approssimazione potrebbe non esistere perché $\\Gamma$ potrebbe essere rappresentato in modo esatto (un'implementazione delle NURBS) permetterebbe di eliminare questa fonte di errore\n",
    "- discretizzazione dello spazio delle soluzione (metodo di Galerkin): questo fa parte del metodo BEM e non è possibile eliminarlo\n",
    "- calcolo numerico degli integrali, anche questo non è eliminabile\n",
    "\n",
    "**Una nota su una possibile implementazione**\n",
    "Al momento sono in grado di approssimare $\\Gamma$ solo tramite un poligono regolare con polinomi di grado `P=1`, esistono però algoritmi di *degree elevation* che permettono di innalzare il grado polinomiale della curva senza modificarne \"il risultato\". Una volta implementato questo algoritmo, non complicato ma comunque non banale, sarebbe possibile *dividere l'errore* di approssimazione del dominio dall'errore di discretizzazione dello spazio delle funzioni: potrei avere la stessa identica approssimazione di $\\Gamma$ ma uno spazio delle soluzioni diverso. \n",
    "\n",
    "**Integrazione numerica** \n",
    "Il calcolo numerico degli integrali al momento sfrutta una tecnica molto semplice e basilare:\n",
    "- ottenuto il dominio di una funzione di base tramite la funzione `basis_range` genero `opts[\"N\"]` punti uniformemente distribuiti nel dominio della funzione (sfrutto la funzione `linspace` di `numpy`)\n",
    "- la funzione `basis_range` calcola in automatico *l'area* del dominio della funzione di base\n",
    "- valuto l'integrale $I$ come $I = \\frac{A}{M}\\sum_{i=1}^{M}f\\left(x_i\\right)$ dove ho indicato `opts[\"N\"]`  con $M$, `A` è l'area del dominio della funzione, `f` è la funzione da integrare, $x_i$ sono i punti uniformemente distribuiti\n",
    "- tramite la funzione `adjacency_matrix` (che restituisce una matrice $m_{ij}$ contenente $0,1$) so se il dominio di una funzione di base $i$ si interseca con quello della funzione di base $j$: nel caso le due funzioni si intersechino allora automento il numero di punti  usati per calcolare l'integrale a `opts[\"N\"]`$^2$ per sopprerire al problema della singolarità dell'integrale \n",
    "- nel caso esistano dei punti $x_i$ per i quali $f\\left(x_i\\right)$ assuma \"valori problematici\", cioè restituisca dei valori `nan`, non considero questi nel calcolo di $I$ e ridefinisco $M$: questo in realtà è fatto in automatico dalla funzioni `nanmean` di `numpy`\n",
    "\n",
    "E' possibile, passando opportunamente alcuni parametri alla funzione `BEM` generare dei punti *casuali uniformemente distribuiti*, ma ho abbandonato tale approccio molto presto perché non conveniente per integrali $1D$ e $2D$."
   ]
  },
  {
   "cell_type": "code",
   "execution_count": null,
   "metadata": {
    "ExecuteTime": {
     "end_time": "2021-03-19T10:22:02.503614Z",
     "start_time": "2021-03-19T10:22:02.482636Z"
    },
    "code_folding": []
   },
   "outputs": [],
   "source": [
    "#vettor d'onda\n",
    "k_in = 30/4*np.asarray([np.sqrt(3.)/2.,0.5])\n",
    "alpha = np.angle(np.complex(k_in[0],k_in[1]))\n",
    "wavevector = 7.5#np.sqrt(np.sum(np.power(k_in,2.0)))\n",
    "print(\"w:\",wavevector)\n",
    "print(\"h:\",np.pi/(5*wavevector))\n",
    "I = np.complex(0,1)\n",
    "\n",
    "xmin = -3\n",
    "xmax = 3\n",
    "ymin = -3\n",
    "ymax = 3"
   ]
  },
  {
   "cell_type": "markdown",
   "metadata": {},
   "source": [
    "## Preparation"
   ]
  },
  {
   "cell_type": "code",
   "execution_count": null,
   "metadata": {
    "ExecuteTime": {
     "end_time": "2021-03-19T10:22:46.955978Z",
     "start_time": "2021-03-19T10:22:46.932993Z"
    },
    "code_folding": [
     0
    ]
   },
   "outputs": [],
   "source": [
    "#function\n",
    "x0 = 0.0\n",
    "y0 = 0.0\n",
    "a = 1.0\n",
    "b = 1.0\n",
    "radius = 1.0\n",
    "def func(t):\n",
    "    #print(cpz)\n",
    "    cpx = a*np.cos(2*np.pi*t)+x0#np.random.rand(N)\n",
    "    cpy = b*np.sin(2*np.pi*t)+y0#np.random.rand(N)\n",
    "    out = np.zeros(shape=(len(t),2))\n",
    "    for i in range(len(t)):\n",
    "        out[i,0] = cpx[i]\n",
    "        out[i,1] = cpy[i]\n",
    "    return out"
   ]
  },
  {
   "cell_type": "code",
   "execution_count": null,
   "metadata": {
    "code_folding": [
     0
    ]
   },
   "outputs": [],
   "source": [
    "#punti XY\n",
    "Nx= 40\n",
    "Ny = 40\n",
    "x = np.linspace(xmin,xmax,Nx)\n",
    "y = np.linspace(ymin,ymax,Ny)\n",
    "X,Y = np.meshgrid(x,y)\n",
    "\n",
    "XY0 = np.zeros((Nx*Ny,2))\n",
    "XY0[:,0] = X.reshape((Nx*Ny,))\n",
    "XY0[:,1] = Y.reshape((Nx*Ny,))\n",
    "print(len(XY0))"
   ]
  },
  {
   "cell_type": "code",
   "execution_count": null,
   "metadata": {
    "code_folding": [
     0
    ]
   },
   "outputs": [],
   "source": [
    "#plane wave\n",
    "def plane_wave(xx): # soluzione\n",
    "    xx = np.asarray(xx)\n",
    "    theta = np.dot(xx,k_in)\n",
    "    return np.exp(I*theta)"
   ]
  },
  {
   "cell_type": "code",
   "execution_count": null,
   "metadata": {
    "code_folding": [
     0
    ]
   },
   "outputs": [],
   "source": [
    "#definisco la dimensionaità:\n",
    "sh = Bs.shape(1,2)\n",
    "#sh.show()\n",
    "\n",
    "#defiisco i knot vector\n",
    "P=1 #polinomial degree\n",
    "    \n",
    "xminBs = 0.0\n",
    "xmaxBs = 1.0\n",
    "    \n",
    "#N_arr = [10,20,30,40,50,60,70,80,90,100]\n",
    "#N_arr = np.arange(11,20)\n",
    "N_arr = list(np.arange(10,21))+list(np.arange(30,110,10))\n",
    "#N_arr = [10]"
   ]
  },
  {
   "cell_type": "markdown",
   "metadata": {},
   "source": [
    "<a id=\"convergence-cycle\"></a>\n",
    "## Cycle"
   ]
  },
  {
   "cell_type": "code",
   "execution_count": null,
   "metadata": {
    "code_folding": []
   },
   "outputs": [],
   "source": [
    "#ciclo\n",
    "j = 0\n",
    "n = 4\n",
    "for N in N_arr:    \n",
    "    \n",
    "    count = str(j)+\"/\"+str(len(N_arr))\n",
    "    \n",
    "    print(count,\" : preparazione\")\n",
    "    \n",
    "    #\n",
    "    file_dir = \"files/BEM/circle-convergence/n=\"+str(n)+\"/\"\n",
    "    suffix = \"P=\"+str(P)+\"-N=\"+str(N)+\"-k=\"+str(wavevector)+\"-n=\"+str(n)\n",
    "    \n",
    "    \n",
    "    kv = Bs.periodic_kv(xminBs,xmaxBs,p=P,n=N)\n",
    "    #kv.show()\n",
    "\n",
    "    #alloco la Bspline\n",
    "    bs = Bs.Bspline(sh,[kv],properties={\"periodic\":[True]})\n",
    "    \n",
    "    t = np.linspace(0,1,N+1,endpoint=True)#[0:-2]\n",
    "    cp = func(t)\n",
    "    for i in range(len(t)):\n",
    "        bs.set_cp(i,cp[i])\n",
    "        \n",
    "    #\n",
    "    internal = bs.internal_points(XY=XY0,NN=1000,xmin=xminBs,xmax=xmaxBs,opts=None)\n",
    "    XY = XY0[ np.logical_not(internal) ]\n",
    "    \n",
    "    #bs.load(\"sm-BEM\"     ,file_dir+\"stiffness_matrix-\"            +suffix+\".csv\")    \n",
    "    #bs.load(\"slp-BEM\"    ,file_dir+\"single_layer_potential-\"      +suffix+\".csv\")    \n",
    "    #bs.load(\"sol-BEM\"    ,file_dir+\"solution-plane_wave-\"         +suffix+\".csv\")\n",
    "    #bs.load(\"ind_sol-BEM\",file_dir+\"indirect_solution-plane_wave-\"+suffix+\".csv\")\n",
    "    \n",
    "    #\n",
    "    print(count,\" : BEM\")\n",
    "    opts={\"print\":True,\"N\":[n]} \n",
    "    sol,Xnp,Valnp = bs.BEM(uinc=plane_wave,k=wavevector,XY=XY,opts=opts)\n",
    "\n",
    "    print(count,\" : saving\")\n",
    "    bs.save(\"sm-BEM\"     ,file_dir+\"stiffness_matrix-\"            +suffix+\".csv\")    \n",
    "    bs.save(\"slp-BEM\"    ,file_dir+\"single_layer_potential-\"      +suffix+\".csv\")    \n",
    "    bs.save(\"sol-BEM\"    ,file_dir+\"solution-plane_wave-\"         +suffix+\".csv\")\n",
    "    #bs.save(\"lv-BEM\"     ,file_dir+\"load_vector-plane_wave-\"      +suffix+\".csv\")\n",
    "    bs.save(\"ind_sol-BEM\",file_dir+\"indirect_solution-plane_wave-\"+suffix+\".csv\")\n",
    "        \n",
    "    Uinc = plane_wave(XY)\n",
    "    total = Uinc + Valnp\n",
    "    \n",
    "    index = [tuple(i) for i in XY]\n",
    "    grafico = pd.DataFrame(index=index,columns=[\"xy\",\"inc\",\"scat\",\"tot\"],dtype=object)\n",
    "    grafico[\"xy\"] = [ i for i in XY]\n",
    "    grafico[\"inc\"] = Uinc \n",
    "    grafico[\"scat\"] = Valnp\n",
    "    grafico[\"tot\"] = total\n",
    "\n",
    "    grafico.to_csv(file_dir+\"grafico-plane_wave-\"+suffix+\".csv\",index_label=\"index\")\n",
    "    \n",
    "    #grafico\n",
    "    print(count,\" : grafico\")\n",
    "    fig = plt.figure ( 0 , figsize = ( 15 , 10 ) )  \n",
    "    \n",
    "    cmap = 'RdYlBu'\n",
    "    \n",
    "    NN = 1000\n",
    "    T = np.linspace(xminBs,xmaxBs,NN,endpoint=True)\n",
    "    xy   = bs.evaluate(T)\n",
    "    df = pd.DataFrame(xy)\n",
    "    df = df.rename(columns={0:\"x\",1:\"y\"})\n",
    "   \n",
    "    plot_sol(fig,331,df[\"x\"], df[\"y\"],XY[:,0],XY[:,1],Uinc.real,\"$u_{inc}$ : real\",cmap)\n",
    "    plot_sol(fig,334,df[\"x\"], df[\"y\"],XY[:,0],XY[:,1],Uinc.imag,\"$u_{inc}$ : imag\",cmap)\n",
    "    plot_sol(fig,337,df[\"x\"], df[\"y\"],XY[:,0],XY[:,1],np.absolute(Uinc),\"$u_{inc}$ : abs\",cmap)\n",
    "\n",
    "    plot_sol(fig,332,df[\"x\"], df[\"y\"],XY[:,0],XY[:,1],Valnp.real,\"$u_{scat}$ : real\",cmap)\n",
    "    plot_sol(fig,335,df[\"x\"], df[\"y\"],XY[:,0],XY[:,1],Valnp.imag,\"$u_{scat}$ : imag\",cmap)\n",
    "    plot_sol(fig,338,df[\"x\"], df[\"y\"],XY[:,0],XY[:,1],np.absolute(Valnp),\"$u_{scat}$ : abs\",cmap)\n",
    "\n",
    "    plot_sol(fig,333,df[\"x\"], df[\"y\"],XY[:,0],XY[:,1],total.real,\"$u_{tot}$ : real\",cmap)\n",
    "    plot_sol(fig,336,df[\"x\"], df[\"y\"],XY[:,0],XY[:,1],total.imag,\"$u_{tot}$ : imag\",cmap)\n",
    "    plot_sol(fig,339,df[\"x\"], df[\"y\"],XY[:,0],XY[:,1],np.absolute(total),\"$u_{tot}$ : abs\",cmap)\n",
    "\n",
    "    plt.tight_layout()\n",
    "    sol_png = file_dir+\"solution-\"+suffix+\".png\"\n",
    "    plt.savefig(sol_png)\n",
    "    \n",
    "    j += 1\n",
    "\n",
    "    plt.show()\n"
   ]
  },
  {
   "cell_type": "markdown",
   "metadata": {},
   "source": [
    "<a id=\"convergence-norm\"></a>\n",
    "## Norm"
   ]
  },
  {
   "cell_type": "code",
   "execution_count": null,
   "metadata": {
    "code_folding": [
     0
    ]
   },
   "outputs": [],
   "source": [
    "#function\n",
    "x0 = 0.0\n",
    "y0 = 0.0\n",
    "a = 1.0\n",
    "b = 1.0\n",
    "radius = 1.0\n",
    "def func(t):\n",
    "    #print(cpz)\n",
    "    cpx = a*np.cos(2*np.pi*t)+x0#np.random.rand(N)\n",
    "    cpy = b*np.sin(2*np.pi*t)+y0#np.random.rand(N)\n",
    "    out = np.zeros(shape=(len(t),2))\n",
    "    for i in range(len(t)):\n",
    "        out[i,0] = cpx[i]\n",
    "        out[i,1] = cpy[i]\n",
    "    return out"
   ]
  },
  {
   "cell_type": "code",
   "execution_count": null,
   "metadata": {
    "code_folding": [
     0
    ]
   },
   "outputs": [],
   "source": [
    "#LN\n",
    "LN = pd.DataFrame(data=Lebesgue_norm,index=N_arr_2,columns=n_arr)\n",
    "LN.to_csv(\"files/BEM/circle-convergence/lebesgue_norm.csv\",index_label=\"index\")\n",
    "LN.head()"
   ]
  },
  {
   "cell_type": "code",
   "execution_count": null,
   "metadata": {
    "code_folding": [
     0
    ]
   },
   "outputs": [],
   "source": [
    "#LNv\n",
    "LNv = pd.DataFrame(data=Lebesgue_norm_var,index=N_arr_2,columns=n_arr)\n",
    "LNv.to_csv(\"files/BEM/circle-convergence/lebesgue_norm_var.csv\",index_label=\"index\")\n",
    "LNv.head()"
   ]
  },
  {
   "cell_type": "code",
   "execution_count": null,
   "metadata": {
    "code_folding": []
   },
   "outputs": [],
   "source": [
    "#calcolo la norma\n",
    "def get_float(txt):\n",
    "    return re.findall(\"[^a-zA-Z:]([-+]?\\d+[\\.]?\\d*)\", txt)\n",
    "\n",
    "#\n",
    "#i = 0\n",
    "#n = 4\n",
    "N_arr_2 = list(np.arange(10,21))+list(np.arange(30,110,10))\n",
    "n_arr = [4]\n",
    "Lebesgue_norm = np.zeros((len(N_arr_2),len(n_arr)))\n",
    "Lebesgue_norm_var = np.zeros((len(N_arr_2),len(n_arr)))\n",
    "\n",
    "for k in range(len(n_arr)):\n",
    "    for i in range(0,len(N_arr_2)):    \n",
    "\n",
    "        N = N_arr_2[i]\n",
    "        n = n_arr[k]\n",
    "        count = str(k)+\"/\"+str(i)+\"       \"\n",
    "\n",
    "        print(count,end=\"\\r\")\n",
    "\n",
    "        #\n",
    "        file_dir = \"files/BEM/circle-convergence/n=\"+str(n)+\"/\"\n",
    "        suffix = \"P=\"+str(P)+\"-N=\"+str(N)+\"-k=\"+str(wavevector)+\"-n=\"+str(n)\n",
    "\n",
    "        df = pd.read_csv(file_dir+\"grafico-plane_wave-\"+suffix+\".csv\")\n",
    "        df.set_index(\"index\",drop=True,inplace=True)\n",
    "        df[\"inc\"]  = [np.complex(j) for j in df[\"inc\"]]\n",
    "        df[\"scat\"] = [np.complex(j) for j in df[\"scat\"]]\n",
    "        df[\"tot\"]  = [np.complex(j) for j in df[\"tot\"]]\n",
    "\n",
    "        #\n",
    "        kv = Bs.periodic_kv(xminBs,xmaxBs,p=P,n=N)\n",
    "\n",
    "        #alloco la Bspline\n",
    "        bs = Bs.Bspline(sh,[kv],properties={\"periodic\":[True]})\n",
    "\n",
    "        t = np.linspace(0,1,N+1,endpoint=True)#[0:-2]\n",
    "        cp = func(t)\n",
    "        for j in range(len(t)):\n",
    "            bs.set_cp(j,cp[j])\n",
    "\n",
    "        #\n",
    "        T = np.linspace(xminBs,xmaxBs,1000,endpoint=True)\n",
    "        xy   = bs.evaluate(T)\n",
    "        uinc = plane_wave(xy)\n",
    "\n",
    "        #\n",
    "        XY = np.asarray([ get_float(j) for j in df[\"xy\"] ]).astype(float)\n",
    "\n",
    "        analytic_pd,analytic = esFFT.analytic_solution_circle(uinc,XY,wmin=-20,wmax=20,radius=radius,\\\n",
    "                                                              wavevector=wavevector,alpha=alpha,\\\n",
    "                                                              opts={\"return\":\"both\"})\n",
    "        \n",
    "        analytic_pd.to_csv(file_dir+\"analytic-solution-plane_wave-\"+suffix+\".csv\",index_label=index)\n",
    "\n",
    "        df[\"diff\"] = df[\"scat\"] - analytic\n",
    "\n",
    "        #print(i)\n",
    "        #Lebesgue_norm[i,k] = np.mean(np.absolute(df[\"diff\"])**2)\n",
    "        #Lebesgue_norm_var[i,k] = np.var(np.absolute(df[\"diff\"])**2)\n",
    "        \n",
    "        LN.at[i,k] = np.mean(np.absolute(df[\"diff\"])**2)\n",
    "        LNv.at[i,k] = np.var(np.absolute(df[\"diff\"])**2)\n",
    "        \n",
    "print(\"Finished\")"
   ]
  },
  {
   "cell_type": "code",
   "execution_count": null,
   "metadata": {
    "code_folding": [
     0
    ]
   },
   "outputs": [],
   "source": [
    "#LN = pd.DataFrame(data=Lebesgue_norm,index=N_arr_2,columns=n_arr)\n",
    "LN.to_csv(\"files/BEM/circle-convergence/lebesgue_norm.csv\",index_label=\"index\")\n",
    "LN.head()"
   ]
  },
  {
   "cell_type": "code",
   "execution_count": null,
   "metadata": {
    "code_folding": [
     0
    ]
   },
   "outputs": [],
   "source": [
    "#LNv = pd.DataFrame(data=Lebesgue_norm_var,index=N_arr_2,columns=n_arr)\n",
    "LNv.to_csv(\"files/BEM/circle-convergence/lebesgue_norm_var.csv\",index_label=\"index\")\n",
    "LNv.head()"
   ]
  },
  {
   "cell_type": "markdown",
   "metadata": {},
   "source": [
    "<a id=\"convergence-grafico\"></a>\n",
    "## Grafico"
   ]
  },
  {
   "cell_type": "code",
   "execution_count": null,
   "metadata": {
    "code_folding": [
     0
    ]
   },
   "outputs": [],
   "source": [
    "#reading\n",
    "LN = pd.read_csv(\"files/BEM/circle-convergence/lebesgue_norm.csv\")\n",
    "LN.set_index(\"index\",drop=True,inplace=True)\n",
    "\n",
    "LNv = pd.read_csv(\"files/BEM/circle-convergence/lebesgue_norm_var.csv\")\n",
    "LNv.set_index(\"index\",drop=True,inplace=True)"
   ]
  },
  {
   "cell_type": "code",
   "execution_count": null,
   "metadata": {
    "code_folding": [
     0
    ]
   },
   "outputs": [],
   "source": [
    "#grafico\n",
    "fig = plt.figure(figsize=(15,5))\n",
    "\n",
    "#\n",
    "ax = fig.add_subplot(111)\n",
    "ax.errorbar(LN.index,LN[\"4\"],yerr=LNv[\"4\"],color=\"blue\",label=\"n=4\",linestyle=\"--\",marker=\".\")\n",
    "ax.errorbar(LN.index,LN[\"6\"],yerr=LNv[\"6\"],color=\"green\",label=\"n=6\",linestyle=\"--\",marker=\".\")\n",
    "ax.errorbar(LN.index,LN[\"8\"],yerr=LNv[\"8\"],color=\"red\",label=\"n=8\",linestyle=\"--\",marker=\".\")\n",
    "#ax.scatter(N_arr_2,Lebesgue_norm,color=\"red\",label=\"calculations\")\n",
    "#plt.xlim(8,41)\n",
    "plt.grid(True)\n",
    "plt.xlabel(\"d.o.f.\")\n",
    "plt.ylabel(\"Lebesgue norm $L^2$\")\n",
    "plt.legend()\n",
    "plt.title(\"Convergence\")\n",
    "\n",
    "plt.show()"
   ]
  },
  {
   "cell_type": "markdown",
   "metadata": {},
   "source": [
    "# Two circles"
   ]
  },
  {
   "cell_type": "markdown",
   "metadata": {},
   "source": [
    "In questa sezione ho implementato il BEM anche per $\\Gamma$ formato da curve/poligoni disconnessi: ho aggiunto delle funzioni alla libreria `pyBspline` ma esterne alla classe `Bspline` che prendessero in input un array di oggetti `Bspline` e implementassero il BEM sfruttando quanto più possibile quanto già fatto in precedenza.\n",
    "\n",
    "Il codice scritto funziona con un numero arbitrario di componenti disconnesse, nel notebook ho rappresentato il caso più semplice di due circonferenze dello stesso raggio in modo tale da poter riutilizzare quanto già fatto nella sezione [Circle](#Circle): input della funzione `BEM_disconnected` è infatti l'array `bs_arr = [Left,Right]`, dove `Left` e `Right` sono le Bspline che rappresentano le due circonferenze.\n",
    "\n",
    "L'unica vera differenza dell'avere $2$ circonferenze anzoché una sola consiste nel calcolo della matrice $A^{Gal}_{ij}$, che per semplicità ho diviso a blocchi (letteralmente anche nel codice, sfruttando i `multindex` dei dataframe di `pandas`), cioè:\n",
    "\\begin{equation*}\n",
    "A^{Gal}_{ij} = \n",
    "\\left(\\begin{array}{@{}c|c@{}}\n",
    "A^{LL} &  A^{LR}\\\\\\hline\n",
    "A^{RL} &  A^{RR}\n",
    "\\end{array}\\right)\n",
    "\\end{equation*}\n",
    "dove $A^{LL}$ è la matrice di stiffness della prima circonferenza, calcolata tramite `Left.stiffness_matrix_BEM` (cioè come fatto in tutte le sezioni precedenti),  $A^{RR}$ è calcolata con `Right.stiffness_matrix_BEM`, mentre le uniche parti il cui calcolo è stato necessario implementare sono le parti fuori diagonali.\n",
    "In realtà l'implementazione, presente nelle funzioni `stiffness_matrix_BEM_disconnected` e `stiffness_matrix_BEM_disconnected_private`, è stata abbastanza semplice poiché ho riscritto *mutatis mutandis* la funzione `stiffness_matrix_BEM` della classe `Bspline` ma ignorando il discorso sulla raffinazione dell'integrazione perché in questo caso nessun grado di libertà $i$ ha il dominio che si interseca con quello di $j$.\n",
    "\n",
    "Il calcolo dei blocchi fuori diagonale risulta più veloce rispetto a quelli lungo la diagonale se si guarda il tempo medio di un singolo integrale (perché integro usando sempre `opts[\"N\"]` punti e mai con `opts[\"N\"]`$^2$), ma questo non è vero per l'intero blocco perché $A^{LL}$ è simmetrica, richiede dunque in calcolo di $\\frac{n\\left(n+1\\right)}{2}$ integrali, mentre il calcolo di $A^{LR}$ richiede il calcolo di $n^2$ integrali.\n",
    "\n",
    "Si ricordi che $A^{Gal}_{ij}$ è simmetrica dunque risulta che $A^{RL}$ è la trasposta (non coniugata) di $A^{LR}$. La matrice $A^{Gal}_{ij}$ viene poi salvata nella variabile `_sm_BEM_disc` e salvata su file.\n",
    "\n",
    "Sono state poi implemenate le funzioni `single_layer_potential_basis_BEM_disconnected` e `load_vector_BEM_disconnected` che vanno semplicemente a richiamare per ogni Bspline contenuta in `bs_arr` i metodi `single_layer_potential_basis_BEM` e `load_vector_BEM`.\n",
    "\n",
    "La differenza sta dunque nella soluzione del motodo di Galerkin che \"risente dell'interazione\" tra le due circonferenze dovuta alla presenza dei termini fuori diagonale (termini che giustamente tendono a zero se le due circonferenza si allontanano), generando una $\\psi_N$ che è diversa da $\\left[\\psi^L_{N/2},\\psi^R_{N/2}\\right]$, cioè è diversa dal prodotto cartesiano della soluzione di due problemi di scattering indipendenti.\n",
    "\n",
    "La soluzione del EDP si trova dunque sommando la soluzione dei vari EDP per le due circonferenze: calcolo $u_{scat}^{L}$ generato dalla prima circonferenza, $u_{scat}^{R}$ generato dalla seconda circonferenza e poi li sommo.\n",
    "Nella variabile `SLP` sono contenute tutte queste informazioni, che ho stampato in parte a schermo tramite `SLP.head()`:\n",
    "- nella colonna `x` sono presenti tutti i punti di $\\mathbf{R}^2$ in cui volgio valutare la soluzione numerica\n",
    "- nella colonna `value` è presente la soluzione numerica\n",
    "- nella altre colonne `0,1` (che sono i nomi che ho dato alle due circonferenze, eventualmente si potrebbe cambiarne il nome in `Left,Right`) sono presenti i contributi alla *representation formula* delle due circonferenze.\n",
    "\n",
    "Alla fine di questa sezione vado a graficare come al solito $u^{inc},u^{scat}$ e $u^{tot}$.\n",
    "\n",
    "**Una nota su un'ottimizzazione eseguita nel codice**\n",
    "Si noti che le Bspline `Left` e `Right` non sono state subito allocate nel codice, ma ho prima allocato `bs` e ho calcolato come al solito $A^{Gal}_{ij}$ e i coefficienti $M_j\\left(\\mathbf{x}\\right)$. \n",
    "\n",
    "Nell'esempio che qui ho riportato ho usato per semplicità e per ottimizzare i tempi due circonferenze identiche: `Left` e `Right` sono infatti la copia di `bs`.\n",
    "\n",
    "```\n",
    "# due cerchi\n",
    "Left = bs.copy()\n",
    "Left.traslate_cp(rL)\n",
    "Left.traslate_slpB(rL)\n",
    "\n",
    "Right = bs.copy()\n",
    "Right.traslate_cp(rR)\n",
    "Right.traslate_slpB(rR)\n",
    "```\n",
    "\n",
    "Affinchè vadano a rappresentare due circonferenze distinte ho dovuto traslarle modificando i rispettivi control points: grazie alla partizione dell'unità per traslare la prima circonferenza di un vettore `rL` è sufficiente sommare ad ogni control points `rL`, analogamente per la seconda circonferenza, che è stata traslata di `rR`. Questo viene eseguito dalla funzione `traslate_cp`\n",
    "\n",
    "Traslando una Bspline la sua stiffness matrix rimane invariata, infatti il codice da me implementato è in grado di *controllare* se `Left` e `Right` avevano già calcolato tale variabile: nella funzione `BEM_disconnected` i blocchi sulla diagonale di  $A^{Gal}_{ij}$ non vengono infatti calcolati perché erano già stati calcolati per `bs`. \n",
    "\n",
    "Bisogna però tener conto che una volta traslata una Bspline, i coefficienti $M_j\\left(\\mathbf{x}\\right)$ vanno modificati: anziché ricalcolarli da zero per `Left` e `Right` vado soltanto a *cambiare il nome agli indici*, cioè vado a traslare di `rL` e `rR` i punti $\\mathbf{x}$ che compaiono in $M_j\\left(\\mathbf{x}\\right)$. Questo viene eseguito dalla funzione `traslate_slpB`.\n",
    "\n",
    "Ovviamente i punti in cui voglio calcolare la soluzione numerica dovranno essere contenuti sia nei coefficienti $\\mathbf{x}$  di `Left` che di `Right`: all'interno della funzione `BEM_disconnected` si vanno a calcolare soltanto i punti mancanti, questo comporta un notevole risparmio di tempo se i punti richiesti sono tanti e `rL` e `rR` sono *piccoli*.\n",
    "\n",
    "Si faccia attenzione che per ottimizzare al meglio questo processo ho impostato `rL` e `rL` in modo tale che i nuovi punti traslati si andassero a sovrapporre a quelli vecchi, in modo tale da poter *riciclare* il maggior numero di punti possibili: non ho impostato `rL` e `rL` *a caso* ma li ho impostati come *n* volte la spaziatura dei punti che avevo generato. Questo è comprensibile se visualizzato nel codice\n",
    "```\n",
    "#traslo\n",
    "deltaX = int(1./(x[1]-x[0]))*(x[1]-x[0])\n",
    "deltaY = int(1./(y[1]-y[0]))*(y[1]-y[0])\n",
    "\n",
    "rL = [-deltaX,deltaY]\n",
    "rR = [ deltaX, -deltaY]\n",
    "```\n",
    "dove `x` e `y` erano stati definiti in questo modo\n",
    "```\n",
    "#punti XY\n",
    "Nx= 80\n",
    "Ny = 80\n",
    "x = np.linspace(xmin,xmax,Nx)\n",
    "y = np.linspace(ymin,ymax,Ny)\n",
    "X,Y = np.meshgrid(x,y)\n",
    "```"
   ]
  },
  {
   "cell_type": "markdown",
   "metadata": {},
   "source": [
    "## Definition"
   ]
  },
  {
   "cell_type": "code",
   "execution_count": null,
   "metadata": {
    "code_folding": [
     0
    ]
   },
   "outputs": [],
   "source": [
    "#definisco la dimensionaità:\n",
    "sh = Bs.shape(1,2)\n",
    "#sh.show()\n",
    "\n",
    "#defiisco i knot vector\n",
    "P=1 #polinomial degree\n",
    "N=20 #base caridnality\n",
    "xminBs = 0.0\n",
    "xmaxBs = 1.0\n",
    "\n",
    "\n",
    "#\n",
    "#kv = Bs.uniform_open_kv(xmin,xmax,p=P,n=N)#Bs.knot_vector(P,N,v)\n",
    "#kv = periodic_kv(xmin,xmax,p=P,n=N)\n",
    "kv = Bs.periodic_kv(xminBs,xmaxBs,p=P,n=N)\n",
    "#kv.show()\n",
    "\n",
    "#alloco la Bspline\n",
    "bs = Bs.Bspline(sh,[kv],properties={\"periodic\":[True]})"
   ]
  },
  {
   "cell_type": "code",
   "execution_count": null,
   "metadata": {
    "code_folding": [
     0
    ]
   },
   "outputs": [],
   "source": [
    "#\n",
    "k_in = 30/4*np.asarray([np.sqrt(3.)/2.,0.5])\n",
    "wavevector = 7.5#np.sqrt(np.sum(np.power(k_in,2.0)))\n",
    "print(\"w:\",wavevector)\n",
    "print(\"h:\",np.pi/(5*wavevector))\n",
    "I = np.complex(0,1)\n",
    "\n",
    "xmin = -3\n",
    "xmax = 3\n",
    "ymin = -3\n",
    "ymax = 3"
   ]
  },
  {
   "cell_type": "code",
   "execution_count": null,
   "metadata": {
    "ExecuteTime": {
     "end_time": "2021-03-19T10:22:46.955978Z",
     "start_time": "2021-03-19T10:22:46.932993Z"
    },
    "code_folding": [
     0
    ]
   },
   "outputs": [],
   "source": [
    "#function\n",
    "x0 = 0.0\n",
    "y0 = 0.0\n",
    "a = 1.0\n",
    "b = 1.0\n",
    "radius = 1.0\n",
    "def func(t):\n",
    "    #print(cpz)\n",
    "    cpx = a*np.cos(2*np.pi*t)+x0#np.random.rand(N)\n",
    "    cpy = b*np.sin(2*np.pi*t)+y0#np.random.rand(N)\n",
    "    out = np.zeros(shape=(len(t),2))\n",
    "    for i in range(len(t)):\n",
    "        out[i,0] = cpx[i]\n",
    "        out[i,1] = cpy[i]\n",
    "    return out"
   ]
  },
  {
   "cell_type": "code",
   "execution_count": null,
   "metadata": {
    "ExecuteTime": {
     "end_time": "2021-03-19T10:22:51.472951Z",
     "start_time": "2021-03-19T10:22:51.449965Z"
    },
    "code_folding": [
     0
    ]
   },
   "outputs": [],
   "source": [
    "#ATTENZIONE: mi servono dei punti distribuiti in modo uniforme\n",
    "# per come ho costruito func so che\n",
    "# func(0.) = func(1.)\n",
    "# quindi genero un punto in più\n",
    "t = np.linspace(0,1,N+1,endpoint=True)#[0:-2]\n",
    "cp = func(t)\n",
    "for i in range(len(t)):\n",
    "    #bs._cp[i] = cp[i]\n",
    "    bs.set_cp(i,cp[i])\n",
    "cpx = cp[:,0]\n",
    "cpy = cp[:,1]"
   ]
  },
  {
   "cell_type": "code",
   "execution_count": null,
   "metadata": {},
   "outputs": [],
   "source": [
    "#bs.control_points()"
   ]
  },
  {
   "cell_type": "code",
   "execution_count": null,
   "metadata": {
    "code_folding": [
     0
    ]
   },
   "outputs": [],
   "source": [
    "#files\n",
    "file_dir = \"files/BEM/circle/\"\n",
    "suffix = \"P=\"+str(P)+\"-N=\"+str(N)+\"-k=\"+str(wavevector)#+\".csv\"\n",
    "suffix_png = \"P=\"+str(P)+\"-N=\"+str(N)+\"-k=\"+str(wavevector)+\".png\"\n",
    "\n",
    "directory = \"files/BEM/two-circles/\""
   ]
  },
  {
   "cell_type": "markdown",
   "metadata": {},
   "source": [
    "## Stiffness Matrix"
   ]
  },
  {
   "cell_type": "code",
   "execution_count": null,
   "metadata": {
    "code_folding": [
     0
    ]
   },
   "outputs": [],
   "source": [
    "#stiffness matrix\n",
    "READ = True\n",
    "SAVE = False\n",
    "file = directory+\"bs-sm-BEM-\"+suffix+\".csv\"\n",
    "print(file)\n",
    "\n",
    "if os.path.exists(file) and READ == True :\n",
    "    sm = bs.load(\"sm-BEM\",file)\n",
    "else :\n",
    "    sm = bs.stiffness_matrix_BEM(k=wavevector,opts={\"print\":True,\"N\":[6],\"ready_sm_BEM\":False})\n",
    "    if SAVE == True :\n",
    "        bs.save(\"sm-BEM\",file)\n",
    "sm.head()"
   ]
  },
  {
   "cell_type": "code",
   "execution_count": null,
   "metadata": {
    "code_folding": []
   },
   "outputs": [],
   "source": [
    "#grafico\n",
    "sm = bs.stiffness_matrix_BEM()\n",
    "plot_matrix(sm)"
   ]
  },
  {
   "cell_type": "markdown",
   "metadata": {},
   "source": [
    "## Single Layer Potential Basis"
   ]
  },
  {
   "cell_type": "code",
   "execution_count": null,
   "metadata": {
    "code_folding": []
   },
   "outputs": [],
   "source": [
    "#punti XY\n",
    "Nx= 80\n",
    "Ny = 80\n",
    "x = np.linspace(xmin,xmax,Nx)\n",
    "y = np.linspace(ymin,ymax,Ny)\n",
    "X,Y = np.meshgrid(x,y)\n",
    "\n",
    "XY0 = np.zeros((Nx*Ny,2))\n",
    "XY0[:,0] = X.reshape((Nx*Ny,))\n",
    "XY0[:,1] = Y.reshape((Nx*Ny,))\n",
    "\n",
    "internal = bs.internal_points(XY=XY0,NN=1000,xmin=0.,xmax=1.,opts=None)\n",
    "XY = XY0[ np.logical_not(internal) ]\n",
    "print(len(XY))#,\" = \",len(XYslp)/3600,\"h\")\n",
    "\n",
    "#tolgo elementi interni\n",
    "#radius = np.asarray([np.sqrt(np.sum(np.power(i,2.0))) for i in XY])\n",
    "#XYslp = XY#[radius > 1.0]\n",
    "#print(len(XYslp),\" = \",len(XYslp)*3/3600,\"h\")"
   ]
  },
  {
   "cell_type": "code",
   "execution_count": null,
   "metadata": {
    "code_folding": [
     0
    ]
   },
   "outputs": [],
   "source": [
    "#Single Layer Potential per le funzioni di base\n",
    "READ = True\n",
    "SAVE = True\n",
    "\n",
    "file = directory+\"bs-slpB-BEM-\"+suffix+\".csv\"\n",
    "print(file)\n",
    "\n",
    "if os.path.exists(file) and READ == True :\n",
    "    slp = bs.load(\"slp-BEM\",file)\n",
    "#else :\n",
    "\n",
    "# I can update it adding some  points\n",
    "slpB = bs.single_layer_potential_basis_BEM(XY=XY,k=wavevector,opts={\"print\":False,\"N\":[6]})\n",
    "\n",
    "if SAVE == True :\n",
    "    bs.save(\"slp-BEM\",file)\n",
    "    \n",
    "slp.head()"
   ]
  },
  {
   "cell_type": "code",
   "execution_count": null,
   "metadata": {
    "code_folding": []
   },
   "outputs": [],
   "source": [
    "#traslo\n",
    "deltaX = int(1./(x[1]-x[0]))*(x[1]-x[0])\n",
    "deltaY = int(1./(y[1]-y[0]))*(y[1]-y[0])\n",
    "\n",
    "rL = [-deltaX,deltaY]\n",
    "rR = [ deltaX, -deltaY]"
   ]
  },
  {
   "cell_type": "code",
   "execution_count": null,
   "metadata": {
    "code_folding": [
     0
    ]
   },
   "outputs": [],
   "source": [
    "#valutazione della Bspline\n",
    "NN = 1000\n",
    "t = np.linspace(xminBs,xmaxBs,NN,endpoint=True)\n",
    "df = pd.DataFrame(index=np.arange(0,len(t)),columns=np.arange(0,6),dtype=object)\n",
    "index = [  (\"left\",\"x\") , (\"left\",\"y\"),\\\n",
    "          (\"right\",\"x\") , (\"right\",\"y\")]\n",
    "mi = pd.MultiIndex.from_tuples(index)\n",
    "df = df.reindex(columns=mi)\n",
    "\n",
    "df[\"t\"]      = t\n",
    "\n",
    "xy = bs.evaluate(t)\n",
    "#c = center.evaluate(t)\n",
    "#d =  down.evaluate(t)\n",
    "\n",
    "df[(\"left\",\"x\")]  = xy[:,0] + rL[0]\n",
    "df[(\"left\",\"y\")]  = xy[:,1] + rL[1]\n",
    "\n",
    "df[(\"right\",\"x\")] = xy[:,0] + rR[0]\n",
    "df[(\"right\",\"y\")] = xy[:,1] + rR[1]\n",
    "\n",
    "\n",
    "df"
   ]
  },
  {
   "cell_type": "code",
   "execution_count": null,
   "metadata": {
    "code_folding": [
     0
    ]
   },
   "outputs": [],
   "source": [
    "# due cerchi\n",
    "Left = bs.copy()\n",
    "Left.traslate_cp(rL)\n",
    "Left.traslate_slpB(rL)\n",
    "\n",
    "Right = bs.copy()\n",
    "Right.traslate_cp(rR)\n",
    "Right.traslate_slpB(rR)"
   ]
  },
  {
   "cell_type": "code",
   "execution_count": null,
   "metadata": {
    "code_folding": [
     0
    ]
   },
   "outputs": [],
   "source": [
    "# punti interni\n",
    "XYleft = np.asarray([ np.asarray(i) for i in Left._slp_BEM.index ])\n",
    "XYright = np.asarray([ np.asarray(i) for i in Right._slp_BEM.index ])\n",
    "\n",
    "internal = Left.internal_points(XY=XY0,NN=1000,xmin=0.,xmax=1.,opts=None)\n",
    "XYL = XY0[ np.logical_not(internal) ]\n",
    "\n",
    "internal = Right.internal_points(XY=XYL,NN=1000,xmin=0.,xmax=1.,opts=None)\n",
    "XY = XYL[ np.logical_not(internal)] \n",
    "print(len(XY))"
   ]
  },
  {
   "cell_type": "code",
   "execution_count": null,
   "metadata": {
    "code_folding": [
     0
    ]
   },
   "outputs": [],
   "source": [
    "#grafico\n",
    "fig = plt.figure ( 0 , figsize = ( 15, 5 ) )\n",
    "#\n",
    "ax = fig.add_subplot(111)\n",
    "plt.plot(df[(\"left\",\"x\")], df[(\"left\",\"y\")], color= \"black\",label=\"up\")\n",
    "plt.plot(df[(\"right\",\"x\")], df[(\"right\",\"y\")], color= \"black\",label=\"center\")\n",
    "plt.scatter(XY[:,0],XY[:,1], color= \"blue\",label=\"points\",s=0.1)\n",
    "\n",
    "#plt.scatter(XYleft[:,0],XYleft[:,1], color= \"red\",label=\"points\",s=0.1)\n",
    "#plt.scatter(XYright[:,0],XYright[:,1], color= \"green\",label=\"points\",s=0.1)\n",
    "\n",
    "#plt.grid()\n",
    "#plt.legend()\n",
    "plt.xlim(xmin,xmax)\n",
    "plt.ylim(ymin,ymax)\n",
    "ax.set_aspect('equal')\n",
    "plt.show()"
   ]
  },
  {
   "cell_type": "code",
   "execution_count": null,
   "metadata": {
    "code_folding": [
     0
    ]
   },
   "outputs": [],
   "source": [
    "#Single Layer Potential per le funzioni di base\n",
    "READ = True\n",
    "SAVE = True\n",
    "\n",
    "file = directory+\"Left-slpB-BEM-\"+suffix+\".csv\"\n",
    "print(file)\n",
    "\n",
    "if os.path.exists(file) and READ == True :\n",
    "    slpBL = Left.load(\"slp-BEM\",file)\n",
    "#else :\n",
    "\n",
    "slpBL = Left.single_layer_potential_basis_BEM(XY=XY,k=wavevector,\\\n",
    "                                              opts={\"print\":False,\"prec\":1e-6,\"ready_slp_BEM\":True})\n",
    "if SAVE == True :\n",
    "    Left.save(\"slp-BEM\",directory+\"Left-slpB-BEM-\"+suffix+\".csv\")\n",
    "    \n",
    "slpBL.head()"
   ]
  },
  {
   "cell_type": "code",
   "execution_count": null,
   "metadata": {
    "code_folding": [
     0
    ]
   },
   "outputs": [],
   "source": [
    "#Single Layer Potential per le funzioni di base\n",
    "READ = True\n",
    "SAVE = True\n",
    "\n",
    "file = directory+\"Right-slpB-BEM-\"+suffix+\".csv\"\n",
    "print(file)\n",
    "\n",
    "if os.path.exists(file) and READ == True :\n",
    "    slpBR = Right.load(\"slp-BEM\",file)\n",
    "#else :\n",
    "\n",
    "slpBR = Right.single_layer_potential_basis_BEM(XY=XY,k=wavevector,\\\n",
    "                                              opts={\"print\":False,\"prec\":1e-6,\"ready_slp_BEM\":True})\n",
    "if SAVE == True :\n",
    "    Right.save(\"slp-BEM\",directory+\"Right-slpB-BEM-\"+suffix+\".csv\")\n",
    "    \n",
    "slpBR.head()"
   ]
  },
  {
   "cell_type": "markdown",
   "metadata": {},
   "source": [
    "## Solution"
   ]
  },
  {
   "cell_type": "code",
   "execution_count": null,
   "metadata": {
    "code_folding": [
     0
    ]
   },
   "outputs": [],
   "source": [
    "#plane wave\n",
    "def plane_wave(xx): # soluzione\n",
    "    xx = np.asarray(xx)\n",
    "    theta = np.dot(xx,k_in)\n",
    "    return np.exp(1.j*theta)"
   ]
  },
  {
   "cell_type": "code",
   "execution_count": null,
   "metadata": {
    "code_folding": []
   },
   "outputs": [],
   "source": [
    "# stiffness matrix\n",
    "SM = pd.read_csv(directory+\"SM-\"+suffix+\".csv\",skiprows=2)\n",
    "del SM[\"index\"]\n",
    "SM = SM.applymap(np.complex)\n",
    "index,mi,last,first = Bs.multi_index_disconnected([Left,Right],[0,1],None)\n",
    "df0 = pd.DataFrame(data = np.asarray(SM),columns=index,index=index)\n",
    "SM = df0.reindex(columns=mi,index=mi)\n",
    "Bs._sm_BEM_disc = SM.copy()\n",
    "Bs._ready_sm_BEM_disc = True\n",
    "SM.head()"
   ]
  },
  {
   "cell_type": "code",
   "execution_count": null,
   "metadata": {
    "code_folding": []
   },
   "outputs": [],
   "source": [
    "#metodo di Galerkin\n",
    "bs_arr = [Left,Right]\n",
    "opts = {\"print\":False,\"N\":[6]}\n",
    "SLP,Xnp,Valnp = Bs.BEM_disconnected(bs=bs_arr,uinc=plane_wave,k=wavevector,XY=XY,opts=opts)"
   ]
  },
  {
   "cell_type": "code",
   "execution_count": null,
   "metadata": {},
   "outputs": [],
   "source": [
    "SLP.head()"
   ]
  },
  {
   "cell_type": "code",
   "execution_count": null,
   "metadata": {},
   "outputs": [],
   "source": [
    "SLP.to_csv(directory+\"solution-\"+suffix+\".csv\",index_label=\"index\")\n",
    "Bs._sm_BEM_disc.to_csv(directory+\"SM-\"+suffix+\".csv\",index_label=\"index\")\n",
    "Bs._lv_BEM_disc.to_csv(directory+\"LV-\"+suffix+\".csv\",index_label=\"index\")"
   ]
  },
  {
   "cell_type": "code",
   "execution_count": null,
   "metadata": {
    "deletable": false,
    "editable": false,
    "run_control": {
     "frozen": true
    }
   },
   "outputs": [],
   "source": [
    "plot_matrix(Bs.get_block(SM,0,0,drop=True))"
   ]
  },
  {
   "cell_type": "code",
   "execution_count": null,
   "metadata": {
    "deletable": false,
    "editable": false,
    "run_control": {
     "frozen": true
    }
   },
   "outputs": [],
   "source": [
    "plot_matrix(Bs.get_block(SM,1,1,drop=True))"
   ]
  },
  {
   "cell_type": "code",
   "execution_count": null,
   "metadata": {
    "deletable": false,
    "editable": false,
    "run_control": {
     "frozen": true
    }
   },
   "outputs": [],
   "source": [
    "plot_matrix(Bs.get_block(SM,0,1,drop=True))"
   ]
  },
  {
   "cell_type": "code",
   "execution_count": null,
   "metadata": {
    "deletable": false,
    "editable": false,
    "run_control": {
     "frozen": true
    }
   },
   "outputs": [],
   "source": [
    "plot_matrix(Bs.get_block(SM,1,0,drop=True))"
   ]
  },
  {
   "cell_type": "code",
   "execution_count": null,
   "metadata": {
    "code_folding": [
     0
    ]
   },
   "outputs": [],
   "source": [
    "#uinc\n",
    "Uinc = plane_wave(XY)#.reshape(Nx,Ny).transpose()\n",
    "scat = np.asarray(SLP[\"value\"],dtype=np.complex)#Valnp\n",
    "total = Uinc + scat"
   ]
  },
  {
   "cell_type": "code",
   "execution_count": null,
   "metadata": {
    "ExecuteTime": {
     "end_time": "2021-03-19T08:41:02.586654Z",
     "start_time": "2021-03-19T08:40:53.075530Z"
    },
    "code_folding": [
     0
    ]
   },
   "outputs": [],
   "source": [
    "#grafico\n",
    "fig = plt.figure ( 0 , figsize = ( 13 , 13 ) )\n",
    "\n",
    "cmap = 'RdYlBu'\n",
    "\n",
    "x = [df[(\"left\",\"x\")],df[(\"right\",\"x\")]]\n",
    "y = [df[(\"left\",\"y\")],df[(\"right\",\"y\")]]\n",
    "   \n",
    "plot_sol_disc(fig,331,x,y,XY[:,0],XY[:,1],Uinc.real,\"$u_{inc}$ : real\",cmap)\n",
    "plot_sol_disc(fig,334,x,y,XY[:,0],XY[:,1],Uinc.imag,\"$u_{inc}$ : imag\",cmap)\n",
    "plot_sol_disc(fig,337,x,y,XY[:,0],XY[:,1],np.absolute(Uinc),\"$u_{inc}$ : abs\",cmap)\n",
    "\n",
    "plot_sol_disc(fig,332,x,y,XY[:,0],XY[:,1],scat.real,\"$u_{scat}$ : real\",cmap)\n",
    "plot_sol_disc(fig,335,x,y,XY[:,0],XY[:,1],scat.imag,\"$u_{scat}$ : imag\",cmap)\n",
    "plot_sol_disc(fig,338,x,y,XY[:,0],XY[:,1],np.absolute(scat),\"$u_{scat}$ : abs\",cmap)\n",
    "\n",
    "plot_sol_disc(fig,333,x,y,XY[:,0],XY[:,1],total.real,\"$u_{tot}$ : real\",cmap)\n",
    "plot_sol_disc(fig,336,x,y,XY[:,0],XY[:,1],total.imag,\"$u_{tot}$ : imag\",cmap)\n",
    "plot_sol_disc(fig,339,x,y,XY[:,0],XY[:,1],np.absolute(total),\"$u_{tot}$ : abs\",cmap)\n",
    "\n",
    "plt.tight_layout()\n",
    "\n",
    "sol_png = directory+\"solution-2-\"+suffix_png\n",
    "plt.savefig(sol_png)\n",
    "\n",
    "plt.show()"
   ]
  },
  {
   "cell_type": "code",
   "execution_count": null,
   "metadata": {},
   "outputs": [],
   "source": []
  }
 ],
 "metadata": {
  "kernelspec": {
   "display_name": "Python 3",
   "language": "python",
   "name": "python3"
  },
  "language_info": {
   "codemirror_mode": {
    "name": "ipython",
    "version": 3
   },
   "file_extension": ".py",
   "mimetype": "text/x-python",
   "name": "python",
   "nbconvert_exporter": "python",
   "pygments_lexer": "ipython3",
   "version": "3.8.3"
  },
  "latex_envs": {
   "LaTeX_envs_menu_present": true,
   "autoclose": true,
   "autocomplete": true,
   "bibliofile": "biblio.bib",
   "cite_by": "apalike",
   "current_citInitial": 1,
   "eqLabelWithNumbers": true,
   "eqNumInitial": 1,
   "hotkeys": {
    "equation": "Ctrl-E",
    "itemize": "Ctrl-I"
   },
   "labels_anchors": false,
   "latex_user_defs": false,
   "report_style_numbering": false,
   "user_envs_cfg": false
  },
  "toc": {
   "base_numbering": 1,
   "nav_menu": {},
   "number_sections": true,
   "sideBar": true,
   "skip_h1_title": false,
   "title_cell": "Table of Contents",
   "title_sidebar": "Contents",
   "toc_cell": false,
   "toc_position": {
    "height": "446px",
    "left": "244px",
    "top": "128px",
    "width": "258.733px"
   },
   "toc_section_display": true,
   "toc_window_display": true
  },
  "varInspector": {
   "cols": {
    "lenName": 16,
    "lenType": 16,
    "lenVar": 40
   },
   "kernels_config": {
    "python": {
     "delete_cmd_postfix": "",
     "delete_cmd_prefix": "del ",
     "library": "var_list.py",
     "varRefreshCmd": "print(var_dic_list())"
    },
    "r": {
     "delete_cmd_postfix": ") ",
     "delete_cmd_prefix": "rm(",
     "library": "var_list.r",
     "varRefreshCmd": "cat(var_dic_list()) "
    }
   },
   "position": {
    "height": "144.85px",
    "left": "997px",
    "right": "20px",
    "top": "120px",
    "width": "350px"
   },
   "types_to_exclude": [
    "module",
    "function",
    "builtin_function_or_method",
    "instance",
    "_Feature"
   ],
   "window_display": false
  }
 },
 "nbformat": 4,
 "nbformat_minor": 4
}
