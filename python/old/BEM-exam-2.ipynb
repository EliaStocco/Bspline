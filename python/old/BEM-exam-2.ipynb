{
 "cells": [
  {
   "cell_type": "markdown",
   "metadata": {},
   "source": [
    "# Introduzione"
   ]
  },
  {
   "cell_type": "markdown",
   "metadata": {},
   "source": [
    "## Trattazione teorica"
   ]
  },
  {
   "cell_type": "markdown",
   "metadata": {},
   "source": [
    "### Bspline"
   ]
  },
  {
   "cell_type": "markdown",
   "metadata": {},
   "source": [
    "Questo notebook è una presentazione delle possibili applicazioni della libreria `pyBspline`, contenuta nel file omonimo.\n",
    "Questa libreria contiene 3 classi, di cui 2 *di appoggio*, `shape` e `knot_vector`, che servono per definire i parametri di input per allocare un oggetto della classe `Bspline`, la terza e principale classe della libreria. \n",
    "Quest'ultima classe permette di gestire delle funzioni Bspline:\n",
    "- scegliendo il grado polinomiale `P` delle funzioni di base dello spazio delle Bspline\n",
    "- scegliendo il numero `N` di funzioni di base dello spazio\n",
    "- scegliendo il knot vector `v` -\n",
    "- scegliendo la dimensionalità del dominio delle funzioni: è possibil usare curve Bspline, defininendo un solo knot vector, superficie Bspline definendo 2 knot vector, ecc...\n",
    "- scegliendo la dimensionalità del codominio: se i control points della Bspline sono sono scalari allora si va a definire una funzione scalare, se hanno valori vettoriali è possibile andare a descrivere curve e superfici."
   ]
  },
  {
   "cell_type": "markdown",
   "metadata": {},
   "source": [
    "### Equazione di Helmholtz"
   ]
  },
  {
   "cell_type": "markdown",
   "metadata": {},
   "source": [
    "La libreria `pyBspline` è stata poi implementata per poter risolvere l'equazione di Helmholtz in $\\mathbf{R}^2$ in domini non semplicemente connessi tramite l'approccio detto BEM: Boundary Element Method.\n",
    "\n",
    "Data un'onda incidente $u^{inc}$ (soluzione dell'equazion di Helmholtz) su un ostacolo $\\Omega_{-}$ con bordo $\\Gamma$, vogliamo trovare la funzione $u^{scat}$ \"emessa\" dell'ostacolo affinchè sia valida la seguente equazione\n",
    "\\begin{align*}\n",
    "\\Delta u^{scat} + k^2 u^{scat} = 0 & \\quad\\text{in} \\quad \\quad\\Omega_{+}\\\\\n",
    "\\gamma^{+} \\left( u^{scat} + u^{inc} \\right) = 0 & \\quad\\text{in} \\quad\\Gamma\\\\\n",
    "u^{scat} \\quad\\text{è uscente}\n",
    "\\end{align*}\n",
    "\n",
    "Questo è quello che viene detto *Sound-soft scattering problem*, o SSSP, a seguito delle condizioni al bordo $\\Gamma$ imposte. Questo problema si può mostrare essere riconducibile al problema detto EDP (*Exterior Dirichlet problem):\n",
    "\\begin{align*}\n",
    "\\Delta u + k^2 u = 0 & \\quad\\text{in} \\quad \\quad\\Omega_{+}\\\\\n",
    "\\gamma^{+} u  = g_D & \\quad\\text{in} \\quad\\Gamma\\\\\n",
    "u \\quad\\text{è uscente}\n",
    "\\end{align*}\n",
    "SSSp è riconducibile a EDP se\n",
    "\\begin{align*}\n",
    "u = u^{scat}\\\\\n",
    "g_D = -  \\gamma^{+} u^{inc}\n",
    "\\end{align*}"
   ]
  },
  {
   "cell_type": "markdown",
   "metadata": {},
   "source": [
    "### BEM"
   ]
  },
  {
   "cell_type": "markdown",
   "metadata": {},
   "source": [
    "Definendo la soluzione fondamentale dell'equazione di Helmholtz in $\\mathbf{R}^2$\n",
    "\\begin{equation*}\n",
    "\\Phi_k \\left(\\mathbf{x},\\mathbf{y}\\right) \\equiv \\frac{i}{4} H^{\\left(1\\right)}_{0}\\left(k\\lvert \\mathbf{x}-\\mathbf{y}\\rvert\\right) \\quad\\text{con}\\quad\\mathbf{x}\\neq \\mathbf{y} \\in \\mathbf{R}^2\n",
    "\\end{equation*}\n",
    "è pissibile prendere una qualunque sovrapposizione lineare di soluzioni fondamentali per generare un'altra soluzione dell'equazione di Helmholtz. \n",
    "\n",
    "Per trovare la corretta sovrapposizione lineare che porti alle condizioni al bordo richieste è sufficiente trovare $\\psi$ definita in $\\Gamma$ tale per cui risolva la BIE (*Boundary Integral Equation*) \n",
    "\\begin{equation*}\n",
    "S\\psi = g_D \\quad\\text{in}\\quad\\Gamma\n",
    "\\end{equation*}\n",
    "dove abbiamo definto il *single-layer operator* $S$ come\n",
    "\\begin{equation*}\n",
    "\\left(S\\psi\\right)\\left( \\mathbf{x}\\right) = \\int_{\\Gamma} \\Phi_k \\left(\\mathbf{x},\\mathbf{y}\\right) \\psi \\left(\\mathbf{y}\\right)ds\\left(\\mathbf{y}\\right) \\quad\\text{con}\\quad\\mathbf{x} \\in \\Gamma\n",
    "\\end{equation*}\n",
    "\n",
    "In questo modo è possibile trovare la soluzione $u$ del EDP tramite la *representation formula* \n",
    "\\begin{equation*}\n",
    "u = \\mathcal{S}\\psi \\quad\\text{in}\\quad\\Omega_{+}\n",
    "\\end{equation*}\n",
    "\n",
    "dove abbiamo definito il *single-layer potential* $\\mathcal{S}$ come\n",
    "\\begin{equation*}\n",
    "\\left(\\mathcal{S}\\psi\\right)\\left( \\mathbf{x}\\right) = \\int_{\\Gamma} \\Phi_k \\left(\\mathbf{x},\\mathbf{y}\\right) \\psi \\left(\\mathbf{y}\\right)ds\\left(\\mathbf{y}\\right) \\quad\\text{con}\\quad\\mathbf{x}\\in \\Omega_{+}\n",
    "\\end{equation*}\n",
    "\n",
    "Notiamo subito che la differenza tra $S$ e $\\mathcal{S}$ sta solo nel fatto che nel primo caso $\\mathbf{x}\\in\\Gamma$ mentre nel socondo $\\mathbf{x}\\in\\Omega_{+}$, di conseguenza si può mostrare che \n",
    "\\begin{equation*}\n",
    "S\\psi = \\gamma^{+}\\left( \\mathcal{S}\\psi\\right)\n",
    "\\end{equation*}\n",
    "\n"
   ]
  },
  {
   "cell_type": "markdown",
   "metadata": {},
   "source": [
    "### Metodo di Galerkin"
   ]
  },
  {
   "cell_type": "markdown",
   "metadata": {},
   "source": [
    "Per risolvere la BIE è possibile sfruttare il metodo di Galerkin, cioè restringere lo spazio delle funzioni definite in $\\Gamma$ ad uno spazio discreto $V_N$ e trovare $\\psi_N\\in V_N$ tale per cui\n",
    "\\begin{equation*}\n",
    "\\mathcal{A}\\left(\\psi_N,\\xi_N\\right) = \\int_{\\Gamma} \\left( S \\psi_N \\right) \\bar{\\xi}_N ds = \\int_{\\Gamma} g_D \\bar{\\xi}_N = \\mathcal{F}\\left(\\xi_N\\right) \\quad\\forall\\xi_N\\in V_N\n",
    "\\end{equation*}\n",
    "\n",
    "La soluzione sarà una sovrapposizione lineare delle funzioni di base dello spazio $V_N$, cioè\n",
    "\\begin{equation*}\n",
    "\\psi_N = \\sum_{j=1}^{N} c_j \\phi_j\n",
    "\\end{equation*}\n",
    "\n",
    "E' possibile trovare i coefficienti $c_j$ risolvendo un sistema lineare con matrice dei coefficienti $A^{Gal}_{ij}$ e vettore dei termini noti $F^{Gal}_j$ definiti nel seguente modo\n",
    "\\begin{align*}\n",
    "A^{Gal}_{ji} & = \\int_{\\Gamma} \\left( S \\phi_i \\right) \\bar{\\phi}_j ds\\left(\\mathbf{x}\\right) =%\n",
    "\\int_{\\Gamma} \\int_{\\Gamma} \\Phi_k\\left(\\mathbf{x},\\mathbf{y}\\right) \\phi_i\\left(\\mathbf{y}\\right) \\bar{\\phi}_j\\left(\\mathbf{x}\\right) ds\\left(\\mathbf{y}\\right)ds\\left(\\mathbf{x}\\right)\\\\\n",
    "F^{Gal}_j & = \\int_{\\Gamma} g_D\\left( \\mathbf{x} \\right) \\bar{\\phi}_j \\left(\\mathbf{x}\\right)ds\\left(\\mathbf{x}\\right)\n",
    "\\end{align*}\n"
   ]
  },
  {
   "cell_type": "markdown",
   "metadata": {},
   "source": [
    "### IGA"
   ]
  },
  {
   "cell_type": "markdown",
   "metadata": {},
   "source": [
    "Data una Bspline che definisce una curva o una superficie è possibile sfruttare l'approccio detto di *IsoGeometric Analysis* per definire su tale curva o superficie delle funzioni: negli approcci FEM o BEM il dominio delle funzioni di base $\\Gamma$ diventa una \"varietà\" parametrizzata dalle Bspline.\n",
    "Come conseguenza di tale approccio, che ha tra i vantaggi la possibilità di poter rappresentare anche domini $\\Gamma$ curvi (alcuni anche in modo esatto), gli integrali che il metodo di Galerkin richiede di calcolare non vengono valutati su $\\Gamma$ ma in $\\left[0,1\\right]$. Questo perché anche le funzioni di base apparteneti a $V_N$ e definite in $\\Gamma$ vengono \"riscritte\" in funzioni Bspline scalari definite in $\\left[0,1\\right]$. Le funzioni di $V_N$ vengono infatti scelte in modo tale che \n",
    "\\begin{equation*}\n",
    "\\phi_i \\left(\\mathbf{x}\\right) = \\phi_i \\left(\\mathbf{x}\\left(t\\right)\\right) = \\hat{\\phi_i}\\left(t\\right) \\quad\\text{con}\\quad\\,t\\in  \\left[0,1\\right]\n",
    "\\end{equation*}\n",
    "Dunque la funzione $t\\rightarrow \\mathbf{x}\\left(t\\right)$ è rappresentata da una curva Bspline `bs` definita in $\\left[0,1\\right]$ a valori in $\\mathbf{R}^2$ mentre le funzioni di base $\\hat{\\phi_i}\\left(t\\right)$ sono delle funzioni scalari Bspline, con lo stesso grado polinomiale `P`, con la stessa cardinalità `N`, con lo stesso knot vector `u` di `bs` ma a valori scalari.\n",
    "\n",
    "Gli integrali precedenti vengono dunque calcolati nel seguente modo\n",
    "\\begin{align*}\n",
    "A^{Gal}_{ji} & = %\n",
    "\\int_{\\left[0,1\\right]} \\int_{\\left[0,1\\right]} %\n",
    "\\Phi_k\\left(\\mathbf{x}\\left(t\\right),\\mathbf{x}\\left(s\\right)\\right) %\n",
    "\\hat{\\phi}_i\\left(s\\right) %\n",
    "\\hat{\\phi}_j\\left(t\\right)  %\n",
    "\\left| \\frac{\\partial \\mathbf{x}}{\\partial t} \\right| %\n",
    "\\left| \\frac{\\partial \\mathbf{x}}{\\partial s} \\right| %\n",
    "dt ds \\\\\n",
    "F^{Gal}_j & = %\n",
    "\\int_{\\left[0,1\\right]} %\n",
    "g_D\\left( \\mathbf{x}\\left(t\\right) \\right) %\n",
    "\\hat{\\phi}_j \\left(t\\right)%\n",
    "\\left| \\frac{\\partial \\mathbf{x}}{\\partial t} \\right|\n",
    "dt\n",
    "\\end{align*}\n",
    "Non è stato scritto il simbolo di complesso coniugato perché tanto nel nostro caso le funzioni di base sono tutte a valori reali.\n",
    "\n",
    "Ovviamente le funzioni di base sono polinomi a tratti, quindi il loro sostegno non è $\\left[0,1\\right]$ ma un intervallo in esso compreso: nel codice si è tenuto conto di questo fatto per ottimizzare il calcolo degli integrali.\n",
    "\n",
    "Per quanto riguarda la *representation formula*, l'integrale è stato valutato tramite un approccio IGA ma con una piccola ottimizzazione che sfrutta la linearità della soluzione\n",
    "\\begin{align*}\n",
    "\\left(\\mathcal{S}\\psi_N\\right)\\left( \\mathbf{x}\\right) & = %\n",
    "\\int_{\\Gamma} \\Phi_k \\left(\\mathbf{x},\\mathbf{y}\\right) %\n",
    "\\psi_N \\left(\\mathbf{y}\\right)ds\\left(\\mathbf{y}\\right) %\n",
    "\\quad\\text{con}\\quad\\mathbf{x}\\in \\Omega_{+}\\\\\n",
    "& = \\int_{\\Gamma} \\Phi_k \\left(\\mathbf{x},\\mathbf{y}\\right)%\n",
    "\\sum_{j=1}^{N} c_j \\phi_j \\left(\\mathbf{y}\\right)ds\\left(\\mathbf{y}\\right)\\\\\n",
    "& = \\sum_{j=1}^{N} c_j %\n",
    "\\int_{\\Gamma} \\Phi_k \\left(\\mathbf{x},\\mathbf{y}\\right)%\n",
    "\\phi_j \\left(\\mathbf{y}\\right)ds\\left(\\mathbf{y}\\right)\\\\\n",
    "& = \\sum_{j=1}^{N} c_j %\n",
    "\\int_{\\left[0,1\\right]} \\Phi_k \\left(\\mathbf{x},\\mathbf{y}\\left(t\\right)\\right)%\n",
    "\\hat{\\phi}_j \\left(t\\right) %\n",
    "\\left| \\frac{\\partial \\mathbf{y}}{\\partial t} \\right| dt\\\\\n",
    "& = \\sum_{j=1}^{N} c_j  M_j\\left(\\mathbf{x}\\right)\n",
    "\\end{align*}\n",
    "Dove gli elementi della sommatoria sono stati valutati separatamente per ogni punti $\\mathbf{x}$ richiesto, in questo modo variando l'onda incidente $u^{inc}$ (dunque variando i coefficienti $c_j$) non era necessario valutare di nuovo l'integrale appena scritto ma soltanto calcolare la somma dell'ultima riga"
   ]
  },
  {
   "cell_type": "markdown",
   "metadata": {},
   "source": [
    "## Implementazione"
   ]
  },
  {
   "cell_type": "markdown",
   "metadata": {},
   "source": [
    "Le principali funzioni dela classe `Bspline` per poter descrivere curve e superfici sono le seguenti:\n",
    "- `__init__` : inizializzazione della classe, è necessario specificare il grado polinomiale `P` (in tutto il notebook si sono usate solo Bspline di grado polinomiale `P`$=1$), il numero di gradi di libertà `N` che coincide con la dimensionalità dello spazio $V_N$ (si faccia attenzione che questo non coincide esattamete con *il numero di Bspline*, questo deriva dal fatto che stiamo usando Bspline periodiche, spiegherò meglio questo dettaglio in seguito), il knot vector `v` ed altri parametri i importanza secondaria\n",
    "- `get_cp` e `set_cp` : per impostare i valori dei control points e ottenerne il valore (i control points sono allocati come `ndarray` di `numpy`)\n",
    "- `control_points` : funzione ausiliaria per vedere *scritti bene* e in modo intuitivo i control points come dataframe di `pandas`\n",
    "- `basis_range`: restituisce l'effettivo dominio delle varie funzioni di base\n",
    "- `show`: stampa a schermo le informazioni principali della classe\n",
    "- `dim` e `codim`: restituisce la dimensionalità del dominio e del codominio, nel nostro caso saranno sempre rispettivamente `dim=1` e `codim=2` (per la Bspline che parametrizza $\\Gamma$) e `codim=1` per le funzioni di base\n",
    "- `evaluate` : funzione per valutare la Bspline in un punto `x`, viene usato l'algoritmo di deBoor, sfrutta altre funzioni di appoggio\n",
    "\n",
    "Il BEM è invece stato implementato tramite l'omonima funzione `BEM` che chiama in ordine le seguenti funzioni:\n",
    "- `stiffness_matrix_BEM`: calcola la matrice $A^{Gal}_{ij}$\n",
    "- `load_vector_BEM`: calcola il vettore $F^{Gal}_{i}$ data la una funzione $g_D$\n",
    "- `indirect_solution_BEM`: risolve il sistema lineare che deriva dal metodo di Galerkin\n",
    "- `single_layer_potential_basis_BEM`: calcola gli elementi $M_j\\left(\\mathbf{x}\\right)$ data una lista di punti\n",
    "- `single_layer_potential_BEM`: calcola la somma $\\left(\\mathcal{S}\\psi_N\\right)\\left( \\mathbf{x}\\right) = \\sum_{j=1}^{N} c_j  M_j\\left(\\mathbf{x}\\right)$\n",
    "\n",
    "Altre funzioni importanti e ampiamente usate sono:\n",
    "- `internal_points`: calcolo l'indice di avvolgimento di un punto per capire se questo è interno o esterno ad una curva\n",
    "- `derivative`: la derivata di una Bspline di grado `P`, con `N` funzioni di base e knot vector `v` è una Bspline di grado `P-1`, con `N-1` funzioni di base e knot vector `v` a cui sono stati eliminati il primo e l'ultimo knot\n",
    "- `_scalar`: data la Bspline `bs` che parametrizza il dominio $\\Gamma$ questa funzione restituisce una Bspline scalare, cioè una della funzioni $\\hat{\\phi}_i$ (è sufficiente cambiare i control points con la funzione `set_cp` per passare da una Bspline scalare all'altra)\n",
    "- `save` e `load`: scrivono/leggono su/da file alcune variabili contenute nella classe, come per esempio i control points, la stiffness_matrix, i coefficienti $M_j\\left(\\mathbf{x}\\right)$, etc...\n",
    "- `make_vector_periodic` e `make_matrix_periodic`: il numero di funzioni di *Bspline di base* non coincide con il numero di *gradi di libertà* o delle funzioni di base $\\hat{\\phi}_i$, questo perché la periodicità della curva è ottenuta fornzando alcuni control points ad essere uguali tra di loro. Bisogna tener conto di questa cosa nel calcolo della matrice $A^{Gal}_{ij}$ e del vettore $F^{Gal}_{i}$. Le due funzioni qui descritte *sistemano le cose*.\n"
   ]
  },
  {
   "cell_type": "markdown",
   "metadata": {},
   "source": [
    "# Pacchetti"
   ]
  },
  {
   "cell_type": "markdown",
   "metadata": {},
   "source": [
    "Carico le due librerie scritte da me:\n",
    "- `pyBspline`: libreria contenente 3 classi contenuta el file omonimo, la principale è la classe `Bspline` contenente tutti gli algoritmi e funzioni di interesse, le altre due sono le classi `shape` e `knot_vector`\n",
    "- `FFT`: libreria contenuta el file omonimo per gestire velocemente le trasformate di Fourier e la soluzione analitica dell'equazioen di Helmholtz nel caso di ostacolo circolare"
   ]
  },
  {
   "cell_type": "code",
   "execution_count": 1,
   "metadata": {},
   "outputs": [],
   "source": [
    "import pyBspline as Bs\n",
    "import FFT as esFFT"
   ]
  },
  {
   "cell_type": "markdown",
   "metadata": {},
   "source": [
    "Carico i pacchetti di Pyhton:\n",
    "- `numpy`: libreria numerica *di base*, ampiamente usata in tutto il notebook\n",
    "- `matplotlib`: libreria per fare i grafici, usata per fare qualunque grafico del notebook\n",
    "- `pandas`: libreria per gestire i dataframe, usata ampiamente in tutto il notebook per gestire i dataframe, per leggerli e scriverli da e su file ed manipolarli. \n",
    "- `scipy`: libreria numerica *avanzata*, usata poco\n",
    "- `os`: *operating system*, libreria per gestire i files\n",
    "- `re`: libreria per gestire le stringhe con le *regular expression*\n",
    "- `copy`: libreria per copiare *correttamente* una variabile o una classe"
   ]
  },
  {
   "cell_type": "code",
   "execution_count": 2,
   "metadata": {
    "ExecuteTime": {
     "end_time": "2021-03-19T10:21:45.659568Z",
     "start_time": "2021-03-19T10:21:33.124170Z"
    }
   },
   "outputs": [],
   "source": [
    "import numpy as np\n",
    "from numpy import random\n",
    "\n",
    "import matplotlib.pyplot as plt\n",
    "from matplotlib.colors import Normalize\n",
    "import matplotlib.cm as cm\n",
    "\n",
    "import scipy\n",
    "from scipy.misc import derivative\n",
    "from scipy.optimize import curve_fit\n",
    "import scipy.special\n",
    "\n",
    "import pandas as pd\n",
    "#from ipywidgets import interactive\n",
    "#import ipywidgets as widgets\n",
    "#from ipywidgets import AppLayout, FloatSlider\n",
    "#from mpl_toolkits.mplot3d import Axes3D\n",
    "import copy\n",
    "#from scipy import integrate\n",
    "#import itertools \n",
    "#import time\n",
    "import os\n",
    "\n",
    "import re\n",
    "\n",
    "#from imp import reload "
   ]
  },
  {
   "cell_type": "markdown",
   "metadata": {},
   "source": [
    "Definisco alcune funzioni usata più volte nel notebook per fare alcuni tipi di grafici *ricorrenti*"
   ]
  },
  {
   "cell_type": "code",
   "execution_count": 3,
   "metadata": {
    "code_folding": [
     0
    ]
   },
   "outputs": [],
   "source": [
    "###\n",
    "def norm(x):\n",
    "    return np.sqrt(np.sum(np.power(x,2.0)))        \n",
    "      "
   ]
  },
  {
   "cell_type": "code",
   "execution_count": 4,
   "metadata": {
    "ExecuteTime": {
     "end_time": "2021-03-19T10:23:32.553975Z",
     "start_time": "2021-03-19T10:23:32.515999Z"
    },
    "code_folding": [
     0
    ]
   },
   "outputs": [],
   "source": [
    "#\n",
    "def plot(fig,n,xB,yB,x,y,c,title,cmap):\n",
    "    \n",
    "    ax = fig.add_subplot(n)\n",
    "    ax.plot(xB, yB, color= \"black\",label=\"Bspline\")\n",
    "    sc = ax.scatter(x,y,c=c,cmap=cmap)\n",
    "    plt.colorbar(sc)\n",
    "    ax.set_aspect('equal')\n",
    "    plt.xlim(min(x),max(x))\n",
    "    plt.ylim(min(y),max(y))\n",
    "    plt.title(title)\n",
    "    \n",
    "    return"
   ]
  },
  {
   "cell_type": "code",
   "execution_count": 5,
   "metadata": {
    "code_folding": [
     0
    ]
   },
   "outputs": [],
   "source": [
    "#\n",
    "def plot_sol_disc(fig,n,xB_arr,yB_arr,x,y,c,title,cmap):\n",
    "    \n",
    "    ax = fig.add_subplot(n)\n",
    "    for xB,yB in zip(xB_arr,yB_arr):\n",
    "        ax.plot(xB, yB, color= \"black\",label=\"Bspline\")\n",
    "    sc = ax.scatter(x,y,c=c,cmap=cmap)\n",
    "    plt.colorbar(sc)\n",
    "    ax.set_aspect('equal')\n",
    "    plt.xlim(xmin,xmax)\n",
    "    plt.ylim(ymin,ymax)\n",
    "    plt.title(title)\n",
    "    \n",
    "    return"
   ]
  },
  {
   "cell_type": "code",
   "execution_count": 6,
   "metadata": {
    "code_folding": [
     0
    ]
   },
   "outputs": [],
   "source": [
    "#\n",
    "def plot_sol(fig,n,xB,yB,x,y,c,title):\n",
    "    \n",
    "    ax = fig.add_subplot(n)\n",
    "    ax.plot(xB, yB, color= \"black\",label=\"Bspline\")\n",
    "    sc = ax.scatter(x,y,c=c,cmap=cmap)\n",
    "    plt.colorbar(sc)\n",
    "    ax.set_aspect('equal')\n",
    "    plt.xlim(xmin,xmax)\n",
    "    plt.ylim(ymin,ymax)\n",
    "    plt.title(title)\n",
    "    \n",
    "    return"
   ]
  },
  {
   "cell_type": "code",
   "execution_count": 7,
   "metadata": {
    "code_folding": [
     0
    ]
   },
   "outputs": [],
   "source": [
    "#\n",
    "def plot_matrix(sm,file_png=None):\n",
    "    #\n",
    "    sm2 = sm.copy()\n",
    "    sm2[\"index\"] = sm2.index\n",
    "    #\n",
    "    new = sm2.melt(id_vars=['index'])# = sm.index\n",
    "    #\n",
    "    new2 = new.copy()\n",
    "    new2[\"index\"] = [ i[0] for i in new2[\"index\"]]\n",
    "    new2[\"variable\"] = [ i[0] for i in new2[\"variable\"]]\n",
    "    #new2[\"value\"] = [np.complex(i) for i in new2[\"value\"] ]\n",
    "    new2[\"real\"] = np.real(new2[\"value\"])\n",
    "    new2[\"imag\"] = np.imag(new2[\"value\"])\n",
    "    new2[\"abs\"] = np.absolute(new2[\"value\"])\n",
    "    new2[\"phase\"] = np.angle(new2[\"value\"])/np.pi\n",
    "    df = new2\n",
    "    \n",
    "    #\n",
    "    fig = plt.figure ( 0 , figsize = ( 15 , 10 ) )\n",
    "\n",
    "    cmap = 'RdYlBu'\n",
    "\n",
    "    #\n",
    "    ax = fig.add_subplot(221)\n",
    "    sc = ax.scatter(df[\"index\"],df[\"variable\"],c=df[\"real\"],cmap = 'RdYlBu')\n",
    "    plt.colorbar(sc)\n",
    "    plt.xlim(min(df[\"index\"]),max(df[\"index\"]))\n",
    "    plt.ylim(min(df[\"index\"]),max(df[\"index\"]))\n",
    "    ax.set_aspect('equal')\n",
    "    plt.title(\"stiffness matrix : real\")\n",
    "\n",
    "    #\n",
    "    ax = fig.add_subplot(222)\n",
    "    sc = ax.scatter(df[\"index\"],df[\"variable\"],c=df[\"imag\"],cmap = 'RdYlBu')\n",
    "    plt.colorbar(sc)\n",
    "    plt.xlim(min(df[\"index\"]),max(df[\"index\"]))\n",
    "    plt.ylim(min(df[\"index\"]),max(df[\"index\"]))\n",
    "    ax.set_aspect('equal')\n",
    "    plt.title(\"stiffness matrix : imag\")\n",
    "\n",
    "    #\n",
    "    ax = fig.add_subplot(223)\n",
    "    sc = ax.scatter(df[\"index\"],df[\"variable\"],c=df[\"abs\"],cmap = 'RdYlBu')\n",
    "    plt.colorbar(sc)\n",
    "    plt.xlim(min(df[\"index\"]),max(df[\"index\"]))\n",
    "    plt.ylim(min(df[\"index\"]),max(df[\"index\"]))\n",
    "    ax.set_aspect('equal')\n",
    "    plt.title(\"stiffness matrix : abs\")\n",
    "\n",
    "    #\n",
    "    ax = fig.add_subplot(224)\n",
    "    sc = ax.scatter(df[\"index\"],df[\"variable\"],c=df[\"phase\"],cmap = 'RdYlBu')\n",
    "    plt.colorbar(sc)\n",
    "    plt.xlim(min(df[\"index\"]),max(df[\"index\"]))\n",
    "    plt.ylim(min(df[\"index\"]),max(df[\"index\"]))\n",
    "    ax.set_aspect('equal')\n",
    "    plt.title(\"stiffness matrix : $\\\\theta / \\pi$\")\n",
    "\n",
    "    plt.tight_layout()\n",
    "    if file_png is not None :\n",
    "        plt.savefig(file_png)\n",
    "    plt.show()\n",
    "    "
   ]
  },
  {
   "cell_type": "markdown",
   "metadata": {},
   "source": [
    "# Basis function"
   ]
  },
  {
   "cell_type": "markdown",
   "metadata": {},
   "source": [
    "In questa sezioe do una rappresentazione grafica delle funzioni di base $\\phi_j$ usata nel caso in cui $\\Gamma$ sia una circonferenza.\n",
    "\n",
    "La seguente cella permette di definire una classe `Bspline` nel seguente modo :\n",
    "- si definisce la variabile `sh` come un oggetto di tipo `shape`, classe che mi permette di definire la dimensionalità del dominio e del codominio della futura Bspline\n",
    "- si definisce un knot vector tramite la variabile `kv`: ho creato una funzione che mi genera in automatico il knot vector corretto dato il dominio \"effettivo\" della Bspline, il numero di gradi di libertà e il grado polinomiale\n",
    "- passo le variabili `sh` e `kv` al costruttore della classe `Bspline` (assieme ad un `dictionary` che mi specifica alcune proprietà, come il fatto che la Bspline dovrà essere periodica) per ottenere la variabile `bs`"
   ]
  },
  {
   "cell_type": "code",
   "execution_count": 8,
   "metadata": {
    "ExecuteTime": {
     "end_time": "2021-03-19T09:03:13.179930Z",
     "start_time": "2021-03-19T09:03:13.158947Z"
    },
    "code_folding": []
   },
   "outputs": [],
   "source": [
    "#definisco la Bspline\n",
    "sh = Bs.shape(1,2)\n",
    "#sh.show()\n",
    "\n",
    "#defiisco i knot vector\n",
    "P=1 #polinomial degree\n",
    "N=20 #base caridnality\n",
    "xminBs = 0.0\n",
    "xmaxBs = 1.0\n",
    "\n",
    "\n",
    "#\n",
    "#kv = Bs.uniform_open_kv(xmin,xmax,p=P,n=N)#Bs.knot_vector(P,N,v)\n",
    "#kv = periodic_kv(xmin,xmax,p=P,n=N)\n",
    "kv = Bs.periodic_kv(xminBs,xmaxBs,p=P,n=N)\n",
    "#kv.show()\n",
    "\n",
    "#alloco la Bspline\n",
    "bs = Bs.Bspline(sh,[kv],properties={\"periodic\":[True]})"
   ]
  },
  {
   "cell_type": "markdown",
   "metadata": {},
   "source": [
    "Chiamando la funzione `show` della variabile `kv` è possibile stampare a video tutte le informazioni contenute in tale variabile. Notiamo due cose:\n",
    "- il valore massimo e minimo assunto dai vari knots non coincide con quelli specificati nella funzione `periodic_kv`, cioè con `xminBs` e `xmaxBs`, ma questo è corretto perché il dominio di una Bspline non coincide con l'intervallo spaziato dal knot vector. \n",
    "- il numero di funzioni di base non coincide con il numero di gradi di libertà `N` (è quello che rappresenta tale varaibile) passato alla funzione `periodic_kv`, ma questo è corretto perché andremo ad utilizzare una Bapline periodica, e questa è ottenuta da una Bspline \"semplice\" forzando alcuni control points ad essegue uguali ad altri, andando quindi a ridurre il numero di control points \"liberi\", cioè il numero di gradi di libertà effettivi.\n",
    "\n",
    "La funzione `periodic_kv` automatizza il calcolo del knot vector in modo tale che la variabile `kv` restituita vada poi a definire effettivamente una Bspline con `N` gradi di libertà (anche se con un numero maggiore di `N` di funzioni di base) e dominio $\\left[\\right.$ `xminBs`,`xmaxBs` $\\left. \\right]$"
   ]
  },
  {
   "cell_type": "code",
   "execution_count": null,
   "metadata": {},
   "outputs": [],
   "source": [
    "kv.show()"
   ]
  },
  {
   "cell_type": "code",
   "execution_count": null,
   "metadata": {
    "ExecuteTime": {
     "end_time": "2021-03-19T09:03:14.356518Z",
     "start_time": "2021-03-19T09:03:14.336528Z"
    },
    "code_folding": [
     0
    ]
   },
   "outputs": [],
   "source": [
    "#function\n",
    "x0 = 0.0\n",
    "y0 = 0.0\n",
    "a = 1.0\n",
    "b = 1.0\n",
    "def func(t):\n",
    "    #print(cpz)\n",
    "    cpx = a*np.cos(2*np.pi*t)+x0#np.random.rand(N)\n",
    "    cpy = b*np.sin(2*np.pi*t)+y0#np.random.rand(N)\n",
    "    out = np.zeros(shape=(len(t),2))\n",
    "    for i in range(len(t)):\n",
    "        out[i,0] = cpx[i]\n",
    "        out[i,1] = cpy[i]\n",
    "    return out"
   ]
  },
  {
   "cell_type": "code",
   "execution_count": null,
   "metadata": {
    "ExecuteTime": {
     "end_time": "2021-03-19T09:03:14.667325Z",
     "start_time": "2021-03-19T09:03:14.644337Z"
    },
    "code_folding": [
     0
    ]
   },
   "outputs": [],
   "source": [
    "#control points\n",
    "t = np.linspace(0,1,N,endpoint=False)\n",
    "cp = func(t)\n",
    "for i in range(len(t)):\n",
    "    #bs._cp[i] = cp[i]\n",
    "    bs.set_cp(i,cp[i])\n",
    "cpx = cp[:,0]\n",
    "cpy = cp[:,1]"
   ]
  },
  {
   "cell_type": "code",
   "execution_count": null,
   "metadata": {
    "ExecuteTime": {
     "end_time": "2021-03-18T20:38:50.223937Z",
     "start_time": "2021-03-18T20:38:49.684270Z"
    },
    "code_folding": [
     0
    ]
   },
   "outputs": [],
   "source": [
    "#valutazione della Bspline\n",
    "NN = 1000\n",
    "T = np.linspace(xminBs,xmaxBs,NN,endpoint=True)\n",
    "xy   = bs.evaluate(T)\n",
    "df = pd.DataFrame(xy)\n",
    "df = df.rename(columns={0:\"x\",1:\"y\"})"
   ]
  },
  {
   "cell_type": "code",
   "execution_count": null,
   "metadata": {
    "ExecuteTime": {
     "start_time": "2021-03-18T20:38:49.841Z"
    },
    "code_folding": [
     0
    ]
   },
   "outputs": [],
   "source": [
    "#grafico\n",
    "fig = plt.figure ( 0 , figsize = ( 10, 8 ) )\n",
    "\n",
    "bsCopy = bs.copy()\n",
    "bsCopy.clear_cp()\n",
    "bsScal = bsCopy._scalar()\n",
    "br = bs.basis_range()\n",
    "\n",
    "#\n",
    "#s = 0.2\n",
    "ax = fig.add_subplot(111, projection='3d')\n",
    "\n",
    "for i in range(N):\n",
    "    print(i+1,\"/\",N,end=\"\\r\")\n",
    "    u = np.linspace(br.at[(i,),(\"min\",0)],br.at[(i,),(\"max\",0)],100)\n",
    "    #u = np.linspace(0,1,1000,endpoint=True)\n",
    "    bsCopy.set_cp(i,bs.get_cp(i))\n",
    "    bsScal.set_cp(i,1.)\n",
    "    xyB = bs.evaluate(u)\n",
    "    zB = bsScal.evaluate(u)\n",
    "    \n",
    "    #xyB = xyB[zB != 0]\n",
    "    #zB  = zB[zB != 0]\n",
    "    \n",
    "    #xyB,zB = [ i,j for i,j in zip(xyB,zB) if j != 0.0 ]\n",
    "    \n",
    "    ax.plot(xyB[:,0], xyB[:,1],zB,label=str(i))\n",
    "    \n",
    "    bsCopy.set_cp(i,[0,0])\n",
    "    bsScal.set_cp(i,0.)\n",
    "    \n",
    "print(\"Finished\")\n",
    "\n",
    "ax.plot(xy[:,0], xy[:,1],0.0,color=\"red\",label=\"Bspline\")\n",
    "ax.set_zlim(0,1)\n",
    "plt.grid(True)\n",
    "#plt.legend()\n",
    "plt.show()"
   ]
  },
  {
   "cell_type": "markdown",
   "metadata": {},
   "source": [
    "# Triangle"
   ]
  },
  {
   "cell_type": "markdown",
   "metadata": {},
   "source": [
    "## Definition"
   ]
  },
  {
   "cell_type": "code",
   "execution_count": 2,
   "metadata": {
    "ExecuteTime": {
     "end_time": "2021-03-18T20:35:44.116846Z",
     "start_time": "2021-03-18T20:35:44.092866Z"
    },
    "code_folding": [
     0
    ]
   },
   "outputs": [
    {
     "ename": "NameError",
     "evalue": "name 'np' is not defined",
     "output_type": "error",
     "traceback": [
      "\u001b[1;31m---------------------------------------------------------------------------\u001b[0m",
      "\u001b[1;31mNameError\u001b[0m                                 Traceback (most recent call last)",
      "\u001b[1;32m<ipython-input-2-89486fac70f1>\u001b[0m in \u001b[0;36m<module>\u001b[1;34m\u001b[0m\n\u001b[0;32m      1\u001b[0m \u001b[1;31m#definisco il vettor d'onda\u001b[0m\u001b[1;33m\u001b[0m\u001b[1;33m\u001b[0m\u001b[1;33m\u001b[0m\u001b[0m\n\u001b[1;32m----> 2\u001b[1;33m \u001b[0mk_in\u001b[0m \u001b[1;33m=\u001b[0m \u001b[1;36m20\u001b[0m\u001b[1;33m*\u001b[0m\u001b[0mnp\u001b[0m\u001b[1;33m.\u001b[0m\u001b[0masarray\u001b[0m\u001b[1;33m(\u001b[0m\u001b[1;33m[\u001b[0m\u001b[1;36m0.5\u001b[0m\u001b[1;33m,\u001b[0m\u001b[0mnp\u001b[0m\u001b[1;33m.\u001b[0m\u001b[0msqrt\u001b[0m\u001b[1;33m(\u001b[0m\u001b[1;36m3\u001b[0m\u001b[1;33m)\u001b[0m\u001b[1;33m/\u001b[0m\u001b[1;36m2\u001b[0m\u001b[1;33m]\u001b[0m\u001b[1;33m)\u001b[0m\u001b[1;33m\u001b[0m\u001b[1;33m\u001b[0m\u001b[0m\n\u001b[0m\u001b[0;32m      3\u001b[0m \u001b[0mwavevector\u001b[0m \u001b[1;33m=\u001b[0m \u001b[0mnp\u001b[0m\u001b[1;33m.\u001b[0m\u001b[0msqrt\u001b[0m\u001b[1;33m(\u001b[0m\u001b[0mnp\u001b[0m\u001b[1;33m.\u001b[0m\u001b[0msum\u001b[0m\u001b[1;33m(\u001b[0m\u001b[0mnp\u001b[0m\u001b[1;33m.\u001b[0m\u001b[0mpower\u001b[0m\u001b[1;33m(\u001b[0m\u001b[0mk_in\u001b[0m\u001b[1;33m,\u001b[0m\u001b[1;36m2.0\u001b[0m\u001b[1;33m)\u001b[0m\u001b[1;33m)\u001b[0m\u001b[1;33m)\u001b[0m\u001b[1;33m\u001b[0m\u001b[1;33m\u001b[0m\u001b[0m\n\u001b[0;32m      4\u001b[0m \u001b[0mI\u001b[0m \u001b[1;33m=\u001b[0m \u001b[0mnp\u001b[0m\u001b[1;33m.\u001b[0m\u001b[0mcomplex\u001b[0m\u001b[1;33m(\u001b[0m\u001b[1;36m0\u001b[0m\u001b[1;33m,\u001b[0m\u001b[1;36m1\u001b[0m\u001b[1;33m)\u001b[0m\u001b[1;33m\u001b[0m\u001b[1;33m\u001b[0m\u001b[0m\n\u001b[0;32m      5\u001b[0m \u001b[1;33m\u001b[0m\u001b[0m\n",
      "\u001b[1;31mNameError\u001b[0m: name 'np' is not defined"
     ]
    }
   ],
   "source": [
    "#definisco il vettor d'onda\n",
    "k_in = 20*np.asarray([0.5,np.sqrt(3)/2])\n",
    "wavevector = np.sqrt(np.sum(np.power(k_in,2.0)))\n",
    "I = np.complex(0,1)\n",
    "\n",
    "xmin = -1.5\n",
    "xmax = 1.5\n",
    "ymin = -1.5\n",
    "ymax = 1.5"
   ]
  },
  {
   "cell_type": "code",
   "execution_count": null,
   "metadata": {
    "ExecuteTime": {
     "end_time": "2021-03-18T20:35:45.465744Z",
     "start_time": "2021-03-18T20:35:45.446755Z"
    },
    "code_folding": [
     0
    ]
   },
   "outputs": [],
   "source": [
    "#definisco la dimensionaità:\n",
    "sh = Bs.shape(1,2)\n",
    "#sh.show()\n",
    "\n",
    "#defiisco i knot vector\n",
    "P=1 #polinomial degree\n",
    "N=100 #base caridnality\n",
    "xminBs = 0.0\n",
    "xmaxBs = 1.0\n",
    "\n",
    "\n",
    "#\n",
    "#kv = Bs.uniform_open_kv(xmin,xmax,p=P,n=N)#Bs.knot_vector(P,N,v)\n",
    "#kv = periodic_kv(xmin,xmax,p=P,n=N)\n",
    "kv = Bs.periodic_kv(xminBs,xmaxBs,p=P,n=N)\n",
    "#kv.show()\n",
    "\n",
    "#alloco la Bspline\n",
    "bs = Bs.Bspline(sh,[kv],properties={\"periodic\":[True]})"
   ]
  },
  {
   "cell_type": "code",
   "execution_count": null,
   "metadata": {
    "ExecuteTime": {
     "end_time": "2021-03-18T20:35:47.058761Z",
     "start_time": "2021-03-18T20:35:47.039773Z"
    },
    "code_folding": [
     0
    ]
   },
   "outputs": [],
   "source": [
    "#files\n",
    "file_dir = \"files/BEM/triangle-periodic/\"\n",
    "suffix = \"P=\"+str(P)+\"-N=\"+str(N)+\"-k=\"+str(wavevector)+\".csv\"\n",
    "suffix_png = \"P=\"+str(P)+\"-N=\"+str(N)+\"-k=\"+str(wavevector)+\".png\""
   ]
  },
  {
   "cell_type": "markdown",
   "metadata": {},
   "source": [
    "## Geometry"
   ]
  },
  {
   "cell_type": "code",
   "execution_count": 3,
   "metadata": {
    "ExecuteTime": {
     "end_time": "2021-03-18T20:35:47.824168Z",
     "start_time": "2021-03-18T20:35:47.799183Z"
    },
    "code_folding": [
     0
    ]
   },
   "outputs": [
    {
     "ename": "NameError",
     "evalue": "name 'np' is not defined",
     "output_type": "error",
     "traceback": [
      "\u001b[1;31m---------------------------------------------------------------------------\u001b[0m",
      "\u001b[1;31mNameError\u001b[0m                                 Traceback (most recent call last)",
      "\u001b[1;32m<ipython-input-3-5cfdc4917f00>\u001b[0m in \u001b[0;36m<module>\u001b[1;34m\u001b[0m\n\u001b[0;32m      3\u001b[0m \u001b[0my0\u001b[0m \u001b[1;33m=\u001b[0m  \u001b[1;33m-\u001b[0m\u001b[1;36m0.5\u001b[0m\u001b[1;33m\u001b[0m\u001b[1;33m\u001b[0m\u001b[0m\n\u001b[0;32m      4\u001b[0m \u001b[1;33m\u001b[0m\u001b[0m\n\u001b[1;32m----> 5\u001b[1;33m \u001b[0ma\u001b[0m \u001b[1;33m=\u001b[0m \u001b[1;36m1.0\u001b[0m \u001b[1;33m/\u001b[0m \u001b[1;33m(\u001b[0m\u001b[1;36m2\u001b[0m\u001b[1;33m+\u001b[0m\u001b[0mnp\u001b[0m\u001b[1;33m.\u001b[0m\u001b[0msqrt\u001b[0m\u001b[1;33m(\u001b[0m\u001b[1;36m2\u001b[0m\u001b[1;33m)\u001b[0m\u001b[1;33m)\u001b[0m\u001b[1;33m\u001b[0m\u001b[1;33m\u001b[0m\u001b[0m\n\u001b[0m\u001b[0;32m      6\u001b[0m \u001b[0mb\u001b[0m \u001b[1;33m=\u001b[0m \u001b[1;33m(\u001b[0m\u001b[1;36m1.0\u001b[0m\u001b[1;33m+\u001b[0m\u001b[0mnp\u001b[0m\u001b[1;33m.\u001b[0m\u001b[0msqrt\u001b[0m\u001b[1;33m(\u001b[0m\u001b[1;36m2\u001b[0m\u001b[1;33m)\u001b[0m\u001b[1;33m)\u001b[0m \u001b[1;33m/\u001b[0m \u001b[1;33m(\u001b[0m\u001b[1;36m2\u001b[0m\u001b[1;33m+\u001b[0m\u001b[0mnp\u001b[0m\u001b[1;33m.\u001b[0m\u001b[0msqrt\u001b[0m\u001b[1;33m(\u001b[0m\u001b[1;36m2\u001b[0m\u001b[1;33m)\u001b[0m\u001b[1;33m)\u001b[0m\u001b[1;33m\u001b[0m\u001b[1;33m\u001b[0m\u001b[0m\n\u001b[0;32m      7\u001b[0m \u001b[0mdelta\u001b[0m \u001b[1;33m=\u001b[0m \u001b[0mb\u001b[0m\u001b[1;33m-\u001b[0m\u001b[0ma\u001b[0m\u001b[1;33m\u001b[0m\u001b[1;33m\u001b[0m\u001b[0m\n",
      "\u001b[1;31mNameError\u001b[0m: name 'np' is not defined"
     ]
    }
   ],
   "source": [
    "#triangolo\n",
    "x0 = -0.5\n",
    "y0 =  -0.5\n",
    "\n",
    "a = 1.0 / (2+np.sqrt(2))\n",
    "b = (1.0+np.sqrt(2)) / (2+np.sqrt(2))\n",
    "delta = b-a\n",
    "\n",
    "sx = 1.0\n",
    "sy = 1.0\n",
    "\n",
    "def triangle_x(i):\n",
    "    if i <= a :\n",
    "        return i\n",
    "    elif i > a and i <= b :\n",
    "        j = i-a\n",
    "        return a - j*a/(delta)\n",
    "    else :\n",
    "        return 0\n",
    "    \n",
    "def triangle_y(i):\n",
    "    if i <= a :\n",
    "        return 0\n",
    "    elif i > a and i <= b :\n",
    "        j = i-a\n",
    "        return j*a/(delta)\n",
    "    else :\n",
    "        j = i-b\n",
    "        return a-j\n",
    "    \n",
    "def func(t):\n",
    "    out = np.zeros((len(t),2))\n",
    "    out[:,0] = [triangle_x(i) for i in t]\n",
    "    out[:,1] = [triangle_y(i) for i in t]\n",
    "            \n",
    "    out[:,0] = sx*out[:,0]/a+x0\n",
    "    out[:,1] = sy*out[:,1]/a+y0\n",
    "    return out"
   ]
  },
  {
   "cell_type": "code",
   "execution_count": null,
   "metadata": {
    "ExecuteTime": {
     "end_time": "2021-03-18T20:35:49.038334Z",
     "start_time": "2021-03-18T20:35:49.021345Z"
    },
    "code_folding": [
     0
    ]
   },
   "outputs": [],
   "source": [
    "#ATTENZIONE: mi servono dei punti distribuiti in modo uniforme\n",
    "# per come ho costruito func so che\n",
    "# func(0.) = func(1.)\n",
    "# quindi genero un punto in più\n",
    "t = np.linspace(0,1,N+1,endpoint=True)#[0:-2]\n",
    "cp = func(t)\n",
    "for i in range(len(t)):\n",
    "    #bs._cp[i] = cp[i]\n",
    "    bs.set_cp(i,cp[i])\n",
    "cpx = cp[:,0]\n",
    "cpy = cp[:,1]"
   ]
  },
  {
   "cell_type": "code",
   "execution_count": null,
   "metadata": {
    "ExecuteTime": {
     "end_time": "2021-03-18T20:36:03.907129Z",
     "start_time": "2021-03-18T20:36:02.858773Z"
    },
    "code_folding": [
     0
    ]
   },
   "outputs": [],
   "source": [
    "#valutazione della Bspline\n",
    "NN = 1000\n",
    "T = np.linspace(xminBs,xmaxBs,NN,endpoint=True)\n",
    "xy   = bs.evaluate(T)\n",
    "Txy = func(T)\n",
    "df = pd.DataFrame(xy)\n",
    "df = df.rename(columns={0:\"x\",1:\"y\"})"
   ]
  },
  {
   "cell_type": "code",
   "execution_count": null,
   "metadata": {
    "code_folding": [
     0
    ]
   },
   "outputs": [],
   "source": [
    "#grafico\n",
    "fig = plt.figure ( 0 , figsize = ( 15, 5 ) )\n",
    "\n",
    "#converto in dataframe    \n",
    "ax = fig.add_subplot(131)\n",
    "plt.plot(Txy[:,0],Txy[:,1],color=\"green\",label=\"triangle\",linestyle=\"--\")\n",
    "plt.scatter(cpx,cpy,color=\"green\",label=\"cp\")\n",
    "#plt.scatter(df[\"x\"], df[\"y\"], color= \"red\",label=\"Bspline\")\n",
    "plt.grid()\n",
    "plt.legend()\n",
    "ax.set_aspect('equal')\n",
    "\n",
    "ax = fig.add_subplot(132)\n",
    "#plt.plot(cpx,cpy,color=\"green\",label=\"cp\",linestyle=\"--\")\n",
    "#plt.scatter(cpx,cpy,color=\"green\",label=\"cp\")\n",
    "plt.scatter(df[\"x\"], df[\"y\"], color= \"red\",label=\"Bspline\")\n",
    "plt.grid()\n",
    "plt.legend()\n",
    "ax.set_aspect('equal')\n",
    "\n",
    "#real\n",
    "ax = fig.add_subplot(133)#, projection='3d')\n",
    "ax.plot(T,df[\"x\"],color=\"blue\",label=\"x\")\n",
    "ax.plot(T,df[\"y\"],color=\"green\",label=\"y\")\n",
    "#ax.plot(df[\"t\"],np.real(df[\"trace\"]),color=\"red\",label=\"trace\")\n",
    "#plt.title(\"real\")\n",
    "plt.grid(True)\n",
    "plt.legend()\n",
    "plt.show()"
   ]
  },
  {
   "cell_type": "markdown",
   "metadata": {},
   "source": [
    "## Stiffness Matrix"
   ]
  },
  {
   "cell_type": "code",
   "execution_count": 4,
   "metadata": {
    "ExecuteTime": {
     "end_time": "2021-03-18T20:36:42.649592Z",
     "start_time": "2021-03-18T20:36:42.621617Z"
    },
    "code_folding": [
     0
    ]
   },
   "outputs": [
    {
     "ename": "NameError",
     "evalue": "name 'file_dir' is not defined",
     "output_type": "error",
     "traceback": [
      "\u001b[1;31m---------------------------------------------------------------------------\u001b[0m",
      "\u001b[1;31mNameError\u001b[0m                                 Traceback (most recent call last)",
      "\u001b[1;32m<ipython-input-4-bbce5d177c6c>\u001b[0m in \u001b[0;36m<module>\u001b[1;34m\u001b[0m\n\u001b[0;32m      1\u001b[0m \u001b[1;31m#files\u001b[0m\u001b[1;33m\u001b[0m\u001b[1;33m\u001b[0m\u001b[1;33m\u001b[0m\u001b[0m\n\u001b[1;32m----> 2\u001b[1;33m \u001b[0mfile\u001b[0m \u001b[1;33m=\u001b[0m \u001b[0mfile_dir\u001b[0m\u001b[1;33m+\u001b[0m\u001b[1;34m\"stiffness_matrix-n=6-random=False-\"\u001b[0m\u001b[1;33m+\u001b[0m\u001b[0msuffix\u001b[0m\u001b[1;33m\u001b[0m\u001b[1;33m\u001b[0m\u001b[0m\n\u001b[0m\u001b[0;32m      3\u001b[0m \u001b[0mfile\u001b[0m\u001b[1;33m\u001b[0m\u001b[1;33m\u001b[0m\u001b[0m\n",
      "\u001b[1;31mNameError\u001b[0m: name 'file_dir' is not defined"
     ]
    }
   ],
   "source": [
    "#files\n",
    "file = file_dir+\"stiffness_matrix-n=6-random=False-\"+suffix\n",
    "file"
   ]
  },
  {
   "cell_type": "code",
   "execution_count": null,
   "metadata": {
    "ExecuteTime": {
     "end_time": "2021-03-18T21:05:26.626506Z",
     "start_time": "2021-03-18T20:37:06.976475Z"
    },
    "code_folding": [
     0
    ],
    "scrolled": true
   },
   "outputs": [],
   "source": [
    "#stiffness matrix\n",
    "READ = True\n",
    "SAVE = False\n",
    "if os.path.exists(file) and READ == True :\n",
    "    sm = bs.load(\"sm-BEM\",file)\n",
    "else :\n",
    "    sm,out = bs.stiffness_matrix_BEM(k=wavevector,\\\n",
    "                opts={\"print\":True,\"N\":[6],\"return_both\":True,\"ready_sm_BEM\":False,\"random\":False})\n",
    "    if SAVE == True :\n",
    "        bs.save(\"sm-BEM\",file)\n",
    "sm.head()"
   ]
  },
  {
   "cell_type": "code",
   "execution_count": null,
   "metadata": {
    "code_folding": [
     0
    ]
   },
   "outputs": [],
   "source": [
    "#\n",
    "def plot_matrix(sm,file_png=None):\n",
    "    #\n",
    "    sm2 = sm.copy()\n",
    "    sm2[\"index\"] = sm2.index\n",
    "    #\n",
    "    new = sm2.melt(id_vars=['index'])# = sm.index\n",
    "    #\n",
    "    new2 = new.copy()\n",
    "    new2[\"index\"] = [ i[0] for i in new2[\"index\"]]\n",
    "    new2[\"variable\"] = [ i[0] for i in new2[\"variable\"]]\n",
    "    #new2[\"value\"] = [np.complex(i) for i in new2[\"value\"] ]\n",
    "    new2[\"real\"] = np.real(new2[\"value\"])\n",
    "    new2[\"imag\"] = np.imag(new2[\"value\"])\n",
    "    new2[\"abs\"] = np.absolute(new2[\"value\"])\n",
    "    new2[\"phase\"] = np.angle(new2[\"value\"])/np.pi\n",
    "    df = new2\n",
    "    \n",
    "    #\n",
    "    fig = plt.figure ( 0 , figsize = ( 15 , 10 ) )\n",
    "\n",
    "    cmap = 'RdYlBu'\n",
    "\n",
    "    #\n",
    "    ax = fig.add_subplot(221)\n",
    "    sc = ax.scatter(df[\"index\"],df[\"variable\"],c=df[\"real\"],cmap = 'RdYlBu')\n",
    "    plt.colorbar(sc)\n",
    "    plt.xlim(min(df[\"index\"]),max(df[\"index\"]))\n",
    "    plt.ylim(min(df[\"index\"]),max(df[\"index\"]))\n",
    "    ax.set_aspect('equal')\n",
    "    plt.title(\"stiffness matrix : real\")\n",
    "\n",
    "    #\n",
    "    ax = fig.add_subplot(222)\n",
    "    sc = ax.scatter(df[\"index\"],df[\"variable\"],c=df[\"imag\"],cmap = 'RdYlBu')\n",
    "    plt.colorbar(sc)\n",
    "    plt.xlim(min(df[\"index\"]),max(df[\"index\"]))\n",
    "    plt.ylim(min(df[\"index\"]),max(df[\"index\"]))\n",
    "    ax.set_aspect('equal')\n",
    "    plt.title(\"stiffness matrix : imag\")\n",
    "\n",
    "    #\n",
    "    ax = fig.add_subplot(223)\n",
    "    sc = ax.scatter(df[\"index\"],df[\"variable\"],c=df[\"abs\"],cmap = 'RdYlBu')\n",
    "    plt.colorbar(sc)\n",
    "    plt.xlim(min(df[\"index\"]),max(df[\"index\"]))\n",
    "    plt.ylim(min(df[\"index\"]),max(df[\"index\"]))\n",
    "    ax.set_aspect('equal')\n",
    "    plt.title(\"stiffness matrix : abs\")\n",
    "\n",
    "    #\n",
    "    ax = fig.add_subplot(224)\n",
    "    sc = ax.scatter(df[\"index\"],df[\"variable\"],c=df[\"phase\"],cmap = 'RdYlBu')\n",
    "    plt.colorbar(sc)\n",
    "    plt.xlim(min(df[\"index\"]),max(df[\"index\"]))\n",
    "    plt.ylim(min(df[\"index\"]),max(df[\"index\"]))\n",
    "    ax.set_aspect('equal')\n",
    "    plt.title(\"stiffness matrix : $\\\\theta / \\pi$\")\n",
    "\n",
    "    plt.tight_layout()\n",
    "    if file_png is not None :\n",
    "        plt.savefig(file_png)\n",
    "    plt.show()\n",
    "    "
   ]
  },
  {
   "cell_type": "code",
   "execution_count": 5,
   "metadata": {
    "code_folding": [
     0
    ]
   },
   "outputs": [
    {
     "ename": "NameError",
     "evalue": "name 'file_dir' is not defined",
     "output_type": "error",
     "traceback": [
      "\u001b[1;31m---------------------------------------------------------------------------\u001b[0m",
      "\u001b[1;31mNameError\u001b[0m                                 Traceback (most recent call last)",
      "\u001b[1;32m<ipython-input-5-0beb767ecaa4>\u001b[0m in \u001b[0;36m<module>\u001b[1;34m\u001b[0m\n\u001b[0;32m      1\u001b[0m \u001b[1;31m#grafico\u001b[0m\u001b[1;33m\u001b[0m\u001b[1;33m\u001b[0m\u001b[1;33m\u001b[0m\u001b[0m\n\u001b[1;32m----> 2\u001b[1;33m \u001b[0mile_png\u001b[0m \u001b[1;33m=\u001b[0m \u001b[0mfile_dir\u001b[0m\u001b[1;33m+\u001b[0m\u001b[1;34m\"stiffness_matrix-n=6-random=False-\"\u001b[0m\u001b[1;33m+\u001b[0m\u001b[0msuffix_png\u001b[0m\u001b[1;33m\u001b[0m\u001b[1;33m\u001b[0m\u001b[0m\n\u001b[0m\u001b[0;32m      3\u001b[0m \u001b[0mplot_matrix\u001b[0m\u001b[1;33m(\u001b[0m\u001b[0msm\u001b[0m\u001b[1;33m,\u001b[0m\u001b[0mfile_png\u001b[0m\u001b[1;33m)\u001b[0m\u001b[1;33m\u001b[0m\u001b[1;33m\u001b[0m\u001b[0m\n",
      "\u001b[1;31mNameError\u001b[0m: name 'file_dir' is not defined"
     ]
    }
   ],
   "source": [
    "#grafico\n",
    "ile_png = file_dir+\"stiffness_matrix-n=6-random=False-\"+suffix_png\n",
    "plot_matrix(sm,file_png)"
   ]
  },
  {
   "cell_type": "markdown",
   "metadata": {},
   "source": [
    "## Single Layer Potential basis"
   ]
  },
  {
   "cell_type": "code",
   "execution_count": 6,
   "metadata": {
    "ExecuteTime": {
     "end_time": "2021-03-18T21:05:29.454761Z",
     "start_time": "2021-03-18T21:05:29.429775Z"
    },
    "code_folding": [
     0
    ]
   },
   "outputs": [
    {
     "ename": "NameError",
     "evalue": "name 'file_dir' is not defined",
     "output_type": "error",
     "traceback": [
      "\u001b[1;31m---------------------------------------------------------------------------\u001b[0m",
      "\u001b[1;31mNameError\u001b[0m                                 Traceback (most recent call last)",
      "\u001b[1;32m<ipython-input-6-6670c73d17d0>\u001b[0m in \u001b[0;36m<module>\u001b[1;34m\u001b[0m\n\u001b[0;32m      1\u001b[0m \u001b[1;31m#files\u001b[0m\u001b[1;33m\u001b[0m\u001b[1;33m\u001b[0m\u001b[1;33m\u001b[0m\u001b[0m\n\u001b[1;32m----> 2\u001b[1;33m \u001b[0mfile\u001b[0m \u001b[1;33m=\u001b[0m \u001b[0mfile_dir\u001b[0m\u001b[1;33m+\u001b[0m\u001b[1;34m\"single_layer_potential-\"\u001b[0m\u001b[1;33m+\u001b[0m\u001b[0msuffix\u001b[0m\u001b[1;33m\u001b[0m\u001b[1;33m\u001b[0m\u001b[0m\n\u001b[0m\u001b[0;32m      3\u001b[0m \u001b[0mfile\u001b[0m\u001b[1;33m\u001b[0m\u001b[1;33m\u001b[0m\u001b[0m\n",
      "\u001b[1;31mNameError\u001b[0m: name 'file_dir' is not defined"
     ]
    }
   ],
   "source": [
    "#files\n",
    "file = file_dir+\"single_layer_potential-\"+suffix\n",
    "file"
   ]
  },
  {
   "cell_type": "code",
   "execution_count": null,
   "metadata": {
    "code_folding": [
     0
    ]
   },
   "outputs": [],
   "source": [
    "#punti XY\n",
    "Nx= int(xmax-xmin)*20\n",
    "Ny = int(ymax-ymin)*20\n",
    "x = np.linspace(xmin,xmax,Nx)\n",
    "y = np.linspace(ymin,ymax,Ny)\n",
    "X,Y = np.meshgrid(x,y)\n",
    "\n",
    "XY0 = np.zeros((Nx*Ny,2))\n",
    "XY0[:,0] = X.reshape((Nx*Ny,))\n",
    "XY0[:,1] = Y.reshape((Nx*Ny,))\n",
    "\n",
    "#tolgo elementi interni\n",
    "#radius = np.asarray([np.sqrt(np.sum(np.power(i,2.0))) for i in XY])\n",
    "internal = bs.internal_points(XY=XY0,NN=1000,xmin=0.,xmax=1.,opts=None)\n",
    "XY = XY0[ np.logical_not(internal) ]"
   ]
  },
  {
   "cell_type": "code",
   "execution_count": null,
   "metadata": {
    "ExecuteTime": {
     "end_time": "2021-03-19T00:03:09.230272Z",
     "start_time": "2021-03-18T21:05:30.630037Z"
    },
    "code_folding": [
     0
    ]
   },
   "outputs": [],
   "source": [
    "#single layer potentail per le funzioni di base\n",
    "READ = True\n",
    "SAVE = True\n",
    "if os.path.exists(file) and READ == True :\n",
    "    slp = bs.load(\"slp-BEM\",file)\n",
    "#else :\n",
    "\n",
    "# I can update it adding some  points\n",
    "slp = bs.single_layer_potential_basis_BEM(XY=XY,k=wavevector,\\\n",
    "                                              opts={\"print\":True,\"N\":[6]})\n",
    "if SAVE == True :\n",
    "    bs.save(\"slp-BEM\",file)\n",
    "    \n",
    "slp.head()"
   ]
  },
  {
   "cell_type": "markdown",
   "metadata": {},
   "source": [
    "## Plane wave"
   ]
  },
  {
   "cell_type": "markdown",
   "metadata": {},
   "source": [
    "### Preparation"
   ]
  },
  {
   "cell_type": "code",
   "execution_count": 7,
   "metadata": {
    "ExecuteTime": {
     "end_time": "2021-03-18T21:05:28.203533Z",
     "start_time": "2021-03-18T21:05:27.922706Z"
    },
    "code_folding": [
     0
    ]
   },
   "outputs": [
    {
     "ename": "NameError",
     "evalue": "name 'xmax' is not defined",
     "output_type": "error",
     "traceback": [
      "\u001b[1;31m---------------------------------------------------------------------------\u001b[0m",
      "\u001b[1;31mNameError\u001b[0m                                 Traceback (most recent call last)",
      "\u001b[1;32m<ipython-input-7-e50806f36b6e>\u001b[0m in \u001b[0;36m<module>\u001b[1;34m\u001b[0m\n\u001b[0;32m      1\u001b[0m \u001b[1;31m#punti XY\u001b[0m\u001b[1;33m\u001b[0m\u001b[1;33m\u001b[0m\u001b[1;33m\u001b[0m\u001b[0m\n\u001b[1;32m----> 2\u001b[1;33m \u001b[0mNx\u001b[0m\u001b[1;33m=\u001b[0m \u001b[0mint\u001b[0m\u001b[1;33m(\u001b[0m\u001b[0mxmax\u001b[0m\u001b[1;33m-\u001b[0m\u001b[0mxmin\u001b[0m\u001b[1;33m)\u001b[0m\u001b[1;33m*\u001b[0m\u001b[1;36m20\u001b[0m\u001b[1;33m\u001b[0m\u001b[1;33m\u001b[0m\u001b[0m\n\u001b[0m\u001b[0;32m      3\u001b[0m \u001b[0mNy\u001b[0m \u001b[1;33m=\u001b[0m \u001b[0mint\u001b[0m\u001b[1;33m(\u001b[0m\u001b[0mymax\u001b[0m\u001b[1;33m-\u001b[0m\u001b[0mymin\u001b[0m\u001b[1;33m)\u001b[0m\u001b[1;33m*\u001b[0m\u001b[1;36m20\u001b[0m\u001b[1;33m\u001b[0m\u001b[1;33m\u001b[0m\u001b[0m\n\u001b[0;32m      4\u001b[0m \u001b[0mx\u001b[0m \u001b[1;33m=\u001b[0m \u001b[0mnp\u001b[0m\u001b[1;33m.\u001b[0m\u001b[0mlinspace\u001b[0m\u001b[1;33m(\u001b[0m\u001b[0mxmin\u001b[0m\u001b[1;33m,\u001b[0m\u001b[0mxmax\u001b[0m\u001b[1;33m,\u001b[0m\u001b[0mNx\u001b[0m\u001b[1;33m)\u001b[0m\u001b[1;33m\u001b[0m\u001b[1;33m\u001b[0m\u001b[0m\n\u001b[0;32m      5\u001b[0m \u001b[0my\u001b[0m \u001b[1;33m=\u001b[0m \u001b[0mnp\u001b[0m\u001b[1;33m.\u001b[0m\u001b[0mlinspace\u001b[0m\u001b[1;33m(\u001b[0m\u001b[0mymin\u001b[0m\u001b[1;33m,\u001b[0m\u001b[0mymax\u001b[0m\u001b[1;33m,\u001b[0m\u001b[0mNy\u001b[0m\u001b[1;33m)\u001b[0m\u001b[1;33m\u001b[0m\u001b[1;33m\u001b[0m\u001b[0m\n",
      "\u001b[1;31mNameError\u001b[0m: name 'xmax' is not defined"
     ]
    }
   ],
   "source": [
    "#punti XY\n",
    "Nx= int(xmax-xmin)*20\n",
    "Ny = int(ymax-ymin)*20\n",
    "x = np.linspace(xmin,xmax,Nx)\n",
    "y = np.linspace(ymin,ymax,Ny)\n",
    "X,Y = np.meshgrid(x,y)\n",
    "\n",
    "XY0 = np.zeros((Nx*Ny,2))\n",
    "XY0[:,0] = X.reshape((Nx*Ny,))\n",
    "XY0[:,1] = Y.reshape((Nx*Ny,))\n",
    "\n",
    "#tolgo elementi interni\n",
    "#radius = np.asarray([np.sqrt(np.sum(np.power(i,2.0))) for i in XY])\n",
    "internal = bs.internal_points(XY=XY0,NN=1000,xmin=0.,xmax=1.,opts=None)\n",
    "XY = XY0[ np.logical_not(internal) ]"
   ]
  },
  {
   "cell_type": "code",
   "execution_count": null,
   "metadata": {
    "ExecuteTime": {
     "end_time": "2021-03-19T00:03:11.290001Z",
     "start_time": "2021-03-19T00:03:11.266017Z"
    },
    "code_folding": [
     0
    ]
   },
   "outputs": [],
   "source": [
    "#plane wave\n",
    "def plane_wave(xx): # soluzione\n",
    "    xx = np.asarray(xx)\n",
    "    theta = np.dot(xx,k_in)\n",
    "    return np.exp(I*theta)"
   ]
  },
  {
   "cell_type": "code",
   "execution_count": null,
   "metadata": {
    "ExecuteTime": {
     "end_time": "2021-03-19T00:03:14.793838Z",
     "start_time": "2021-03-19T00:03:13.216811Z"
    },
    "code_folding": [
     0
    ]
   },
   "outputs": [],
   "source": [
    "#valutazione della Bspline\n",
    "NN = 1000\n",
    "T = np.linspace(xminBs,xmaxBs,NN,endpoint=True)\n",
    "xy   = bs.evaluate(T)\n",
    "df = pd.DataFrame(xy)\n",
    "df = df.rename(columns={0:\"x\",1:\"y\"})\n",
    "uinc = plane_wave(xy)"
   ]
  },
  {
   "cell_type": "code",
   "execution_count": 8,
   "metadata": {
    "ExecuteTime": {
     "end_time": "2021-03-19T00:03:18.496554Z",
     "start_time": "2021-03-19T00:03:16.698664Z"
    },
    "code_folding": [
     0
    ]
   },
   "outputs": [
    {
     "ename": "NameError",
     "evalue": "name 'plt' is not defined",
     "output_type": "error",
     "traceback": [
      "\u001b[1;31m---------------------------------------------------------------------------\u001b[0m",
      "\u001b[1;31mNameError\u001b[0m                                 Traceback (most recent call last)",
      "\u001b[1;32m<ipython-input-8-8325af930e44>\u001b[0m in \u001b[0;36m<module>\u001b[1;34m\u001b[0m\n\u001b[0;32m      1\u001b[0m \u001b[1;31m#grafico\u001b[0m\u001b[1;33m\u001b[0m\u001b[1;33m\u001b[0m\u001b[1;33m\u001b[0m\u001b[0m\n\u001b[1;32m----> 2\u001b[1;33m \u001b[0mfig\u001b[0m \u001b[1;33m=\u001b[0m \u001b[0mplt\u001b[0m\u001b[1;33m.\u001b[0m\u001b[0mfigure\u001b[0m \u001b[1;33m(\u001b[0m \u001b[1;36m0\u001b[0m \u001b[1;33m,\u001b[0m \u001b[0mfigsize\u001b[0m \u001b[1;33m=\u001b[0m \u001b[1;33m(\u001b[0m \u001b[1;36m15\u001b[0m\u001b[1;33m,\u001b[0m \u001b[1;36m5\u001b[0m \u001b[1;33m)\u001b[0m \u001b[1;33m)\u001b[0m\u001b[1;33m\u001b[0m\u001b[1;33m\u001b[0m\u001b[0m\n\u001b[0m\u001b[0;32m      3\u001b[0m \u001b[1;33m\u001b[0m\u001b[0m\n\u001b[0;32m      4\u001b[0m \u001b[1;31m#\u001b[0m\u001b[1;33m\u001b[0m\u001b[1;33m\u001b[0m\u001b[1;33m\u001b[0m\u001b[0m\n\u001b[0;32m      5\u001b[0m \u001b[1;31m#s = 0.2\u001b[0m\u001b[1;33m\u001b[0m\u001b[1;33m\u001b[0m\u001b[1;33m\u001b[0m\u001b[0m\n",
      "\u001b[1;31mNameError\u001b[0m: name 'plt' is not defined"
     ]
    }
   ],
   "source": [
    "#grafico\n",
    "fig = plt.figure ( 0 , figsize = ( 15, 5 ) )\n",
    "\n",
    "#\n",
    "#s = 0.2\n",
    "ax = fig.add_subplot(121, projection='3d')\n",
    "ax.plot(xy[:,0], xy[:,1],uinc.real,color=\"blue\",label=\"real\")\n",
    "ax.plot(xy[:,0], xy[:,1],uinc.imag,color=\"green\",label=\"imag\")\n",
    "ax.plot(xy[:,0], xy[:,1],0.0,color=\"red\",label=\"Bspline\")\n",
    "plt.grid(True)\n",
    "plt.legend()\n",
    "\n",
    "#\n",
    "ax = fig.add_subplot(122)#, projection='3d')\n",
    "ax.plot(T,uinc.real,color=\"blue\",label=\"real\")\n",
    "ax.plot(T,uinc.imag,color=\"green\",label=\"imag\")\n",
    "plt.grid(True)\n",
    "plt.legend()\n",
    "\n",
    "plt.show()"
   ]
  },
  {
   "cell_type": "code",
   "execution_count": null,
   "metadata": {
    "code_folding": [
     0
    ]
   },
   "outputs": [],
   "source": [
    "#grafico\n",
    "fig = plt.figure ( 0 , figsize = ( 15 , 5 ) )\n",
    "\n",
    "Uinc = plane_wave(XY)\n",
    "\n",
    "cmap = 'RdYlBu'\n",
    "    \n",
    "plot(fig,121,df[\"x\"], df[\"y\"],XY[:,0],XY[:,1],Uinc.real,\"$u_{inc}$ : real\",cmap)\n",
    "plot(fig,122,df[\"x\"], df[\"y\"],XY[:,0],XY[:,1],Uinc.imag,\"$u_{inc}$ : imag\",cmap)\n",
    "\n",
    "plt.show()"
   ]
  },
  {
   "cell_type": "markdown",
   "metadata": {},
   "source": [
    "### Solution"
   ]
  },
  {
   "cell_type": "code",
   "execution_count": 9,
   "metadata": {
    "ExecuteTime": {
     "end_time": "2021-03-19T00:03:20.418368Z",
     "start_time": "2021-03-19T00:03:20.396381Z"
    },
    "code_folding": [
     0
    ]
   },
   "outputs": [
    {
     "ename": "NameError",
     "evalue": "name 'file_dir' is not defined",
     "output_type": "error",
     "traceback": [
      "\u001b[1;31m---------------------------------------------------------------------------\u001b[0m",
      "\u001b[1;31mNameError\u001b[0m                                 Traceback (most recent call last)",
      "\u001b[1;32m<ipython-input-9-e8ffa0506b2c>\u001b[0m in \u001b[0;36m<module>\u001b[1;34m\u001b[0m\n\u001b[0;32m      1\u001b[0m \u001b[1;31m#files\u001b[0m\u001b[1;33m\u001b[0m\u001b[1;33m\u001b[0m\u001b[1;33m\u001b[0m\u001b[0m\n\u001b[1;32m----> 2\u001b[1;33m \u001b[0mfile_sol\u001b[0m \u001b[1;33m=\u001b[0m \u001b[0mfile_dir\u001b[0m\u001b[1;33m+\u001b[0m\u001b[1;34m\"solution-plane_wave-\"\u001b[0m\u001b[1;33m+\u001b[0m\u001b[0msuffix\u001b[0m\u001b[1;33m\u001b[0m\u001b[1;33m\u001b[0m\u001b[0m\n\u001b[0m\u001b[0;32m      3\u001b[0m \u001b[0mfile_lv\u001b[0m  \u001b[1;33m=\u001b[0m \u001b[0mfile_dir\u001b[0m\u001b[1;33m+\u001b[0m\u001b[1;34m\"load_vector-plane_wave-\"\u001b[0m\u001b[1;33m+\u001b[0m\u001b[0msuffix\u001b[0m\u001b[1;33m\u001b[0m\u001b[1;33m\u001b[0m\u001b[0m\n\u001b[0;32m      4\u001b[0m \u001b[0mfile_ind\u001b[0m \u001b[1;33m=\u001b[0m \u001b[0mfile_dir\u001b[0m\u001b[1;33m+\u001b[0m\u001b[1;34m\"indirect_solution-plane_wave-\"\u001b[0m\u001b[1;33m+\u001b[0m\u001b[0msuffix\u001b[0m\u001b[1;33m\u001b[0m\u001b[1;33m\u001b[0m\u001b[0m\n\u001b[0;32m      5\u001b[0m \u001b[0mprint\u001b[0m\u001b[1;33m(\u001b[0m\u001b[0mfile_sol\u001b[0m\u001b[1;33m)\u001b[0m\u001b[1;33m\u001b[0m\u001b[1;33m\u001b[0m\u001b[0m\n",
      "\u001b[1;31mNameError\u001b[0m: name 'file_dir' is not defined"
     ]
    }
   ],
   "source": [
    "#files\n",
    "file_sol = file_dir+\"solution-plane_wave-\"+suffix\n",
    "file_lv  = file_dir+\"load_vector-plane_wave-\"+suffix\n",
    "file_ind = file_dir+\"indirect_solution-plane_wave-\"+suffix\n",
    "print(file_sol)\n",
    "print(file_lv)\n",
    "print(file_ind)"
   ]
  },
  {
   "cell_type": "code",
   "execution_count": null,
   "metadata": {
    "ExecuteTime": {
     "end_time": "2021-03-19T00:03:23.671361Z",
     "start_time": "2021-03-19T00:03:22.209263Z"
    },
    "code_folding": [
     0
    ]
   },
   "outputs": [],
   "source": [
    "#metodo di Galerkin\n",
    "READ = False\n",
    "SAVE = True\n",
    "if os.path.exists(file_sol) and READ == True :\n",
    "    sol,Xnp,Valnp = bs.load(\"sol-BEM\",file_sol)\n",
    "    \n",
    "if os.path.exists(file_lv) and READ == True :\n",
    "    lv = bs.load(\"lv-BEM\",file_lv)\n",
    "    \n",
    "if os.path.exists(file_ind) and READ == True :\n",
    "    sol = bs.load(\"ind_sol-BEM\",file_ind)\n",
    "    \n",
    "else :\n",
    "    opts = {\"print\":True,\"ready_sol_BEM\":False,\"ready_lv_BEM\":False,\"ready_ind_sol_BEM\":False}\n",
    "    sol,Xnp,Valnp = bs.BEM(uinc=plane_wave,k=wavevector,XY=XY,opts=opts)\n",
    "    if SAVE == True :\n",
    "        bs.save(\"sol-BEM\",file_sol)\n",
    "        bs.save(\"lv-BEM\",file_lv)\n",
    "        bs.save(\"ind_sol-BEM\",file_ind)\n",
    "sol.head()"
   ]
  },
  {
   "cell_type": "code",
   "execution_count": null,
   "metadata": {
    "ExecuteTime": {
     "end_time": "2021-03-19T00:03:25.654138Z",
     "start_time": "2021-03-19T00:03:25.629152Z"
    },
    "code_folding": [
     0
    ]
   },
   "outputs": [],
   "source": [
    "#uinc\n",
    "Uinc = plane_wave(XY)#.reshape(Nx,Ny).transpose()\n",
    "total = Uinc + Valnp"
   ]
  },
  {
   "cell_type": "code",
   "execution_count": 10,
   "metadata": {
    "ExecuteTime": {
     "end_time": "2021-03-19T00:03:35.281195Z",
     "start_time": "2021-03-19T00:03:27.538973Z"
    },
    "code_folding": [
     0
    ]
   },
   "outputs": [
    {
     "ename": "NameError",
     "evalue": "name 'plt' is not defined",
     "output_type": "error",
     "traceback": [
      "\u001b[1;31m---------------------------------------------------------------------------\u001b[0m",
      "\u001b[1;31mNameError\u001b[0m                                 Traceback (most recent call last)",
      "\u001b[1;32m<ipython-input-10-e59674f03a5a>\u001b[0m in \u001b[0;36m<module>\u001b[1;34m\u001b[0m\n\u001b[0;32m      1\u001b[0m \u001b[1;31m#grafico\u001b[0m\u001b[1;33m\u001b[0m\u001b[1;33m\u001b[0m\u001b[1;33m\u001b[0m\u001b[0m\n\u001b[1;32m----> 2\u001b[1;33m \u001b[0mfig\u001b[0m \u001b[1;33m=\u001b[0m \u001b[0mplt\u001b[0m\u001b[1;33m.\u001b[0m\u001b[0mfigure\u001b[0m \u001b[1;33m(\u001b[0m \u001b[1;36m0\u001b[0m \u001b[1;33m,\u001b[0m \u001b[0mfigsize\u001b[0m \u001b[1;33m=\u001b[0m \u001b[1;33m(\u001b[0m \u001b[1;36m15\u001b[0m \u001b[1;33m,\u001b[0m \u001b[1;36m10\u001b[0m \u001b[1;33m)\u001b[0m \u001b[1;33m)\u001b[0m\u001b[1;33m\u001b[0m\u001b[1;33m\u001b[0m\u001b[0m\n\u001b[0m\u001b[0;32m      3\u001b[0m \u001b[1;33m\u001b[0m\u001b[0m\n\u001b[0;32m      4\u001b[0m \u001b[0mcmap\u001b[0m \u001b[1;33m=\u001b[0m \u001b[1;34m'RdYlBu'\u001b[0m\u001b[1;33m\u001b[0m\u001b[1;33m\u001b[0m\u001b[0m\n\u001b[0;32m      5\u001b[0m \u001b[1;33m\u001b[0m\u001b[0m\n",
      "\u001b[1;31mNameError\u001b[0m: name 'plt' is not defined"
     ]
    }
   ],
   "source": [
    "#grafico\n",
    "fig = plt.figure ( 0 , figsize = ( 15 , 10 ) )\n",
    "\n",
    "cmap = 'RdYlBu'\n",
    "\n",
    "    \n",
    "plot_sol(fig,331,df[\"x\"], df[\"y\"],XY[:,0],XY[:,1],Uinc.real,\"$u_{inc}$ : real\")\n",
    "plot_sol(fig,334,df[\"x\"], df[\"y\"],XY[:,0],XY[:,1],Uinc.imag,\"$u_{inc}$ : imag\")\n",
    "plot_sol(fig,337,df[\"x\"], df[\"y\"],XY[:,0],XY[:,1],np.absolute(Uinc),\"$u_{inc}$ : abs\")\n",
    "\n",
    "plot_sol(fig,332,df[\"x\"], df[\"y\"],XY[:,0],XY[:,1],Valnp.real,\"$u_{scat}$ : real\")\n",
    "plot_sol(fig,335,df[\"x\"], df[\"y\"],XY[:,0],XY[:,1],Valnp.imag,\"$u_{scat}$ : imag\")\n",
    "plot_sol(fig,338,df[\"x\"], df[\"y\"],XY[:,0],XY[:,1],np.absolute(Valnp),\"$u_{scat}$ : abs\")\n",
    "\n",
    "plot_sol(fig,333,df[\"x\"], df[\"y\"],XY[:,0],XY[:,1],total.real,\"$u_{tot}$ : real\")\n",
    "plot_sol(fig,336,df[\"x\"], df[\"y\"],XY[:,0],XY[:,1],total.imag,\"$u_{tot}$ : imag\")\n",
    "plot_sol(fig,339,df[\"x\"], df[\"y\"],XY[:,0],XY[:,1],np.absolute(total),\"$u_{tot}$ : abs\")\n",
    "\n",
    "plt.tight_layout()\n",
    "\n",
    "sol_png = file_dir+\"solution-n=6-random=False-\"+suffix_png\n",
    "plt.savefig(sol_png)\n",
    "\n",
    "plt.show()"
   ]
  },
  {
   "cell_type": "markdown",
   "metadata": {},
   "source": [
    "## Herglotz"
   ]
  },
  {
   "cell_type": "markdown",
   "metadata": {},
   "source": [
    "### Kernel"
   ]
  },
  {
   "cell_type": "code",
   "execution_count": 11,
   "metadata": {
    "code_folding": [
     0
    ]
   },
   "outputs": [
    {
     "ename": "NameError",
     "evalue": "name 'Bs' is not defined",
     "output_type": "error",
     "traceback": [
      "\u001b[1;31m---------------------------------------------------------------------------\u001b[0m",
      "\u001b[1;31mNameError\u001b[0m                                 Traceback (most recent call last)",
      "\u001b[1;32m<ipython-input-11-13569d86c2f2>\u001b[0m in \u001b[0;36m<module>\u001b[1;34m\u001b[0m\n\u001b[0;32m      1\u001b[0m \u001b[1;31m#definisco la dimensionaità:\u001b[0m\u001b[1;33m\u001b[0m\u001b[1;33m\u001b[0m\u001b[1;33m\u001b[0m\u001b[0m\n\u001b[1;32m----> 2\u001b[1;33m \u001b[0msh\u001b[0m \u001b[1;33m=\u001b[0m \u001b[0mBs\u001b[0m\u001b[1;33m.\u001b[0m\u001b[0mshape\u001b[0m\u001b[1;33m(\u001b[0m\u001b[1;36m1\u001b[0m\u001b[1;33m,\u001b[0m\u001b[1;36m1\u001b[0m\u001b[1;33m)\u001b[0m\u001b[1;33m\u001b[0m\u001b[1;33m\u001b[0m\u001b[0m\n\u001b[0m\u001b[0;32m      3\u001b[0m \u001b[1;31m#sh.show()\u001b[0m\u001b[1;33m\u001b[0m\u001b[1;33m\u001b[0m\u001b[1;33m\u001b[0m\u001b[0m\n\u001b[0;32m      4\u001b[0m \u001b[1;33m\u001b[0m\u001b[0m\n\u001b[0;32m      5\u001b[0m \u001b[1;31m#defiisco i knot vector\u001b[0m\u001b[1;33m\u001b[0m\u001b[1;33m\u001b[0m\u001b[1;33m\u001b[0m\u001b[0m\n",
      "\u001b[1;31mNameError\u001b[0m: name 'Bs' is not defined"
     ]
    }
   ],
   "source": [
    "#definisco la dimensionaità:\n",
    "sh = Bs.shape(1,1)\n",
    "#sh.show()\n",
    "\n",
    "#defiisco i knot vector\n",
    "P=0 #polinomial degree\n",
    "N=12 #base caridnality\n",
    "\n",
    "#\n",
    "#kv = Bs.uniform_open_kv(xmin,xmax,p=P,n=N)#Bs.knot_vector(P,N,v)\n",
    "#kv = periodic_kv(xmin,xmax,p=P,n=N)\n",
    "kv = Bs.periodic_kv(0.0,2*np.pi,p=P,n=N)\n",
    "#kv.show()\n",
    "\n",
    "#alloco la Bspline\n",
    "kernel = Bs.Bspline(sh,[kv],properties={\"periodic\":[True],\"dtype\":np.complex})\n",
    "#bs.show()\n",
    "\n",
    "kernel.clear_cp()\n",
    "kernel.set_cp(1,1)"
   ]
  },
  {
   "cell_type": "code",
   "execution_count": null,
   "metadata": {
    "code_folding": [
     0
    ]
   },
   "outputs": [],
   "source": [
    "#valutazione della Bspline\n",
    "NN = 1000\n",
    "T = np.linspace(0.0,2*np.pi,NN,endpoint=False)\n",
    "y   = kernel.evaluate(T)\n",
    "#df = pd.DataFrame(xy)\n",
    "#df = df.rename(columns={0:\"x\",1:\"y\"})"
   ]
  },
  {
   "cell_type": "code",
   "execution_count": null,
   "metadata": {
    "code_folding": [
     0
    ]
   },
   "outputs": [],
   "source": [
    "#grafico\n",
    "fig = plt.figure ( 0 , figsize = ( 15, 5 ) )\n",
    "\n",
    "#real\n",
    "ax = fig.add_subplot(111)#, projection='3d')\n",
    "ax.plot(T,y.real,color=\"blue\",label=\"real\")\n",
    "ax.plot(T,y.imag,color=\"green\",label=\"imag\")\n",
    "plt.xlabel(r\"$\\theta \\, \\left[ rad \\right]$\")\n",
    "plt.title(r\"Herglotz kernel $\\, g \\left( \\theta \\right) \\, : 1 \\, $ if $ \\,  - \\pi/6 < \\theta < \\pi/6$\")\n",
    "plt.grid(True)\n",
    "plt.legend()\n",
    "plt.show()"
   ]
  },
  {
   "cell_type": "code",
   "execution_count": 12,
   "metadata": {
    "code_folding": [
     0
    ]
   },
   "outputs": [],
   "source": [
    "#Herglotz\n",
    "def Herglotz_private(xy,kernel,k,NN):\n",
    "    xy = np.asarray(xy)\n",
    "    theta = np.linspace(0.,2*np.pi,NN,endpoint=False)\n",
    "    cos = np.cos(theta)\n",
    "    sin = np.sin(theta)\n",
    "    g = kernel(theta)\n",
    "    phase = np.outer(xy[:,0],cos) + np.outer(xy[:,1],sin)\n",
    "    expo = np.exp(1.j*phase*k)\n",
    "    return np.dot(expo,g)/NN"
   ]
  },
  {
   "cell_type": "code",
   "execution_count": 13,
   "metadata": {
    "code_folding": [
     0
    ]
   },
   "outputs": [],
   "source": [
    "#k = 30./4.\n",
    "NN = 100\n",
    "def Herglotz(xy): \n",
    "    return Herglotz_private(xy,kernel,wavevector,NN)"
   ]
  },
  {
   "cell_type": "code",
   "execution_count": 14,
   "metadata": {
    "code_folding": [
     0
    ]
   },
   "outputs": [
    {
     "ename": "NameError",
     "evalue": "name 'xmax' is not defined",
     "output_type": "error",
     "traceback": [
      "\u001b[1;31m---------------------------------------------------------------------------\u001b[0m",
      "\u001b[1;31mNameError\u001b[0m                                 Traceback (most recent call last)",
      "\u001b[1;32m<ipython-input-14-a497ee69675c>\u001b[0m in \u001b[0;36m<module>\u001b[1;34m\u001b[0m\n\u001b[0;32m      1\u001b[0m \u001b[1;31m#punti XY\u001b[0m\u001b[1;33m\u001b[0m\u001b[1;33m\u001b[0m\u001b[1;33m\u001b[0m\u001b[0m\n\u001b[1;32m----> 2\u001b[1;33m \u001b[0mNx\u001b[0m\u001b[1;33m=\u001b[0m \u001b[0mint\u001b[0m\u001b[1;33m(\u001b[0m\u001b[0mxmax\u001b[0m\u001b[1;33m-\u001b[0m\u001b[0mxmin\u001b[0m\u001b[1;33m)\u001b[0m\u001b[1;33m*\u001b[0m\u001b[1;36m20\u001b[0m\u001b[1;33m\u001b[0m\u001b[1;33m\u001b[0m\u001b[0m\n\u001b[0m\u001b[0;32m      3\u001b[0m \u001b[0mNy\u001b[0m \u001b[1;33m=\u001b[0m \u001b[0mint\u001b[0m\u001b[1;33m(\u001b[0m\u001b[0mymax\u001b[0m\u001b[1;33m-\u001b[0m\u001b[0mymin\u001b[0m\u001b[1;33m)\u001b[0m\u001b[1;33m*\u001b[0m\u001b[1;36m20\u001b[0m\u001b[1;33m\u001b[0m\u001b[1;33m\u001b[0m\u001b[0m\n\u001b[0;32m      4\u001b[0m \u001b[0mx\u001b[0m \u001b[1;33m=\u001b[0m \u001b[0mnp\u001b[0m\u001b[1;33m.\u001b[0m\u001b[0mlinspace\u001b[0m\u001b[1;33m(\u001b[0m\u001b[0mxmin\u001b[0m\u001b[1;33m,\u001b[0m\u001b[0mxmax\u001b[0m\u001b[1;33m,\u001b[0m\u001b[0mNx\u001b[0m\u001b[1;33m)\u001b[0m\u001b[1;33m\u001b[0m\u001b[1;33m\u001b[0m\u001b[0m\n\u001b[0;32m      5\u001b[0m \u001b[0my\u001b[0m \u001b[1;33m=\u001b[0m \u001b[0mnp\u001b[0m\u001b[1;33m.\u001b[0m\u001b[0mlinspace\u001b[0m\u001b[1;33m(\u001b[0m\u001b[0mymin\u001b[0m\u001b[1;33m,\u001b[0m\u001b[0mymax\u001b[0m\u001b[1;33m,\u001b[0m\u001b[0mNy\u001b[0m\u001b[1;33m)\u001b[0m\u001b[1;33m\u001b[0m\u001b[1;33m\u001b[0m\u001b[0m\n",
      "\u001b[1;31mNameError\u001b[0m: name 'xmax' is not defined"
     ]
    }
   ],
   "source": [
    "#punti XY\n",
    "Nx= int(xmax-xmin)*20\n",
    "Ny = int(ymax-ymin)*20\n",
    "x = np.linspace(xmin,xmax,Nx)\n",
    "y = np.linspace(ymin,ymax,Ny)\n",
    "X,Y = np.meshgrid(x,y)\n",
    "\n",
    "XY = np.zeros((Nx*Ny,2))\n",
    "XY[:,0] = X.reshape((Nx*Ny,))\n",
    "XY[:,1] = Y.reshape((Nx*Ny,))\n",
    "\n",
    "x = XY[:,0]\n",
    "y = XY[:,1]"
   ]
  },
  {
   "cell_type": "code",
   "execution_count": null,
   "metadata": {},
   "outputs": [],
   "source": [
    "Uinc = Herglotz(XY)"
   ]
  },
  {
   "cell_type": "code",
   "execution_count": null,
   "metadata": {
    "code_folding": [
     0
    ]
   },
   "outputs": [],
   "source": [
    "#grafico\n",
    "fig = plt.figure ( 0 , figsize = ( 15 , 5 ) )\n",
    "\n",
    "cmap = 'RdYlBu'\n",
    "\n",
    "ax = fig.add_subplot(131)\n",
    "#ax.plot(xB, yB, color= \"black\",label=\"Bspline\")\n",
    "sc = ax.scatter(x,y,c=Uinc.real,cmap=cmap)\n",
    "plt.colorbar(sc)\n",
    "ax.set_aspect('equal')\n",
    "plt.xlim(min(x),max(x))\n",
    "plt.ylim(min(y),max(y))\n",
    "plt.title(\"real\")\n",
    "\n",
    "ax = fig.add_subplot(132)\n",
    "#ax.plot(xB, yB, color= \"black\",label=\"Bspline\")\n",
    "sc = ax.scatter(x,y,c=Uinc.imag,cmap=cmap)\n",
    "plt.colorbar(sc)\n",
    "ax.set_aspect('equal')\n",
    "plt.xlim(min(x),max(x))\n",
    "plt.ylim(min(y),max(y))\n",
    "plt.title(\"imag\")\n",
    "\n",
    "ax = fig.add_subplot(133)\n",
    "#ax.plot(xB, yB, color= \"black\",label=\"Bspline\")\n",
    "sc = ax.scatter(x,y,c=np.absolute(Uinc),cmap=cmap)\n",
    "plt.colorbar(sc)\n",
    "ax.set_aspect('equal')\n",
    "plt.xlim(min(x),max(x))\n",
    "plt.ylim(min(y),max(y))\n",
    "plt.title(\"abs\")\n",
    "\n",
    "#ax = fig.add_subplot(224)\n",
    "##ax.plot(xB, yB, color= \"black\",label=\"Bspline\")\n",
    "#sc = ax.scatter(x,y,c=np.angle(Uinc),cmap=cmap)\n",
    "#plt.colorbar(sc)\n",
    "#ax.set_aspect('equal')\n",
    "#plt.xlim(min(x),max(x))\n",
    "#plt.ylim(min(y),max(y))\n",
    "#plt.title(\"phase\")\n",
    "\n",
    "plt.show()"
   ]
  },
  {
   "cell_type": "markdown",
   "metadata": {},
   "source": [
    "### Preparation"
   ]
  },
  {
   "cell_type": "code",
   "execution_count": 15,
   "metadata": {
    "ExecuteTime": {
     "end_time": "2021-03-19T10:26:35.768317Z",
     "start_time": "2021-03-19T10:26:34.844889Z"
    },
    "code_folding": [
     0
    ]
   },
   "outputs": [
    {
     "ename": "NameError",
     "evalue": "name 'xmax' is not defined",
     "output_type": "error",
     "traceback": [
      "\u001b[1;31m---------------------------------------------------------------------------\u001b[0m",
      "\u001b[1;31mNameError\u001b[0m                                 Traceback (most recent call last)",
      "\u001b[1;32m<ipython-input-15-379421326ec0>\u001b[0m in \u001b[0;36m<module>\u001b[1;34m\u001b[0m\n\u001b[0;32m      1\u001b[0m \u001b[1;31m#punti XY\u001b[0m\u001b[1;33m\u001b[0m\u001b[1;33m\u001b[0m\u001b[1;33m\u001b[0m\u001b[0m\n\u001b[1;32m----> 2\u001b[1;33m \u001b[0mNx\u001b[0m\u001b[1;33m=\u001b[0m \u001b[0mint\u001b[0m\u001b[1;33m(\u001b[0m\u001b[0mxmax\u001b[0m\u001b[1;33m-\u001b[0m\u001b[0mxmin\u001b[0m\u001b[1;33m)\u001b[0m\u001b[1;33m*\u001b[0m\u001b[1;36m20\u001b[0m\u001b[1;33m\u001b[0m\u001b[1;33m\u001b[0m\u001b[0m\n\u001b[0m\u001b[0;32m      3\u001b[0m \u001b[0mNy\u001b[0m \u001b[1;33m=\u001b[0m \u001b[0mint\u001b[0m\u001b[1;33m(\u001b[0m\u001b[0mymax\u001b[0m\u001b[1;33m-\u001b[0m\u001b[0mymin\u001b[0m\u001b[1;33m)\u001b[0m\u001b[1;33m*\u001b[0m\u001b[1;36m20\u001b[0m\u001b[1;33m\u001b[0m\u001b[1;33m\u001b[0m\u001b[0m\n\u001b[0;32m      4\u001b[0m \u001b[0mx\u001b[0m \u001b[1;33m=\u001b[0m \u001b[0mnp\u001b[0m\u001b[1;33m.\u001b[0m\u001b[0mlinspace\u001b[0m\u001b[1;33m(\u001b[0m\u001b[0mxmin\u001b[0m\u001b[1;33m,\u001b[0m\u001b[0mxmax\u001b[0m\u001b[1;33m,\u001b[0m\u001b[0mNx\u001b[0m\u001b[1;33m)\u001b[0m\u001b[1;33m\u001b[0m\u001b[1;33m\u001b[0m\u001b[0m\n\u001b[0;32m      5\u001b[0m \u001b[0my\u001b[0m \u001b[1;33m=\u001b[0m \u001b[0mnp\u001b[0m\u001b[1;33m.\u001b[0m\u001b[0mlinspace\u001b[0m\u001b[1;33m(\u001b[0m\u001b[0mymin\u001b[0m\u001b[1;33m,\u001b[0m\u001b[0mymax\u001b[0m\u001b[1;33m,\u001b[0m\u001b[0mNy\u001b[0m\u001b[1;33m)\u001b[0m\u001b[1;33m\u001b[0m\u001b[1;33m\u001b[0m\u001b[0m\n",
      "\u001b[1;31mNameError\u001b[0m: name 'xmax' is not defined"
     ]
    }
   ],
   "source": [
    "#punti XY\n",
    "Nx= int(xmax-xmin)*20\n",
    "Ny = int(ymax-ymin)*20\n",
    "x = np.linspace(xmin,xmax,Nx)\n",
    "y = np.linspace(ymin,ymax,Ny)\n",
    "X,Y = np.meshgrid(x,y)\n",
    "\n",
    "XY0 = np.zeros((Nx*Ny,2))\n",
    "XY0[:,0] = X.reshape((Nx*Ny,))\n",
    "XY0[:,1] = Y.reshape((Nx*Ny,))\n",
    "\n",
    "internal = bs.internal_points(XY=XY0,NN=1000,xmin=0.,xmax=1.,opts=None)\n",
    "XY = XY0[ np.logical_not(internal) ]"
   ]
  },
  {
   "cell_type": "code",
   "execution_count": null,
   "metadata": {
    "code_folding": [
     0
    ]
   },
   "outputs": [],
   "source": [
    "#valutazione della Bspline\n",
    "NN = 1000\n",
    "T = np.linspace(xminBs,xmaxBs,NN,endpoint=True)\n",
    "xy   = bs.evaluate(T)\n",
    "uinc = Herglotz(xy)"
   ]
  },
  {
   "cell_type": "code",
   "execution_count": null,
   "metadata": {
    "ExecuteTime": {
     "end_time": "2021-03-19T10:26:31.492960Z",
     "start_time": "2021-03-19T10:26:29.462209Z"
    },
    "code_folding": [
     0
    ]
   },
   "outputs": [],
   "source": [
    "#grafico\n",
    "fig = plt.figure ( 0 , figsize = ( 15, 5 ) )\n",
    "\n",
    "#\n",
    "#s = 0.2\n",
    "ax = fig.add_subplot(121, projection='3d')\n",
    "ax.plot(xy[:,0], xy[:,1],uinc.real,color=\"blue\",label=\"real\")\n",
    "ax.plot(xy[:,0], xy[:,1],uinc.imag,color=\"green\",label=\"imag\")\n",
    "ax.plot(xy[:,0], xy[:,1],0.0,color=\"red\",label=\"Bspline\")\n",
    "plt.grid(True)\n",
    "plt.legend()\n",
    "\n",
    "#\n",
    "ax = fig.add_subplot(122)#, projection='3d')\n",
    "ax.plot(T,uinc.real,color=\"blue\",label=\"real\")\n",
    "ax.plot(T,uinc.imag,color=\"green\",label=\"imag\")\n",
    "plt.grid(True)\n",
    "plt.legend()\n",
    "\n",
    "#\n",
    "#ax = fig.add_subplot(133)#, projection='3d')\n",
    "#ax.plot(T,somma.real,color=\"blue\",label=\"real\")\n",
    "#ax.plot(T,somma.imag,color=\"green\",label=\"imag\")\n",
    "#plt.grid(True)\n",
    "#plt.legend()\n",
    "\n",
    "plt.show()"
   ]
  },
  {
   "cell_type": "code",
   "execution_count": 16,
   "metadata": {
    "ExecuteTime": {
     "end_time": "2021-03-19T10:27:25.928898Z",
     "start_time": "2021-03-19T10:27:22.730894Z"
    },
    "code_folding": [
     0
    ]
   },
   "outputs": [
    {
     "ename": "NameError",
     "evalue": "name 'plt' is not defined",
     "output_type": "error",
     "traceback": [
      "\u001b[1;31m---------------------------------------------------------------------------\u001b[0m",
      "\u001b[1;31mNameError\u001b[0m                                 Traceback (most recent call last)",
      "\u001b[1;32m<ipython-input-16-0c3c36811203>\u001b[0m in \u001b[0;36m<module>\u001b[1;34m\u001b[0m\n\u001b[0;32m      1\u001b[0m \u001b[1;31m#grafico\u001b[0m\u001b[1;33m\u001b[0m\u001b[1;33m\u001b[0m\u001b[1;33m\u001b[0m\u001b[0m\n\u001b[1;32m----> 2\u001b[1;33m \u001b[0mfig\u001b[0m \u001b[1;33m=\u001b[0m \u001b[0mplt\u001b[0m\u001b[1;33m.\u001b[0m\u001b[0mfigure\u001b[0m \u001b[1;33m(\u001b[0m \u001b[1;36m0\u001b[0m \u001b[1;33m,\u001b[0m \u001b[0mfigsize\u001b[0m \u001b[1;33m=\u001b[0m \u001b[1;33m(\u001b[0m \u001b[1;36m15\u001b[0m \u001b[1;33m,\u001b[0m \u001b[1;36m5\u001b[0m \u001b[1;33m)\u001b[0m \u001b[1;33m)\u001b[0m\u001b[1;33m\u001b[0m\u001b[1;33m\u001b[0m\u001b[0m\n\u001b[0m\u001b[0;32m      3\u001b[0m \u001b[1;33m\u001b[0m\u001b[0m\n\u001b[0;32m      4\u001b[0m \u001b[0mUinc\u001b[0m \u001b[1;33m=\u001b[0m \u001b[0mHerglotz\u001b[0m\u001b[1;33m(\u001b[0m\u001b[0mXY\u001b[0m\u001b[1;33m)\u001b[0m\u001b[1;33m\u001b[0m\u001b[1;33m\u001b[0m\u001b[0m\n\u001b[0;32m      5\u001b[0m \u001b[1;33m\u001b[0m\u001b[0m\n",
      "\u001b[1;31mNameError\u001b[0m: name 'plt' is not defined"
     ]
    }
   ],
   "source": [
    "#grafico\n",
    "fig = plt.figure ( 0 , figsize = ( 15 , 5 ) )\n",
    "\n",
    "Uinc = Herglotz(XY)\n",
    "\n",
    "cmap = 'RdYlBu'\n",
    "    \n",
    "plot(fig,121,df[\"x\"], df[\"y\"],XY[:,0],XY[:,1],Uinc.real,\"$u_{inc}$ : real\",cmap)\n",
    "plot(fig,122,df[\"x\"], df[\"y\"],XY[:,0],XY[:,1],Uinc.imag,\"$u_{inc}$ : imag\",cmap)\n",
    "\n",
    "plt.show()"
   ]
  },
  {
   "cell_type": "markdown",
   "metadata": {},
   "source": [
    "### Solution"
   ]
  },
  {
   "cell_type": "code",
   "execution_count": 17,
   "metadata": {
    "ExecuteTime": {
     "end_time": "2021-03-19T08:38:52.012879Z",
     "start_time": "2021-03-19T08:38:51.991892Z"
    },
    "code_folding": [
     0
    ]
   },
   "outputs": [
    {
     "ename": "NameError",
     "evalue": "name 'file_dir' is not defined",
     "output_type": "error",
     "traceback": [
      "\u001b[1;31m---------------------------------------------------------------------------\u001b[0m",
      "\u001b[1;31mNameError\u001b[0m                                 Traceback (most recent call last)",
      "\u001b[1;32m<ipython-input-17-881dff4e058d>\u001b[0m in \u001b[0;36m<module>\u001b[1;34m\u001b[0m\n\u001b[0;32m      1\u001b[0m \u001b[1;31m#files\u001b[0m\u001b[1;33m\u001b[0m\u001b[1;33m\u001b[0m\u001b[1;33m\u001b[0m\u001b[0m\n\u001b[1;32m----> 2\u001b[1;33m \u001b[0mfile_sol\u001b[0m \u001b[1;33m=\u001b[0m \u001b[0mfile_dir\u001b[0m\u001b[1;33m+\u001b[0m\u001b[1;34m\"solution-Herglotz-\"\u001b[0m\u001b[1;33m+\u001b[0m\u001b[0msuffix\u001b[0m\u001b[1;33m\u001b[0m\u001b[1;33m\u001b[0m\u001b[0m\n\u001b[0m\u001b[0;32m      3\u001b[0m \u001b[0mfile_lv\u001b[0m  \u001b[1;33m=\u001b[0m \u001b[0mfile_dir\u001b[0m\u001b[1;33m+\u001b[0m\u001b[1;34m\"load_vector-Herglotz-\"\u001b[0m\u001b[1;33m+\u001b[0m\u001b[0msuffix\u001b[0m\u001b[1;33m\u001b[0m\u001b[1;33m\u001b[0m\u001b[0m\n\u001b[0;32m      4\u001b[0m \u001b[0mfile_ind\u001b[0m \u001b[1;33m=\u001b[0m \u001b[0mfile_dir\u001b[0m\u001b[1;33m+\u001b[0m\u001b[1;34m\"indirect_solution-Herglotz-\"\u001b[0m\u001b[1;33m+\u001b[0m\u001b[0msuffix\u001b[0m\u001b[1;33m\u001b[0m\u001b[1;33m\u001b[0m\u001b[0m\n\u001b[0;32m      5\u001b[0m \u001b[0mprint\u001b[0m\u001b[1;33m(\u001b[0m\u001b[0mfile_sol\u001b[0m\u001b[1;33m)\u001b[0m\u001b[1;33m\u001b[0m\u001b[1;33m\u001b[0m\u001b[0m\n",
      "\u001b[1;31mNameError\u001b[0m: name 'file_dir' is not defined"
     ]
    }
   ],
   "source": [
    "#files\n",
    "file_sol = file_dir+\"solution-Herglotz-\"+suffix\n",
    "file_lv  = file_dir+\"load_vector-Herglotz-\"+suffix\n",
    "file_ind = file_dir+\"indirect_solution-Herglotz-\"+suffix\n",
    "print(file_sol)\n",
    "print(file_lv)\n",
    "print(file_ind)"
   ]
  },
  {
   "cell_type": "code",
   "execution_count": null,
   "metadata": {
    "ExecuteTime": {
     "end_time": "2021-03-19T08:39:54.239910Z",
     "start_time": "2021-03-19T08:39:51.425502Z"
    },
    "code_folding": [
     0
    ]
   },
   "outputs": [],
   "source": [
    "#metodo di Galerkin\n",
    "READ = False\n",
    "SAVE = True\n",
    "if os.path.exists(file_sol) and READ == True :\n",
    "    sol,Xnp,Valnp = bs.load(\"sol-BEM\",file_sol)\n",
    "    \n",
    "if os.path.exists(file_lv) and READ == True :\n",
    "    lv = bs.load(\"lv-BEM\",file_lv)\n",
    "    \n",
    "if os.path.exists(file_ind) and READ == True :\n",
    "    sol = bs.load(\"ind_sol-BEM\",file_ind)\n",
    "    \n",
    "else :\n",
    "    opts = {\"print\":True,\"ready_sol_BEM\":False,\"ready_lv_BEM\":False,\"ready_ind_sol_BEM\":False}\n",
    "    sol,Xnp,Valnp = bs.BEM(uinc=Herglotz,k=wavevector,XY=XY,opts=opts)\n",
    "    if SAVE == True :\n",
    "        bs.save(\"sol-BEM\",file_sol)\n",
    "        bs.save(\"lv-BEM\",file_lv)\n",
    "        bs.save(\"ind_sol-BEM\",file_ind)\n",
    "sol.head()"
   ]
  },
  {
   "cell_type": "code",
   "execution_count": null,
   "metadata": {
    "code_folding": [
     0
    ]
   },
   "outputs": [],
   "source": [
    "#uinc\n",
    "Uinc = Herglotz(XY)#.reshape(Nx,Ny).transpose()\n",
    "total = Uinc + Valnp"
   ]
  },
  {
   "cell_type": "code",
   "execution_count": 18,
   "metadata": {
    "ExecuteTime": {
     "end_time": "2021-03-19T08:41:02.586654Z",
     "start_time": "2021-03-19T08:40:53.075530Z"
    },
    "code_folding": [
     0
    ]
   },
   "outputs": [
    {
     "ename": "NameError",
     "evalue": "name 'plt' is not defined",
     "output_type": "error",
     "traceback": [
      "\u001b[1;31m---------------------------------------------------------------------------\u001b[0m",
      "\u001b[1;31mNameError\u001b[0m                                 Traceback (most recent call last)",
      "\u001b[1;32m<ipython-input-18-e59674f03a5a>\u001b[0m in \u001b[0;36m<module>\u001b[1;34m\u001b[0m\n\u001b[0;32m      1\u001b[0m \u001b[1;31m#grafico\u001b[0m\u001b[1;33m\u001b[0m\u001b[1;33m\u001b[0m\u001b[1;33m\u001b[0m\u001b[0m\n\u001b[1;32m----> 2\u001b[1;33m \u001b[0mfig\u001b[0m \u001b[1;33m=\u001b[0m \u001b[0mplt\u001b[0m\u001b[1;33m.\u001b[0m\u001b[0mfigure\u001b[0m \u001b[1;33m(\u001b[0m \u001b[1;36m0\u001b[0m \u001b[1;33m,\u001b[0m \u001b[0mfigsize\u001b[0m \u001b[1;33m=\u001b[0m \u001b[1;33m(\u001b[0m \u001b[1;36m15\u001b[0m \u001b[1;33m,\u001b[0m \u001b[1;36m10\u001b[0m \u001b[1;33m)\u001b[0m \u001b[1;33m)\u001b[0m\u001b[1;33m\u001b[0m\u001b[1;33m\u001b[0m\u001b[0m\n\u001b[0m\u001b[0;32m      3\u001b[0m \u001b[1;33m\u001b[0m\u001b[0m\n\u001b[0;32m      4\u001b[0m \u001b[0mcmap\u001b[0m \u001b[1;33m=\u001b[0m \u001b[1;34m'RdYlBu'\u001b[0m\u001b[1;33m\u001b[0m\u001b[1;33m\u001b[0m\u001b[0m\n\u001b[0;32m      5\u001b[0m \u001b[1;33m\u001b[0m\u001b[0m\n",
      "\u001b[1;31mNameError\u001b[0m: name 'plt' is not defined"
     ]
    }
   ],
   "source": [
    "#grafico\n",
    "fig = plt.figure ( 0 , figsize = ( 15 , 10 ) )\n",
    "\n",
    "cmap = 'RdYlBu'\n",
    "\n",
    "    \n",
    "plot_sol(fig,331,df[\"x\"], df[\"y\"],XY[:,0],XY[:,1],Uinc.real,\"$u_{inc}$ : real\")\n",
    "plot_sol(fig,334,df[\"x\"], df[\"y\"],XY[:,0],XY[:,1],Uinc.imag,\"$u_{inc}$ : imag\")\n",
    "plot_sol(fig,337,df[\"x\"], df[\"y\"],XY[:,0],XY[:,1],np.absolute(Uinc),\"$u_{inc}$ : abs\")\n",
    "\n",
    "plot_sol(fig,332,df[\"x\"], df[\"y\"],XY[:,0],XY[:,1],Valnp.real,\"$u_{scat}$ : real\")\n",
    "plot_sol(fig,335,df[\"x\"], df[\"y\"],XY[:,0],XY[:,1],Valnp.imag,\"$u_{scat}$ : imag\")\n",
    "plot_sol(fig,338,df[\"x\"], df[\"y\"],XY[:,0],XY[:,1],np.absolute(Valnp),\"$u_{scat}$ : abs\")\n",
    "\n",
    "plot_sol(fig,333,df[\"x\"], df[\"y\"],XY[:,0],XY[:,1],total.real,\"$u_{tot}$ : real\")\n",
    "plot_sol(fig,336,df[\"x\"], df[\"y\"],XY[:,0],XY[:,1],total.imag,\"$u_{tot}$ : imag\")\n",
    "plot_sol(fig,339,df[\"x\"], df[\"y\"],XY[:,0],XY[:,1],np.absolute(total),\"$u_{tot}$ : abs\")\n",
    "\n",
    "plt.tight_layout()\n",
    "\n",
    "sol_png = file_dir+\"solution-n=6-random=False-\"+suffix_png\n",
    "plt.savefig(sol_png)\n",
    "\n",
    "plt.show()"
   ]
  },
  {
   "cell_type": "markdown",
   "metadata": {},
   "source": [
    "# Circle"
   ]
  },
  {
   "cell_type": "markdown",
   "metadata": {},
   "source": [
    "## Definition"
   ]
  },
  {
   "cell_type": "code",
   "execution_count": 19,
   "metadata": {
    "ExecuteTime": {
     "end_time": "2021-03-19T10:22:02.503614Z",
     "start_time": "2021-03-19T10:22:02.482636Z"
    },
    "code_folding": [
     0
    ]
   },
   "outputs": [
    {
     "ename": "NameError",
     "evalue": "name 'np' is not defined",
     "output_type": "error",
     "traceback": [
      "\u001b[1;31m---------------------------------------------------------------------------\u001b[0m",
      "\u001b[1;31mNameError\u001b[0m                                 Traceback (most recent call last)",
      "\u001b[1;32m<ipython-input-19-d24c30058073>\u001b[0m in \u001b[0;36m<module>\u001b[1;34m\u001b[0m\n\u001b[0;32m      1\u001b[0m \u001b[1;31m#definissco il vettor d'onda\u001b[0m\u001b[1;33m\u001b[0m\u001b[1;33m\u001b[0m\u001b[1;33m\u001b[0m\u001b[0m\n\u001b[1;32m----> 2\u001b[1;33m \u001b[0mk_in\u001b[0m \u001b[1;33m=\u001b[0m \u001b[1;36m30\u001b[0m\u001b[1;33m/\u001b[0m\u001b[1;36m4\u001b[0m\u001b[1;33m*\u001b[0m\u001b[0mnp\u001b[0m\u001b[1;33m.\u001b[0m\u001b[0masarray\u001b[0m\u001b[1;33m(\u001b[0m\u001b[1;33m[\u001b[0m\u001b[0mnp\u001b[0m\u001b[1;33m.\u001b[0m\u001b[0msqrt\u001b[0m\u001b[1;33m(\u001b[0m\u001b[1;36m3.\u001b[0m\u001b[1;33m)\u001b[0m\u001b[1;33m/\u001b[0m\u001b[1;36m2.\u001b[0m\u001b[1;33m,\u001b[0m\u001b[1;36m0.5\u001b[0m\u001b[1;33m]\u001b[0m\u001b[1;33m)\u001b[0m\u001b[1;33m\u001b[0m\u001b[1;33m\u001b[0m\u001b[0m\n\u001b[0m\u001b[0;32m      3\u001b[0m \u001b[0mwavevector\u001b[0m \u001b[1;33m=\u001b[0m \u001b[1;36m7.5\u001b[0m\u001b[1;31m#np.sqrt(np.sum(np.power(k_in,2.0)))\u001b[0m\u001b[1;33m\u001b[0m\u001b[1;33m\u001b[0m\u001b[0m\n\u001b[0;32m      4\u001b[0m \u001b[0mprint\u001b[0m\u001b[1;33m(\u001b[0m\u001b[1;34m\"w:\"\u001b[0m\u001b[1;33m,\u001b[0m\u001b[0mwavevector\u001b[0m\u001b[1;33m)\u001b[0m\u001b[1;33m\u001b[0m\u001b[1;33m\u001b[0m\u001b[0m\n\u001b[0;32m      5\u001b[0m \u001b[0mprint\u001b[0m\u001b[1;33m(\u001b[0m\u001b[1;34m\"h:\"\u001b[0m\u001b[1;33m,\u001b[0m\u001b[0mnp\u001b[0m\u001b[1;33m.\u001b[0m\u001b[0mpi\u001b[0m\u001b[1;33m/\u001b[0m\u001b[1;33m(\u001b[0m\u001b[1;36m5\u001b[0m\u001b[1;33m*\u001b[0m\u001b[0mwavevector\u001b[0m\u001b[1;33m)\u001b[0m\u001b[1;33m)\u001b[0m\u001b[1;33m\u001b[0m\u001b[1;33m\u001b[0m\u001b[0m\n",
      "\u001b[1;31mNameError\u001b[0m: name 'np' is not defined"
     ]
    }
   ],
   "source": [
    "#definissco il vettor d'onda\n",
    "k_in = 30/4*np.asarray([np.sqrt(3.)/2.,0.5])\n",
    "wavevector = 7.5#np.sqrt(np.sum(np.power(k_in,2.0)))\n",
    "print(\"w:\",wavevector)\n",
    "print(\"h:\",np.pi/(5*wavevector))\n",
    "I = np.complex(0,1)\n",
    "\n",
    "xmin = -3\n",
    "xmax = 3\n",
    "ymin = -3\n",
    "ymax = 3"
   ]
  },
  {
   "cell_type": "code",
   "execution_count": null,
   "metadata": {
    "ExecuteTime": {
     "end_time": "2021-03-19T10:22:03.774426Z",
     "start_time": "2021-03-19T10:22:03.737449Z"
    },
    "code_folding": [
     0
    ]
   },
   "outputs": [],
   "source": [
    "#definisco la dimensionaità:\n",
    "sh = Bs.shape(1,2)\n",
    "#sh.show()\n",
    "\n",
    "#defiisco i knot vector\n",
    "P=1 #polinomial degree\n",
    "N=100 #base caridnality\n",
    "xminBs = 0.0\n",
    "xmaxBs = 1.0\n",
    "\n",
    "\n",
    "#\n",
    "#kv = Bs.uniform_open_kv(xmin,xmax,p=P,n=N)#Bs.knot_vector(P,N,v)\n",
    "#kv = periodic_kv(xmin,xmax,p=P,n=N)\n",
    "kv = Bs.periodic_kv(xminBs,xmaxBs,p=P,n=N)\n",
    "#kv.show()\n",
    "\n",
    "#alloco la Bspline\n",
    "bs = Bs.Bspline(sh,[kv],properties={\"periodic\":[True]})"
   ]
  },
  {
   "cell_type": "code",
   "execution_count": null,
   "metadata": {
    "ExecuteTime": {
     "end_time": "2021-03-19T10:22:46.925997Z",
     "start_time": "2021-03-19T10:22:46.903011Z"
    },
    "code_folding": [
     0
    ]
   },
   "outputs": [],
   "source": [
    "#files\n",
    "file_dir = \"files/BEM/circle/\"\n",
    "suffix = \"P=\"+str(P)+\"-N=\"+str(N)+\"-k=\"+str(wavevector)+\".csv\"\n",
    "suffix_png = \"P=\"+str(P)+\"-N=\"+str(N)+\"-k=\"+str(wavevector)+\".png\""
   ]
  },
  {
   "cell_type": "markdown",
   "metadata": {},
   "source": [
    "## Geometry"
   ]
  },
  {
   "cell_type": "code",
   "execution_count": 20,
   "metadata": {
    "ExecuteTime": {
     "end_time": "2021-03-19T10:22:46.955978Z",
     "start_time": "2021-03-19T10:22:46.932993Z"
    },
    "code_folding": [
     0
    ]
   },
   "outputs": [],
   "source": [
    "#geometria\n",
    "x0 = 0.0\n",
    "y0 = 0.0\n",
    "a = 1.0\n",
    "b = 1.0\n",
    "radius = 1.0\n",
    "def func(t):\n",
    "    #print(cpz)\n",
    "    cpx = a*np.cos(2*np.pi*t)+x0#np.random.rand(N)\n",
    "    cpy = b*np.sin(2*np.pi*t)+y0#np.random.rand(N)\n",
    "    out = np.zeros(shape=(len(t),2))\n",
    "    for i in range(len(t)):\n",
    "        out[i,0] = cpx[i]\n",
    "        out[i,1] = cpy[i]\n",
    "    return out"
   ]
  },
  {
   "cell_type": "code",
   "execution_count": 21,
   "metadata": {
    "ExecuteTime": {
     "end_time": "2021-03-19T10:22:51.472951Z",
     "start_time": "2021-03-19T10:22:51.449965Z"
    },
    "code_folding": [
     0
    ]
   },
   "outputs": [
    {
     "ename": "NameError",
     "evalue": "name 'np' is not defined",
     "output_type": "error",
     "traceback": [
      "\u001b[1;31m---------------------------------------------------------------------------\u001b[0m",
      "\u001b[1;31mNameError\u001b[0m                                 Traceback (most recent call last)",
      "\u001b[1;32m<ipython-input-21-ab6d40c7377c>\u001b[0m in \u001b[0;36m<module>\u001b[1;34m\u001b[0m\n\u001b[0;32m      3\u001b[0m \u001b[1;31m# func(0.) = func(1.)\u001b[0m\u001b[1;33m\u001b[0m\u001b[1;33m\u001b[0m\u001b[1;33m\u001b[0m\u001b[0m\n\u001b[0;32m      4\u001b[0m \u001b[1;31m# quindi genero un punto in più\u001b[0m\u001b[1;33m\u001b[0m\u001b[1;33m\u001b[0m\u001b[1;33m\u001b[0m\u001b[0m\n\u001b[1;32m----> 5\u001b[1;33m \u001b[0mt\u001b[0m \u001b[1;33m=\u001b[0m \u001b[0mnp\u001b[0m\u001b[1;33m.\u001b[0m\u001b[0mlinspace\u001b[0m\u001b[1;33m(\u001b[0m\u001b[1;36m0\u001b[0m\u001b[1;33m,\u001b[0m\u001b[1;36m1\u001b[0m\u001b[1;33m,\u001b[0m\u001b[0mN\u001b[0m\u001b[1;33m+\u001b[0m\u001b[1;36m1\u001b[0m\u001b[1;33m,\u001b[0m\u001b[0mendpoint\u001b[0m\u001b[1;33m=\u001b[0m\u001b[1;32mTrue\u001b[0m\u001b[1;33m)\u001b[0m\u001b[1;31m#[0:-2]\u001b[0m\u001b[1;33m\u001b[0m\u001b[1;33m\u001b[0m\u001b[0m\n\u001b[0m\u001b[0;32m      6\u001b[0m \u001b[0mcp\u001b[0m \u001b[1;33m=\u001b[0m \u001b[0mfunc\u001b[0m\u001b[1;33m(\u001b[0m\u001b[0mt\u001b[0m\u001b[1;33m)\u001b[0m\u001b[1;33m\u001b[0m\u001b[1;33m\u001b[0m\u001b[0m\n\u001b[0;32m      7\u001b[0m \u001b[1;32mfor\u001b[0m \u001b[0mi\u001b[0m \u001b[1;32min\u001b[0m \u001b[0mrange\u001b[0m\u001b[1;33m(\u001b[0m\u001b[0mlen\u001b[0m\u001b[1;33m(\u001b[0m\u001b[0mt\u001b[0m\u001b[1;33m)\u001b[0m\u001b[1;33m)\u001b[0m\u001b[1;33m:\u001b[0m\u001b[1;33m\u001b[0m\u001b[1;33m\u001b[0m\u001b[0m\n",
      "\u001b[1;31mNameError\u001b[0m: name 'np' is not defined"
     ]
    }
   ],
   "source": [
    "#ATTENZIONE: mi servono dei punti distribuiti in modo uniforme\n",
    "# per come ho costruito func so che\n",
    "# func(0.) = func(1.)\n",
    "# quindi genero un punto in più\n",
    "t = np.linspace(0,1,N+1,endpoint=True)#[0:-2]\n",
    "cp = func(t)\n",
    "for i in range(len(t)):\n",
    "    #bs._cp[i] = cp[i]\n",
    "    bs.set_cp(i,cp[i])\n",
    "cpx = cp[:,0]\n",
    "cpy = cp[:,1]"
   ]
  },
  {
   "cell_type": "code",
   "execution_count": null,
   "metadata": {
    "ExecuteTime": {
     "end_time": "2021-03-19T10:23:02.045619Z",
     "start_time": "2021-03-19T10:23:01.480917Z"
    },
    "code_folding": [
     0
    ]
   },
   "outputs": [],
   "source": [
    "#valutazione della Bspline\n",
    "NN = 1000\n",
    "T = np.linspace(xminBs,xmaxBs,NN,endpoint=True)\n",
    "xy   = bs.evaluate(T)\n",
    "df = pd.DataFrame(xy)\n",
    "df = df.rename(columns={0:\"x\",1:\"y\"})"
   ]
  },
  {
   "cell_type": "code",
   "execution_count": null,
   "metadata": {
    "ExecuteTime": {
     "end_time": "2021-03-19T10:23:03.264658Z",
     "start_time": "2021-03-19T10:23:02.055614Z"
    },
    "code_folding": [
     0
    ]
   },
   "outputs": [],
   "source": [
    "#grafico\n",
    "fig = plt.figure ( 0 , figsize = ( 15, 5 ) )\n",
    "\n",
    "#converto in dataframe    \n",
    "ax = fig.add_subplot(131)\n",
    "#plt.plot(cpx,cpy,color=\"green\",label=\"cp\",linestyle=\"--\")\n",
    "plt.scatter(cpx,cpy,color=\"green\",label=\"cp\")\n",
    "#plt.scatter(df[\"x\"], df[\"y\"], color= \"red\",label=\"Bspline\")\n",
    "plt.grid()\n",
    "plt.legend()\n",
    "ax.set_aspect('equal')\n",
    "\n",
    "ax = fig.add_subplot(132)\n",
    "#plt.plot(cpx,cpy,color=\"green\",label=\"cp\",linestyle=\"--\")\n",
    "#plt.scatter(cpx,cpy,color=\"green\",label=\"cp\")\n",
    "plt.scatter(df[\"x\"], df[\"y\"], color= \"red\",label=\"Bspline\")\n",
    "plt.grid()\n",
    "plt.legend()\n",
    "ax.set_aspect('equal')\n",
    "\n",
    "#real\n",
    "ax = fig.add_subplot(133)#, projection='3d')\n",
    "ax.plot(T,df[\"x\"],color=\"blue\",label=\"x\")\n",
    "ax.plot(T,df[\"y\"],color=\"green\",label=\"y\")\n",
    "#ax.plot(df[\"t\"],np.real(df[\"trace\"]),color=\"red\",label=\"trace\")\n",
    "#plt.title(\"real\")\n",
    "plt.grid(True)\n",
    "plt.legend()\n",
    "plt.show()"
   ]
  },
  {
   "cell_type": "code",
   "execution_count": 22,
   "metadata": {},
   "outputs": [
    {
     "ename": "NameError",
     "evalue": "name 'file_dir' is not defined",
     "output_type": "error",
     "traceback": [
      "\u001b[1;31m---------------------------------------------------------------------------\u001b[0m",
      "\u001b[1;31mNameError\u001b[0m                                 Traceback (most recent call last)",
      "\u001b[1;32m<ipython-input-22-dabd1778ebfd>\u001b[0m in \u001b[0;36m<module>\u001b[1;34m\u001b[0m\n\u001b[1;32m----> 1\u001b[1;33m \u001b[0mfilename\u001b[0m \u001b[1;33m=\u001b[0m \u001b[0mfile_dir\u001b[0m\u001b[1;33m+\u001b[0m\u001b[1;34m\"control_points-\"\u001b[0m\u001b[1;33m+\u001b[0m\u001b[0msuffix\u001b[0m\u001b[1;33m\u001b[0m\u001b[1;33m\u001b[0m\u001b[0m\n\u001b[0m\u001b[0;32m      2\u001b[0m \u001b[0ma\u001b[0m \u001b[1;33m=\u001b[0m \u001b[0mbs\u001b[0m\u001b[1;33m.\u001b[0m\u001b[0msave\u001b[0m\u001b[1;33m(\u001b[0m\u001b[1;34m\"cp\"\u001b[0m\u001b[1;33m,\u001b[0m\u001b[0mfilename\u001b[0m\u001b[1;33m)\u001b[0m\u001b[1;33m\u001b[0m\u001b[1;33m\u001b[0m\u001b[0m\n\u001b[0;32m      3\u001b[0m \u001b[1;31m#bs.load(\"cp\",filename)\u001b[0m\u001b[1;33m\u001b[0m\u001b[1;33m\u001b[0m\u001b[1;33m\u001b[0m\u001b[0m\n",
      "\u001b[1;31mNameError\u001b[0m: name 'file_dir' is not defined"
     ]
    }
   ],
   "source": [
    "filename = file_dir+\"control_points-\"+suffix\n",
    "a = bs.save(\"cp\",filename)\n",
    "#bs.load(\"cp\",filename)"
   ]
  },
  {
   "cell_type": "markdown",
   "metadata": {},
   "source": [
    "## Stiffness Matrix"
   ]
  },
  {
   "cell_type": "code",
   "execution_count": 23,
   "metadata": {
    "ExecuteTime": {
     "start_time": "2021-03-19T10:29:02.046Z"
    },
    "code_folding": [
     0
    ],
    "scrolled": true
   },
   "outputs": [
    {
     "ename": "NameError",
     "evalue": "name 'file_dir' is not defined",
     "output_type": "error",
     "traceback": [
      "\u001b[1;31m---------------------------------------------------------------------------\u001b[0m",
      "\u001b[1;31mNameError\u001b[0m                                 Traceback (most recent call last)",
      "\u001b[1;32m<ipython-input-23-b234c6df44f5>\u001b[0m in \u001b[0;36m<module>\u001b[1;34m\u001b[0m\n\u001b[0;32m      2\u001b[0m \u001b[0mREAD\u001b[0m \u001b[1;33m=\u001b[0m \u001b[1;32mTrue\u001b[0m\u001b[1;33m\u001b[0m\u001b[1;33m\u001b[0m\u001b[0m\n\u001b[0;32m      3\u001b[0m \u001b[0mSAVE\u001b[0m \u001b[1;33m=\u001b[0m \u001b[1;32mFalse\u001b[0m\u001b[1;33m\u001b[0m\u001b[1;33m\u001b[0m\u001b[0m\n\u001b[1;32m----> 4\u001b[1;33m \u001b[0mfile\u001b[0m \u001b[1;33m=\u001b[0m \u001b[0mfile_dir\u001b[0m\u001b[1;33m+\u001b[0m\u001b[1;34m\"stiffness_matrix-n=6-\"\u001b[0m\u001b[1;33m+\u001b[0m\u001b[0msuffix\u001b[0m\u001b[1;33m\u001b[0m\u001b[1;33m\u001b[0m\u001b[0m\n\u001b[0m\u001b[0;32m      5\u001b[0m \u001b[0mprint\u001b[0m\u001b[1;33m(\u001b[0m\u001b[0mfile\u001b[0m\u001b[1;33m)\u001b[0m\u001b[1;33m\u001b[0m\u001b[1;33m\u001b[0m\u001b[0m\n\u001b[0;32m      6\u001b[0m \u001b[1;33m\u001b[0m\u001b[0m\n",
      "\u001b[1;31mNameError\u001b[0m: name 'file_dir' is not defined"
     ]
    }
   ],
   "source": [
    "#stiffness matrix\n",
    "READ = True\n",
    "SAVE = False\n",
    "file = file_dir+\"stiffness_matrix-n=6-\"+suffix\n",
    "print(file)\n",
    "\n",
    "if os.path.exists(file) and READ == True :\n",
    "    sm = bs.load(\"sm-BEM\",file)\n",
    "else :\n",
    "    sm,out = bs.stiffness_matrix_BEM(k=wavevector,\\\n",
    "                                 opts={\"print\":True,\"N\":[6],\"ready_sm_BEM\":False,\"return_both\":True})\n",
    "    if SAVE == True :\n",
    "        bs.save(\"sm-BEM\",file)\n",
    "sm.head()"
   ]
  },
  {
   "cell_type": "code",
   "execution_count": null,
   "metadata": {
    "code_folding": [
     0
    ]
   },
   "outputs": [],
   "source": [
    "#grafico\n",
    "file_png = file_dir+\"stiffness_matrix-n=6-random=False-\"+suffix_png\n",
    "plot_matrix(sm,file_png)"
   ]
  },
  {
   "cell_type": "markdown",
   "metadata": {},
   "source": [
    "## Single Layer Potential basis"
   ]
  },
  {
   "cell_type": "code",
   "execution_count": 24,
   "metadata": {
    "code_folding": [
     0
    ]
   },
   "outputs": [
    {
     "ename": "NameError",
     "evalue": "name 'xmax' is not defined",
     "output_type": "error",
     "traceback": [
      "\u001b[1;31m---------------------------------------------------------------------------\u001b[0m",
      "\u001b[1;31mNameError\u001b[0m                                 Traceback (most recent call last)",
      "\u001b[1;32m<ipython-input-24-f2b615a6d589>\u001b[0m in \u001b[0;36m<module>\u001b[1;34m\u001b[0m\n\u001b[0;32m      1\u001b[0m \u001b[1;31m#punti XY\u001b[0m\u001b[1;33m\u001b[0m\u001b[1;33m\u001b[0m\u001b[1;33m\u001b[0m\u001b[0m\n\u001b[1;32m----> 2\u001b[1;33m \u001b[0mNx\u001b[0m\u001b[1;33m=\u001b[0m \u001b[0mint\u001b[0m\u001b[1;33m(\u001b[0m\u001b[0mxmax\u001b[0m\u001b[1;33m-\u001b[0m\u001b[0mxmin\u001b[0m\u001b[1;33m)\u001b[0m\u001b[1;33m*\u001b[0m\u001b[1;36m10\u001b[0m\u001b[1;33m\u001b[0m\u001b[1;33m\u001b[0m\u001b[0m\n\u001b[0m\u001b[0;32m      3\u001b[0m \u001b[0mNy\u001b[0m \u001b[1;33m=\u001b[0m \u001b[0mint\u001b[0m\u001b[1;33m(\u001b[0m\u001b[0mymax\u001b[0m\u001b[1;33m-\u001b[0m\u001b[0mymin\u001b[0m\u001b[1;33m)\u001b[0m\u001b[1;33m*\u001b[0m\u001b[1;36m10\u001b[0m\u001b[1;33m\u001b[0m\u001b[1;33m\u001b[0m\u001b[0m\n\u001b[0;32m      4\u001b[0m \u001b[0mx\u001b[0m \u001b[1;33m=\u001b[0m \u001b[0mnp\u001b[0m\u001b[1;33m.\u001b[0m\u001b[0mlinspace\u001b[0m\u001b[1;33m(\u001b[0m\u001b[0mxmin\u001b[0m\u001b[1;33m,\u001b[0m\u001b[0mxmax\u001b[0m\u001b[1;33m,\u001b[0m\u001b[0mNx\u001b[0m\u001b[1;33m)\u001b[0m\u001b[1;33m\u001b[0m\u001b[1;33m\u001b[0m\u001b[0m\n\u001b[0;32m      5\u001b[0m \u001b[0my\u001b[0m \u001b[1;33m=\u001b[0m \u001b[0mnp\u001b[0m\u001b[1;33m.\u001b[0m\u001b[0mlinspace\u001b[0m\u001b[1;33m(\u001b[0m\u001b[0mymin\u001b[0m\u001b[1;33m,\u001b[0m\u001b[0mymax\u001b[0m\u001b[1;33m,\u001b[0m\u001b[0mNy\u001b[0m\u001b[1;33m)\u001b[0m\u001b[1;33m\u001b[0m\u001b[1;33m\u001b[0m\u001b[0m\n",
      "\u001b[1;31mNameError\u001b[0m: name 'xmax' is not defined"
     ]
    }
   ],
   "source": [
    "#punti XY\n",
    "Nx= int(xmax-xmin)*10\n",
    "Ny = int(ymax-ymin)*10\n",
    "x = np.linspace(xmin,xmax,Nx)\n",
    "y = np.linspace(ymin,ymax,Ny)\n",
    "X,Y = np.meshgrid(x,y)\n",
    "\n",
    "XY0 = np.zeros((Nx*Ny,2))\n",
    "XY0[:,0] = X.reshape((Nx*Ny,))\n",
    "XY0[:,1] = Y.reshape((Nx*Ny,))\n",
    "\n",
    "internal = bs.internal_points(XY=XY0,NN=1000,xmin=0.,xmax=1.,opts=None)\n",
    "XY = XY0[ np.logical_not(internal) ]\n",
    "print(len(XY))#,\" = \",len(XYslp)/3600,\"h\")\n",
    "\n",
    "#tolgo elementi interni\n",
    "#radius = np.asarray([np.sqrt(np.sum(np.power(i,2.0))) for i in XY])\n",
    "#XYslp = XY#[radius > 1.0]\n",
    "#print(len(XYslp),\" = \",len(XYslp)*3/3600,\"h\")"
   ]
  },
  {
   "cell_type": "code",
   "execution_count": null,
   "metadata": {
    "ExecuteTime": {
     "end_time": "2021-03-19T01:16:01.683539Z",
     "start_time": "2021-03-18T20:57:18.545231Z"
    },
    "code_folding": [
     0
    ]
   },
   "outputs": [],
   "source": [
    "#single layer potential per le funzioni di base\n",
    "READ = True\n",
    "SAVE = True\n",
    "\n",
    "file = file_dir+\"single_layer_potential-\"+suffix\n",
    "print(file)\n",
    "\n",
    "if os.path.exists(file) and READ == True :\n",
    "    slp = bs.load(\"slp-BEM\",file)\n",
    "#else :\n",
    "\n",
    "# I can update it adding some  points\n",
    "slp = bs.single_layer_potential_basis_BEM(XY=XY,k=wavevector,\\\n",
    "                                              opts={\"print\":True,\"N\":[6]})\n",
    "if SAVE == True :\n",
    "    bs.save(\"slp-BEM\",file)\n",
    "    \n",
    "slp.head()"
   ]
  },
  {
   "cell_type": "markdown",
   "metadata": {},
   "source": [
    "## Plane wave"
   ]
  },
  {
   "cell_type": "markdown",
   "metadata": {},
   "source": [
    "### Preparation"
   ]
  },
  {
   "cell_type": "code",
   "execution_count": 25,
   "metadata": {
    "ExecuteTime": {
     "end_time": "2021-03-19T10:26:35.768317Z",
     "start_time": "2021-03-19T10:26:34.844889Z"
    },
    "code_folding": [
     0
    ]
   },
   "outputs": [
    {
     "ename": "NameError",
     "evalue": "name 'xmax' is not defined",
     "output_type": "error",
     "traceback": [
      "\u001b[1;31m---------------------------------------------------------------------------\u001b[0m",
      "\u001b[1;31mNameError\u001b[0m                                 Traceback (most recent call last)",
      "\u001b[1;32m<ipython-input-25-1e2101d86fcc>\u001b[0m in \u001b[0;36m<module>\u001b[1;34m\u001b[0m\n\u001b[0;32m      1\u001b[0m \u001b[1;31m#punti XY\u001b[0m\u001b[1;33m\u001b[0m\u001b[1;33m\u001b[0m\u001b[1;33m\u001b[0m\u001b[0m\n\u001b[1;32m----> 2\u001b[1;33m \u001b[0mNx\u001b[0m\u001b[1;33m=\u001b[0m \u001b[0mint\u001b[0m\u001b[1;33m(\u001b[0m\u001b[0mxmax\u001b[0m\u001b[1;33m-\u001b[0m\u001b[0mxmin\u001b[0m\u001b[1;33m)\u001b[0m\u001b[1;33m*\u001b[0m\u001b[1;36m10\u001b[0m\u001b[1;33m\u001b[0m\u001b[1;33m\u001b[0m\u001b[0m\n\u001b[0m\u001b[0;32m      3\u001b[0m \u001b[0mNy\u001b[0m \u001b[1;33m=\u001b[0m \u001b[0mint\u001b[0m\u001b[1;33m(\u001b[0m\u001b[0mymax\u001b[0m\u001b[1;33m-\u001b[0m\u001b[0mymin\u001b[0m\u001b[1;33m)\u001b[0m\u001b[1;33m*\u001b[0m\u001b[1;36m10\u001b[0m\u001b[1;33m\u001b[0m\u001b[1;33m\u001b[0m\u001b[0m\n\u001b[0;32m      4\u001b[0m \u001b[0mx\u001b[0m \u001b[1;33m=\u001b[0m \u001b[0mnp\u001b[0m\u001b[1;33m.\u001b[0m\u001b[0mlinspace\u001b[0m\u001b[1;33m(\u001b[0m\u001b[0mxmin\u001b[0m\u001b[1;33m,\u001b[0m\u001b[0mxmax\u001b[0m\u001b[1;33m,\u001b[0m\u001b[0mNx\u001b[0m\u001b[1;33m)\u001b[0m\u001b[1;33m\u001b[0m\u001b[1;33m\u001b[0m\u001b[0m\n\u001b[0;32m      5\u001b[0m \u001b[0my\u001b[0m \u001b[1;33m=\u001b[0m \u001b[0mnp\u001b[0m\u001b[1;33m.\u001b[0m\u001b[0mlinspace\u001b[0m\u001b[1;33m(\u001b[0m\u001b[0mymin\u001b[0m\u001b[1;33m,\u001b[0m\u001b[0mymax\u001b[0m\u001b[1;33m,\u001b[0m\u001b[0mNy\u001b[0m\u001b[1;33m)\u001b[0m\u001b[1;33m\u001b[0m\u001b[1;33m\u001b[0m\u001b[0m\n",
      "\u001b[1;31mNameError\u001b[0m: name 'xmax' is not defined"
     ]
    }
   ],
   "source": [
    "#punti XY\n",
    "Nx= int(xmax-xmin)*10\n",
    "Ny = int(ymax-ymin)*10\n",
    "x = np.linspace(xmin,xmax,Nx)\n",
    "y = np.linspace(ymin,ymax,Ny)\n",
    "X,Y = np.meshgrid(x,y)\n",
    "\n",
    "XY0 = np.zeros((Nx*Ny,2))\n",
    "XY0[:,0] = X.reshape((Nx*Ny,))\n",
    "XY0[:,1] = Y.reshape((Nx*Ny,))\n",
    "\n",
    "internal = bs.internal_points(XY=XY0,NN=1000,xmin=0.,xmax=1.,opts=None)\n",
    "XY = XY0[ np.logical_not(internal) ]"
   ]
  },
  {
   "cell_type": "code",
   "execution_count": null,
   "metadata": {
    "ExecuteTime": {
     "end_time": "2021-03-19T10:23:32.584956Z",
     "start_time": "2021-03-19T10:23:32.561968Z"
    },
    "code_folding": [
     0
    ]
   },
   "outputs": [],
   "source": [
    "#plane_wave\n",
    "def plane_wave(xx): # soluzione\n",
    "    xx = np.asarray(xx)\n",
    "    theta = np.dot(xx,k_in)\n",
    "    return np.exp(I*theta)"
   ]
  },
  {
   "cell_type": "code",
   "execution_count": null,
   "metadata": {
    "code_folding": [
     0
    ]
   },
   "outputs": [],
   "source": [
    "#valutazione della Bspline\n",
    "NN = 1000\n",
    "T = np.linspace(xminBs,xmaxBs,NN,endpoint=True)\n",
    "xy   = bs.evaluate(T)\n",
    "uinc = plane_wave(xy)"
   ]
  },
  {
   "cell_type": "code",
   "execution_count": 26,
   "metadata": {
    "ExecuteTime": {
     "end_time": "2021-03-19T10:26:31.492960Z",
     "start_time": "2021-03-19T10:26:29.462209Z"
    },
    "code_folding": [
     0
    ]
   },
   "outputs": [
    {
     "ename": "NameError",
     "evalue": "name 'plt' is not defined",
     "output_type": "error",
     "traceback": [
      "\u001b[1;31m---------------------------------------------------------------------------\u001b[0m",
      "\u001b[1;31mNameError\u001b[0m                                 Traceback (most recent call last)",
      "\u001b[1;32m<ipython-input-26-c6516f13029b>\u001b[0m in \u001b[0;36m<module>\u001b[1;34m\u001b[0m\n\u001b[0;32m      1\u001b[0m \u001b[1;31m#grafico\u001b[0m\u001b[1;33m\u001b[0m\u001b[1;33m\u001b[0m\u001b[1;33m\u001b[0m\u001b[0m\n\u001b[1;32m----> 2\u001b[1;33m \u001b[0mfig\u001b[0m \u001b[1;33m=\u001b[0m \u001b[0mplt\u001b[0m\u001b[1;33m.\u001b[0m\u001b[0mfigure\u001b[0m \u001b[1;33m(\u001b[0m \u001b[1;36m0\u001b[0m \u001b[1;33m,\u001b[0m \u001b[0mfigsize\u001b[0m \u001b[1;33m=\u001b[0m \u001b[1;33m(\u001b[0m \u001b[1;36m15\u001b[0m\u001b[1;33m,\u001b[0m \u001b[1;36m5\u001b[0m \u001b[1;33m)\u001b[0m \u001b[1;33m)\u001b[0m\u001b[1;33m\u001b[0m\u001b[1;33m\u001b[0m\u001b[0m\n\u001b[0m\u001b[0;32m      3\u001b[0m \u001b[1;33m\u001b[0m\u001b[0m\n\u001b[0;32m      4\u001b[0m \u001b[1;31m#\u001b[0m\u001b[1;33m\u001b[0m\u001b[1;33m\u001b[0m\u001b[1;33m\u001b[0m\u001b[0m\n\u001b[0;32m      5\u001b[0m \u001b[1;31m#s = 0.2\u001b[0m\u001b[1;33m\u001b[0m\u001b[1;33m\u001b[0m\u001b[1;33m\u001b[0m\u001b[0m\n",
      "\u001b[1;31mNameError\u001b[0m: name 'plt' is not defined"
     ]
    }
   ],
   "source": [
    "#grafico\n",
    "fig = plt.figure ( 0 , figsize = ( 15, 5 ) )\n",
    "\n",
    "#\n",
    "#s = 0.2\n",
    "ax = fig.add_subplot(121, projection='3d')\n",
    "ax.plot(xy[:,0], xy[:,1],uinc.real,color=\"blue\",label=\"real\")\n",
    "ax.plot(xy[:,0], xy[:,1],uinc.imag,color=\"green\",label=\"imag\")\n",
    "ax.plot(xy[:,0], xy[:,1],0.0,color=\"red\",label=\"Bspline\")\n",
    "plt.grid(True)\n",
    "plt.legend()\n",
    "\n",
    "#\n",
    "ax = fig.add_subplot(122)#, projection='3d')\n",
    "ax.plot(T,uinc.real,color=\"blue\",label=\"real\")\n",
    "ax.plot(T,uinc.imag,color=\"green\",label=\"imag\")\n",
    "plt.grid(True)\n",
    "plt.legend()\n",
    "\n",
    "#\n",
    "#ax = fig.add_subplot(133)#, projection='3d')\n",
    "#ax.plot(T,somma.real,color=\"blue\",label=\"real\")\n",
    "#ax.plot(T,somma.imag,color=\"green\",label=\"imag\")\n",
    "#plt.grid(True)\n",
    "#plt.legend()\n",
    "\n",
    "plt.show()"
   ]
  },
  {
   "cell_type": "code",
   "execution_count": null,
   "metadata": {
    "ExecuteTime": {
     "end_time": "2021-03-19T10:27:25.928898Z",
     "start_time": "2021-03-19T10:27:22.730894Z"
    },
    "code_folding": [
     0
    ]
   },
   "outputs": [],
   "source": [
    "#uinc\n",
    "fig = plt.figure ( 0 , figsize = ( 15 , 5 ) )\n",
    "\n",
    "Uinc = plane_wave(XY)\n",
    "\n",
    "cmap = 'RdYlBu'\n",
    "    \n",
    "plot(fig,121,df[\"x\"], df[\"y\"],XY[:,0],XY[:,1],Uinc.real,\"$u_{inc}$ : real\",cmap)\n",
    "plot(fig,122,df[\"x\"], df[\"y\"],XY[:,0],XY[:,1],Uinc.imag,\"$u_{inc}$ : imag\",cmap)\n",
    "\n",
    "plt.show()"
   ]
  },
  {
   "cell_type": "markdown",
   "metadata": {},
   "source": [
    "### Solution"
   ]
  },
  {
   "cell_type": "code",
   "execution_count": 27,
   "metadata": {
    "ExecuteTime": {
     "end_time": "2021-03-19T08:39:54.239910Z",
     "start_time": "2021-03-19T08:39:51.425502Z"
    },
    "code_folding": [
     0
    ]
   },
   "outputs": [
    {
     "ename": "NameError",
     "evalue": "name 'file_dir' is not defined",
     "output_type": "error",
     "traceback": [
      "\u001b[1;31m---------------------------------------------------------------------------\u001b[0m",
      "\u001b[1;31mNameError\u001b[0m                                 Traceback (most recent call last)",
      "\u001b[1;32m<ipython-input-27-8c51fa0d65f7>\u001b[0m in \u001b[0;36m<module>\u001b[1;34m\u001b[0m\n\u001b[0;32m      4\u001b[0m \u001b[1;33m\u001b[0m\u001b[0m\n\u001b[0;32m      5\u001b[0m \u001b[1;31m#\u001b[0m\u001b[1;33m\u001b[0m\u001b[1;33m\u001b[0m\u001b[1;33m\u001b[0m\u001b[0m\n\u001b[1;32m----> 6\u001b[1;33m \u001b[0mfile_sol\u001b[0m \u001b[1;33m=\u001b[0m \u001b[0mfile_dir\u001b[0m\u001b[1;33m+\u001b[0m\u001b[1;34m\"solution-plane_wave-\"\u001b[0m\u001b[1;33m+\u001b[0m\u001b[0msuffix\u001b[0m\u001b[1;33m\u001b[0m\u001b[1;33m\u001b[0m\u001b[0m\n\u001b[0m\u001b[0;32m      7\u001b[0m \u001b[0mfile_lv\u001b[0m  \u001b[1;33m=\u001b[0m \u001b[0mfile_dir\u001b[0m\u001b[1;33m+\u001b[0m\u001b[1;34m\"load_vector-plane_wave-\"\u001b[0m\u001b[1;33m+\u001b[0m\u001b[0msuffix\u001b[0m\u001b[1;33m\u001b[0m\u001b[1;33m\u001b[0m\u001b[0m\n\u001b[0;32m      8\u001b[0m \u001b[0mfile_ind\u001b[0m \u001b[1;33m=\u001b[0m \u001b[0mfile_dir\u001b[0m\u001b[1;33m+\u001b[0m\u001b[1;34m\"indirect_solution-plane_wave-\"\u001b[0m\u001b[1;33m+\u001b[0m\u001b[0msuffix\u001b[0m\u001b[1;33m\u001b[0m\u001b[1;33m\u001b[0m\u001b[0m\n",
      "\u001b[1;31mNameError\u001b[0m: name 'file_dir' is not defined"
     ]
    }
   ],
   "source": [
    "#metodo di Galerkin\n",
    "READ = True\n",
    "SAVE = False\n",
    "\n",
    "#\n",
    "file_sol = file_dir+\"solution-plane_wave-\"+suffix\n",
    "file_lv  = file_dir+\"load_vector-plane_wave-\"+suffix\n",
    "file_ind = file_dir+\"indirect_solution-plane_wave-\"+suffix\n",
    "print(file_sol)\n",
    "print(file_lv)\n",
    "print(file_ind)\n",
    "\n",
    "if os.path.exists(file_sol) and READ == True :\n",
    "    sol,Xnp,Valnp = bs.load(\"sol-BEM\",file_sol)\n",
    "    \n",
    "if os.path.exists(file_lv) and READ == True :\n",
    "    lv = bs.load(\"lv-BEM\",file_lv)\n",
    "    \n",
    "if os.path.exists(file_ind) and READ == True :\n",
    "    sol = bs.load(\"ind_sol-BEM\",file_ind)\n",
    "    \n",
    "else :\n",
    "    opts = {\"print\":True,\"ready_sol_BEM\":False,\"ready_lv_BEM\":False,\"ready_ind_sol_BEM\":False}\n",
    "    sol,Xnp,Valnp = bs.BEM(uinc=plane_wave,k=wavevector,XY=XY,opts=opts)\n",
    "    if SAVE == True :\n",
    "        bs.save(\"sol-BEM\",file_sol)\n",
    "        bs.save(\"lv-BEM\",file_lv)\n",
    "        bs.save(\"ind_sol-BEM\",file_ind)\n",
    "sol.head()"
   ]
  },
  {
   "cell_type": "code",
   "execution_count": null,
   "metadata": {
    "code_folding": [
     0
    ]
   },
   "outputs": [],
   "source": [
    "#uinc\n",
    "Uinc = plane_wave(XY)#.reshape(Nx,Ny).transpose()\n",
    "total = Uinc + Valnp"
   ]
  },
  {
   "cell_type": "code",
   "execution_count": null,
   "metadata": {
    "ExecuteTime": {
     "end_time": "2021-03-19T08:41:02.586654Z",
     "start_time": "2021-03-19T08:40:53.075530Z"
    },
    "code_folding": [
     0
    ]
   },
   "outputs": [],
   "source": [
    "#grafico\n",
    "fig = plt.figure ( 0 , figsize = ( 15 , 10 ) )\n",
    "\n",
    "cmap = 'RdYlBu'\n",
    "\n",
    "   \n",
    "plot_sol(fig,331,df[\"x\"], df[\"y\"],XY[:,0],XY[:,1],Uinc.real,\"$u_{inc}$ : real\")\n",
    "plot_sol(fig,334,df[\"x\"], df[\"y\"],XY[:,0],XY[:,1],Uinc.imag,\"$u_{inc}$ : imag\")\n",
    "plot_sol(fig,337,df[\"x\"], df[\"y\"],XY[:,0],XY[:,1],np.absolute(Uinc),\"$u_{inc}$ : abs\")\n",
    "\n",
    "plot_sol(fig,332,df[\"x\"], df[\"y\"],XY[:,0],XY[:,1],Valnp.real,\"$u_{scat}$ : real\")\n",
    "plot_sol(fig,335,df[\"x\"], df[\"y\"],XY[:,0],XY[:,1],Valnp.imag,\"$u_{scat}$ : imag\")\n",
    "plot_sol(fig,338,df[\"x\"], df[\"y\"],XY[:,0],XY[:,1],np.absolute(Valnp),\"$u_{scat}$ : abs\")\n",
    "\n",
    "plot_sol(fig,333,df[\"x\"], df[\"y\"],XY[:,0],XY[:,1],total.real,\"$u_{tot}$ : real\")\n",
    "plot_sol(fig,336,df[\"x\"], df[\"y\"],XY[:,0],XY[:,1],total.imag,\"$u_{tot}$ : imag\")\n",
    "plot_sol(fig,339,df[\"x\"], df[\"y\"],XY[:,0],XY[:,1],np.absolute(total),\"$u_{tot}$ : abs\")\n",
    "\n",
    "plt.tight_layout()\n",
    "\n",
    "sol_png = file_dir+\"solution-n=6-random=False-\"+suffix_png\n",
    "plt.savefig(sol_png)\n",
    "\n",
    "plt.show()"
   ]
  },
  {
   "cell_type": "markdown",
   "metadata": {},
   "source": [
    "### Analytic solution"
   ]
  },
  {
   "cell_type": "code",
   "execution_count": 28,
   "metadata": {
    "code_folding": [
     0
    ]
   },
   "outputs": [
    {
     "ename": "NameError",
     "evalue": "name 'np' is not defined",
     "output_type": "error",
     "traceback": [
      "\u001b[1;31m---------------------------------------------------------------------------\u001b[0m",
      "\u001b[1;31mNameError\u001b[0m                                 Traceback (most recent call last)",
      "\u001b[1;32m<ipython-input-28-2d3a5117ad92>\u001b[0m in \u001b[0;36m<module>\u001b[1;34m\u001b[0m\n\u001b[0;32m      1\u001b[0m \u001b[1;31m#\u001b[0m\u001b[1;33m\u001b[0m\u001b[1;33m\u001b[0m\u001b[1;33m\u001b[0m\u001b[0m\n\u001b[0;32m      2\u001b[0m \u001b[0mNN\u001b[0m \u001b[1;33m=\u001b[0m \u001b[1;36m1000\u001b[0m\u001b[1;33m\u001b[0m\u001b[1;33m\u001b[0m\u001b[0m\n\u001b[1;32m----> 3\u001b[1;33m \u001b[0mT\u001b[0m \u001b[1;33m=\u001b[0m \u001b[0mnp\u001b[0m\u001b[1;33m.\u001b[0m\u001b[0mlinspace\u001b[0m\u001b[1;33m(\u001b[0m\u001b[0mxminBs\u001b[0m\u001b[1;33m,\u001b[0m\u001b[0mxmaxBs\u001b[0m\u001b[1;33m,\u001b[0m\u001b[0mNN\u001b[0m\u001b[1;33m,\u001b[0m\u001b[0mendpoint\u001b[0m\u001b[1;33m=\u001b[0m\u001b[1;32mTrue\u001b[0m\u001b[1;33m)\u001b[0m\u001b[1;33m\u001b[0m\u001b[1;33m\u001b[0m\u001b[0m\n\u001b[0m\u001b[0;32m      4\u001b[0m \u001b[0mxy\u001b[0m   \u001b[1;33m=\u001b[0m \u001b[0mbs\u001b[0m\u001b[1;33m.\u001b[0m\u001b[0mevaluate\u001b[0m\u001b[1;33m(\u001b[0m\u001b[0mT\u001b[0m\u001b[1;33m)\u001b[0m\u001b[1;33m\u001b[0m\u001b[1;33m\u001b[0m\u001b[0m\n\u001b[0;32m      5\u001b[0m \u001b[0muinc\u001b[0m \u001b[1;33m=\u001b[0m \u001b[0mplane_wave\u001b[0m\u001b[1;33m(\u001b[0m\u001b[0mxy\u001b[0m\u001b[1;33m)\u001b[0m\u001b[1;33m\u001b[0m\u001b[1;33m\u001b[0m\u001b[0m\n",
      "\u001b[1;31mNameError\u001b[0m: name 'np' is not defined"
     ]
    }
   ],
   "source": [
    "#\n",
    "NN = 1000\n",
    "T = np.linspace(xminBs,xmaxBs,NN,endpoint=True)\n",
    "xy   = bs.evaluate(T)\n",
    "uinc = plane_wave(xy)"
   ]
  },
  {
   "cell_type": "code",
   "execution_count": null,
   "metadata": {
    "code_folding": [
     0
    ]
   },
   "outputs": [],
   "source": [
    "#\n",
    "fft = esFFT.FFT(uinc,opts={\"plot\":True})\n",
    "\n",
    "#\n",
    "fig = plt.figure ( 0 , figsize = ( 15 , 5 ) )\n",
    "ax = fig.add_subplot(111)\n",
    "plt.plot(fft.index, np.real(fft[\"fft\"]),color=\"blue\" ,label=\"real\")#,marker=\"+\")\n",
    "plt.plot(fft.index, np.imag(fft[\"fft\"]),color=\"green\",label=\"imag\")#,marker=\"x\")\n",
    "plt.xlim(-20,20)\n",
    "plt.legend()\n",
    "plt.grid(True)\n",
    "plt.title(\"Fourier Transform\")\n",
    "plt.show()\n",
    "#\n",
    "fft.head()"
   ]
  },
  {
   "cell_type": "code",
   "execution_count": null,
   "metadata": {
    "code_folding": [
     0
    ]
   },
   "outputs": [],
   "source": [
    "#\n",
    "out,analytic = esFFT.analytic_solution_circle(uinc,XY,wmin=-15,wmax=15,radius=radius,\\\n",
    "                                              wavevector=wavevector,opts={\"return\":\"both\"})\n",
    "\n",
    "analytic_tot = Uinc + analytic\n",
    "\n",
    "out.head()"
   ]
  },
  {
   "cell_type": "code",
   "execution_count": 29,
   "metadata": {
    "code_folding": [
     0
    ]
   },
   "outputs": [
    {
     "ename": "NameError",
     "evalue": "name 'plt' is not defined",
     "output_type": "error",
     "traceback": [
      "\u001b[1;31m---------------------------------------------------------------------------\u001b[0m",
      "\u001b[1;31mNameError\u001b[0m                                 Traceback (most recent call last)",
      "\u001b[1;32m<ipython-input-29-d51bcc2fc03c>\u001b[0m in \u001b[0;36m<module>\u001b[1;34m\u001b[0m\n\u001b[0;32m      1\u001b[0m \u001b[1;31m#grafico\u001b[0m\u001b[1;33m\u001b[0m\u001b[1;33m\u001b[0m\u001b[1;33m\u001b[0m\u001b[0m\n\u001b[1;32m----> 2\u001b[1;33m \u001b[0mfig\u001b[0m \u001b[1;33m=\u001b[0m \u001b[0mplt\u001b[0m\u001b[1;33m.\u001b[0m\u001b[0mfigure\u001b[0m \u001b[1;33m(\u001b[0m \u001b[1;36m0\u001b[0m \u001b[1;33m,\u001b[0m \u001b[0mfigsize\u001b[0m \u001b[1;33m=\u001b[0m \u001b[1;33m(\u001b[0m \u001b[1;36m15\u001b[0m \u001b[1;33m,\u001b[0m \u001b[1;36m10\u001b[0m \u001b[1;33m)\u001b[0m \u001b[1;33m)\u001b[0m\u001b[1;33m\u001b[0m\u001b[1;33m\u001b[0m\u001b[0m\n\u001b[0m\u001b[0;32m      3\u001b[0m \u001b[1;33m\u001b[0m\u001b[0m\n\u001b[0;32m      4\u001b[0m \u001b[0mcmap\u001b[0m \u001b[1;33m=\u001b[0m \u001b[1;34m'RdYlBu'\u001b[0m\u001b[1;33m\u001b[0m\u001b[1;33m\u001b[0m\u001b[0m\n\u001b[0;32m      5\u001b[0m \u001b[1;33m\u001b[0m\u001b[0m\n",
      "\u001b[1;31mNameError\u001b[0m: name 'plt' is not defined"
     ]
    }
   ],
   "source": [
    "#grafico\n",
    "fig = plt.figure ( 0 , figsize = ( 15 , 10 ) )\n",
    "\n",
    "cmap = 'RdYlBu'\n",
    "    \n",
    "plot_sol(fig,331,df[\"x\"], df[\"y\"],XY[:,0],XY[:,1],Valnp.real,\"$u_{scat}^{Galerkin}$ : real\")\n",
    "plot_sol(fig,334,df[\"x\"], df[\"y\"],XY[:,0],XY[:,1],Valnp.imag,\"$u_{scat}^{Galerkin}$ : imag\")\n",
    "plot_sol(fig,337,df[\"x\"], df[\"y\"],XY[:,0],XY[:,1],np.absolute(Valnp),\"$u_{scat}^{Galerkin}$ : abs\")\n",
    "\n",
    "plot_sol(fig,332,df[\"x\"], df[\"y\"],XY[:,0],XY[:,1],analytic.real,\"$u_{scat}^{analytic}$ : real\")\n",
    "plot_sol(fig,335,df[\"x\"], df[\"y\"],XY[:,0],XY[:,1],analytic.imag,\"$u_{scat}^{analytic}$ : imag\")\n",
    "plot_sol(fig,338,df[\"x\"], df[\"y\"],XY[:,0],XY[:,1],np.absolute(analytic),\"$u_{scat}^{analytic}$ : abs\")\n",
    "\n",
    "plot_sol(fig,333,df[\"x\"], df[\"y\"],XY[:,0],XY[:,1],Valnp.real-analytic.real,\\\n",
    "         \"$u_{scat}^{Galerkin}-u_{scat}^{analytic}$ : real\")\n",
    "plot_sol(fig,336,df[\"x\"], df[\"y\"],XY[:,0],XY[:,1],Valnp.imag-analytic.imag,\\\n",
    "         \"$u_{scat}^{Galerkin}-u_{scat}^{analytic}$ : imag\")\n",
    "plot_sol(fig,339,df[\"x\"], df[\"y\"],XY[:,0],XY[:,1],np.absolute(Valnp-analytic),\\\n",
    "         \"$u_{scat}^{Galerkin}-u_{scat}^{analytic}$ : abs\")\n",
    "\n",
    "\n",
    "plt.tight_layout()\n",
    "\n",
    "sol_png = file_dir+\"solution-analytic-n=6-random=False-\"+suffix_png\n",
    "plt.savefig(sol_png)\n",
    "\n",
    "plt.show()"
   ]
  },
  {
   "cell_type": "markdown",
   "metadata": {},
   "source": [
    "## Herglotz"
   ]
  },
  {
   "cell_type": "markdown",
   "metadata": {},
   "source": [
    "### Kernel"
   ]
  },
  {
   "cell_type": "code",
   "execution_count": 30,
   "metadata": {
    "code_folding": [
     0
    ]
   },
   "outputs": [
    {
     "ename": "NameError",
     "evalue": "name 'Bs' is not defined",
     "output_type": "error",
     "traceback": [
      "\u001b[1;31m---------------------------------------------------------------------------\u001b[0m",
      "\u001b[1;31mNameError\u001b[0m                                 Traceback (most recent call last)",
      "\u001b[1;32m<ipython-input-30-835f9ae0d370>\u001b[0m in \u001b[0;36m<module>\u001b[1;34m\u001b[0m\n\u001b[0;32m      1\u001b[0m \u001b[1;31m#definisco la dimensionaità:\u001b[0m\u001b[1;33m\u001b[0m\u001b[1;33m\u001b[0m\u001b[1;33m\u001b[0m\u001b[0m\n\u001b[1;32m----> 2\u001b[1;33m \u001b[0msh\u001b[0m \u001b[1;33m=\u001b[0m \u001b[0mBs\u001b[0m\u001b[1;33m.\u001b[0m\u001b[0mshape\u001b[0m\u001b[1;33m(\u001b[0m\u001b[1;36m1\u001b[0m\u001b[1;33m,\u001b[0m\u001b[1;36m1\u001b[0m\u001b[1;33m)\u001b[0m\u001b[1;33m\u001b[0m\u001b[1;33m\u001b[0m\u001b[0m\n\u001b[0m\u001b[0;32m      3\u001b[0m \u001b[1;31m#sh.show()\u001b[0m\u001b[1;33m\u001b[0m\u001b[1;33m\u001b[0m\u001b[1;33m\u001b[0m\u001b[0m\n\u001b[0;32m      4\u001b[0m \u001b[1;33m\u001b[0m\u001b[0m\n\u001b[0;32m      5\u001b[0m \u001b[1;31m#defiisco i knot vector\u001b[0m\u001b[1;33m\u001b[0m\u001b[1;33m\u001b[0m\u001b[1;33m\u001b[0m\u001b[0m\n",
      "\u001b[1;31mNameError\u001b[0m: name 'Bs' is not defined"
     ]
    }
   ],
   "source": [
    "#definisco la dimensionaità:\n",
    "sh = Bs.shape(1,1)\n",
    "#sh.show()\n",
    "\n",
    "#defiisco i knot vector\n",
    "P=0 #polinomial degree\n",
    "N=12 #base caridnality\n",
    "\n",
    "#\n",
    "#kv = Bs.uniform_open_kv(xmin,xmax,p=P,n=N)#Bs.knot_vector(P,N,v)\n",
    "#kv = periodic_kv(xmin,xmax,p=P,n=N)\n",
    "kv = Bs.periodic_kv(0.0,2*np.pi,p=P,n=N)\n",
    "#kv.show()\n",
    "\n",
    "#alloco la Bspline\n",
    "kernel = Bs.Bspline(sh,[kv],properties={\"periodic\":[True],\"dtype\":np.complex})\n",
    "#bs.show()\n",
    "\n",
    "kernel.clear_cp()\n",
    "kernel.set_cp(0,1)"
   ]
  },
  {
   "cell_type": "code",
   "execution_count": null,
   "metadata": {
    "code_folding": [
     0
    ]
   },
   "outputs": [],
   "source": [
    "#\n",
    "NN = 1000\n",
    "T = np.linspace(0.0,2*np.pi,NN,endpoint=False)\n",
    "y   = kernel.evaluate(T)\n",
    "#df = pd.DataFrame(xy)\n",
    "#df = df.rename(columns={0:\"x\",1:\"y\"})"
   ]
  },
  {
   "cell_type": "code",
   "execution_count": null,
   "metadata": {
    "code_folding": [
     0
    ]
   },
   "outputs": [],
   "source": [
    "#\n",
    "fig = plt.figure ( 0 , figsize = ( 15, 5 ) )\n",
    "\n",
    "#real\n",
    "ax = fig.add_subplot(111)#, projection='3d')\n",
    "ax.plot(T,y.real,color=\"blue\",label=\"real\")\n",
    "ax.plot(T,y.imag,color=\"green\",label=\"imag\")\n",
    "plt.xlabel(r\"$\\theta \\, \\left[ rad \\right]$\")\n",
    "plt.title(r\"Herglotz kernel $\\, g \\left( \\theta \\right) \\, : 1 \\, $ if $ \\,  - \\pi/6 < \\theta < \\pi/6$\")\n",
    "plt.grid(True)\n",
    "plt.legend()\n",
    "plt.show()"
   ]
  },
  {
   "cell_type": "code",
   "execution_count": null,
   "metadata": {
    "code_folding": [
     0
    ]
   },
   "outputs": [],
   "source": [
    "#\n",
    "def Herglotz_private(xy,kernel,k,NN):\n",
    "    xy = np.asarray(xy)\n",
    "    theta = np.linspace(0.,2*np.pi,NN,endpoint=False)\n",
    "    cos = np.cos(theta)\n",
    "    sin = np.sin(theta)\n",
    "    g = kernel(theta)\n",
    "    phase = np.outer(xy[:,0],cos) + np.outer(xy[:,1],sin)\n",
    "    expo = np.exp(1.j*phase*k)\n",
    "    return np.dot(expo,g)/NN"
   ]
  },
  {
   "cell_type": "code",
   "execution_count": 31,
   "metadata": {
    "code_folding": [
     0
    ]
   },
   "outputs": [],
   "source": [
    "#k = 30./4.\n",
    "NN = 100\n",
    "def Herglotz(xy): \n",
    "    return Herglotz_private(xy,kernel,wavevector,NN)"
   ]
  },
  {
   "cell_type": "code",
   "execution_count": 32,
   "metadata": {
    "code_folding": [
     0
    ]
   },
   "outputs": [
    {
     "ename": "NameError",
     "evalue": "name 'xmax' is not defined",
     "output_type": "error",
     "traceback": [
      "\u001b[1;31m---------------------------------------------------------------------------\u001b[0m",
      "\u001b[1;31mNameError\u001b[0m                                 Traceback (most recent call last)",
      "\u001b[1;32m<ipython-input-32-c6ef5b9bd5e4>\u001b[0m in \u001b[0;36m<module>\u001b[1;34m\u001b[0m\n\u001b[0;32m      1\u001b[0m \u001b[1;31m#\u001b[0m\u001b[1;33m\u001b[0m\u001b[1;33m\u001b[0m\u001b[1;33m\u001b[0m\u001b[0m\n\u001b[1;32m----> 2\u001b[1;33m \u001b[0mNx\u001b[0m\u001b[1;33m=\u001b[0m \u001b[0mint\u001b[0m\u001b[1;33m(\u001b[0m\u001b[0mxmax\u001b[0m\u001b[1;33m-\u001b[0m\u001b[0mxmin\u001b[0m\u001b[1;33m)\u001b[0m\u001b[1;33m*\u001b[0m\u001b[1;36m10\u001b[0m\u001b[1;33m\u001b[0m\u001b[1;33m\u001b[0m\u001b[0m\n\u001b[0m\u001b[0;32m      3\u001b[0m \u001b[0mNy\u001b[0m \u001b[1;33m=\u001b[0m \u001b[0mint\u001b[0m\u001b[1;33m(\u001b[0m\u001b[0mymax\u001b[0m\u001b[1;33m-\u001b[0m\u001b[0mymin\u001b[0m\u001b[1;33m)\u001b[0m\u001b[1;33m*\u001b[0m\u001b[1;36m10\u001b[0m\u001b[1;33m\u001b[0m\u001b[1;33m\u001b[0m\u001b[0m\n\u001b[0;32m      4\u001b[0m \u001b[0mx\u001b[0m \u001b[1;33m=\u001b[0m \u001b[0mnp\u001b[0m\u001b[1;33m.\u001b[0m\u001b[0mlinspace\u001b[0m\u001b[1;33m(\u001b[0m\u001b[0mxmin\u001b[0m\u001b[1;33m,\u001b[0m\u001b[0mxmax\u001b[0m\u001b[1;33m,\u001b[0m\u001b[0mNx\u001b[0m\u001b[1;33m)\u001b[0m\u001b[1;33m\u001b[0m\u001b[1;33m\u001b[0m\u001b[0m\n\u001b[0;32m      5\u001b[0m \u001b[0my\u001b[0m \u001b[1;33m=\u001b[0m \u001b[0mnp\u001b[0m\u001b[1;33m.\u001b[0m\u001b[0mlinspace\u001b[0m\u001b[1;33m(\u001b[0m\u001b[0mymin\u001b[0m\u001b[1;33m,\u001b[0m\u001b[0mymax\u001b[0m\u001b[1;33m,\u001b[0m\u001b[0mNy\u001b[0m\u001b[1;33m)\u001b[0m\u001b[1;33m\u001b[0m\u001b[1;33m\u001b[0m\u001b[0m\n",
      "\u001b[1;31mNameError\u001b[0m: name 'xmax' is not defined"
     ]
    }
   ],
   "source": [
    "#\n",
    "Nx= int(xmax-xmin)*10\n",
    "Ny = int(ymax-ymin)*10\n",
    "x = np.linspace(xmin,xmax,Nx)\n",
    "y = np.linspace(ymin,ymax,Ny)\n",
    "X,Y = np.meshgrid(x,y)\n",
    "\n",
    "XY = np.zeros((Nx*Ny,2))\n",
    "XY[:,0] = X.reshape((Nx*Ny,))\n",
    "XY[:,1] = Y.reshape((Nx*Ny,))\n",
    "\n",
    "x = XY[:,0]\n",
    "y = XY[:,1]"
   ]
  },
  {
   "cell_type": "code",
   "execution_count": null,
   "metadata": {},
   "outputs": [],
   "source": [
    "Uinc = Herglotz(XY)"
   ]
  },
  {
   "cell_type": "code",
   "execution_count": null,
   "metadata": {
    "code_folding": [
     0
    ]
   },
   "outputs": [],
   "source": [
    "#\n",
    "fig = plt.figure ( 0 , figsize = ( 15 , 5 ) )\n",
    "\n",
    "cmap = 'RdYlBu'\n",
    "\n",
    "ax = fig.add_subplot(131)\n",
    "#ax.plot(xB, yB, color= \"black\",label=\"Bspline\")\n",
    "sc = ax.scatter(x,y,c=Uinc.real,cmap=cmap)\n",
    "plt.colorbar(sc)\n",
    "ax.set_aspect('equal')\n",
    "plt.xlim(min(x),max(x))\n",
    "plt.ylim(min(y),max(y))\n",
    "plt.title(\"real\")\n",
    "\n",
    "ax = fig.add_subplot(132)\n",
    "#ax.plot(xB, yB, color= \"black\",label=\"Bspline\")\n",
    "sc = ax.scatter(x,y,c=Uinc.imag,cmap=cmap)\n",
    "plt.colorbar(sc)\n",
    "ax.set_aspect('equal')\n",
    "plt.xlim(min(x),max(x))\n",
    "plt.ylim(min(y),max(y))\n",
    "plt.title(\"imag\")\n",
    "\n",
    "ax = fig.add_subplot(133)\n",
    "#ax.plot(xB, yB, color= \"black\",label=\"Bspline\")\n",
    "sc = ax.scatter(x,y,c=np.absolute(Uinc),cmap=cmap)\n",
    "plt.colorbar(sc)\n",
    "ax.set_aspect('equal')\n",
    "plt.xlim(min(x),max(x))\n",
    "plt.ylim(min(y),max(y))\n",
    "plt.title(\"abs\")\n",
    "\n",
    "#ax = fig.add_subplot(224)\n",
    "##ax.plot(xB, yB, color= \"black\",label=\"Bspline\")\n",
    "#sc = ax.scatter(x,y,c=np.angle(Uinc),cmap=cmap)\n",
    "#plt.colorbar(sc)\n",
    "#ax.set_aspect('equal')\n",
    "#plt.xlim(min(x),max(x))\n",
    "#plt.ylim(min(y),max(y))\n",
    "#plt.title(\"phase\")\n",
    "\n",
    "plt.show()"
   ]
  },
  {
   "cell_type": "markdown",
   "metadata": {},
   "source": [
    "### Preparation"
   ]
  },
  {
   "cell_type": "code",
   "execution_count": 33,
   "metadata": {
    "code_folding": [
     0
    ]
   },
   "outputs": [
    {
     "ename": "NameError",
     "evalue": "name 'np' is not defined",
     "output_type": "error",
     "traceback": [
      "\u001b[1;31m---------------------------------------------------------------------------\u001b[0m",
      "\u001b[1;31mNameError\u001b[0m                                 Traceback (most recent call last)",
      "\u001b[1;32m<ipython-input-33-e1d83bea7b34>\u001b[0m in \u001b[0;36m<module>\u001b[1;34m\u001b[0m\n\u001b[0;32m      1\u001b[0m \u001b[1;31m#\u001b[0m\u001b[1;33m\u001b[0m\u001b[1;33m\u001b[0m\u001b[1;33m\u001b[0m\u001b[0m\n\u001b[0;32m      2\u001b[0m \u001b[0mNN\u001b[0m \u001b[1;33m=\u001b[0m \u001b[1;36m1000\u001b[0m\u001b[1;33m\u001b[0m\u001b[1;33m\u001b[0m\u001b[0m\n\u001b[1;32m----> 3\u001b[1;33m \u001b[0mT\u001b[0m \u001b[1;33m=\u001b[0m \u001b[0mnp\u001b[0m\u001b[1;33m.\u001b[0m\u001b[0mlinspace\u001b[0m\u001b[1;33m(\u001b[0m\u001b[0mxminBs\u001b[0m\u001b[1;33m,\u001b[0m\u001b[0mxmaxBs\u001b[0m\u001b[1;33m,\u001b[0m\u001b[0mNN\u001b[0m\u001b[1;33m,\u001b[0m\u001b[0mendpoint\u001b[0m\u001b[1;33m=\u001b[0m\u001b[1;32mTrue\u001b[0m\u001b[1;33m)\u001b[0m\u001b[1;33m\u001b[0m\u001b[1;33m\u001b[0m\u001b[0m\n\u001b[0m\u001b[0;32m      4\u001b[0m \u001b[0mxy\u001b[0m   \u001b[1;33m=\u001b[0m \u001b[0mbs\u001b[0m\u001b[1;33m.\u001b[0m\u001b[0mevaluate\u001b[0m\u001b[1;33m(\u001b[0m\u001b[0mT\u001b[0m\u001b[1;33m)\u001b[0m\u001b[1;33m\u001b[0m\u001b[1;33m\u001b[0m\u001b[0m\n\u001b[0;32m      5\u001b[0m \u001b[0muinc\u001b[0m \u001b[1;33m=\u001b[0m \u001b[0mHerglotz\u001b[0m\u001b[1;33m(\u001b[0m\u001b[0mxy\u001b[0m\u001b[1;33m)\u001b[0m\u001b[1;33m\u001b[0m\u001b[1;33m\u001b[0m\u001b[0m\n",
      "\u001b[1;31mNameError\u001b[0m: name 'np' is not defined"
     ]
    }
   ],
   "source": [
    "#\n",
    "NN = 1000\n",
    "T = np.linspace(xminBs,xmaxBs,NN,endpoint=True)\n",
    "xy   = bs.evaluate(T)\n",
    "uinc = Herglotz(xy)"
   ]
  },
  {
   "cell_type": "code",
   "execution_count": null,
   "metadata": {
    "code_folding": [
     0
    ]
   },
   "outputs": [],
   "source": [
    "#\n",
    "Nx= int(xmax-xmin)*10\n",
    "Ny = int(ymax-ymin)*10\n",
    "x = np.linspace(xmin,xmax,Nx)\n",
    "y = np.linspace(ymin,ymax,Ny)\n",
    "X,Y = np.meshgrid(x,y)\n",
    "\n",
    "XY = np.zeros((Nx*Ny,2))\n",
    "XY[:,0] = X.reshape((Nx*Ny,))\n",
    "XY[:,1] = Y.reshape((Nx*Ny,))\n",
    "\n",
    "internal = bs.internal_points(XY=XY0,NN=1000,xmin=0.,xmax=1.,opts=None)\n",
    "XY = XY0[ np.logical_not(internal) ]\n",
    "\n",
    "x = XY[:,0]\n",
    "y = XY[:,1]"
   ]
  },
  {
   "cell_type": "code",
   "execution_count": null,
   "metadata": {
    "ExecuteTime": {
     "end_time": "2021-03-19T10:26:31.492960Z",
     "start_time": "2021-03-19T10:26:29.462209Z"
    },
    "code_folding": [
     0
    ]
   },
   "outputs": [],
   "source": [
    "#\n",
    "fig = plt.figure ( 0 , figsize = ( 15, 5 ) )\n",
    "\n",
    "#\n",
    "#s = 0.2\n",
    "ax = fig.add_subplot(121, projection='3d')\n",
    "ax.plot(xy[:,0], xy[:,1],uinc.real,color=\"blue\",label=\"real\")\n",
    "ax.plot(xy[:,0], xy[:,1],uinc.imag,color=\"green\",label=\"imag\")\n",
    "ax.plot(xy[:,0], xy[:,1],0.0,color=\"red\",label=\"Bspline\")\n",
    "plt.grid(True)\n",
    "plt.legend()\n",
    "\n",
    "#\n",
    "ax = fig.add_subplot(122)#, projection='3d')\n",
    "ax.plot(T,uinc.real,color=\"blue\",label=\"real\")\n",
    "ax.plot(T,uinc.imag,color=\"green\",label=\"imag\")\n",
    "plt.grid(True)\n",
    "plt.legend()\n",
    "\n",
    "#\n",
    "#ax = fig.add_subplot(133)#, projection='3d')\n",
    "#ax.plot(T,somma.real,color=\"blue\",label=\"real\")\n",
    "#ax.plot(T,somma.imag,color=\"green\",label=\"imag\")\n",
    "#plt.grid(True)\n",
    "#plt.legend()\n",
    "\n",
    "plt.show()"
   ]
  },
  {
   "cell_type": "code",
   "execution_count": 34,
   "metadata": {
    "ExecuteTime": {
     "end_time": "2021-03-19T10:27:25.928898Z",
     "start_time": "2021-03-19T10:27:22.730894Z"
    },
    "code_folding": [
     0
    ]
   },
   "outputs": [
    {
     "ename": "NameError",
     "evalue": "name 'plt' is not defined",
     "output_type": "error",
     "traceback": [
      "\u001b[1;31m---------------------------------------------------------------------------\u001b[0m",
      "\u001b[1;31mNameError\u001b[0m                                 Traceback (most recent call last)",
      "\u001b[1;32m<ipython-input-34-c92992daf467>\u001b[0m in \u001b[0;36m<module>\u001b[1;34m\u001b[0m\n\u001b[0;32m      1\u001b[0m \u001b[1;31m#\u001b[0m\u001b[1;33m\u001b[0m\u001b[1;33m\u001b[0m\u001b[1;33m\u001b[0m\u001b[0m\n\u001b[1;32m----> 2\u001b[1;33m \u001b[0mfig\u001b[0m \u001b[1;33m=\u001b[0m \u001b[0mplt\u001b[0m\u001b[1;33m.\u001b[0m\u001b[0mfigure\u001b[0m \u001b[1;33m(\u001b[0m \u001b[1;36m0\u001b[0m \u001b[1;33m,\u001b[0m \u001b[0mfigsize\u001b[0m \u001b[1;33m=\u001b[0m \u001b[1;33m(\u001b[0m \u001b[1;36m15\u001b[0m \u001b[1;33m,\u001b[0m \u001b[1;36m5\u001b[0m \u001b[1;33m)\u001b[0m \u001b[1;33m)\u001b[0m\u001b[1;33m\u001b[0m\u001b[1;33m\u001b[0m\u001b[0m\n\u001b[0m\u001b[0;32m      3\u001b[0m \u001b[1;33m\u001b[0m\u001b[0m\n\u001b[0;32m      4\u001b[0m \u001b[0mUinc\u001b[0m \u001b[1;33m=\u001b[0m \u001b[0mHerglotz\u001b[0m\u001b[1;33m(\u001b[0m\u001b[0mXY\u001b[0m\u001b[1;33m)\u001b[0m\u001b[1;33m\u001b[0m\u001b[1;33m\u001b[0m\u001b[0m\n\u001b[0;32m      5\u001b[0m \u001b[1;33m\u001b[0m\u001b[0m\n",
      "\u001b[1;31mNameError\u001b[0m: name 'plt' is not defined"
     ]
    }
   ],
   "source": [
    "#\n",
    "fig = plt.figure ( 0 , figsize = ( 15 , 5 ) )\n",
    "\n",
    "Uinc = Herglotz(XY)\n",
    "\n",
    "cmap = 'RdYlBu'\n",
    "    \n",
    "plot(fig,121,df[\"x\"], df[\"y\"],XY[:,0],XY[:,1],Uinc.real,\"$u_{inc}$ : real\",cmap)\n",
    "plot(fig,122,df[\"x\"], df[\"y\"],XY[:,0],XY[:,1],Uinc.imag,\"$u_{inc}$ : imag\",cmap)\n",
    "\n",
    "plt.show()"
   ]
  },
  {
   "cell_type": "markdown",
   "metadata": {},
   "source": [
    "### Solution"
   ]
  },
  {
   "cell_type": "code",
   "execution_count": 35,
   "metadata": {
    "ExecuteTime": {
     "end_time": "2021-03-19T08:39:54.239910Z",
     "start_time": "2021-03-19T08:39:51.425502Z"
    },
    "code_folding": [
     0
    ]
   },
   "outputs": [
    {
     "ename": "NameError",
     "evalue": "name 'file_dir' is not defined",
     "output_type": "error",
     "traceback": [
      "\u001b[1;31m---------------------------------------------------------------------------\u001b[0m",
      "\u001b[1;31mNameError\u001b[0m                                 Traceback (most recent call last)",
      "\u001b[1;32m<ipython-input-35-1fb367350bcb>\u001b[0m in \u001b[0;36m<module>\u001b[1;34m\u001b[0m\n\u001b[0;32m      3\u001b[0m \u001b[0mSAVE\u001b[0m \u001b[1;33m=\u001b[0m \u001b[1;32mFalse\u001b[0m\u001b[1;33m\u001b[0m\u001b[1;33m\u001b[0m\u001b[0m\n\u001b[0;32m      4\u001b[0m \u001b[1;33m\u001b[0m\u001b[0m\n\u001b[1;32m----> 5\u001b[1;33m \u001b[0mfile_sol\u001b[0m \u001b[1;33m=\u001b[0m \u001b[0mfile_dir\u001b[0m\u001b[1;33m+\u001b[0m\u001b[1;34m\"solution-Herglotz-\"\u001b[0m\u001b[1;33m+\u001b[0m\u001b[0msuffix\u001b[0m\u001b[1;33m\u001b[0m\u001b[1;33m\u001b[0m\u001b[0m\n\u001b[0m\u001b[0;32m      6\u001b[0m \u001b[0mfile_lv\u001b[0m  \u001b[1;33m=\u001b[0m \u001b[0mfile_dir\u001b[0m\u001b[1;33m+\u001b[0m\u001b[1;34m\"load_vector-Herglotz-\"\u001b[0m\u001b[1;33m+\u001b[0m\u001b[0msuffix\u001b[0m\u001b[1;33m\u001b[0m\u001b[1;33m\u001b[0m\u001b[0m\n\u001b[0;32m      7\u001b[0m \u001b[0mfile_ind\u001b[0m \u001b[1;33m=\u001b[0m \u001b[0mfile_dir\u001b[0m\u001b[1;33m+\u001b[0m\u001b[1;34m\"indirect_solution-Herglotz-\"\u001b[0m\u001b[1;33m+\u001b[0m\u001b[0msuffix\u001b[0m\u001b[1;33m\u001b[0m\u001b[1;33m\u001b[0m\u001b[0m\n",
      "\u001b[1;31mNameError\u001b[0m: name 'file_dir' is not defined"
     ]
    }
   ],
   "source": [
    "#\n",
    "READ = True\n",
    "SAVE = False\n",
    "\n",
    "file_sol = file_dir+\"solution-Herglotz-\"+suffix\n",
    "file_lv  = file_dir+\"load_vector-Herglotz-\"+suffix\n",
    "file_ind = file_dir+\"indirect_solution-Herglotz-\"+suffix\n",
    "print(file_sol)\n",
    "print(file_lv)\n",
    "print(file_ind)\n",
    "\n",
    "if os.path.exists(file_sol) and READ == True :\n",
    "    sol,Xnp,Valnp = bs.load(\"sol-BEM\",file_sol)\n",
    "    \n",
    "if os.path.exists(file_lv) and READ == True :\n",
    "    lv = bs.load(\"lv-BEM\",file_lv)\n",
    "    \n",
    "if os.path.exists(file_ind) and READ == True :\n",
    "    sol = bs.load(\"ind_sol-BEM\",file_ind)\n",
    "    \n",
    "else :\n",
    "    opts = {\"print\":True,\"ready_sol_BEM\":False,\"ready_lv_BEM\":False,\"ready_ind_sol_BEM\":False}\n",
    "    sol,Xnp,Valnp = bs.BEM(uinc=Herglotz,k=wavevector,XY=XY,opts=opts)\n",
    "    if SAVE == True :\n",
    "        bs.save(\"sol-BEM\",file_sol)\n",
    "        bs.save(\"lv-BEM\",file_lv)\n",
    "        bs.save(\"ind_sol-BEM\",file_ind)\n",
    "sol.head()"
   ]
  },
  {
   "cell_type": "code",
   "execution_count": null,
   "metadata": {},
   "outputs": [],
   "source": [
    "#\n",
    "Uinc = Herglotz(XY)#.reshape(Nx,Ny).transpose()\n",
    "total = Uinc + Valnp"
   ]
  },
  {
   "cell_type": "code",
   "execution_count": null,
   "metadata": {
    "ExecuteTime": {
     "end_time": "2021-03-19T08:41:02.586654Z",
     "start_time": "2021-03-19T08:40:53.075530Z"
    },
    "code_folding": [
     0
    ]
   },
   "outputs": [],
   "source": [
    "#grafico\n",
    "fig = plt.figure ( 0 , figsize = ( 15 , 10 ) )\n",
    "\n",
    "cmap = 'RdYlBu'\n",
    "    \n",
    "plot_sol(fig,331,df[\"x\"], df[\"y\"],XY[:,0],XY[:,1],Uinc.real,\"$u_{inc}$ : real\")\n",
    "plot_sol(fig,334,df[\"x\"], df[\"y\"],XY[:,0],XY[:,1],Uinc.imag,\"$u_{inc}$ : imag\")\n",
    "plot_sol(fig,337,df[\"x\"], df[\"y\"],XY[:,0],XY[:,1],np.absolute(Uinc),\"$u_{inc}$ : abs\")\n",
    "\n",
    "plot_sol(fig,332,df[\"x\"], df[\"y\"],XY[:,0],XY[:,1],Valnp.real,\"$u_{scat}$ : real\")\n",
    "plot_sol(fig,335,df[\"x\"], df[\"y\"],XY[:,0],XY[:,1],Valnp.imag,\"$u_{scat}$ : imag\")\n",
    "plot_sol(fig,338,df[\"x\"], df[\"y\"],XY[:,0],XY[:,1],np.absolute(Valnp),\"$u_{scat}$ : abs\")\n",
    "\n",
    "plot_sol(fig,333,df[\"x\"], df[\"y\"],XY[:,0],XY[:,1],total.real,\"$u_{tot}$ : real\")\n",
    "plot_sol(fig,336,df[\"x\"], df[\"y\"],XY[:,0],XY[:,1],total.imag,\"$u_{tot}$ : imag\")\n",
    "plot_sol(fig,339,df[\"x\"], df[\"y\"],XY[:,0],XY[:,1],np.absolute(total),\"$u_{tot}$ : abs\")\n",
    "\n",
    "plt.tight_layout()\n",
    "\n",
    "sol_png = file_dir+\"solution-n=6-random=False-\"+suffix_png\n",
    "plt.savefig(sol_png)\n",
    "\n",
    "plt.show()"
   ]
  },
  {
   "cell_type": "markdown",
   "metadata": {},
   "source": [
    "### Analytic solution"
   ]
  },
  {
   "cell_type": "code",
   "execution_count": 36,
   "metadata": {
    "code_folding": [
     0
    ]
   },
   "outputs": [
    {
     "ename": "NameError",
     "evalue": "name 'np' is not defined",
     "output_type": "error",
     "traceback": [
      "\u001b[1;31m---------------------------------------------------------------------------\u001b[0m",
      "\u001b[1;31mNameError\u001b[0m                                 Traceback (most recent call last)",
      "\u001b[1;32m<ipython-input-36-e1d83bea7b34>\u001b[0m in \u001b[0;36m<module>\u001b[1;34m\u001b[0m\n\u001b[0;32m      1\u001b[0m \u001b[1;31m#\u001b[0m\u001b[1;33m\u001b[0m\u001b[1;33m\u001b[0m\u001b[1;33m\u001b[0m\u001b[0m\n\u001b[0;32m      2\u001b[0m \u001b[0mNN\u001b[0m \u001b[1;33m=\u001b[0m \u001b[1;36m1000\u001b[0m\u001b[1;33m\u001b[0m\u001b[1;33m\u001b[0m\u001b[0m\n\u001b[1;32m----> 3\u001b[1;33m \u001b[0mT\u001b[0m \u001b[1;33m=\u001b[0m \u001b[0mnp\u001b[0m\u001b[1;33m.\u001b[0m\u001b[0mlinspace\u001b[0m\u001b[1;33m(\u001b[0m\u001b[0mxminBs\u001b[0m\u001b[1;33m,\u001b[0m\u001b[0mxmaxBs\u001b[0m\u001b[1;33m,\u001b[0m\u001b[0mNN\u001b[0m\u001b[1;33m,\u001b[0m\u001b[0mendpoint\u001b[0m\u001b[1;33m=\u001b[0m\u001b[1;32mTrue\u001b[0m\u001b[1;33m)\u001b[0m\u001b[1;33m\u001b[0m\u001b[1;33m\u001b[0m\u001b[0m\n\u001b[0m\u001b[0;32m      4\u001b[0m \u001b[0mxy\u001b[0m   \u001b[1;33m=\u001b[0m \u001b[0mbs\u001b[0m\u001b[1;33m.\u001b[0m\u001b[0mevaluate\u001b[0m\u001b[1;33m(\u001b[0m\u001b[0mT\u001b[0m\u001b[1;33m)\u001b[0m\u001b[1;33m\u001b[0m\u001b[1;33m\u001b[0m\u001b[0m\n\u001b[0;32m      5\u001b[0m \u001b[0muinc\u001b[0m \u001b[1;33m=\u001b[0m \u001b[0mHerglotz\u001b[0m\u001b[1;33m(\u001b[0m\u001b[0mxy\u001b[0m\u001b[1;33m)\u001b[0m\u001b[1;33m\u001b[0m\u001b[1;33m\u001b[0m\u001b[0m\n",
      "\u001b[1;31mNameError\u001b[0m: name 'np' is not defined"
     ]
    }
   ],
   "source": [
    "#\n",
    "NN = 1000\n",
    "T = np.linspace(xminBs,xmaxBs,NN,endpoint=True)\n",
    "xy   = bs.evaluate(T)\n",
    "uinc = Herglotz(xy)"
   ]
  },
  {
   "cell_type": "code",
   "execution_count": null,
   "metadata": {
    "code_folding": [
     0
    ]
   },
   "outputs": [],
   "source": [
    "#\n",
    "fft = esFFT.FFT(uinc,opts={\"plot\":True})\n",
    "\n",
    "#\n",
    "fig = plt.figure ( 0 , figsize = ( 15 , 5 ) )\n",
    "ax = fig.add_subplot(111)\n",
    "plt.plot(fft.index, np.real(fft[\"fft\"]),color=\"blue\" ,label=\"real\")#,marker=\"+\")\n",
    "plt.plot(fft.index, np.imag(fft[\"fft\"]),color=\"green\",label=\"imag\")#,marker=\"x\")\n",
    "plt.xlim(-20,20)\n",
    "plt.legend()\n",
    "plt.grid(True)\n",
    "plt.title(\"Fourier Transform\")\n",
    "plt.show()\n",
    "#\n",
    "fft.head()"
   ]
  },
  {
   "cell_type": "code",
   "execution_count": 37,
   "metadata": {
    "code_folding": [
     0
    ]
   },
   "outputs": [
    {
     "ename": "NameError",
     "evalue": "name 'esFFT' is not defined",
     "output_type": "error",
     "traceback": [
      "\u001b[1;31m---------------------------------------------------------------------------\u001b[0m",
      "\u001b[1;31mNameError\u001b[0m                                 Traceback (most recent call last)",
      "\u001b[1;32m<ipython-input-37-670338d69cc1>\u001b[0m in \u001b[0;36m<module>\u001b[1;34m\u001b[0m\n\u001b[0;32m      1\u001b[0m \u001b[1;31m#\u001b[0m\u001b[1;33m\u001b[0m\u001b[1;33m\u001b[0m\u001b[1;33m\u001b[0m\u001b[0m\n\u001b[1;32m----> 2\u001b[1;33m out,analytic = esFFT.analytic_solution_circle(uinc,XY,wmin=-15,wmax=15,radius=radius,\\\n\u001b[0m\u001b[0;32m      3\u001b[0m                                               wavevector=wavevector,opts={\"return\":\"both\"})\n\u001b[0;32m      4\u001b[0m \u001b[1;33m\u001b[0m\u001b[0m\n\u001b[0;32m      5\u001b[0m \u001b[0manalytic_tot\u001b[0m \u001b[1;33m=\u001b[0m \u001b[0mUinc\u001b[0m \u001b[1;33m+\u001b[0m \u001b[0manalytic\u001b[0m\u001b[1;33m\u001b[0m\u001b[1;33m\u001b[0m\u001b[0m\n",
      "\u001b[1;31mNameError\u001b[0m: name 'esFFT' is not defined"
     ]
    }
   ],
   "source": [
    "#\n",
    "out,analytic = esFFT.analytic_solution_circle(uinc,XY,wmin=-15,wmax=15,radius=radius,\\\n",
    "                                              wavevector=wavevector,opts={\"return\":\"both\"})\n",
    "\n",
    "analytic_tot = Uinc + analytic\n",
    "\n",
    "out.head()"
   ]
  },
  {
   "cell_type": "code",
   "execution_count": null,
   "metadata": {
    "code_folding": [
     0
    ]
   },
   "outputs": [],
   "source": [
    "#grafico\n",
    "fig = plt.figure ( 0 , figsize = ( 15 , 10 ) )\n",
    "\n",
    "cmap = 'RdYlBu'\n",
    "    \n",
    "plot_sol(fig,331,df[\"x\"], df[\"y\"],XY[:,0],XY[:,1],Valnp.real,\"$u_{scat}^{Galerkin}$ : real\")\n",
    "plot_sol(fig,334,df[\"x\"], df[\"y\"],XY[:,0],XY[:,1],Valnp.imag,\"$u_{scat}^{Galerkin}$ : imag\")\n",
    "plot_sol(fig,337,df[\"x\"], df[\"y\"],XY[:,0],XY[:,1],np.absolute(Valnp),\"$u_{scat}^{Galerkin}$ : abs\")\n",
    "\n",
    "plot_sol(fig,332,df[\"x\"], df[\"y\"],XY[:,0],XY[:,1],analytic.real,\"$u_{scat}^{analytic}$ : real\")\n",
    "plot_sol(fig,335,df[\"x\"], df[\"y\"],XY[:,0],XY[:,1],analytic.imag,\"$u_{scat}^{analytic}$ : imag\")\n",
    "plot_sol(fig,338,df[\"x\"], df[\"y\"],XY[:,0],XY[:,1],np.absolute(analytic),\"$u_{scat}^{analytic}$ : abs\")\n",
    "\n",
    "plot_sol(fig,333,df[\"x\"], df[\"y\"],XY[:,0],XY[:,1],Valnp.real-analytic.real,\\\n",
    "         \"$u_{scat}^{Galerkin}-u_{scat}^{analytic}$ : real\")\n",
    "plot_sol(fig,336,df[\"x\"], df[\"y\"],XY[:,0],XY[:,1],Valnp.imag-analytic.imag,\\\n",
    "         \"$u_{scat}^{Galerkin}-u_{scat}^{analytic}$ : imag\")\n",
    "plot_sol(fig,339,df[\"x\"], df[\"y\"],XY[:,0],XY[:,1],np.absolute(Valnp-analytic),\\\n",
    "         \"$u_{scat}^{Galerkin}-u_{scat}^{analytic}$ : abs\")\n",
    "\n",
    "\n",
    "plt.tight_layout()\n",
    "\n",
    "sol_png = file_dir+\"solution-analytic-n=6-random=False-\"+suffix_png\n",
    "plt.savefig(sol_png)\n",
    "\n",
    "plt.show()"
   ]
  },
  {
   "cell_type": "markdown",
   "metadata": {},
   "source": [
    "# Two circles"
   ]
  },
  {
   "cell_type": "markdown",
   "metadata": {},
   "source": [
    "## Definition"
   ]
  },
  {
   "cell_type": "code",
   "execution_count": 38,
   "metadata": {
    "code_folding": [
     0
    ]
   },
   "outputs": [
    {
     "ename": "NameError",
     "evalue": "name 'Bs' is not defined",
     "output_type": "error",
     "traceback": [
      "\u001b[1;31m---------------------------------------------------------------------------\u001b[0m",
      "\u001b[1;31mNameError\u001b[0m                                 Traceback (most recent call last)",
      "\u001b[1;32m<ipython-input-38-4b2043ec2037>\u001b[0m in \u001b[0;36m<module>\u001b[1;34m\u001b[0m\n\u001b[0;32m      1\u001b[0m \u001b[1;31m#definisco la dimensionaità:\u001b[0m\u001b[1;33m\u001b[0m\u001b[1;33m\u001b[0m\u001b[1;33m\u001b[0m\u001b[0m\n\u001b[1;32m----> 2\u001b[1;33m \u001b[0msh\u001b[0m \u001b[1;33m=\u001b[0m \u001b[0mBs\u001b[0m\u001b[1;33m.\u001b[0m\u001b[0mshape\u001b[0m\u001b[1;33m(\u001b[0m\u001b[1;36m1\u001b[0m\u001b[1;33m,\u001b[0m\u001b[1;36m2\u001b[0m\u001b[1;33m)\u001b[0m\u001b[1;33m\u001b[0m\u001b[1;33m\u001b[0m\u001b[0m\n\u001b[0m\u001b[0;32m      3\u001b[0m \u001b[1;31m#sh.show()\u001b[0m\u001b[1;33m\u001b[0m\u001b[1;33m\u001b[0m\u001b[1;33m\u001b[0m\u001b[0m\n\u001b[0;32m      4\u001b[0m \u001b[1;33m\u001b[0m\u001b[0m\n\u001b[0;32m      5\u001b[0m \u001b[1;31m#defiisco i knot vector\u001b[0m\u001b[1;33m\u001b[0m\u001b[1;33m\u001b[0m\u001b[1;33m\u001b[0m\u001b[0m\n",
      "\u001b[1;31mNameError\u001b[0m: name 'Bs' is not defined"
     ]
    }
   ],
   "source": [
    "#definisco la dimensionaità:\n",
    "sh = Bs.shape(1,2)\n",
    "#sh.show()\n",
    "\n",
    "#defiisco i knot vector\n",
    "P=1 #polinomial degree\n",
    "N=20 #base caridnality\n",
    "xminBs = 0.0\n",
    "xmaxBs = 1.0\n",
    "\n",
    "\n",
    "#\n",
    "#kv = Bs.uniform_open_kv(xmin,xmax,p=P,n=N)#Bs.knot_vector(P,N,v)\n",
    "#kv = periodic_kv(xmin,xmax,p=P,n=N)\n",
    "kv = Bs.periodic_kv(xminBs,xmaxBs,p=P,n=N)\n",
    "#kv.show()\n",
    "\n",
    "#alloco la Bspline\n",
    "bs = Bs.Bspline(sh,[kv],properties={\"periodic\":[True]})"
   ]
  },
  {
   "cell_type": "code",
   "execution_count": null,
   "metadata": {
    "code_folding": [
     0
    ]
   },
   "outputs": [],
   "source": [
    "#\n",
    "k_in = 30/4*np.asarray([np.sqrt(3.)/2.,0.5])\n",
    "wavevector = 7.5#np.sqrt(np.sum(np.power(k_in,2.0)))\n",
    "print(\"w:\",wavevector)\n",
    "print(\"h:\",np.pi/(5*wavevector))\n",
    "I = np.complex(0,1)\n",
    "\n",
    "xmin = -3\n",
    "xmax = 3\n",
    "ymin = -3\n",
    "ymax = 3"
   ]
  },
  {
   "cell_type": "code",
   "execution_count": null,
   "metadata": {
    "ExecuteTime": {
     "end_time": "2021-03-19T10:22:46.955978Z",
     "start_time": "2021-03-19T10:22:46.932993Z"
    },
    "code_folding": [
     0
    ]
   },
   "outputs": [],
   "source": [
    "#function\n",
    "x0 = 0.0\n",
    "y0 = 0.0\n",
    "a = 1.0\n",
    "b = 1.0\n",
    "radius = 1.0\n",
    "def func(t):\n",
    "    #print(cpz)\n",
    "    cpx = a*np.cos(2*np.pi*t)+x0#np.random.rand(N)\n",
    "    cpy = b*np.sin(2*np.pi*t)+y0#np.random.rand(N)\n",
    "    out = np.zeros(shape=(len(t),2))\n",
    "    for i in range(len(t)):\n",
    "        out[i,0] = cpx[i]\n",
    "        out[i,1] = cpy[i]\n",
    "    return out"
   ]
  },
  {
   "cell_type": "code",
   "execution_count": 39,
   "metadata": {
    "ExecuteTime": {
     "end_time": "2021-03-19T10:22:51.472951Z",
     "start_time": "2021-03-19T10:22:51.449965Z"
    },
    "code_folding": [
     0
    ]
   },
   "outputs": [
    {
     "ename": "NameError",
     "evalue": "name 'np' is not defined",
     "output_type": "error",
     "traceback": [
      "\u001b[1;31m---------------------------------------------------------------------------\u001b[0m",
      "\u001b[1;31mNameError\u001b[0m                                 Traceback (most recent call last)",
      "\u001b[1;32m<ipython-input-39-ab6d40c7377c>\u001b[0m in \u001b[0;36m<module>\u001b[1;34m\u001b[0m\n\u001b[0;32m      3\u001b[0m \u001b[1;31m# func(0.) = func(1.)\u001b[0m\u001b[1;33m\u001b[0m\u001b[1;33m\u001b[0m\u001b[1;33m\u001b[0m\u001b[0m\n\u001b[0;32m      4\u001b[0m \u001b[1;31m# quindi genero un punto in più\u001b[0m\u001b[1;33m\u001b[0m\u001b[1;33m\u001b[0m\u001b[1;33m\u001b[0m\u001b[0m\n\u001b[1;32m----> 5\u001b[1;33m \u001b[0mt\u001b[0m \u001b[1;33m=\u001b[0m \u001b[0mnp\u001b[0m\u001b[1;33m.\u001b[0m\u001b[0mlinspace\u001b[0m\u001b[1;33m(\u001b[0m\u001b[1;36m0\u001b[0m\u001b[1;33m,\u001b[0m\u001b[1;36m1\u001b[0m\u001b[1;33m,\u001b[0m\u001b[0mN\u001b[0m\u001b[1;33m+\u001b[0m\u001b[1;36m1\u001b[0m\u001b[1;33m,\u001b[0m\u001b[0mendpoint\u001b[0m\u001b[1;33m=\u001b[0m\u001b[1;32mTrue\u001b[0m\u001b[1;33m)\u001b[0m\u001b[1;31m#[0:-2]\u001b[0m\u001b[1;33m\u001b[0m\u001b[1;33m\u001b[0m\u001b[0m\n\u001b[0m\u001b[0;32m      6\u001b[0m \u001b[0mcp\u001b[0m \u001b[1;33m=\u001b[0m \u001b[0mfunc\u001b[0m\u001b[1;33m(\u001b[0m\u001b[0mt\u001b[0m\u001b[1;33m)\u001b[0m\u001b[1;33m\u001b[0m\u001b[1;33m\u001b[0m\u001b[0m\n\u001b[0;32m      7\u001b[0m \u001b[1;32mfor\u001b[0m \u001b[0mi\u001b[0m \u001b[1;32min\u001b[0m \u001b[0mrange\u001b[0m\u001b[1;33m(\u001b[0m\u001b[0mlen\u001b[0m\u001b[1;33m(\u001b[0m\u001b[0mt\u001b[0m\u001b[1;33m)\u001b[0m\u001b[1;33m)\u001b[0m\u001b[1;33m:\u001b[0m\u001b[1;33m\u001b[0m\u001b[1;33m\u001b[0m\u001b[0m\n",
      "\u001b[1;31mNameError\u001b[0m: name 'np' is not defined"
     ]
    }
   ],
   "source": [
    "#ATTENZIONE: mi servono dei punti distribuiti in modo uniforme\n",
    "# per come ho costruito func so che\n",
    "# func(0.) = func(1.)\n",
    "# quindi genero un punto in più\n",
    "t = np.linspace(0,1,N+1,endpoint=True)#[0:-2]\n",
    "cp = func(t)\n",
    "for i in range(len(t)):\n",
    "    #bs._cp[i] = cp[i]\n",
    "    bs.set_cp(i,cp[i])\n",
    "cpx = cp[:,0]\n",
    "cpy = cp[:,1]"
   ]
  },
  {
   "cell_type": "code",
   "execution_count": null,
   "metadata": {},
   "outputs": [],
   "source": [
    "#bs.control_points()"
   ]
  },
  {
   "cell_type": "code",
   "execution_count": null,
   "metadata": {
    "code_folding": [
     0
    ]
   },
   "outputs": [],
   "source": [
    "#files\n",
    "file_dir = \"files/BEM/circle/\"\n",
    "suffix = \"P=\"+str(P)+\"-N=\"+str(N)+\"-k=\"+str(wavevector)#+\".csv\"\n",
    "suffix_png = \"P=\"+str(P)+\"-N=\"+str(N)+\"-k=\"+str(wavevector)+\".png\"\n",
    "\n",
    "directory = \"files/BEM/two-circles/\""
   ]
  },
  {
   "cell_type": "markdown",
   "metadata": {},
   "source": [
    "## Stiffness Matrix"
   ]
  },
  {
   "cell_type": "code",
   "execution_count": 40,
   "metadata": {
    "code_folding": [
     0
    ]
   },
   "outputs": [
    {
     "ename": "NameError",
     "evalue": "name 'directory' is not defined",
     "output_type": "error",
     "traceback": [
      "\u001b[1;31m---------------------------------------------------------------------------\u001b[0m",
      "\u001b[1;31mNameError\u001b[0m                                 Traceback (most recent call last)",
      "\u001b[1;32m<ipython-input-40-9b0086fef1e8>\u001b[0m in \u001b[0;36m<module>\u001b[1;34m\u001b[0m\n\u001b[0;32m      2\u001b[0m \u001b[0mREAD\u001b[0m \u001b[1;33m=\u001b[0m \u001b[1;32mTrue\u001b[0m\u001b[1;33m\u001b[0m\u001b[1;33m\u001b[0m\u001b[0m\n\u001b[0;32m      3\u001b[0m \u001b[0mSAVE\u001b[0m \u001b[1;33m=\u001b[0m \u001b[1;32mFalse\u001b[0m\u001b[1;33m\u001b[0m\u001b[1;33m\u001b[0m\u001b[0m\n\u001b[1;32m----> 4\u001b[1;33m \u001b[0mfile\u001b[0m \u001b[1;33m=\u001b[0m \u001b[0mdirectory\u001b[0m\u001b[1;33m+\u001b[0m\u001b[1;34m\"bs-sm-BEM-\"\u001b[0m\u001b[1;33m+\u001b[0m\u001b[0msuffix\u001b[0m\u001b[1;33m+\u001b[0m\u001b[1;34m\".csv\"\u001b[0m\u001b[1;33m\u001b[0m\u001b[1;33m\u001b[0m\u001b[0m\n\u001b[0m\u001b[0;32m      5\u001b[0m \u001b[0mprint\u001b[0m\u001b[1;33m(\u001b[0m\u001b[0mfile\u001b[0m\u001b[1;33m)\u001b[0m\u001b[1;33m\u001b[0m\u001b[1;33m\u001b[0m\u001b[0m\n\u001b[0;32m      6\u001b[0m \u001b[1;33m\u001b[0m\u001b[0m\n",
      "\u001b[1;31mNameError\u001b[0m: name 'directory' is not defined"
     ]
    }
   ],
   "source": [
    "#stiffness matrix\n",
    "READ = True\n",
    "SAVE = False\n",
    "file = directory+\"bs-sm-BEM-\"+suffix+\".csv\"\n",
    "print(file)\n",
    "\n",
    "if os.path.exists(file) and READ == True :\n",
    "    sm = bs.load(\"sm-BEM\",file)\n",
    "else :\n",
    "    sm = bs.stiffness_matrix_BEM(k=wavevector,opts={\"print\":True,\"N\":[6],\"ready_sm_BEM\":False})\n",
    "    if SAVE == True :\n",
    "        bs.save(\"sm-BEM\",file)\n",
    "sm.head()"
   ]
  },
  {
   "cell_type": "code",
   "execution_count": null,
   "metadata": {
    "code_folding": [
     0
    ]
   },
   "outputs": [],
   "source": [
    "#grafico\n",
    "sm = bs.stiffness_matrix_BEM()\n",
    "plot_matrix(sm)"
   ]
  },
  {
   "cell_type": "markdown",
   "metadata": {},
   "source": [
    "## Single Layer Potential Basis"
   ]
  },
  {
   "cell_type": "code",
   "execution_count": 41,
   "metadata": {
    "code_folding": [
     0
    ]
   },
   "outputs": [
    {
     "ename": "NameError",
     "evalue": "name 'np' is not defined",
     "output_type": "error",
     "traceback": [
      "\u001b[1;31m---------------------------------------------------------------------------\u001b[0m",
      "\u001b[1;31mNameError\u001b[0m                                 Traceback (most recent call last)",
      "\u001b[1;32m<ipython-input-41-033b4cfcfd5f>\u001b[0m in \u001b[0;36m<module>\u001b[1;34m\u001b[0m\n\u001b[0;32m      2\u001b[0m \u001b[0mNx\u001b[0m\u001b[1;33m=\u001b[0m \u001b[1;36m80\u001b[0m\u001b[1;33m\u001b[0m\u001b[1;33m\u001b[0m\u001b[0m\n\u001b[0;32m      3\u001b[0m \u001b[0mNy\u001b[0m \u001b[1;33m=\u001b[0m \u001b[1;36m80\u001b[0m\u001b[1;33m\u001b[0m\u001b[1;33m\u001b[0m\u001b[0m\n\u001b[1;32m----> 4\u001b[1;33m \u001b[0mx\u001b[0m \u001b[1;33m=\u001b[0m \u001b[0mnp\u001b[0m\u001b[1;33m.\u001b[0m\u001b[0mlinspace\u001b[0m\u001b[1;33m(\u001b[0m\u001b[0mxmin\u001b[0m\u001b[1;33m,\u001b[0m\u001b[0mxmax\u001b[0m\u001b[1;33m,\u001b[0m\u001b[0mNx\u001b[0m\u001b[1;33m)\u001b[0m\u001b[1;33m\u001b[0m\u001b[1;33m\u001b[0m\u001b[0m\n\u001b[0m\u001b[0;32m      5\u001b[0m \u001b[0my\u001b[0m \u001b[1;33m=\u001b[0m \u001b[0mnp\u001b[0m\u001b[1;33m.\u001b[0m\u001b[0mlinspace\u001b[0m\u001b[1;33m(\u001b[0m\u001b[0mymin\u001b[0m\u001b[1;33m,\u001b[0m\u001b[0mymax\u001b[0m\u001b[1;33m,\u001b[0m\u001b[0mNy\u001b[0m\u001b[1;33m)\u001b[0m\u001b[1;33m\u001b[0m\u001b[1;33m\u001b[0m\u001b[0m\n\u001b[0;32m      6\u001b[0m \u001b[0mX\u001b[0m\u001b[1;33m,\u001b[0m\u001b[0mY\u001b[0m \u001b[1;33m=\u001b[0m \u001b[0mnp\u001b[0m\u001b[1;33m.\u001b[0m\u001b[0mmeshgrid\u001b[0m\u001b[1;33m(\u001b[0m\u001b[0mx\u001b[0m\u001b[1;33m,\u001b[0m\u001b[0my\u001b[0m\u001b[1;33m)\u001b[0m\u001b[1;33m\u001b[0m\u001b[1;33m\u001b[0m\u001b[0m\n",
      "\u001b[1;31mNameError\u001b[0m: name 'np' is not defined"
     ]
    }
   ],
   "source": [
    "#punti XY\n",
    "Nx= 80\n",
    "Ny = 80\n",
    "x = np.linspace(xmin,xmax,Nx)\n",
    "y = np.linspace(ymin,ymax,Ny)\n",
    "X,Y = np.meshgrid(x,y)\n",
    "\n",
    "XY0 = np.zeros((Nx*Ny,2))\n",
    "XY0[:,0] = X.reshape((Nx*Ny,))\n",
    "XY0[:,1] = Y.reshape((Nx*Ny,))\n",
    "\n",
    "internal = bs.internal_points(XY=XY0,NN=1000,xmin=0.,xmax=1.,opts=None)\n",
    "XY = XY0[ np.logical_not(internal) ]\n",
    "print(len(XY))#,\" = \",len(XYslp)/3600,\"h\")\n",
    "\n",
    "#tolgo elementi interni\n",
    "#radius = np.asarray([np.sqrt(np.sum(np.power(i,2.0))) for i in XY])\n",
    "#XYslp = XY#[radius > 1.0]\n",
    "#print(len(XYslp),\" = \",len(XYslp)*3/3600,\"h\")"
   ]
  },
  {
   "cell_type": "code",
   "execution_count": null,
   "metadata": {
    "code_folding": [
     0
    ]
   },
   "outputs": [],
   "source": [
    "#Single Layer Potential per le funzioni di base\n",
    "READ = True\n",
    "SAVE = True\n",
    "\n",
    "file = directory+\"bs-slpB-BEM-\"+suffix+\".csv\"\n",
    "print(file)\n",
    "\n",
    "if os.path.exists(file) and READ == True :\n",
    "    slp = bs.load(\"slp-BEM\",file)\n",
    "#else :\n",
    "\n",
    "# I can update it adding some  points\n",
    "slpB = bs.single_layer_potential_basis_BEM(XY=XY,k=wavevector,opts={\"print\":True,\"N\":[6]})\n",
    "\n",
    "if SAVE == True :\n",
    "    bs.save(\"slp-BEM\",file)\n",
    "    \n",
    "slp.head()"
   ]
  },
  {
   "cell_type": "code",
   "execution_count": null,
   "metadata": {
    "code_folding": [
     0
    ]
   },
   "outputs": [],
   "source": [
    "#traslo\n",
    "deltaX = int(1./(x[1]-x[0]))*(x[1]-x[0])\n",
    "deltaY = int(1./(y[1]-y[0]))*(y[1]-y[0])\n",
    "\n",
    "rL = [-deltaX,deltaY]\n",
    "rR = [ deltaX, -deltaY]"
   ]
  },
  {
   "cell_type": "code",
   "execution_count": 42,
   "metadata": {
    "code_folding": [
     0
    ]
   },
   "outputs": [
    {
     "ename": "NameError",
     "evalue": "name 'np' is not defined",
     "output_type": "error",
     "traceback": [
      "\u001b[1;31m---------------------------------------------------------------------------\u001b[0m",
      "\u001b[1;31mNameError\u001b[0m                                 Traceback (most recent call last)",
      "\u001b[1;32m<ipython-input-42-5964a6a94bf1>\u001b[0m in \u001b[0;36m<module>\u001b[1;34m\u001b[0m\n\u001b[0;32m      1\u001b[0m \u001b[1;31m#valutazione della Bspline\u001b[0m\u001b[1;33m\u001b[0m\u001b[1;33m\u001b[0m\u001b[1;33m\u001b[0m\u001b[0m\n\u001b[0;32m      2\u001b[0m \u001b[0mNN\u001b[0m \u001b[1;33m=\u001b[0m \u001b[1;36m1000\u001b[0m\u001b[1;33m\u001b[0m\u001b[1;33m\u001b[0m\u001b[0m\n\u001b[1;32m----> 3\u001b[1;33m \u001b[0mt\u001b[0m \u001b[1;33m=\u001b[0m \u001b[0mnp\u001b[0m\u001b[1;33m.\u001b[0m\u001b[0mlinspace\u001b[0m\u001b[1;33m(\u001b[0m\u001b[0mxminBs\u001b[0m\u001b[1;33m,\u001b[0m\u001b[0mxmaxBs\u001b[0m\u001b[1;33m,\u001b[0m\u001b[0mNN\u001b[0m\u001b[1;33m,\u001b[0m\u001b[0mendpoint\u001b[0m\u001b[1;33m=\u001b[0m\u001b[1;32mTrue\u001b[0m\u001b[1;33m)\u001b[0m\u001b[1;33m\u001b[0m\u001b[1;33m\u001b[0m\u001b[0m\n\u001b[0m\u001b[0;32m      4\u001b[0m \u001b[0mdf\u001b[0m \u001b[1;33m=\u001b[0m \u001b[0mpd\u001b[0m\u001b[1;33m.\u001b[0m\u001b[0mDataFrame\u001b[0m\u001b[1;33m(\u001b[0m\u001b[0mindex\u001b[0m\u001b[1;33m=\u001b[0m\u001b[0mnp\u001b[0m\u001b[1;33m.\u001b[0m\u001b[0marange\u001b[0m\u001b[1;33m(\u001b[0m\u001b[1;36m0\u001b[0m\u001b[1;33m,\u001b[0m\u001b[0mlen\u001b[0m\u001b[1;33m(\u001b[0m\u001b[0mt\u001b[0m\u001b[1;33m)\u001b[0m\u001b[1;33m)\u001b[0m\u001b[1;33m,\u001b[0m\u001b[0mcolumns\u001b[0m\u001b[1;33m=\u001b[0m\u001b[0mnp\u001b[0m\u001b[1;33m.\u001b[0m\u001b[0marange\u001b[0m\u001b[1;33m(\u001b[0m\u001b[1;36m0\u001b[0m\u001b[1;33m,\u001b[0m\u001b[1;36m6\u001b[0m\u001b[1;33m)\u001b[0m\u001b[1;33m,\u001b[0m\u001b[0mdtype\u001b[0m\u001b[1;33m=\u001b[0m\u001b[0mobject\u001b[0m\u001b[1;33m)\u001b[0m\u001b[1;33m\u001b[0m\u001b[1;33m\u001b[0m\u001b[0m\n\u001b[0;32m      5\u001b[0m index = [  (\"left\",\"x\") , (\"left\",\"y\"),\\\n",
      "\u001b[1;31mNameError\u001b[0m: name 'np' is not defined"
     ]
    }
   ],
   "source": [
    "#valutazione della Bspline\n",
    "NN = 1000\n",
    "t = np.linspace(xminBs,xmaxBs,NN,endpoint=True)\n",
    "df = pd.DataFrame(index=np.arange(0,len(t)),columns=np.arange(0,6),dtype=object)\n",
    "index = [  (\"left\",\"x\") , (\"left\",\"y\"),\\\n",
    "          (\"right\",\"x\") , (\"right\",\"y\")]\n",
    "mi = pd.MultiIndex.from_tuples(index)\n",
    "df = df.reindex(columns=mi)\n",
    "\n",
    "df[\"t\"]      = t\n",
    "\n",
    "xy = bs.evaluate(t)\n",
    "#c = center.evaluate(t)\n",
    "#d =  down.evaluate(t)\n",
    "\n",
    "df[(\"left\",\"x\")]  = xy[:,0] + rL[0]\n",
    "df[(\"left\",\"y\")]  = xy[:,1] + rL[1]\n",
    "\n",
    "df[(\"right\",\"x\")] = xy[:,0] + rR[0]\n",
    "df[(\"right\",\"y\")] = xy[:,1] + rR[1]\n",
    "\n",
    "\n",
    "df"
   ]
  },
  {
   "cell_type": "code",
   "execution_count": null,
   "metadata": {
    "code_folding": [
     0
    ]
   },
   "outputs": [],
   "source": [
    "# due cerchi\n",
    "Left = bs.copy()\n",
    "#print(Left._slp_BEM.shape)\n",
    "Left.traslate_cp(rL)\n",
    "#print(Left._slp_BEM.shape)\n",
    "#print(Left._ready_slp_BEM)\n",
    "Left.traslate_slpB(rL)\n",
    "#print(Left._slp_BEM.shape)\n",
    "#print(Left._ready_slp_BEM)\n",
    "\n",
    "Right = bs.copy()\n",
    "Right.traslate_cp(rR)\n",
    "Right.traslate_slpB(rR)"
   ]
  },
  {
   "cell_type": "code",
   "execution_count": null,
   "metadata": {
    "code_folding": [
     0
    ]
   },
   "outputs": [],
   "source": [
    "# punti interni\n",
    "XYleft = np.asarray([ np.asarray(i) for i in Left._slp_BEM.index ])\n",
    "XYright = np.asarray([ np.asarray(i) for i in Right._slp_BEM.index ])\n",
    "\n",
    "internal = Left.internal_points(XY=XY0,NN=1000,xmin=0.,xmax=1.,opts=None)\n",
    "XYL = XY0[ np.logical_not(internal) ]\n",
    "\n",
    "internal = Right.internal_points(XY=XYL,NN=1000,xmin=0.,xmax=1.,opts=None)\n",
    "XY = XYL[ np.logical_not(internal)] \n",
    "print(len(XY))"
   ]
  },
  {
   "cell_type": "code",
   "execution_count": null,
   "metadata": {
    "code_folding": [
     0
    ]
   },
   "outputs": [],
   "source": [
    "#grafico\n",
    "fig = plt.figure ( 0 , figsize = ( 15, 5 ) )\n",
    "#\n",
    "ax = fig.add_subplot(111)\n",
    "plt.plot(df[(\"left\",\"x\")], df[(\"left\",\"y\")], color= \"black\",label=\"up\")\n",
    "plt.plot(df[(\"right\",\"x\")], df[(\"right\",\"y\")], color= \"black\",label=\"center\")\n",
    "plt.scatter(XY[:,0],XY[:,1], color= \"blue\",label=\"points\",s=0.1)\n",
    "\n",
    "#plt.scatter(XYleft[:,0],XYleft[:,1], color= \"red\",label=\"points\",s=0.1)\n",
    "#plt.scatter(XYright[:,0],XYright[:,1], color= \"green\",label=\"points\",s=0.1)\n",
    "\n",
    "#plt.grid()\n",
    "#plt.legend()\n",
    "plt.xlim(xmin,xmax)\n",
    "plt.ylim(ymin,ymax)\n",
    "ax.set_aspect('equal')\n",
    "plt.show()"
   ]
  },
  {
   "cell_type": "code",
   "execution_count": null,
   "metadata": {
    "code_folding": [
     0
    ]
   },
   "outputs": [],
   "source": [
    "#Single Layer Potential per le funzioni di base\n",
    "READ = True\n",
    "SAVE = True\n",
    "\n",
    "file = directory+\"Left-slpB-BEM-\"+suffix+\".csv\"\n",
    "print(file)\n",
    "\n",
    "if os.path.exists(file) and READ == True :\n",
    "    slpBL = Left.load(\"slp-BEM\",file)\n",
    "#else :\n",
    "\n",
    "slpBL = Left.single_layer_potential_basis_BEM(XY=XY,k=wavevector,\\\n",
    "                                              opts={\"print\":True,\"prec\":1e-6,\"ready_slp_BEM\":True})\n",
    "if SAVE == True :\n",
    "    Left.save(\"slp-BEM\",directory+\"Left-slpB-BEM-\"+suffix+\".csv\")\n",
    "    \n",
    "slpBL.head()"
   ]
  },
  {
   "cell_type": "code",
   "execution_count": null,
   "metadata": {
    "code_folding": [
     0
    ]
   },
   "outputs": [],
   "source": [
    "#Single Layer Potential per le funzioni di base\n",
    "READ = True\n",
    "SAVE = True\n",
    "\n",
    "file = directory+\"Right-slpB-BEM-\"+suffix+\".csv\"\n",
    "print(file)\n",
    "\n",
    "if os.path.exists(file) and READ == True :\n",
    "    slpBR = Right.load(\"slp-BEM\",file)\n",
    "#else :\n",
    "\n",
    "slpBR = Right.single_layer_potential_basis_BEM(XY=XY,k=wavevector,\\\n",
    "                                              opts={\"print\":True,\"prec\":1e-6,\"ready_slp_BEM\":True})\n",
    "if SAVE == True :\n",
    "    Right.save(\"slp-BEM\",directory+\"Right-slpB-BEM-\"+suffix+\".csv\")\n",
    "    \n",
    "slpBR.head()"
   ]
  },
  {
   "cell_type": "markdown",
   "metadata": {},
   "source": [
    "## Solution"
   ]
  },
  {
   "cell_type": "code",
   "execution_count": 43,
   "metadata": {
    "code_folding": [
     0
    ]
   },
   "outputs": [],
   "source": [
    "#plane wave\n",
    "def plane_wave(xx): # soluzione\n",
    "    xx = np.asarray(xx)\n",
    "    theta = np.dot(xx,k_in)\n",
    "    return np.exp(1.j*theta)"
   ]
  },
  {
   "cell_type": "code",
   "execution_count": 44,
   "metadata": {
    "code_folding": [
     0
    ]
   },
   "outputs": [
    {
     "ename": "NameError",
     "evalue": "name 'pd' is not defined",
     "output_type": "error",
     "traceback": [
      "\u001b[1;31m---------------------------------------------------------------------------\u001b[0m",
      "\u001b[1;31mNameError\u001b[0m                                 Traceback (most recent call last)",
      "\u001b[1;32m<ipython-input-44-a0cf6ace38aa>\u001b[0m in \u001b[0;36m<module>\u001b[1;34m\u001b[0m\n\u001b[0;32m      1\u001b[0m \u001b[1;31m# stiffness matrix\u001b[0m\u001b[1;33m\u001b[0m\u001b[1;33m\u001b[0m\u001b[1;33m\u001b[0m\u001b[0m\n\u001b[1;32m----> 2\u001b[1;33m \u001b[0mSM\u001b[0m \u001b[1;33m=\u001b[0m \u001b[0mpd\u001b[0m\u001b[1;33m.\u001b[0m\u001b[0mread_csv\u001b[0m\u001b[1;33m(\u001b[0m\u001b[0mdirectory\u001b[0m\u001b[1;33m+\u001b[0m\u001b[1;34m\"SM-\"\u001b[0m\u001b[1;33m+\u001b[0m\u001b[0msuffix\u001b[0m\u001b[1;33m+\u001b[0m\u001b[1;34m\".csv\"\u001b[0m\u001b[1;33m,\u001b[0m\u001b[0mskiprows\u001b[0m\u001b[1;33m=\u001b[0m\u001b[1;36m2\u001b[0m\u001b[1;33m)\u001b[0m\u001b[1;33m\u001b[0m\u001b[1;33m\u001b[0m\u001b[0m\n\u001b[0m\u001b[0;32m      3\u001b[0m \u001b[1;32mdel\u001b[0m \u001b[0mSM\u001b[0m\u001b[1;33m[\u001b[0m\u001b[1;34m\"index\"\u001b[0m\u001b[1;33m]\u001b[0m\u001b[1;33m\u001b[0m\u001b[1;33m\u001b[0m\u001b[0m\n\u001b[0;32m      4\u001b[0m \u001b[0mSM\u001b[0m \u001b[1;33m=\u001b[0m \u001b[0mSM\u001b[0m\u001b[1;33m.\u001b[0m\u001b[0mapplymap\u001b[0m\u001b[1;33m(\u001b[0m\u001b[0mnp\u001b[0m\u001b[1;33m.\u001b[0m\u001b[0mcomplex\u001b[0m\u001b[1;33m)\u001b[0m\u001b[1;33m\u001b[0m\u001b[1;33m\u001b[0m\u001b[0m\n\u001b[0;32m      5\u001b[0m \u001b[0mindex\u001b[0m\u001b[1;33m,\u001b[0m\u001b[0mmi\u001b[0m\u001b[1;33m,\u001b[0m\u001b[0mlast\u001b[0m\u001b[1;33m,\u001b[0m\u001b[0mfirst\u001b[0m \u001b[1;33m=\u001b[0m \u001b[0mBs\u001b[0m\u001b[1;33m.\u001b[0m\u001b[0mmulti_index_disconnected\u001b[0m\u001b[1;33m(\u001b[0m\u001b[1;33m[\u001b[0m\u001b[0mLeft\u001b[0m\u001b[1;33m,\u001b[0m\u001b[0mRight\u001b[0m\u001b[1;33m]\u001b[0m\u001b[1;33m,\u001b[0m\u001b[1;33m[\u001b[0m\u001b[1;36m0\u001b[0m\u001b[1;33m,\u001b[0m\u001b[1;36m1\u001b[0m\u001b[1;33m]\u001b[0m\u001b[1;33m,\u001b[0m\u001b[1;32mNone\u001b[0m\u001b[1;33m)\u001b[0m\u001b[1;33m\u001b[0m\u001b[1;33m\u001b[0m\u001b[0m\n",
      "\u001b[1;31mNameError\u001b[0m: name 'pd' is not defined"
     ]
    }
   ],
   "source": [
    "# stiffness matrix\n",
    "SM = pd.read_csv(directory+\"SM-\"+suffix+\".csv\",skiprows=2)\n",
    "del SM[\"index\"]\n",
    "SM = SM.applymap(np.complex)\n",
    "index,mi,last,first = Bs.multi_index_disconnected([Left,Right],[0,1],None)\n",
    "df0 = pd.DataFrame(data = np.asarray(SM),columns=index,index=index)\n",
    "SM = df0.reindex(columns=mi,index=mi)\n",
    "Bs._sm_BEM_disc = SM.copy()\n",
    "Bs._ready_sm_BEM_disc = True\n",
    "SM.head()"
   ]
  },
  {
   "cell_type": "code",
   "execution_count": null,
   "metadata": {
    "code_folding": [
     0
    ]
   },
   "outputs": [],
   "source": [
    "#metodo di Galerkin\n",
    "bs_arr = [Left,Right]\n",
    "opts = {\"print\":True,\"N\":[6]}\n",
    "SLP,Xnp,Valnp = Bs.BEM_disconnected(bs=bs_arr,uinc=plane_wave,k=wavevector,XY=XY,opts=opts)\n",
    "SLP.head()"
   ]
  },
  {
   "cell_type": "code",
   "execution_count": null,
   "metadata": {},
   "outputs": [],
   "source": [
    "SLP.to_csv(directory+\"solution-\"+suffix+\".csv\",index_label=\"index\")\n",
    "Bs._sm_BEM_disc.to_csv(directory+\"SM-\"+suffix+\".csv\",index_label=\"index\")\n",
    "Bs._lv_BEM_disc.to_csv(directory+\"LV-\"+suffix+\".csv\",index_label=\"index\")"
   ]
  },
  {
   "cell_type": "code",
   "execution_count": null,
   "metadata": {
    "deletable": false,
    "editable": false,
    "run_control": {
     "frozen": true
    }
   },
   "outputs": [],
   "source": [
    "plot_matrix(Bs.get_block(SM,0,0,drop=True))"
   ]
  },
  {
   "cell_type": "code",
   "execution_count": null,
   "metadata": {
    "deletable": false,
    "editable": false,
    "run_control": {
     "frozen": true
    }
   },
   "outputs": [],
   "source": [
    "plot_matrix(Bs.get_block(SM,1,1,drop=True))"
   ]
  },
  {
   "cell_type": "code",
   "execution_count": null,
   "metadata": {
    "deletable": false,
    "editable": false,
    "run_control": {
     "frozen": true
    }
   },
   "outputs": [],
   "source": [
    "plot_matrix(Bs.get_block(SM,0,1,drop=True))"
   ]
  },
  {
   "cell_type": "code",
   "execution_count": null,
   "metadata": {
    "deletable": false,
    "editable": false,
    "run_control": {
     "frozen": true
    }
   },
   "outputs": [],
   "source": [
    "plot_matrix(Bs.get_block(SM,1,0,drop=True))"
   ]
  },
  {
   "cell_type": "code",
   "execution_count": 45,
   "metadata": {
    "code_folding": [
     0
    ]
   },
   "outputs": [
    {
     "ename": "NameError",
     "evalue": "name 'XY' is not defined",
     "output_type": "error",
     "traceback": [
      "\u001b[1;31m---------------------------------------------------------------------------\u001b[0m",
      "\u001b[1;31mNameError\u001b[0m                                 Traceback (most recent call last)",
      "\u001b[1;32m<ipython-input-45-2672c9b910b6>\u001b[0m in \u001b[0;36m<module>\u001b[1;34m\u001b[0m\n\u001b[0;32m      1\u001b[0m \u001b[1;31m#uinc\u001b[0m\u001b[1;33m\u001b[0m\u001b[1;33m\u001b[0m\u001b[1;33m\u001b[0m\u001b[0m\n\u001b[1;32m----> 2\u001b[1;33m \u001b[0mUinc\u001b[0m \u001b[1;33m=\u001b[0m \u001b[0mplane_wave\u001b[0m\u001b[1;33m(\u001b[0m\u001b[0mXY\u001b[0m\u001b[1;33m)\u001b[0m\u001b[1;31m#.reshape(Nx,Ny).transpose()\u001b[0m\u001b[1;33m\u001b[0m\u001b[1;33m\u001b[0m\u001b[0m\n\u001b[0m\u001b[0;32m      3\u001b[0m \u001b[0mscat\u001b[0m \u001b[1;33m=\u001b[0m \u001b[0mnp\u001b[0m\u001b[1;33m.\u001b[0m\u001b[0masarray\u001b[0m\u001b[1;33m(\u001b[0m\u001b[0mSLP\u001b[0m\u001b[1;33m[\u001b[0m\u001b[1;34m\"value\"\u001b[0m\u001b[1;33m]\u001b[0m\u001b[1;33m,\u001b[0m\u001b[0mdtype\u001b[0m\u001b[1;33m=\u001b[0m\u001b[0mnp\u001b[0m\u001b[1;33m.\u001b[0m\u001b[0mcomplex\u001b[0m\u001b[1;33m)\u001b[0m\u001b[1;31m#Valnp\u001b[0m\u001b[1;33m\u001b[0m\u001b[1;33m\u001b[0m\u001b[0m\n\u001b[0;32m      4\u001b[0m \u001b[0mtotal\u001b[0m \u001b[1;33m=\u001b[0m \u001b[0mUinc\u001b[0m \u001b[1;33m+\u001b[0m \u001b[0mscat\u001b[0m\u001b[1;33m\u001b[0m\u001b[1;33m\u001b[0m\u001b[0m\n",
      "\u001b[1;31mNameError\u001b[0m: name 'XY' is not defined"
     ]
    }
   ],
   "source": [
    "#uinc\n",
    "Uinc = plane_wave(XY)#.reshape(Nx,Ny).transpose()\n",
    "scat = np.asarray(SLP[\"value\"],dtype=np.complex)#Valnp\n",
    "total = Uinc + scat"
   ]
  },
  {
   "cell_type": "code",
   "execution_count": null,
   "metadata": {
    "ExecuteTime": {
     "end_time": "2021-03-19T08:41:02.586654Z",
     "start_time": "2021-03-19T08:40:53.075530Z"
    },
    "code_folding": [
     0
    ]
   },
   "outputs": [],
   "source": [
    "#grafico\n",
    "fig = plt.figure ( 0 , figsize = ( 13 , 13 ) )\n",
    "\n",
    "cmap = 'RdYlBu'\n",
    "\n",
    "x = [df[(\"left\",\"x\")],df[(\"right\",\"x\")]]\n",
    "y = [df[(\"left\",\"y\")],df[(\"right\",\"y\")]]\n",
    "   \n",
    "plot_sol_disc(fig,331,x,y,XY[:,0],XY[:,1],Uinc.real,\"$u_{inc}$ : real\",cmap)\n",
    "plot_sol_disc(fig,334,x,y,XY[:,0],XY[:,1],Uinc.imag,\"$u_{inc}$ : imag\",cmap)\n",
    "plot_sol_disc(fig,337,x,y,XY[:,0],XY[:,1],np.absolute(Uinc),\"$u_{inc}$ : abs\",cmap)\n",
    "\n",
    "plot_sol_disc(fig,332,x,y,XY[:,0],XY[:,1],scat.real,\"$u_{scat}$ : real\",cmap)\n",
    "plot_sol_disc(fig,335,x,y,XY[:,0],XY[:,1],scat.imag,\"$u_{scat}$ : imag\",cmap)\n",
    "plot_sol_disc(fig,338,x,y,XY[:,0],XY[:,1],np.absolute(scat),\"$u_{scat}$ : abs\",cmap)\n",
    "\n",
    "plot_sol_disc(fig,333,x,y,XY[:,0],XY[:,1],total.real,\"$u_{tot}$ : real\",cmap)\n",
    "plot_sol_disc(fig,336,x,y,XY[:,0],XY[:,1],total.imag,\"$u_{tot}$ : imag\",cmap)\n",
    "plot_sol_disc(fig,339,x,y,XY[:,0],XY[:,1],np.absolute(total),\"$u_{tot}$ : abs\",cmap)\n",
    "\n",
    "plt.tight_layout()\n",
    "\n",
    "sol_png = directory+\"solution-2-\"+suffix_png\n",
    "plt.savefig(sol_png)\n",
    "\n",
    "plt.show()"
   ]
  },
  {
   "cell_type": "markdown",
   "metadata": {},
   "source": [
    "# Convergence"
   ]
  },
  {
   "cell_type": "code",
   "execution_count": 46,
   "metadata": {
    "ExecuteTime": {
     "end_time": "2021-03-19T10:22:02.503614Z",
     "start_time": "2021-03-19T10:22:02.482636Z"
    },
    "code_folding": [
     0
    ]
   },
   "outputs": [
    {
     "ename": "NameError",
     "evalue": "name 'np' is not defined",
     "output_type": "error",
     "traceback": [
      "\u001b[1;31m---------------------------------------------------------------------------\u001b[0m",
      "\u001b[1;31mNameError\u001b[0m                                 Traceback (most recent call last)",
      "\u001b[1;32m<ipython-input-46-767c7fdd8ff9>\u001b[0m in \u001b[0;36m<module>\u001b[1;34m\u001b[0m\n\u001b[0;32m      1\u001b[0m \u001b[1;31m#vettor d'onda\u001b[0m\u001b[1;33m\u001b[0m\u001b[1;33m\u001b[0m\u001b[1;33m\u001b[0m\u001b[0m\n\u001b[1;32m----> 2\u001b[1;33m \u001b[0mk_in\u001b[0m \u001b[1;33m=\u001b[0m \u001b[1;36m30\u001b[0m\u001b[1;33m/\u001b[0m\u001b[1;36m4\u001b[0m\u001b[1;33m*\u001b[0m\u001b[0mnp\u001b[0m\u001b[1;33m.\u001b[0m\u001b[0masarray\u001b[0m\u001b[1;33m(\u001b[0m\u001b[1;33m[\u001b[0m\u001b[0mnp\u001b[0m\u001b[1;33m.\u001b[0m\u001b[0msqrt\u001b[0m\u001b[1;33m(\u001b[0m\u001b[1;36m3.\u001b[0m\u001b[1;33m)\u001b[0m\u001b[1;33m/\u001b[0m\u001b[1;36m2.\u001b[0m\u001b[1;33m,\u001b[0m\u001b[1;36m0.5\u001b[0m\u001b[1;33m]\u001b[0m\u001b[1;33m)\u001b[0m\u001b[1;33m\u001b[0m\u001b[1;33m\u001b[0m\u001b[0m\n\u001b[0m\u001b[0;32m      3\u001b[0m \u001b[0mwavevector\u001b[0m \u001b[1;33m=\u001b[0m \u001b[1;36m7.5\u001b[0m\u001b[1;31m#np.sqrt(np.sum(np.power(k_in,2.0)))\u001b[0m\u001b[1;33m\u001b[0m\u001b[1;33m\u001b[0m\u001b[0m\n\u001b[0;32m      4\u001b[0m \u001b[0mprint\u001b[0m\u001b[1;33m(\u001b[0m\u001b[1;34m\"w:\"\u001b[0m\u001b[1;33m,\u001b[0m\u001b[0mwavevector\u001b[0m\u001b[1;33m)\u001b[0m\u001b[1;33m\u001b[0m\u001b[1;33m\u001b[0m\u001b[0m\n\u001b[0;32m      5\u001b[0m \u001b[0mprint\u001b[0m\u001b[1;33m(\u001b[0m\u001b[1;34m\"h:\"\u001b[0m\u001b[1;33m,\u001b[0m\u001b[0mnp\u001b[0m\u001b[1;33m.\u001b[0m\u001b[0mpi\u001b[0m\u001b[1;33m/\u001b[0m\u001b[1;33m(\u001b[0m\u001b[1;36m5\u001b[0m\u001b[1;33m*\u001b[0m\u001b[0mwavevector\u001b[0m\u001b[1;33m)\u001b[0m\u001b[1;33m)\u001b[0m\u001b[1;33m\u001b[0m\u001b[1;33m\u001b[0m\u001b[0m\n",
      "\u001b[1;31mNameError\u001b[0m: name 'np' is not defined"
     ]
    }
   ],
   "source": [
    "#vettor d'onda\n",
    "k_in = 30/4*np.asarray([np.sqrt(3.)/2.,0.5])\n",
    "wavevector = 7.5#np.sqrt(np.sum(np.power(k_in,2.0)))\n",
    "print(\"w:\",wavevector)\n",
    "print(\"h:\",np.pi/(5*wavevector))\n",
    "I = np.complex(0,1)\n",
    "\n",
    "xmin = -3\n",
    "xmax = 3\n",
    "ymin = -3\n",
    "ymax = 3"
   ]
  },
  {
   "cell_type": "markdown",
   "metadata": {},
   "source": [
    "## Preparation"
   ]
  },
  {
   "cell_type": "code",
   "execution_count": 47,
   "metadata": {
    "ExecuteTime": {
     "end_time": "2021-03-19T10:22:46.955978Z",
     "start_time": "2021-03-19T10:22:46.932993Z"
    },
    "code_folding": [
     0
    ]
   },
   "outputs": [],
   "source": [
    "#function\n",
    "x0 = 0.0\n",
    "y0 = 0.0\n",
    "a = 1.0\n",
    "b = 1.0\n",
    "radius = 1.0\n",
    "def func(t):\n",
    "    #print(cpz)\n",
    "    cpx = a*np.cos(2*np.pi*t)+x0#np.random.rand(N)\n",
    "    cpy = b*np.sin(2*np.pi*t)+y0#np.random.rand(N)\n",
    "    out = np.zeros(shape=(len(t),2))\n",
    "    for i in range(len(t)):\n",
    "        out[i,0] = cpx[i]\n",
    "        out[i,1] = cpy[i]\n",
    "    return out"
   ]
  },
  {
   "cell_type": "code",
   "execution_count": 48,
   "metadata": {
    "code_folding": [
     0
    ]
   },
   "outputs": [
    {
     "ename": "NameError",
     "evalue": "name 'np' is not defined",
     "output_type": "error",
     "traceback": [
      "\u001b[1;31m---------------------------------------------------------------------------\u001b[0m",
      "\u001b[1;31mNameError\u001b[0m                                 Traceback (most recent call last)",
      "\u001b[1;32m<ipython-input-48-cf460934dd76>\u001b[0m in \u001b[0;36m<module>\u001b[1;34m\u001b[0m\n\u001b[0;32m      2\u001b[0m \u001b[0mNx\u001b[0m\u001b[1;33m=\u001b[0m \u001b[1;36m40\u001b[0m\u001b[1;33m\u001b[0m\u001b[1;33m\u001b[0m\u001b[0m\n\u001b[0;32m      3\u001b[0m \u001b[0mNy\u001b[0m \u001b[1;33m=\u001b[0m \u001b[1;36m40\u001b[0m\u001b[1;33m\u001b[0m\u001b[1;33m\u001b[0m\u001b[0m\n\u001b[1;32m----> 4\u001b[1;33m \u001b[0mx\u001b[0m \u001b[1;33m=\u001b[0m \u001b[0mnp\u001b[0m\u001b[1;33m.\u001b[0m\u001b[0mlinspace\u001b[0m\u001b[1;33m(\u001b[0m\u001b[0mxmin\u001b[0m\u001b[1;33m,\u001b[0m\u001b[0mxmax\u001b[0m\u001b[1;33m,\u001b[0m\u001b[0mNx\u001b[0m\u001b[1;33m)\u001b[0m\u001b[1;33m\u001b[0m\u001b[1;33m\u001b[0m\u001b[0m\n\u001b[0m\u001b[0;32m      5\u001b[0m \u001b[0my\u001b[0m \u001b[1;33m=\u001b[0m \u001b[0mnp\u001b[0m\u001b[1;33m.\u001b[0m\u001b[0mlinspace\u001b[0m\u001b[1;33m(\u001b[0m\u001b[0mymin\u001b[0m\u001b[1;33m,\u001b[0m\u001b[0mymax\u001b[0m\u001b[1;33m,\u001b[0m\u001b[0mNy\u001b[0m\u001b[1;33m)\u001b[0m\u001b[1;33m\u001b[0m\u001b[1;33m\u001b[0m\u001b[0m\n\u001b[0;32m      6\u001b[0m \u001b[0mX\u001b[0m\u001b[1;33m,\u001b[0m\u001b[0mY\u001b[0m \u001b[1;33m=\u001b[0m \u001b[0mnp\u001b[0m\u001b[1;33m.\u001b[0m\u001b[0mmeshgrid\u001b[0m\u001b[1;33m(\u001b[0m\u001b[0mx\u001b[0m\u001b[1;33m,\u001b[0m\u001b[0my\u001b[0m\u001b[1;33m)\u001b[0m\u001b[1;33m\u001b[0m\u001b[1;33m\u001b[0m\u001b[0m\n",
      "\u001b[1;31mNameError\u001b[0m: name 'np' is not defined"
     ]
    }
   ],
   "source": [
    "#punti XY\n",
    "Nx= 40\n",
    "Ny = 40\n",
    "x = np.linspace(xmin,xmax,Nx)\n",
    "y = np.linspace(ymin,ymax,Ny)\n",
    "X,Y = np.meshgrid(x,y)\n",
    "\n",
    "XY0 = np.zeros((Nx*Ny,2))\n",
    "XY0[:,0] = X.reshape((Nx*Ny,))\n",
    "XY0[:,1] = Y.reshape((Nx*Ny,))\n",
    "print(len(XY0))"
   ]
  },
  {
   "cell_type": "code",
   "execution_count": null,
   "metadata": {
    "code_folding": [
     0
    ]
   },
   "outputs": [],
   "source": [
    "#plane wave\n",
    "def plane_wave(xx): # soluzione\n",
    "    xx = np.asarray(xx)\n",
    "    theta = np.dot(xx,k_in)\n",
    "    return np.exp(I*theta)"
   ]
  },
  {
   "cell_type": "code",
   "execution_count": null,
   "metadata": {
    "code_folding": [
     0
    ]
   },
   "outputs": [],
   "source": [
    "#definisco la dimensionaità:\n",
    "sh = Bs.shape(1,2)\n",
    "#sh.show()\n",
    "\n",
    "#defiisco i knot vector\n",
    "P=1 #polinomial degree\n",
    "    \n",
    "xminBs = 0.0\n",
    "xmaxBs = 1.0\n",
    "    \n",
    "#N_arr = [10,20,30,40,50,60,70,80,90,100]\n",
    "#N_arr = np.arange(11,20)\n",
    "N_arr = list(np.arange(10,21))+list(np.arange(30,110,10))\n",
    "#N_arr = [10]"
   ]
  },
  {
   "cell_type": "markdown",
   "metadata": {},
   "source": [
    "## Cycle"
   ]
  },
  {
   "cell_type": "code",
   "execution_count": 49,
   "metadata": {
    "code_folding": [
     0
    ]
   },
   "outputs": [
    {
     "ename": "NameError",
     "evalue": "name 'N_arr' is not defined",
     "output_type": "error",
     "traceback": [
      "\u001b[1;31m---------------------------------------------------------------------------\u001b[0m",
      "\u001b[1;31mNameError\u001b[0m                                 Traceback (most recent call last)",
      "\u001b[1;32m<ipython-input-49-ce4bd9be0eb4>\u001b[0m in \u001b[0;36m<module>\u001b[1;34m\u001b[0m\n\u001b[0;32m      2\u001b[0m \u001b[0mj\u001b[0m \u001b[1;33m=\u001b[0m \u001b[1;36m0\u001b[0m\u001b[1;33m\u001b[0m\u001b[1;33m\u001b[0m\u001b[0m\n\u001b[0;32m      3\u001b[0m \u001b[0mn\u001b[0m \u001b[1;33m=\u001b[0m \u001b[1;36m4\u001b[0m\u001b[1;33m\u001b[0m\u001b[1;33m\u001b[0m\u001b[0m\n\u001b[1;32m----> 4\u001b[1;33m \u001b[1;32mfor\u001b[0m \u001b[0mN\u001b[0m \u001b[1;32min\u001b[0m \u001b[0mN_arr\u001b[0m\u001b[1;33m:\u001b[0m\u001b[1;33m\u001b[0m\u001b[1;33m\u001b[0m\u001b[0m\n\u001b[0m\u001b[0;32m      5\u001b[0m \u001b[1;33m\u001b[0m\u001b[0m\n\u001b[0;32m      6\u001b[0m     \u001b[0mcount\u001b[0m \u001b[1;33m=\u001b[0m \u001b[0mstr\u001b[0m\u001b[1;33m(\u001b[0m\u001b[0mj\u001b[0m\u001b[1;33m)\u001b[0m\u001b[1;33m+\u001b[0m\u001b[1;34m\"/\"\u001b[0m\u001b[1;33m+\u001b[0m\u001b[0mstr\u001b[0m\u001b[1;33m(\u001b[0m\u001b[0mlen\u001b[0m\u001b[1;33m(\u001b[0m\u001b[0mN_arr\u001b[0m\u001b[1;33m)\u001b[0m\u001b[1;33m)\u001b[0m\u001b[1;33m\u001b[0m\u001b[1;33m\u001b[0m\u001b[0m\n",
      "\u001b[1;31mNameError\u001b[0m: name 'N_arr' is not defined"
     ]
    }
   ],
   "source": [
    "#ciclo\n",
    "j = 0\n",
    "n = 4\n",
    "for N in N_arr:    \n",
    "    \n",
    "    count = str(j)+\"/\"+str(len(N_arr))\n",
    "    \n",
    "    print(count,\" : preparazione\")\n",
    "    \n",
    "    #\n",
    "    file_dir = \"files/BEM/circle-convergence/n=\"+str(n)+\"/\"\n",
    "    suffix = \"P=\"+str(P)+\"-N=\"+str(N)+\"-k=\"+str(wavevector)+\"-n=\"+str(n)\n",
    "    \n",
    "    \n",
    "    kv = Bs.periodic_kv(xminBs,xmaxBs,p=P,n=N)\n",
    "    #kv.show()\n",
    "\n",
    "    #alloco la Bspline\n",
    "    bs = Bs.Bspline(sh,[kv],properties={\"periodic\":[True]})\n",
    "    \n",
    "    t = np.linspace(0,1,N+1,endpoint=True)#[0:-2]\n",
    "    cp = func(t)\n",
    "    for i in range(len(t)):\n",
    "        bs.set_cp(i,cp[i])\n",
    "        \n",
    "    #\n",
    "    internal = bs.internal_points(XY=XY0,NN=1000,xmin=xminBs,xmax=xmaxBs,opts=None)\n",
    "    XY = XY0[ np.logical_not(internal) ]\n",
    "    \n",
    "    #bs.load(\"sm-BEM\"     ,file_dir+\"stiffness_matrix-\"            +suffix+\".csv\")    \n",
    "    #bs.load(\"slp-BEM\"    ,file_dir+\"single_layer_potential-\"      +suffix+\".csv\")    \n",
    "    #bs.load(\"sol-BEM\"    ,file_dir+\"solution-plane_wave-\"         +suffix+\".csv\")\n",
    "    #bs.load(\"ind_sol-BEM\",file_dir+\"indirect_solution-plane_wave-\"+suffix+\".csv\")\n",
    "    \n",
    "    #\n",
    "    print(count,\" : BEM\")\n",
    "    opts={\"print\":True,\"N\":[n]} \n",
    "    sol,Xnp,Valnp = bs.BEM(uinc=plane_wave,k=wavevector,XY=XY,opts=opts)\n",
    "\n",
    "    print(count,\" : saving\")\n",
    "    bs.save(\"sm-BEM\"     ,file_dir+\"stiffness_matrix-\"            +suffix+\".csv\")    \n",
    "    bs.save(\"slp-BEM\"    ,file_dir+\"single_layer_potential-\"      +suffix+\".csv\")    \n",
    "    bs.save(\"sol-BEM\"    ,file_dir+\"solution-plane_wave-\"         +suffix+\".csv\")\n",
    "    #bs.save(\"lv-BEM\"     ,file_dir+\"load_vector-plane_wave-\"      +suffix+\".csv\")\n",
    "    bs.save(\"ind_sol-BEM\",file_dir+\"indirect_solution-plane_wave-\"+suffix+\".csv\")\n",
    "        \n",
    "    Uinc = plane_wave(XY)\n",
    "    total = Uinc + Valnp\n",
    "    \n",
    "    index = [tuple(i) for i in XY]\n",
    "    grafico = pd.DataFrame(index=index,columns=[\"xy\",\"inc\",\"scat\",\"tot\"],dtype=object)\n",
    "    grafico[\"xy\"] = [ i for i in XY]\n",
    "    grafico[\"inc\"] = Uinc \n",
    "    grafico[\"scat\"] = Valnp\n",
    "    grafico[\"tot\"] = total\n",
    "\n",
    "    grafico.to_csv(file_dir+\"grafico-plane_wave-\"+suffix+\".csv\",index_label=\"index\")\n",
    "    \n",
    "    #grafico\n",
    "    print(count,\" : grafico\")\n",
    "    fig = plt.figure ( 0 , figsize = ( 15 , 10 ) )  \n",
    "    \n",
    "    cmap = 'RdYlBu'\n",
    "    \n",
    "    NN = 1000\n",
    "    T = np.linspace(xminBs,xmaxBs,NN,endpoint=True)\n",
    "    xy   = bs.evaluate(T)\n",
    "    df = pd.DataFrame(xy)\n",
    "    df = df.rename(columns={0:\"x\",1:\"y\"})\n",
    "   \n",
    "    plot_sol(fig,331,df[\"x\"], df[\"y\"],XY[:,0],XY[:,1],Uinc.real,\"$u_{inc}$ : real\",cmap)\n",
    "    plot_sol(fig,334,df[\"x\"], df[\"y\"],XY[:,0],XY[:,1],Uinc.imag,\"$u_{inc}$ : imag\",cmap)\n",
    "    plot_sol(fig,337,df[\"x\"], df[\"y\"],XY[:,0],XY[:,1],np.absolute(Uinc),\"$u_{inc}$ : abs\",cmap)\n",
    "\n",
    "    plot_sol(fig,332,df[\"x\"], df[\"y\"],XY[:,0],XY[:,1],Valnp.real,\"$u_{scat}$ : real\",cmap)\n",
    "    plot_sol(fig,335,df[\"x\"], df[\"y\"],XY[:,0],XY[:,1],Valnp.imag,\"$u_{scat}$ : imag\",cmap)\n",
    "    plot_sol(fig,338,df[\"x\"], df[\"y\"],XY[:,0],XY[:,1],np.absolute(Valnp),\"$u_{scat}$ : abs\",cmap)\n",
    "\n",
    "    plot_sol(fig,333,df[\"x\"], df[\"y\"],XY[:,0],XY[:,1],total.real,\"$u_{tot}$ : real\",cmap)\n",
    "    plot_sol(fig,336,df[\"x\"], df[\"y\"],XY[:,0],XY[:,1],total.imag,\"$u_{tot}$ : imag\",cmap)\n",
    "    plot_sol(fig,339,df[\"x\"], df[\"y\"],XY[:,0],XY[:,1],np.absolute(total),\"$u_{tot}$ : abs\",cmap)\n",
    "\n",
    "    plt.tight_layout()\n",
    "    sol_png = file_dir+\"solution-\"+suffix+\".png\"\n",
    "    plt.savefig(sol_png)\n",
    "    \n",
    "    j += 1\n",
    "\n",
    "    plt.show()\n"
   ]
  },
  {
   "cell_type": "markdown",
   "metadata": {},
   "source": [
    "## Norm"
   ]
  },
  {
   "cell_type": "code",
   "execution_count": 50,
   "metadata": {
    "code_folding": [
     0
    ]
   },
   "outputs": [],
   "source": [
    "#function\n",
    "x0 = 0.0\n",
    "y0 = 0.0\n",
    "a = 1.0\n",
    "b = 1.0\n",
    "radius = 1.0\n",
    "def func(t):\n",
    "    #print(cpz)\n",
    "    cpx = a*np.cos(2*np.pi*t)+x0#np.random.rand(N)\n",
    "    cpy = b*np.sin(2*np.pi*t)+y0#np.random.rand(N)\n",
    "    out = np.zeros(shape=(len(t),2))\n",
    "    for i in range(len(t)):\n",
    "        out[i,0] = cpx[i]\n",
    "        out[i,1] = cpy[i]\n",
    "    return out"
   ]
  },
  {
   "cell_type": "code",
   "execution_count": 51,
   "metadata": {
    "code_folding": [
     0
    ]
   },
   "outputs": [
    {
     "ename": "NameError",
     "evalue": "name 'pd' is not defined",
     "output_type": "error",
     "traceback": [
      "\u001b[1;31m---------------------------------------------------------------------------\u001b[0m",
      "\u001b[1;31mNameError\u001b[0m                                 Traceback (most recent call last)",
      "\u001b[1;32m<ipython-input-51-e377018eb957>\u001b[0m in \u001b[0;36m<module>\u001b[1;34m\u001b[0m\n\u001b[0;32m      1\u001b[0m \u001b[1;31m#LN\u001b[0m\u001b[1;33m\u001b[0m\u001b[1;33m\u001b[0m\u001b[1;33m\u001b[0m\u001b[0m\n\u001b[1;32m----> 2\u001b[1;33m \u001b[0mLN\u001b[0m \u001b[1;33m=\u001b[0m \u001b[0mpd\u001b[0m\u001b[1;33m.\u001b[0m\u001b[0mDataFrame\u001b[0m\u001b[1;33m(\u001b[0m\u001b[0mdata\u001b[0m\u001b[1;33m=\u001b[0m\u001b[0mLebesgue_norm\u001b[0m\u001b[1;33m,\u001b[0m\u001b[0mindex\u001b[0m\u001b[1;33m=\u001b[0m\u001b[0mN_arr_2\u001b[0m\u001b[1;33m,\u001b[0m\u001b[0mcolumns\u001b[0m\u001b[1;33m=\u001b[0m\u001b[0mn_arr\u001b[0m\u001b[1;33m)\u001b[0m\u001b[1;33m\u001b[0m\u001b[1;33m\u001b[0m\u001b[0m\n\u001b[0m\u001b[0;32m      3\u001b[0m \u001b[0mLN\u001b[0m\u001b[1;33m.\u001b[0m\u001b[0mto_csv\u001b[0m\u001b[1;33m(\u001b[0m\u001b[1;34m\"files/BEM/circle-convergence/lebesgue_norm.csv\"\u001b[0m\u001b[1;33m,\u001b[0m\u001b[0mindex_label\u001b[0m\u001b[1;33m=\u001b[0m\u001b[1;34m\"index\"\u001b[0m\u001b[1;33m)\u001b[0m\u001b[1;33m\u001b[0m\u001b[1;33m\u001b[0m\u001b[0m\n\u001b[0;32m      4\u001b[0m \u001b[0mLN\u001b[0m\u001b[1;33m.\u001b[0m\u001b[0mhead\u001b[0m\u001b[1;33m(\u001b[0m\u001b[1;33m)\u001b[0m\u001b[1;33m\u001b[0m\u001b[1;33m\u001b[0m\u001b[0m\n",
      "\u001b[1;31mNameError\u001b[0m: name 'pd' is not defined"
     ]
    }
   ],
   "source": [
    "#LN\n",
    "LN = pd.DataFrame(data=Lebesgue_norm,index=N_arr_2,columns=n_arr)\n",
    "LN.to_csv(\"files/BEM/circle-convergence/lebesgue_norm.csv\",index_label=\"index\")\n",
    "LN.head()"
   ]
  },
  {
   "cell_type": "code",
   "execution_count": null,
   "metadata": {
    "code_folding": [
     0
    ]
   },
   "outputs": [],
   "source": [
    "#LNv\n",
    "LNv = pd.DataFrame(data=Lebesgue_norm_var,index=N_arr_2,columns=n_arr)\n",
    "LNv.to_csv(\"files/BEM/circle-convergence/lebesgue_norm_var.csv\",index_label=\"index\")\n",
    "LNv.head()"
   ]
  },
  {
   "cell_type": "code",
   "execution_count": null,
   "metadata": {
    "code_folding": [
     0
    ]
   },
   "outputs": [],
   "source": [
    "#calcolo la norma\n",
    "def get_float(txt):\n",
    "    return re.findall(\"[^a-zA-Z:]([-+]?\\d+[\\.]?\\d*)\", txt)\n",
    "\n",
    "#\n",
    "#i = 0\n",
    "#n = 4\n",
    "N_arr_2 = list(np.arange(10,21))+list(np.arange(30,110,10))\n",
    "n_arr = [4]\n",
    "Lebesgue_norm = np.zeros((len(N_arr_2),len(n_arr)))\n",
    "Lebesgue_norm_var = np.zeros((len(N_arr_2),len(n_arr)))\n",
    "\n",
    "for k in range(len(n_arr)):\n",
    "    for i in range(0,len(N_arr_2)):    \n",
    "\n",
    "        N = N_arr_2[i]\n",
    "        n = n_arr[k]\n",
    "        count = str(k)+\"/\"+str(i)+\"       \"\n",
    "\n",
    "        print(count,end=\"\\r\")\n",
    "\n",
    "        #\n",
    "        file_dir = \"files/BEM/circle-convergence/n=\"+str(n)+\"/\"\n",
    "        suffix = \"P=\"+str(P)+\"-N=\"+str(N)+\"-k=\"+str(wavevector)+\"-n=\"+str(n)\n",
    "\n",
    "        df = pd.read_csv(file_dir+\"grafico-plane_wave-\"+suffix+\".csv\")\n",
    "        df.set_index(\"index\",drop=True,inplace=True)\n",
    "        df[\"inc\"]  = [np.complex(j) for j in df[\"inc\"]]\n",
    "        df[\"scat\"] = [np.complex(j) for j in df[\"scat\"]]\n",
    "        df[\"tot\"]  = [np.complex(j) for j in df[\"tot\"]]\n",
    "\n",
    "        #\n",
    "        kv = Bs.periodic_kv(xminBs,xmaxBs,p=P,n=N)\n",
    "\n",
    "        #alloco la Bspline\n",
    "        bs = Bs.Bspline(sh,[kv],properties={\"periodic\":[True]})\n",
    "\n",
    "        t = np.linspace(0,1,N+1,endpoint=True)#[0:-2]\n",
    "        cp = func(t)\n",
    "        for j in range(len(t)):\n",
    "            bs.set_cp(j,cp[j])\n",
    "\n",
    "        #\n",
    "        T = np.linspace(xminBs,xmaxBs,1000,endpoint=True)\n",
    "        xy   = bs.evaluate(T)\n",
    "        uinc = plane_wave(xy)\n",
    "\n",
    "        #\n",
    "        XY = np.asarray([ get_float(j) for j in df[\"xy\"] ]).astype(float)\n",
    "\n",
    "        analytic_pd,analytic = esFFT.analytic_solution_circle(uinc,XY,wmin=-20,wmax=20,radius=radius,\\\n",
    "                                                              wavevector=wavevector,opts={\"return\":\"both\"})\n",
    "        \n",
    "        analytic_pd.to_csv(file_dir+\"analytic-solution-plane_wave-\"+suffix+\".csv\",index_label=index)\n",
    "\n",
    "        df[\"diff\"] = df[\"scat\"] - analytic\n",
    "\n",
    "        #print(i)\n",
    "        #Lebesgue_norm[i,k] = np.mean(np.absolute(df[\"diff\"])**2)\n",
    "        #Lebesgue_norm_var[i,k] = np.var(np.absolute(df[\"diff\"])**2)\n",
    "        \n",
    "        LN.at[i,k] = np.mean(np.absolute(df[\"diff\"])**2)\n",
    "        LNv.at[i,k] = np.var(np.absolute(df[\"diff\"])**2)\n",
    "        \n",
    "print(\"Finished\")"
   ]
  },
  {
   "cell_type": "code",
   "execution_count": null,
   "metadata": {
    "code_folding": [
     0
    ]
   },
   "outputs": [],
   "source": [
    "#LN = pd.DataFrame(data=Lebesgue_norm,index=N_arr_2,columns=n_arr)\n",
    "LN.to_csv(\"files/BEM/circle-convergence/lebesgue_norm.csv\",index_label=\"index\")\n",
    "LN.head()"
   ]
  },
  {
   "cell_type": "code",
   "execution_count": null,
   "metadata": {
    "code_folding": [
     0
    ]
   },
   "outputs": [],
   "source": [
    "#LNv = pd.DataFrame(data=Lebesgue_norm_var,index=N_arr_2,columns=n_arr)\n",
    "LNv.to_csv(\"files/BEM/circle-convergence/lebesgue_norm_var.csv\",index_label=\"index\")\n",
    "LNv.head()"
   ]
  },
  {
   "cell_type": "markdown",
   "metadata": {},
   "source": [
    "## Grafico"
   ]
  },
  {
   "cell_type": "code",
   "execution_count": 52,
   "metadata": {
    "code_folding": [
     0
    ]
   },
   "outputs": [
    {
     "ename": "NameError",
     "evalue": "name 'pd' is not defined",
     "output_type": "error",
     "traceback": [
      "\u001b[1;31m---------------------------------------------------------------------------\u001b[0m",
      "\u001b[1;31mNameError\u001b[0m                                 Traceback (most recent call last)",
      "\u001b[1;32m<ipython-input-52-bc60d5bad0b0>\u001b[0m in \u001b[0;36m<module>\u001b[1;34m\u001b[0m\n\u001b[0;32m      1\u001b[0m \u001b[1;31m#reading\u001b[0m\u001b[1;33m\u001b[0m\u001b[1;33m\u001b[0m\u001b[1;33m\u001b[0m\u001b[0m\n\u001b[1;32m----> 2\u001b[1;33m \u001b[0mLN\u001b[0m \u001b[1;33m=\u001b[0m \u001b[0mpd\u001b[0m\u001b[1;33m.\u001b[0m\u001b[0mread_csv\u001b[0m\u001b[1;33m(\u001b[0m\u001b[1;34m\"files/BEM/circle-convergence/lebesgue_norm.csv\"\u001b[0m\u001b[1;33m)\u001b[0m\u001b[1;33m\u001b[0m\u001b[1;33m\u001b[0m\u001b[0m\n\u001b[0m\u001b[0;32m      3\u001b[0m \u001b[0mLN\u001b[0m\u001b[1;33m.\u001b[0m\u001b[0mset_index\u001b[0m\u001b[1;33m(\u001b[0m\u001b[1;34m\"index\"\u001b[0m\u001b[1;33m,\u001b[0m\u001b[0mdrop\u001b[0m\u001b[1;33m=\u001b[0m\u001b[1;32mTrue\u001b[0m\u001b[1;33m,\u001b[0m\u001b[0minplace\u001b[0m\u001b[1;33m=\u001b[0m\u001b[1;32mTrue\u001b[0m\u001b[1;33m)\u001b[0m\u001b[1;33m\u001b[0m\u001b[1;33m\u001b[0m\u001b[0m\n\u001b[0;32m      4\u001b[0m \u001b[1;33m\u001b[0m\u001b[0m\n\u001b[0;32m      5\u001b[0m \u001b[0mLNv\u001b[0m \u001b[1;33m=\u001b[0m \u001b[0mpd\u001b[0m\u001b[1;33m.\u001b[0m\u001b[0mread_csv\u001b[0m\u001b[1;33m(\u001b[0m\u001b[1;34m\"files/BEM/circle-convergence/lebesgue_norm_var.csv\"\u001b[0m\u001b[1;33m)\u001b[0m\u001b[1;33m\u001b[0m\u001b[1;33m\u001b[0m\u001b[0m\n",
      "\u001b[1;31mNameError\u001b[0m: name 'pd' is not defined"
     ]
    }
   ],
   "source": [
    "#reading\n",
    "LN = pd.read_csv(\"files/BEM/circle-convergence/lebesgue_norm.csv\")\n",
    "LN.set_index(\"index\",drop=True,inplace=True)\n",
    "\n",
    "LNv = pd.read_csv(\"files/BEM/circle-convergence/lebesgue_norm_var.csv\")\n",
    "LNv.set_index(\"index\",drop=True,inplace=True)"
   ]
  },
  {
   "cell_type": "code",
   "execution_count": null,
   "metadata": {
    "code_folding": [
     0
    ]
   },
   "outputs": [],
   "source": [
    "#grafico\n",
    "fig = plt.figure(figsize=(15,5))\n",
    "\n",
    "#\n",
    "ax = fig.add_subplot(111)\n",
    "ax.errorbar(LN.index,LN[\"4\"],yerr=LNv[\"4\"],color=\"blue\",label=\"n=4\",linestyle=\"--\",marker=\".\")\n",
    "ax.errorbar(LN.index,LN[\"6\"],yerr=LNv[\"6\"],color=\"green\",label=\"n=6\",linestyle=\"--\",marker=\".\")\n",
    "ax.errorbar(LN.index,LN[\"8\"],yerr=LNv[\"8\"],color=\"red\",label=\"n=8\",linestyle=\"--\",marker=\".\")\n",
    "#ax.scatter(N_arr_2,Lebesgue_norm,color=\"red\",label=\"calculations\")\n",
    "#plt.xlim(8,41)\n",
    "plt.grid(True)\n",
    "plt.xlabel(\"d.o.f.\")\n",
    "plt.ylabel(\"Lebesgue norm $L^2$\")\n",
    "plt.legend()\n",
    "plt.title(\"Convergence\")\n",
    "\n",
    "plt.show()"
   ]
  },
  {
   "cell_type": "code",
   "execution_count": null,
   "metadata": {},
   "outputs": [],
   "source": []
  }
 ],
 "metadata": {
  "kernelspec": {
   "display_name": "Python 3",
   "language": "python",
   "name": "python3"
  },
  "language_info": {
   "codemirror_mode": {
    "name": "ipython",
    "version": 3
   },
   "file_extension": ".py",
   "mimetype": "text/x-python",
   "name": "python",
   "nbconvert_exporter": "python",
   "pygments_lexer": "ipython3",
   "version": "3.8.3"
  },
  "latex_envs": {
   "LaTeX_envs_menu_present": true,
   "autoclose": true,
   "autocomplete": true,
   "bibliofile": "biblio.bib",
   "cite_by": "apalike",
   "current_citInitial": 1,
   "eqLabelWithNumbers": true,
   "eqNumInitial": 1,
   "hotkeys": {
    "equation": "Ctrl-E",
    "itemize": "Ctrl-I"
   },
   "labels_anchors": false,
   "latex_user_defs": false,
   "report_style_numbering": false,
   "user_envs_cfg": false
  },
  "toc": {
   "base_numbering": 1,
   "nav_menu": {},
   "number_sections": true,
   "sideBar": true,
   "skip_h1_title": false,
   "title_cell": "Table of Contents",
   "title_sidebar": "Contents",
   "toc_cell": false,
   "toc_position": {
    "height": "446px",
    "left": "244px",
    "top": "128px",
    "width": "212.733px"
   },
   "toc_section_display": true,
   "toc_window_display": true
  },
  "varInspector": {
   "cols": {
    "lenName": 16,
    "lenType": 16,
    "lenVar": 40
   },
   "kernels_config": {
    "python": {
     "delete_cmd_postfix": "",
     "delete_cmd_prefix": "del ",
     "library": "var_list.py",
     "varRefreshCmd": "print(var_dic_list())"
    },
    "r": {
     "delete_cmd_postfix": ") ",
     "delete_cmd_prefix": "rm(",
     "library": "var_list.r",
     "varRefreshCmd": "cat(var_dic_list()) "
    }
   },
   "position": {
    "height": "144.85px",
    "left": "997px",
    "right": "20px",
    "top": "120px",
    "width": "350px"
   },
   "types_to_exclude": [
    "module",
    "function",
    "builtin_function_or_method",
    "instance",
    "_Feature"
   ],
   "window_display": false
  }
 },
 "nbformat": 4,
 "nbformat_minor": 4
}
