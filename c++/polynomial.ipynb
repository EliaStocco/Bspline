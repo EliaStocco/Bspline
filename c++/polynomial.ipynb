{
 "cells": [
  {
   "cell_type": "code",
   "execution_count": 1,
   "metadata": {},
   "outputs": [],
   "source": [
    ".include header"
   ]
  },
  {
   "cell_type": "markdown",
   "metadata": {},
   "source": [
    "Copiarlo a mano"
   ]
  },
  {
   "cell_type": "code",
   "execution_count": null,
   "metadata": {
    "code_folding": []
   },
   "outputs": [],
   "source": [
    "%%file header/polynomial.h\n",
    "#pragma once\n",
    "\n",
    "#include <vector>\n",
    "#include <iostream>\n",
    "#include <stdexcept>\n",
    "#include <memory>\n",
    "#include <string>\n",
    "#include <set>\n",
    "\n",
    "#include \"eliastocco_namespace_polynomial.h\"\n",
    "#include \"default_basis.h\"\n",
    "#include \"basis.h\"\n",
    "#include \"evaluate.h\"\n",
    "//#include \"Rosetta-Code-fft.h\"\n",
    "\n",
    "namespace eliastocco {\n",
    "\n",
    "    namespace polynomial {\n",
    "    \n",
    "            template < class type , t_dim dimension , t_dim codimension >\n",
    "                class polynomial {\n",
    "\n",
    "                    #define thisclass polynomial<type,dimension,codimension>    \n",
    "                    \n",
    "                    public :\n",
    "                        typedef t_var<type,codimension> Type_out;\n",
    "                        typedef t_var<type,  dimension> Type_in;\n",
    "\n",
    "                    //default constructor\n",
    "                    public :\n",
    "                        thisclass () noexcept \n",
    "                            : thisclass( &basis_function_default < type,dimension > ){};  \n",
    "\n",
    "                    public :\n",
    "                        thisclass ( basis<type,dimension> * user_basis_function ) noexcept\n",
    "                            : thisclass ( t_list<Type_out,dimension> () , \n",
    "                                            user_basis_function ){};\n",
    "                                            \n",
    "                 /*   public :\n",
    "                        thisclass ( t_coeff_array<type,dimension,codimension> coe,\n",
    "                                    basis<type,dimension> * user_basis_function ,\n",
    "                                    t_eval<type,dimension,codimension> user_evaluate ) noexcept\n",
    "                            : thisclass ( t_list<Type_out,dimension> () , \n",
    "                                            user_basis_function , user_evaluate ){                                            \n",
    "                                            \n",
    "                                        _coeffs = coe ;\n",
    "                                        \n",
    "                                    };    \n",
    "                                         */   \n",
    "                                        \n",
    "                                            \n",
    "                     public :\n",
    "                        thisclass ( basis<type,dimension> * user_basis_function ,\n",
    "                                    t_eval<type,dimension,codimension> user_evaluate ) noexcept\n",
    "                            : thisclass ( t_list<Type_out,dimension> () , \n",
    "                                            user_basis_function , user_evaluate ){};\n",
    "\n",
    "                    //list : lista dei coefficienti\n",
    "                    //user constructor                 \n",
    "                    public :\n",
    "                        thisclass (const t_list<Type_out,dimension> list) noexcept \n",
    "                            : thisclass( list , \n",
    "                                    &eliastocco :: polynomial :: basis_function_default < type,dimension > ){};\n",
    "                                    \n",
    " \n",
    "                         \n",
    "                    public :\n",
    "                        thisclass ( const t_list<Type_out,dimension> list,\n",
    "                                        basis<type,dimension> * user_basis_function ) noexcept \n",
    "                                : thisclass ( list , \n",
    "                                    user_basis_function ,\n",
    "                                        eliastocco :: polynomial :: \n",
    "                                            default_polynomial_evaluation<type,dimension,codimension> ) {};\n",
    "                        \n",
    "                //user constructor\n",
    "                    public :\n",
    "                        thisclass ( const t_list<Type_out,dimension> list,\n",
    "                                        basis<type,dimension> * user_basis_function ,\n",
    "                                        const t_eval<type,dimension,codimension> user_evaluate ) noexcept \n",
    "                            : _basis_function (user_basis_function),\n",
    "                                _coeffs(),\n",
    "                                evaluate_lambda(user_evaluate) {  \n",
    "\n",
    "                            for ( auto it = list.begin(); it != list.end(); ++it){ _coeffs.insert((*it)); }\n",
    "\n",
    "                        };\n",
    "\n",
    "//********************************************************************************************************************\n",
    "\n",
    "                    public :\n",
    "                        Type_out get ( const t_deg < dimension > index , const bool check = true ) const { \n",
    "                        \n",
    "                            //Type_out a = Type_out();\n",
    "                            try { \n",
    "                                return _coeffs.at(index);                                 \n",
    "                            } catch ( std::out_of_range e ){  \n",
    "                            \n",
    "                                if ( check ){\n",
    "                                    std :: cout << \"error : polynomial.get\" << std :: endl;\n",
    "                                    std :: cout << e.what()<< std :: endl;  \n",
    "                                }\n",
    "                                return Type_out();\n",
    "                            } \n",
    "                            //return a;\n",
    "                            \n",
    "                        };\n",
    "                 \n",
    "                    public : // piccola modifica\n",
    "                        bool set (const t_deg < dimension > index, const Type_out value , const bool check = true ) {\n",
    "\n",
    "                            try { \n",
    "                                (*_basis_function)[index]; \n",
    "                            } catch ( std::out_of_range e ){  \n",
    "                                if ( check ){\n",
    "                                    std :: cout << \"error : polynomial.set\" << std :: endl;\n",
    "                                    std :: cout << e.what()<< std :: endl;  \n",
    "                                    return false;\n",
    "                                }\n",
    "                            } \n",
    "\n",
    "                            _coeffs[index]=value; \n",
    "\n",
    "                            return true;\n",
    "\n",
    "                        };\n",
    "                        \n",
    "//********************************************************************************************************************\n",
    "                     public :\n",
    "                        inline void clear () { _coeffs.clear () ; }\n",
    "                        \n",
    "//********************************************************************************************************************\n",
    "\n",
    "                    public :\n",
    "                        inline auto coeffs () const { return _coeffs; }\n",
    "                        inline auto basis () const { return *_basis_function; }\n",
    "                       \n",
    "                        template < template < class ... > class vect = std :: vector >\n",
    "                            vect < Type_out > all_coeffs () const {\n",
    "                        \n",
    "                                vect < Type_out >  output (_basis_function->size());\n",
    "\n",
    "                                for ( auto i = 0 ; i < output.size() ; ++ i ){                            \n",
    "                                    output[i] = get(i,false);                                \n",
    "                                }\n",
    "\n",
    "                                return output;\n",
    "                        \n",
    "                        };\n",
    "//********************************************************************************************************************\n",
    "\n",
    "                     public : \n",
    "                        friend thisclass multiply \n",
    "                            (   const thisclass left ,\n",
    "                                const thisclass right )  {\n",
    "                                                                      \n",
    "                            //ridefinisco il prodotto tra polinomi\n",
    "                            // I tried the FFT way but I failed\n",
    "\n",
    "                            // dovrei controllare che i polinomi siano definiti rispetto alla stessa base\n",
    "                            if ( left._basis_function != right._basis_function ) {\n",
    "                                assert (\"polynomial :: operator * error; coeff array with different basis\" );\n",
    "                            }\n",
    "                            auto basis = left._basis_function ;\n",
    "                            // questo metodo di moltiplicare i polinomi funziona solo per polinomi definiti\n",
    "                            // rispetto ad una base di monomi\n",
    "                            // per adesso non aggiungo nessun controllo sul \"tipo di base\"\n",
    "                            // perché dovrei implementare ancora tutto\n",
    "\n",
    "                            // la condizione su dimension può essere indebolita\n",
    "                            // ma per ora implementiamo la moltiplicazione fra polinomi\n",
    "                            // solo nel caso 1D \n",
    "                            static_assert ( codimension == 1 and dimension == 1 );\n",
    "\n",
    "                            // creo un polinomio e gli assegno i coefficienti calcolati\n",
    "                            // solo se questi non sono nulli, \n",
    "                            // per ottimizzare spazio e rendere l'output più leggibile\n",
    "                            thisclass output ( basis ) ;\n",
    "\n",
    "                            // ciclo sui coefficienti dei due polinomi\n",
    "                            auto L_c = left.coeffs();\n",
    "                            auto R_c = right.coeffs();\n",
    "\n",
    "                            // ciclo sui coefficienti di left\n",
    "                            for ( auto l = L_c.begin() ; l != L_c.end() ; ++l ){\n",
    "\n",
    "                                auto l_deg   = (*l).first;\n",
    "                                auto l_coeff = (*l).second;\n",
    "\n",
    "                                // ciclo sui coefficienti di right\n",
    "                                for ( auto r = R_c.begin() ; r != R_c.end() ; ++r ){\n",
    "\n",
    "                                    auto r_deg   = (*r).first;\n",
    "                                    auto r_coeff = (*r).second;\n",
    "\n",
    "                                    auto degree = l_deg + r_deg;\n",
    "\n",
    "                                    auto prev = output.get(degree,false);\n",
    "\n",
    "                                    output.set(degree, prev + l_coeff*r_coeff );\n",
    "\n",
    "                                }                        \n",
    "                            }\n",
    "\n",
    "                            return output;\n",
    "                        \n",
    "                        };                       \n",
    "                            \n",
    "                    //polynomial multiplication\n",
    "                    public :\n",
    "                        //typename std::enable_if < codimension == 1 and dimension == 1 , thisclass > :: type \n",
    "                        friend thisclass operator * ( const thisclass left , const thisclass right ){                        \n",
    "                            return multiply(left,right) ;\n",
    "                        }; \n",
    "                        \n",
    "//********************************************************************************************************************\n",
    "                    \n",
    "                    // moltiplicazione per uno scalare\n",
    "                    public :\n",
    "                        friend thisclass operator * ( const type factor , const thisclass right ){                        \n",
    "                            \n",
    "                            auto output = right;                            \n",
    "                            auto coeffs = output.coeffs();\n",
    "                            \n",
    "                            for ( auto it = coeffs.begin() ; it != coeffs.end() ; ++it ){                                \n",
    "                                auto deg = (*it).first;\n",
    "                                auto coe = (*it).second;\n",
    "                                output.set(deg, coe*factor);                            \n",
    "                            }\n",
    "                            \n",
    "                            return output;\n",
    "                            \n",
    "                        };\n",
    "                            \n",
    "//********************************************************************************************************************\n",
    "                                            \n",
    "                    // somma tra due polinomi\n",
    "                    public :\n",
    "                        friend thisclass operator + ( const thisclass left , const thisclass right ){ \n",
    "                            //std :: cout << \"polynomial :: operator +\" << std :: endl;\n",
    "                            // dovrei controllare che i polinomi siano definiti rispetto alla stessa base\n",
    "                            if ( left._basis_function != right._basis_function ) {\n",
    "                                assert (\"polynomial :: operator * error; coeff array with different basis\" );\n",
    "                            }\n",
    "                            auto basis = left._basis_function ;\n",
    "                        \n",
    "                            std :: set < t_deg < dimension > > degree;\n",
    "                            \n",
    "                            auto L_c = left.coeffs();\n",
    "                            auto R_c = right.coeffs();\n",
    "                            \n",
    "                            //left\n",
    "                            for  (auto it = L_c.begin(); it != L_c.end(); ++it ){\n",
    "                                degree.insert((*it).first);\n",
    "                            }\n",
    "                            //right\n",
    "                            for  (auto it = R_c.begin(); it != R_c.end(); ++it ){\n",
    "                                degree.insert((*it).first);\n",
    "                            }\n",
    "                            \n",
    "                            //degree contiene tutti e solo i gradi del nuovo polinomio                            \n",
    "                            thisclass output (basis);\n",
    "                            \n",
    "                            for (auto it = degree.begin(); it != degree.end();++it){\n",
    "                                auto deg = (*it);\n",
    "                                //auto left_c  = left.get(deg,false);\n",
    "                                //auto right_c = right.get(deg,false);\n",
    "                                output.set(deg,0.0/*left_c+right_c*/);\n",
    "                            }\n",
    "                            \n",
    "                            return output;\n",
    "                            \n",
    "                        };\n",
    "\n",
    "//********************************************************************************************************************\n",
    "                    //valutazione del polinomio in x\n",
    "                    public :\n",
    "                        Type_out operator () ( const Type_in x ) const {\n",
    "                        \n",
    "                            //std :: cout << \"polynomial operator()\" << std :: endl;\n",
    "                        \n",
    "                            return evaluate_lambda(_coeffs,*_basis_function,x);\n",
    "                            //auto a = _basis_function -> evaluate(_coeffs,x);\n",
    "                        \n",
    "                            //return _basis_function -> evaluate(_coeffs,x);\n",
    "                            //return (*_basis_function).evaluate (_coeffs,x); \n",
    "                        }; \n",
    "                        \n",
    "                    //vectorized polinomial evaluation\n",
    "                    public :\n",
    "                    template < template < class ... > class vect = std :: vector >\n",
    "                        vect <Type_out> operator () ( const vect < Type_in > x ) const { \n",
    "                            vect <Type_out> y (x.size());\n",
    "                            std :: transform( std :: begin(x), std :: end(x), std :: begin(y),\n",
    "                                [&]( auto a ) {return (*this)(a);});   \n",
    "                            return y;\n",
    "\n",
    "                        }; \n",
    "                        \n",
    "//********************************************************************************************************************\n",
    "\n",
    "                    private :                \n",
    "                        eliastocco :: polynomial :: basis <type,dimension> * _basis_function;\n",
    "                        t_coeff_array <type,dimension,codimension> _coeffs;\n",
    "                        \n",
    "                    private :\n",
    "                        t_eval<type,dimension,codimension> evaluate_lambda;\n",
    "\n",
    "                    #undef thisclass                \n",
    "\n",
    "                };\n",
    "                \n",
    "       \n",
    "    }\n",
    "}"
   ]
  },
  {
   "cell_type": "code",
   "execution_count": 2,
   "metadata": {},
   "outputs": [],
   "source": [
    "#include \"polynomial.h\""
   ]
  },
  {
   "cell_type": "code",
   "execution_count": 3,
   "metadata": {},
   "outputs": [],
   "source": [
    "using namespace eliastocco :: polynomial;"
   ]
  },
  {
   "cell_type": "code",
   "execution_count": 4,
   "metadata": {},
   "outputs": [],
   "source": [
    "t_eval<double,1,1> b = default_polynomial_evaluation<double,1,1>"
   ]
  },
  {
   "cell_type": "code",
   "execution_count": 5,
   "metadata": {},
   "outputs": [
    {
     "data": {
      "text/plain": [
       "@0x7f98ef820050"
      ]
     },
     "execution_count": 5,
     "metadata": {},
     "output_type": "execute_result"
    }
   ],
   "source": [
    "basis_function_default <double,1> = monomial_basis<double>(5)"
   ]
  },
  {
   "cell_type": "code",
   "execution_count": 6,
   "metadata": {},
   "outputs": [],
   "source": [
    "auto base =  monomial_basis<double>(5)"
   ]
  },
  {
   "cell_type": "code",
   "execution_count": 7,
   "metadata": {
    "scrolled": true
   },
   "outputs": [],
   "source": [
    "polynomial <double,1,1> A (&base)"
   ]
  },
  {
   "cell_type": "code",
   "execution_count": 8,
   "metadata": {},
   "outputs": [],
   "source": [
    "polynomial <double,1,1> B (&base)"
   ]
  },
  {
   "cell_type": "code",
   "execution_count": 9,
   "metadata": {},
   "outputs": [
    {
     "data": {
      "text/plain": [
       "true"
      ]
     },
     "execution_count": 9,
     "metadata": {},
     "output_type": "execute_result"
    }
   ],
   "source": [
    "A.set(0,2); // 2\n",
    "A.set(1,1); // x\n",
    "B.set(1,1); // x "
   ]
  },
  {
   "cell_type": "code",
   "execution_count": 12,
   "metadata": {},
   "outputs": [
    {
     "data": {
      "text/plain": [
       "{ 5.0000000, 4.0000000 }"
      ]
     },
     "execution_count": 12,
     "metadata": {},
     "output_type": "execute_result"
    }
   ],
   "source": [
    "A({3.0,2.0})"
   ]
  },
  {
   "cell_type": "code",
   "execution_count": 11,
   "metadata": {},
   "outputs": [],
   "source": [
    "auto base_2D =  monomial_basis<double,2>({5,5})"
   ]
  },
  {
   "cell_type": "code",
   "execution_count": 12,
   "metadata": {},
   "outputs": [],
   "source": [
    "polynomial <double,2,1> b_2D (&base_2D)"
   ]
  },
  {
   "cell_type": "code",
   "execution_count": 13,
   "metadata": {},
   "outputs": [],
   "source": [
    "b_2D.set({0,0},1.0);\n",
    "b_2D.set({1,0},2.0);\n",
    "b_2D.set({0,1},5.0);"
   ]
  },
  {
   "cell_type": "code",
   "execution_count": 14,
   "metadata": {},
   "outputs": [
    {
     "data": {
      "text/plain": [
       "24.000000"
      ]
     },
     "execution_count": 14,
     "metadata": {},
     "output_type": "execute_result"
    }
   ],
   "source": [
    "b_2D({4.0,3.0})"
   ]
  },
  {
   "cell_type": "code",
   "execution_count": 15,
   "metadata": {},
   "outputs": [],
   "source": [
    "polynomial <double,2,3> b_2D_to_3D (&base_2D)"
   ]
  },
  {
   "cell_type": "code",
   "execution_count": 16,
   "metadata": {},
   "outputs": [],
   "source": [
    "b_2D_to_3D.set({0,0},{1.0,3.0,4.0});\n",
    "b_2D_to_3D.set({1,0},{1.0,3.0,4.0});\n",
    "b_2D_to_3D.set({0,1},{1.0,3.0,4.0});"
   ]
  },
  {
   "cell_type": "code",
   "execution_count": 17,
   "metadata": {},
   "outputs": [
    {
     "data": {
      "text/plain": [
       "@0x7ffffbab7070"
      ]
     },
     "execution_count": 17,
     "metadata": {},
     "output_type": "execute_result"
    }
   ],
   "source": [
    "b_2D_to_3D({2.0,4.5})"
   ]
  },
  {
   "cell_type": "code",
   "execution_count": 10,
   "metadata": {},
   "outputs": [
    {
     "data": {
      "text/plain": [
       "{ 0 => 2.0000000, 1 => 1.0000000 }"
      ]
     },
     "execution_count": 10,
     "metadata": {},
     "output_type": "execute_result"
    }
   ],
   "source": [
    "A.coeffs() // 2+x"
   ]
  },
  {
   "cell_type": "code",
   "execution_count": 11,
   "metadata": {},
   "outputs": [
    {
     "data": {
      "text/plain": [
       "{ 0 => 6.0000000, 1 => 3.0000000 }"
      ]
     },
     "execution_count": 11,
     "metadata": {},
     "output_type": "execute_result"
    }
   ],
   "source": [
    "(3*A).coeffs() // 2+x"
   ]
  },
  {
   "cell_type": "code",
   "execution_count": 12,
   "metadata": {},
   "outputs": [
    {
     "data": {
      "text/plain": [
       "{ 1 => 1.0000000 }"
      ]
     },
     "execution_count": 12,
     "metadata": {},
     "output_type": "execute_result"
    }
   ],
   "source": [
    "B.coeffs() // x"
   ]
  },
  {
   "cell_type": "code",
   "execution_count": 13,
   "metadata": {},
   "outputs": [
    {
     "data": {
      "text/plain": [
       "{ 1 => 2.0000000, 2 => 1.0000000 }"
      ]
     },
     "execution_count": 13,
     "metadata": {},
     "output_type": "execute_result"
    }
   ],
   "source": [
    "auto C = A*B; //2x + x^2\n",
    "C.coeffs()"
   ]
  },
  {
   "cell_type": "code",
   "execution_count": 14,
   "metadata": {},
   "outputs": [
    {
     "data": {
      "text/plain": [
       "{ 1 => 2.0000000, 2 => 1.0000000 }"
      ]
     },
     "execution_count": 14,
     "metadata": {},
     "output_type": "execute_result"
    }
   ],
   "source": [
    "C.coeffs()"
   ]
  },
  {
   "cell_type": "code",
   "execution_count": 15,
   "metadata": {},
   "outputs": [
    {
     "data": {
      "text/plain": [
       "true"
      ]
     },
     "execution_count": 15,
     "metadata": {},
     "output_type": "execute_result"
    }
   ],
   "source": [
    "A.clear();\n",
    "B.clear();\n",
    "A.set(2,3); // 3x^2\n",
    "B.set(1,4); // 4x"
   ]
  },
  {
   "cell_type": "code",
   "execution_count": 16,
   "metadata": {},
   "outputs": [
    {
     "data": {
      "text/plain": [
       "{ 3 => 12.000000 }"
      ]
     },
     "execution_count": 16,
     "metadata": {},
     "output_type": "execute_result"
    }
   ],
   "source": [
    "C=A*B; //12x^3\n",
    "C.coeffs()"
   ]
  },
  {
   "cell_type": "code",
   "execution_count": 17,
   "metadata": {},
   "outputs": [],
   "source": [
    "auto D = multiply(A,B)"
   ]
  },
  {
   "cell_type": "code",
   "execution_count": 18,
   "metadata": {},
   "outputs": [],
   "source": [
    "auto E = A + B"
   ]
  },
  {
   "cell_type": "code",
   "execution_count": 19,
   "metadata": {},
   "outputs": [
    {
     "data": {
      "text/plain": [
       "{ 2 => 3.0000000 }"
      ]
     },
     "execution_count": 19,
     "metadata": {},
     "output_type": "execute_result"
    }
   ],
   "source": [
    "A.coeffs()"
   ]
  },
  {
   "cell_type": "code",
   "execution_count": 20,
   "metadata": {},
   "outputs": [
    {
     "data": {
      "text/plain": [
       "{ 1 => 4.0000000 }"
      ]
     },
     "execution_count": 20,
     "metadata": {},
     "output_type": "execute_result"
    }
   ],
   "source": [
    "B.coeffs()"
   ]
  },
  {
   "cell_type": "code",
   "execution_count": 21,
   "metadata": {},
   "outputs": [
    {
     "data": {
      "text/plain": [
       "{ 1 => 0.0000000, 2 => 0.0000000 }"
      ]
     },
     "execution_count": 21,
     "metadata": {},
     "output_type": "execute_result"
    }
   ],
   "source": [
    "E.coeffs()"
   ]
  },
  {
   "cell_type": "code",
   "execution_count": 22,
   "metadata": {},
   "outputs": [
    {
     "data": {
      "text/plain": [
       "true"
      ]
     },
     "execution_count": 22,
     "metadata": {},
     "output_type": "execute_result"
    }
   ],
   "source": [
    "A.set(1,3.)"
   ]
  },
  {
   "cell_type": "code",
   "execution_count": 23,
   "metadata": {},
   "outputs": [
    {
     "data": {
      "text/plain": [
       "{ 2 => 12.000000, 3 => 12.000000 }"
      ]
     },
     "execution_count": 23,
     "metadata": {},
     "output_type": "execute_result"
    }
   ],
   "source": [
    "C=A*B;\n",
    "C.coeffs()"
   ]
  },
  {
   "cell_type": "code",
   "execution_count": 24,
   "metadata": {},
   "outputs": [
    {
     "data": {
      "text/plain": [
       "true"
      ]
     },
     "execution_count": 24,
     "metadata": {},
     "output_type": "execute_result"
    }
   ],
   "source": [
    "B.set(0,0);\n",
    "B.set(1,0);\n",
    "B.set(2,0);\n",
    "B.set(3,0);\n",
    "B.set(4,0)"
   ]
  },
  {
   "cell_type": "code",
   "execution_count": 25,
   "metadata": {},
   "outputs": [
    {
     "name": "stdout",
     "output_type": "stream",
     "text": [
      "error : polynomial.set\n",
      "map::at\n",
      "error : polynomial.set\n",
      "map::at\n",
      "error : polynomial.set\n",
      "map::at\n",
      "error : polynomial.set\n",
      "map::at\n",
      "error : polynomial.set\n",
      "map::at\n",
      "error : polynomial.set\n",
      "map::at\n"
     ]
    }
   ],
   "source": [
    "auto BB = B*B"
   ]
  },
  {
   "cell_type": "code",
   "execution_count": 26,
   "metadata": {},
   "outputs": [
    {
     "data": {
      "text/plain": [
       "{ 2 => 9.0000000, 3 => 18.000000, 4 => 9.0000000 }"
      ]
     },
     "execution_count": 26,
     "metadata": {},
     "output_type": "execute_result"
    }
   ],
   "source": [
    "(A*A).coeffs()"
   ]
  },
  {
   "cell_type": "markdown",
   "metadata": {},
   "source": [
    "Inizializzazione specificando prima tutte le componenti i-esime di tutti i control points"
   ]
  },
  {
   "cell_type": "code",
   "execution_count": 28,
   "metadata": {},
   "outputs": [
    {
     "name": "stderr",
     "output_type": "stream",
     "text": [
      "\u001b[1minput_line_52:2:10: \u001b[0m\u001b[0;1;31merror: \u001b[0m\u001b[1mexcess elements in scalar initializer\u001b[0m\n",
      " A.set(1,{2.0,3.0,0.0});\n",
      "\u001b[0;1;32m         ^   ~~~~~~~~~\n",
      "\u001b[0m\u001b[1mheader/polynomial.h:79:83: \u001b[0m\u001b[0;1;30mnote: \u001b[0mpassing argument to parameter 'value' here\u001b[0m\n",
      "                        bool set (const t_deg < dimension > index, const Type_out value , const bool check = true ) {\n",
      "\u001b[0;1;32m                                                                                  ^\n",
      "\u001b[0m\u001b[1minput_line_52:3:9: \u001b[0m\u001b[0;1;31merror: \u001b[0m\u001b[1mexcess elements in scalar initializer\u001b[0m\n",
      "A.set(0,{4.0,5.0,6.0})\n",
      "\u001b[0;1;32m        ^   ~~~~~~~~~\n",
      "\u001b[0m\u001b[1mheader/polynomial.h:79:83: \u001b[0m\u001b[0;1;30mnote: \u001b[0mpassing argument to parameter 'value' here\u001b[0m\n",
      "                        bool set (const t_deg < dimension > index, const Type_out value , const bool check = true ) {\n",
      "\u001b[0;1;32m                                                                                  ^\n",
      "\u001b[0m"
     ]
    },
    {
     "ename": "Interpreter Error",
     "evalue": "",
     "output_type": "error",
     "traceback": [
      "Interpreter Error: "
     ]
    }
   ],
   "source": [
    "A.set(1,{2.0,3.0,0.0});\n",
    "A.set(0,{4.0,5.0,6.0})"
   ]
  },
  {
   "cell_type": "code",
   "execution_count": 29,
   "metadata": {},
   "outputs": [
    {
     "name": "stderr",
     "output_type": "stream",
     "text": [
      "\u001b[1minput_line_53:2:10: \u001b[0m\u001b[0;1;31merror: \u001b[0m\u001b[1mexcess elements in scalar initializer\u001b[0m\n",
      " A.set(7,{4.0,5.0,6.0})\n",
      "\u001b[0;1;32m         ^   ~~~~~~~~~\n",
      "\u001b[0m\u001b[1mheader/polynomial.h:79:83: \u001b[0m\u001b[0;1;30mnote: \u001b[0mpassing argument to parameter 'value' here\u001b[0m\n",
      "                        bool set (const t_deg < dimension > index, const Type_out value , const bool check = true ) {\n",
      "\u001b[0;1;32m                                                                                  ^\n",
      "\u001b[0m"
     ]
    },
    {
     "ename": "Interpreter Error",
     "evalue": "",
     "output_type": "error",
     "traceback": [
      "Interpreter Error: "
     ]
    }
   ],
   "source": [
    "A.set(7,{4.0,5.0,6.0})"
   ]
  },
  {
   "cell_type": "code",
   "execution_count": null,
   "metadata": {},
   "outputs": [],
   "source": [
    "B.get(0)"
   ]
  },
  {
   "cell_type": "code",
   "execution_count": null,
   "metadata": {},
   "outputs": [],
   "source": [
    "B.get(0,true)"
   ]
  },
  {
   "cell_type": "code",
   "execution_count": null,
   "metadata": {},
   "outputs": [],
   "source": [
    "B.get(0,false)"
   ]
  },
  {
   "cell_type": "code",
   "execution_count": null,
   "metadata": {},
   "outputs": [],
   "source": [
    "B.set(1,3)"
   ]
  },
  {
   "cell_type": "code",
   "execution_count": null,
   "metadata": {},
   "outputs": [],
   "source": [
    "A.coeffs().size()"
   ]
  },
  {
   "cell_type": "code",
   "execution_count": null,
   "metadata": {},
   "outputs": [],
   "source": [
    "auto v = A.all_coeffs()"
   ]
  },
  {
   "cell_type": "code",
   "execution_count": null,
   "metadata": {},
   "outputs": [],
   "source": [
    "A.all_coeffs()"
   ]
  },
  {
   "cell_type": "code",
   "execution_count": null,
   "metadata": {},
   "outputs": [],
   "source": [
    "typeid(v).name()"
   ]
  },
  {
   "cell_type": "code",
   "execution_count": null,
   "metadata": {},
   "outputs": [],
   "source": [
    "auto V = A.all_coeffs<std::vector>()"
   ]
  },
  {
   "cell_type": "code",
   "execution_count": null,
   "metadata": {},
   "outputs": [],
   "source": [
    "auto vV = A.all_coeffs<std::valarray>()"
   ]
  },
  {
   "cell_type": "code",
   "execution_count": 30,
   "metadata": {},
   "outputs": [
    {
     "data": {
      "text/plain": [
       "18.000000"
      ]
     },
     "execution_count": 30,
     "metadata": {},
     "output_type": "execute_result"
    }
   ],
   "source": [
    "A(2.0)"
   ]
  },
  {
   "cell_type": "code",
   "execution_count": 22,
   "metadata": {},
   "outputs": [],
   "source": [
    "std :: vector <double> x = {2,3,4,5.0}"
   ]
  },
  {
   "cell_type": "code",
   "execution_count": 23,
   "metadata": {},
   "outputs": [],
   "source": [
    "auto out = A(x)"
   ]
  },
  {
   "cell_type": "code",
   "execution_count": 24,
   "metadata": {},
   "outputs": [],
   "source": [
    "auto ret = A({2,3,4})"
   ]
  },
  {
   "cell_type": "code",
   "execution_count": 27,
   "metadata": {},
   "outputs": [],
   "source": [
    "std :: valarray<std :: array <double,3>> val = A.operator()<std :: valarray>({2,3,4})"
   ]
  },
  {
   "cell_type": "code",
   "execution_count": 30,
   "metadata": {},
   "outputs": [],
   "source": [
    "std :: vector<std :: array <double,3>> Val = A({2,3,4})"
   ]
  },
  {
   "cell_type": "code",
   "execution_count": 31,
   "metadata": {},
   "outputs": [],
   "source": [
    "auto VAl = A({2,3,4})"
   ]
  },
  {
   "cell_type": "code",
   "execution_count": 32,
   "metadata": {},
   "outputs": [],
   "source": [
    "auto VAL = A.operator()<std :: valarray > ({2,3,4})"
   ]
  },
  {
   "cell_type": "code",
   "execution_count": 33,
   "metadata": {},
   "outputs": [],
   "source": [
    "auto VALL = A.operator()<std :: deque > ({2,3,4})"
   ]
  },
  {
   "cell_type": "markdown",
   "metadata": {},
   "source": [
    "Inizializzazione specificando le componenti un control points per volta"
   ]
  },
  {
   "cell_type": "code",
   "execution_count": 17,
   "metadata": {},
   "outputs": [
    {
     "data": {
      "text/plain": [
       "@0x7fffdca41980"
      ]
     },
     "execution_count": 17,
     "metadata": {},
     "output_type": "execute_result"
    }
   ],
   "source": [
    "C.get(0)"
   ]
  },
  {
   "cell_type": "markdown",
   "metadata": {},
   "source": [
    "Valutazione della Bspline\n",
    "\n",
    "Ricordarsi di inizializzare la base"
   ]
  },
  {
   "cell_type": "code",
   "execution_count": 16,
   "metadata": {},
   "outputs": [],
   "source": [
    "basis_function_default<double,1> = monomial_basis<double,1>(5);"
   ]
  },
  {
   "cell_type": "code",
   "execution_count": 17,
   "metadata": {},
   "outputs": [],
   "source": [
    "Bspline :: Bspline<double,1,3> BS"
   ]
  },
  {
   "cell_type": "code",
   "execution_count": 18,
   "metadata": {},
   "outputs": [
    {
     "name": "stdout",
     "output_type": "stream",
     "text": [
      "error: Bspline.get\n",
      "map::at\n"
     ]
    },
    {
     "data": {
      "text/plain": [
       "@0x7fffbbd755b0"
      ]
     },
     "execution_count": 18,
     "metadata": {},
     "output_type": "execute_result"
    }
   ],
   "source": [
    "BS.get(0)"
   ]
  },
  {
   "cell_type": "code",
   "execution_count": 19,
   "metadata": {},
   "outputs": [],
   "source": [
    "BS.set(0,{-1,1,0});"
   ]
  },
  {
   "cell_type": "code",
   "execution_count": 20,
   "metadata": {},
   "outputs": [
    {
     "data": {
      "text/plain": [
       "@0x7fffbc17f310"
      ]
     },
     "execution_count": 20,
     "metadata": {},
     "output_type": "execute_result"
    }
   ],
   "source": [
    "BS.get(0)"
   ]
  },
  {
   "cell_type": "code",
   "execution_count": 21,
   "metadata": {},
   "outputs": [],
   "source": [
    "BS.set(2,{2,3,4});"
   ]
  },
  {
   "cell_type": "code",
   "execution_count": 22,
   "metadata": {},
   "outputs": [
    {
     "data": {
      "text/plain": [
       "4.0000000"
      ]
     },
     "execution_count": 22,
     "metadata": {},
     "output_type": "execute_result"
    }
   ],
   "source": [
    "BS.get(2)[2]"
   ]
  },
  {
   "cell_type": "code",
   "execution_count": 23,
   "metadata": {},
   "outputs": [
    {
     "data": {
      "text/plain": [
       "7.0000000"
      ]
     },
     "execution_count": 23,
     "metadata": {},
     "output_type": "execute_result"
    }
   ],
   "source": [
    "BS.pol[0](2.0)"
   ]
  },
  {
   "cell_type": "code",
   "execution_count": 24,
   "metadata": {},
   "outputs": [
    {
     "data": {
      "text/plain": [
       "@0x7fffbc5ea1f0"
      ]
     },
     "execution_count": 24,
     "metadata": {},
     "output_type": "execute_result"
    }
   ],
   "source": [
    "BS(0.0)"
   ]
  },
  {
   "cell_type": "code",
   "execution_count": 25,
   "metadata": {},
   "outputs": [
    {
     "data": {
      "text/plain": [
       "{ @0x7fffbc6e9040, @0x7fffbc6e9058 }"
      ]
     },
     "execution_count": 25,
     "metadata": {},
     "output_type": "execute_result"
    }
   ],
   "source": [
    "BS({2.0,3.0})"
   ]
  },
  {
   "cell_type": "code",
   "execution_count": 26,
   "metadata": {},
   "outputs": [],
   "source": [
    "auto vect_Y = BS ( {2,3,4,5})"
   ]
  },
  {
   "cell_type": "code",
   "execution_count": 27,
   "metadata": {},
   "outputs": [
    {
     "data": {
      "text/plain": [
       "4"
      ]
     },
     "execution_count": 27,
     "metadata": {},
     "output_type": "execute_result"
    }
   ],
   "source": [
    "vect_Y.size()"
   ]
  },
  {
   "cell_type": "code",
   "execution_count": 28,
   "metadata": {},
   "outputs": [],
   "source": [
    "auto get = BS.get(0)"
   ]
  },
  {
   "cell_type": "code",
   "execution_count": 29,
   "metadata": {},
   "outputs": [],
   "source": [
    "auto get_v = BS.get_v(0)"
   ]
  },
  {
   "cell_type": "code",
   "execution_count": 30,
   "metadata": {},
   "outputs": [
    {
     "data": {
      "text/plain": [
       "3"
      ]
     },
     "execution_count": 30,
     "metadata": {},
     "output_type": "execute_result"
    }
   ],
   "source": [
    "get_v.size()"
   ]
  },
  {
   "cell_type": "code",
   "execution_count": 31,
   "metadata": {},
   "outputs": [
    {
     "data": {
      "text/plain": [
       "3"
      ]
     },
     "execution_count": 31,
     "metadata": {},
     "output_type": "execute_result"
    }
   ],
   "source": [
    "get.size()"
   ]
  },
  {
   "cell_type": "code",
   "execution_count": 32,
   "metadata": {},
   "outputs": [
    {
     "data": {
      "text/plain": [
       "true"
      ]
     },
     "execution_count": 32,
     "metadata": {},
     "output_type": "execute_result"
    }
   ],
   "source": [
    "BS.set(2,{1,2,3})"
   ]
  },
  {
   "cell_type": "code",
   "execution_count": 38,
   "metadata": {},
   "outputs": [
    {
     "ename": "Standard Exception",
     "evalue": "array::at: __n (which is 3) >= _Nm (which is 3)",
     "output_type": "error",
     "traceback": [
      "Standard Exception: array::at: __n (which is 3) >= _Nm (which is 3)"
     ]
    }
   ],
   "source": [
    "BS.get(2).at(3)"
   ]
  },
  {
   "cell_type": "code",
   "execution_count": null,
   "metadata": {},
   "outputs": [],
   "source": [
    "%%file header/polynomial.h\n",
    "#pragma once\n",
    "\n",
    "#include <vector>\n",
    "#include <iostream>\n",
    "#include <stdexcept>\n",
    "#include <memory>\n",
    "#include <string>\n",
    "#include <set>\n",
    "\n",
    "#include \"eliastocco_namespace_polynomial.h\"\n",
    "#include \"default_basis.h\"\n",
    "#include \"basis.h\"\n",
    "#include \"evaluate.h\"\n",
    "//#include \"Rosetta-Code-fft.h\"\n",
    "\n",
    "namespace eliastocco {\n",
    "\n",
    "    namespace polynomial {\n",
    "    \n",
    "            template < class type , t_dim dimension , t_dim codimension >\n",
    "                class polynomial {\n",
    "\n",
    "                    #define thisclass polynomial<type,dimension,codimension>    \n",
    "                    \n",
    "                    public :\n",
    "                        typedef t_var<type,codimension> Type_out;\n",
    "                        typedef t_var<type,  dimension> Type_in;\n",
    "\n",
    "                    //default constructor\n",
    "                    public :\n",
    "                        thisclass () noexcept \n",
    "                            : thisclass( &basis_function_default < type,dimension > ){};  \n",
    "\n",
    "                    public :\n",
    "                        thisclass ( basis<type,dimension> * user_basis_function ) noexcept\n",
    "                            : thisclass ( t_list<Type_out,dimension> () , \n",
    "                                            user_basis_function ){};\n",
    "\n",
    "                    //list : lista dei coefficienti\n",
    "                    //user constructor                 \n",
    "                    public :\n",
    "                        thisclass (const t_list<Type_out,dimension> list) noexcept \n",
    "                            : thisclass( list , \n",
    "                                    &eliastocco :: polynomial :: basis_function_default < type,dimension > ){};\n",
    "                                    \n",
    " \n",
    "                         \n",
    "                    public :\n",
    "                        thisclass ( const t_list<Type_out,dimension> list,\n",
    "                                        basis<type,dimension> * user_basis_function ) noexcept \n",
    "                                : thisclass ( list , \n",
    "                                    user_basis_function ,\n",
    "                                        eliastocco :: polynomial :: \n",
    "                                            default_polynomial_evaluation<type,dimension,codimension> ) {};\n",
    " \n",
    "                    //user constructor\n",
    "                    public :\n",
    "                        thisclass ( const t_list<Type_out,dimension> list,\n",
    "                                        basis<type,dimension> * user_basis_function ,\n",
    "                                        const t_eval<type,dimension,codimension> user_evaluate ) noexcept \n",
    "                            : _basis_function (user_basis_function),\n",
    "                                _coeffs(),\n",
    "                                evaluate_lambda(user_evaluate) {  \n",
    "\n",
    "                            for ( auto it = list.begin(); it != list.end(); ++it){ _coeffs.insert((*it)); }\n",
    "\n",
    "                        };\n",
    "\n",
    "//********************************************************************************************************************\n",
    "\n",
    "                    public :\n",
    "                        Type_out get ( const t_deg < dimension > index , const bool check = true ) const { \n",
    "                        \n",
    "                            //Type_out a = Type_out();\n",
    "                            try { \n",
    "                                return _coeffs.at(index);                                 \n",
    "                            } catch ( std::out_of_range e ){  \n",
    "                            \n",
    "                                if ( check ){\n",
    "                                    std :: cout << \"error : polynomial.get\" << std :: endl;\n",
    "                                    std :: cout << e.what()<< std :: endl;  \n",
    "                                }\n",
    "                                return Type_out();\n",
    "                            } \n",
    "                            //return a;\n",
    "                            \n",
    "                        };\n",
    "                 \n",
    "                    public : // piccola modifica\n",
    "                        bool set (const t_deg < dimension > index, const Type_out value , const bool check = true ) {\n",
    "\n",
    "                            try { \n",
    "                                (*_basis_function)[index]; \n",
    "                            } catch ( std::out_of_range e ){  \n",
    "                                if ( check ){\n",
    "                                    std :: cout << \"error : polynomial.set\" << std :: endl;\n",
    "                                    std :: cout << e.what()<< std :: endl;  \n",
    "                                    return false;\n",
    "                                }\n",
    "                            } \n",
    "\n",
    "                            _coeffs[index]=value; \n",
    "\n",
    "                            return true;\n",
    "\n",
    "                        };\n",
    "                        \n",
    "//********************************************************************************************************************\n",
    "                     public :\n",
    "                        inline void clear () { _coeffs.clear () ; }\n",
    "                        \n",
    "//********************************************************************************************************************\n",
    "\n",
    "                    public :\n",
    "                        inline auto coeffs () const { return _coeffs; }\n",
    "                        inline auto basis () const { return *_basis_function; }\n",
    "                       \n",
    "                        template < template < class ... > class vect = std :: vector >\n",
    "                            vect < Type_out > all_coeffs () const {\n",
    "                        \n",
    "                                vect < Type_out >  output (_basis_function->size());\n",
    "\n",
    "                                for ( auto i = 0 ; i < output.size() ; ++ i ){                            \n",
    "                                    output[i] = get(i,false);                                \n",
    "                                }\n",
    "\n",
    "                                return output;\n",
    "                        \n",
    "                        };\n",
    "//********************************************************************************************************************\n",
    "\n",
    "                     public : \n",
    "                        friend thisclass multiply \n",
    "                            (   const thisclass left ,\n",
    "                                const thisclass right )  {\n",
    "                                                                      \n",
    "                            //ridefinisco il prodotto tra polinomi\n",
    "                            // I tried the FFT way but I failed\n",
    "\n",
    "                            // dovrei controllare che i polinomi siano definiti rispetto alla stessa base\n",
    "                            if ( left._basis_function != right._basis_function ) {\n",
    "                                assert (\"polynomial :: operator * error; coeff array with different basis\" );\n",
    "                            }\n",
    "                            auto basis = left._basis_function ;\n",
    "                            // questo metodo di moltiplicare i polinomi funziona solo per polinomi definiti\n",
    "                            // rispetto ad una base di monomi\n",
    "                            // per adesso non aggiungo nessun controllo sul \"tipo di base\"\n",
    "                            // perché dovrei implementare ancora tutto\n",
    "\n",
    "                            // la condizione su dimension può essere indebolita\n",
    "                            // ma per ora implementiamo la moltiplicazione fra polinomi\n",
    "                            // solo nel caso 1D \n",
    "                            static_assert ( codimension == 1 and dimension == 1 );\n",
    "\n",
    "                            // creo un polinomio e gli assegno i coefficienti calcolati\n",
    "                            // solo se questi non sono nulli, \n",
    "                            // per ottimizzare spazio e rendere l'output più leggibile\n",
    "                            thisclass output ( basis ) ;\n",
    "\n",
    "                            // ciclo sui coefficienti dei due polinomi\n",
    "                            auto L_c = left.coeffs();\n",
    "                            auto R_c = right.coeffs();\n",
    "\n",
    "                            // ciclo sui coefficienti di left\n",
    "                            for ( auto l = L_c.begin() ; l != L_c.end() ; ++l ){\n",
    "\n",
    "                                auto l_deg   = (*l).first;\n",
    "                                auto l_coeff = (*l).second;\n",
    "\n",
    "                                // ciclo sui coefficienti di right\n",
    "                                for ( auto r = R_c.begin() ; r != R_c.end() ; ++r ){\n",
    "\n",
    "                                    auto r_deg   = (*r).first;\n",
    "                                    auto r_coeff = (*r).second;\n",
    "\n",
    "                                    auto degree = l_deg + r_deg;\n",
    "\n",
    "                                    auto prev = output.get(degree,false);\n",
    "\n",
    "                                    output.set(degree, prev + l_coeff*r_coeff );\n",
    "\n",
    "                                }                        \n",
    "                            }\n",
    "\n",
    "                            return output;\n",
    "                        \n",
    "                        };                       \n",
    "                            \n",
    "                    //polynomial multiplication\n",
    "                    public :\n",
    "                        //typename std::enable_if < codimension == 1 and dimension == 1 , thisclass > :: type \n",
    "                        friend thisclass operator * ( const thisclass left , const thisclass right ){                        \n",
    "                            return multiply(left,right) ;\n",
    "                        }; \n",
    "                        \n",
    "//********************************************************************************************************************\n",
    "                    \n",
    "                    // moltiplicazione per uno scalare\n",
    "                    public :\n",
    "                        friend thisclass operator * ( const type factor , const thisclass right ){                        \n",
    "                            \n",
    "                            auto output = right;                            \n",
    "                            auto coeffs = output.coeffs();\n",
    "                            \n",
    "                            for ( auto it = coeffs.begin() ; it != coeffs.end() ; ++it ){                                \n",
    "                                auto deg = (*it).first;\n",
    "                                auto coe = (*it).second;\n",
    "                                output.set(deg, coe*factor);                            \n",
    "                            }\n",
    "                            \n",
    "                            return output;\n",
    "                            \n",
    "                        };\n",
    "                            \n",
    "//********************************************************************************************************************\n",
    "                                            \n",
    "                    // somma tra due polinomi\n",
    "                    public :\n",
    "                        friend thisclass operator + ( const thisclass left , const thisclass right ){ \n",
    "                            //std :: cout << \"polynomial :: operator +\" << std :: endl;\n",
    "                            // dovrei controllare che i polinomi siano definiti rispetto alla stessa base\n",
    "                            if ( left._basis_function != right._basis_function ) {\n",
    "                                assert (\"polynomial :: operator * error; coeff array with different basis\" );\n",
    "                            }\n",
    "                            auto basis = left._basis_function ;\n",
    "                        \n",
    "                            std :: set < t_deg < dimension > > degree;\n",
    "                            \n",
    "                            auto L_c = left.coeffs();\n",
    "                            auto R_c = right.coeffs();\n",
    "                            \n",
    "                            //left\n",
    "                            for  (auto it = L_c.begin(); it != L_c.end(); ++it ){\n",
    "                                degree.insert((*it).first);\n",
    "                            }\n",
    "                            //right\n",
    "                            for  (auto it = R_c.begin(); it != R_c.end(); ++it ){\n",
    "                                degree.insert((*it).first);\n",
    "                            }\n",
    "                            \n",
    "                            //degree contiene tutti e solo i gradi del nuovo polinomio                            \n",
    "                            thisclass output (basis);\n",
    "                            \n",
    "                            for (auto it = degree.begin(); it != degree.end();++it){\n",
    "                                auto deg = (*it);\n",
    "                                //auto left_c  = left.get(deg,false);\n",
    "                                //auto right_c = right.get(deg,false);\n",
    "                                output.set(deg,0.0/*left_c+right_c*/);\n",
    "                            }\n",
    "                            \n",
    "                            return output;\n",
    "                            \n",
    "                        };\n",
    "\n",
    "//********************************************************************************************************************\n",
    "                    //valutazione del polinomio in x\n",
    "                    public :\n",
    "                        Type_out operator () ( const Type_in x ) const {\n",
    "                        \n",
    "                            auto a = evaluate_lambda(_coeffs,*_basis_function,x);\n",
    "                        \n",
    "                            return a;\n",
    "                            //return (*_basis_function).evaluate (_coeffs,x); \n",
    "                        }; \n",
    "                        \n",
    "                    //vectorized polinomial evaluation\n",
    "                    public :\n",
    "                    template < template < class ... > class vect = std :: vector >\n",
    "                        vect <Type_out> operator () ( const vect < Type_in > x ) const { \n",
    "                            vect <Type_out> y (x.size());\n",
    "                            std :: transform( std :: begin(x), std :: end(x), std :: begin(y),\n",
    "                                [&]( auto a ) {return (*this)(a);});   \n",
    "                            return y;\n",
    "\n",
    "                        }; \n",
    "                        \n",
    "//********************************************************************************************************************\n",
    "\n",
    "                    private :                \n",
    "                        eliastocco :: polynomial :: basis <type,dimension> * _basis_function;\n",
    "                        t_coeff_array <type,dimension,codimension> _coeffs;\n",
    "                        \n",
    "                    private :\n",
    "                        t_eval<type,dimension,codimension> evaluate_lambda;\n",
    "\n",
    "                    #undef thisclass                \n",
    "\n",
    "                };\n",
    "                \n",
    "       \n",
    "    }\n",
    "}"
   ]
  }
 ],
 "metadata": {
  "kernelspec": {
   "display_name": "C++17",
   "language": "C++17",
   "name": "xcpp17"
  },
  "language_info": {
   "codemirror_mode": "text/x-c++src",
   "file_extension": ".cpp",
   "mimetype": "text/x-c++src",
   "name": "c++",
   "version": "17"
  },
  "latex_envs": {
   "LaTeX_envs_menu_present": true,
   "autoclose": true,
   "autocomplete": true,
   "bibliofile": "biblio.bib",
   "cite_by": "apalike",
   "current_citInitial": 1,
   "eqLabelWithNumbers": true,
   "eqNumInitial": 1,
   "hotkeys": {
    "equation": "Ctrl-E",
    "itemize": "Ctrl-I"
   },
   "labels_anchors": false,
   "latex_user_defs": false,
   "report_style_numbering": false,
   "user_envs_cfg": false
  },
  "toc": {
   "base_numbering": 1,
   "nav_menu": {},
   "number_sections": true,
   "sideBar": true,
   "skip_h1_title": false,
   "title_cell": "Table of Contents",
   "title_sidebar": "Contents",
   "toc_cell": false,
   "toc_position": {},
   "toc_section_display": true,
   "toc_window_display": false
  }
 },
 "nbformat": 4,
 "nbformat_minor": 4
}
