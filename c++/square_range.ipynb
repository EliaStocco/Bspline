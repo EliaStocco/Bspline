{
 "cells": [
  {
   "cell_type": "code",
   "execution_count": 1,
   "metadata": {},
   "outputs": [],
   "source": [
    ".include header"
   ]
  },
  {
   "cell_type": "code",
   "execution_count": 2,
   "metadata": {},
   "outputs": [
    {
     "name": "stdout",
     "output_type": "stream",
     "text": [
      "Overwriting header/square_range.h\n"
     ]
    }
   ],
   "source": [
    "%%file header/square_range.h\n",
    "\n",
    "#pragma once\n",
    "\n",
    "#include \"eliastocco_namespace_piecewise-polynomial.h\"\n",
    "\n",
    "namespace eliastocco {\n",
    "\n",
    "    namespace polynomial {\n",
    "\n",
    "        template < class type >\n",
    "            class square_range<type,1> {\n",
    "            \n",
    "                public :\n",
    "                    square_range ( const t_var<type,1> left , const t_var<type,1> right ){\n",
    "                    \n",
    "                        assert ( left >= right && \"square_range error : left < right\" );                    \n",
    "                        \n",
    "                        lambda = [=] \n",
    "                            ( const t_var<type,1> x ){ \n",
    "                                     \n",
    "                                return ( x < left or x >= right ) ? false : true ;\n",
    "                  \n",
    "                            };        \n",
    "                        \n",
    "                        };                \n",
    "                    \n",
    "                public :\n",
    "                    domain_t<type,1> lambda;\n",
    "            \n",
    "            };\n",
    "            \n",
    "        template < class type , t_dim dimension >\n",
    "            class square_range {\n",
    "            \n",
    "                public :\n",
    "                    square_range ( const t_var<type,dimension> left , const t_var<type,dimension> right ){\n",
    "                    \n",
    "                         for ( auto i = 0 ; i < dimension ; ++i ){                                         \n",
    "                                assert ( left[i] >= right[i] && \n",
    "                                    \"square_range error : left < right\" );                    \n",
    "                          }\n",
    "                    \n",
    "                        lambda = [=] \n",
    "                            ( const t_var<type,dimension> x ){                                                \n",
    "                                for ( auto i = 0 ; i < dimension ; ++i ){  \n",
    "                                     if ( x[i] < left[i] or x[i] >= right[i] ){ return false ;} \n",
    "                                }\n",
    "                                return true ;                                \n",
    "                            };        \n",
    "                        \n",
    "                        };                \n",
    "                    \n",
    "                public :\n",
    "                    domain_t<type,dimension> lambda;\n",
    "            \n",
    "            };\n",
    "            \n",
    "    }\n",
    "        \n",
    "}           "
   ]
  },
  {
   "cell_type": "code",
   "execution_count": null,
   "metadata": {},
   "outputs": [],
   "source": []
  }
 ],
 "metadata": {
  "kernelspec": {
   "display_name": "C++17",
   "language": "C++17",
   "name": "xcpp17"
  },
  "language_info": {
   "codemirror_mode": "text/x-c++src",
   "file_extension": ".cpp",
   "mimetype": "text/x-c++src",
   "name": "c++",
   "version": "17"
  },
  "latex_envs": {
   "LaTeX_envs_menu_present": true,
   "autoclose": true,
   "autocomplete": true,
   "bibliofile": "biblio.bib",
   "cite_by": "apalike",
   "current_citInitial": 1,
   "eqLabelWithNumbers": true,
   "eqNumInitial": 1,
   "hotkeys": {
    "equation": "Ctrl-E",
    "itemize": "Ctrl-I"
   },
   "labels_anchors": false,
   "latex_user_defs": false,
   "report_style_numbering": false,
   "user_envs_cfg": false
  },
  "toc": {
   "base_numbering": 1,
   "nav_menu": {},
   "number_sections": true,
   "sideBar": true,
   "skip_h1_title": false,
   "title_cell": "Table of Contents",
   "title_sidebar": "Contents",
   "toc_cell": false,
   "toc_position": {},
   "toc_section_display": true,
   "toc_window_display": false
  }
 },
 "nbformat": 4,
 "nbformat_minor": 4
}
