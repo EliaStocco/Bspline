{
 "cells": [
  {
   "cell_type": "code",
   "execution_count": 1,
   "metadata": {},
   "outputs": [],
   "source": [
    ".include header"
   ]
  },
  {
   "cell_type": "code",
   "execution_count": 2,
   "metadata": {},
   "outputs": [
    {
     "name": "stdout",
     "output_type": "stream",
     "text": [
      "Overwriting header/simple-piecewise-polynomial.h\n"
     ]
    }
   ],
   "source": [
    "%%file header/simple-piecewise-polynomial.h\n",
    "\n",
    "#pragma once\n",
    "\n",
    "#include \"polynomial.h\"\n",
    "#include \"eliastocco_namespace_piecewise-polynomial.h\"\n",
    "#include \"square_range.h\"\n",
    "\n",
    "namespace eliastocco {\n",
    "\n",
    "    namespace polynomial {\n",
    "\n",
    "        template < class type , t_dim dimension = 1  , t_dim codimension = 1 >\n",
    "                class simple_piecewise_polynomial :\n",
    "                    public polynomial<type,dimension,codimension> {\n",
    "\n",
    "                    #define thisclass simple_piecewise_polynomial<type,dimension,codimension>\n",
    "                    #define motherclass polynomial<type,dimension,codimension>\n",
    "                    \n",
    "                    using motherclass :: polynomial;\n",
    "                    \n",
    "                   public : \n",
    "                        typedef typename motherclass :: Type_out Type_out;\n",
    "                        typedef typename motherclass :: Type_in Type_in;\n",
    "                \n",
    "//********************************************************************************************************************\n",
    "\n",
    "                    //constructor\n",
    "                    public: \n",
    "                            thisclass ( ) \n",
    "                                : domain ( [](auto x){return true;} ),\n",
    "                                    motherclass() {};\n",
    "                                    \n",
    "                    //constructor\n",
    "                    public: \n",
    "                            thisclass ( const motherclass pol ) \n",
    "                                : domain ( [](auto x){return true;} ),\n",
    "                                    motherclass(pol) {};\n",
    "                    \n",
    "                    //constructor\n",
    "                    public :\n",
    "                        thisclass ( basis<type,dimension> * user_basis_function )\n",
    "                            : thisclass ( motherclass ( user_basis_function ) ){};\n",
    "                                            \n",
    "                                            \n",
    "                    //constructor\n",
    "                    public: \n",
    "                            thisclass ( domain_t<type,dimension> user_domain , const motherclass pol ) \n",
    "                                : domain ( user_domain ),\n",
    "                                    motherclass(pol) {};\n",
    "                    \n",
    "//********************************************************************************************************************\n",
    "\n",
    "                    //valutazione del polinomio in x\n",
    "                    public :\n",
    "                         Type_out operator () ( const Type_in x ) const {\n",
    "                         \n",
    "                             if ( domain(x) ){   \n",
    "                                 auto m = static_cast<motherclass>(*this);\n",
    "                                 return m.operator()(x);\n",
    "                             } else {\n",
    "                                 return Type_out();\n",
    "                             }\n",
    "                        };\n",
    "                        \n",
    "                    //vectorized polinomial evaluation\n",
    "                    public :\n",
    "                    template < template < class ... > class vect = std :: vector >\n",
    "                        vect <Type_out> operator () ( const vect < Type_in > x ) const { \n",
    "                            vect <Type_out> y (x.size());\n",
    "                            std :: transform( std :: begin(x), std :: end(x), std :: begin(y),\n",
    "                                [&]( auto a ) {return (*this)(a);});   \n",
    "                            return y;\n",
    "\n",
    "                        }; \n",
    "\n",
    "//********************************************************************************************************************\n",
    "                    \n",
    "                    //piccola ottimizzazione nel caso si moltiplichi per un polinomio non definito a tratti\n",
    "                    //in realtà la presenza di questo operatore è necessaria per non creare confusione\n",
    "                    //tra l'operator* definito qui sotto e quello definito in polynomial.h\n",
    "                    public : \n",
    "                        friend thisclass operator * \n",
    "                            (   const thisclass left ,\n",
    "                                const motherclass right ) {                                \n",
    "                                thisclass output = static_cast<motherclass>(left) * right;                            \n",
    "                                output.set_domain( left.get_domain() );                                \n",
    "                                return output;                                \n",
    "                            };\n",
    "                            \n",
    "                     //piccola comodià: l'operatore è commutativo     \n",
    "                     public : \n",
    "                        friend thisclass operator * \n",
    "                            (   const motherclass left ,\n",
    "                                const thisclass right ) {   \n",
    "                                return right*left;                                \n",
    "                            };\n",
    "                            \n",
    "                     public :\n",
    "                        friend thisclass operator * \n",
    "                            (   const thisclass left ,\n",
    "                                const thisclass right ) {\n",
    "                                \n",
    "                                thisclass output = static_cast<motherclass>(left) * \n",
    "                                                   static_cast<motherclass>(right); \n",
    "\n",
    "                                auto intersection_range = [=]( const t_var<type,dimension> x ){         \n",
    "                                    const auto left_domain  = left.get_domain();\n",
    "                                    const auto right_domain = right.get_domain();                                    \n",
    "                                    return left_domain(x)*right_domain(x);   \n",
    "                                };\n",
    "                                \n",
    "                                output.set_domain( intersection_range );\n",
    "                                \n",
    "                                return output;\n",
    "                                \n",
    "                            };                            \n",
    "                  \n",
    "//********************************************************************************************************************\n",
    "\n",
    "                    //using motherclass :: operator*(const type factor , const thisclass right);\n",
    "                    // moltiplicazione per uno scalare\n",
    "                    public :\n",
    "                        friend thisclass operator * ( const type factor , const thisclass right ){                        \n",
    "                            \n",
    "                            motherclass mother = factor * static_cast<motherclass>(right);                            \n",
    "                            thisclass output (right.get_domain(),mother);                                \n",
    "                            return output;                            \n",
    "                            \n",
    "                        };\n",
    "                        \n",
    "//********************************************************************************************************************\n",
    "                    \n",
    "                    public :\n",
    "                        friend thisclass operator + \n",
    "                            (   const thisclass left ,\n",
    "                                const thisclass right ) = delete ;\n",
    "                                \n",
    "                    // somma tra due polinomi: non è definibile!\n",
    "                        \n",
    "//********************************************************************************************************************\n",
    "                    public :\n",
    "                        void set_domain ( domain_t<type,dimension> user_domain ) {   \n",
    "                            domain=user_domain ; \n",
    "                        };\n",
    "                        \n",
    "                    public :\n",
    "                        void set_domain ( const square_range<type,dimension> user_domain ) {   \n",
    "                            domain=user_domain.lambda ; \n",
    "                        };\n",
    "                        \n",
    "                    public :\n",
    "                        inline auto get_domain ( ) const { return domain ; };\n",
    "\n",
    "//********************************************************************************************************************\n",
    "\n",
    "                    private :\n",
    "                        domain_t<type,dimension> domain;\n",
    "                        \n",
    "                    #undef thisclass\n",
    "                    #undef motherclass\n",
    "                    \n",
    "                    };\n",
    "                \n",
    "        \n",
    "    }\n",
    "}"
   ]
  },
  {
   "cell_type": "code",
   "execution_count": 3,
   "metadata": {},
   "outputs": [],
   "source": [
    "#include \"simple-piecewise-polynomial.h\""
   ]
  },
  {
   "cell_type": "code",
   "execution_count": 4,
   "metadata": {},
   "outputs": [],
   "source": [
    "using namespace eliastocco :: polynomial ;"
   ]
  },
  {
   "cell_type": "code",
   "execution_count": 5,
   "metadata": {},
   "outputs": [],
   "source": [
    "auto base = monomial_basis<double,1>(5)"
   ]
  },
  {
   "cell_type": "code",
   "execution_count": 6,
   "metadata": {},
   "outputs": [
    {
     "data": {
      "text/plain": [
       "@0x7f069a270068"
      ]
     },
     "execution_count": 6,
     "metadata": {},
     "output_type": "execute_result"
    }
   ],
   "source": [
    "basis_function_default <double,1> = monomial_basis<double>(5)"
   ]
  },
  {
   "cell_type": "code",
   "execution_count": 7,
   "metadata": {},
   "outputs": [
    {
     "name": "stdout",
     "output_type": "stream",
     "text": [
      "polynomial :: constructor\n"
     ]
    }
   ],
   "source": [
    "simple_piecewise_polynomial <double> pp"
   ]
  },
  {
   "cell_type": "code",
   "execution_count": 8,
   "metadata": {},
   "outputs": [
    {
     "name": "stdout",
     "output_type": "stream",
     "text": [
      "polynomial :: constructor\n"
     ]
    }
   ],
   "source": [
    "simple_piecewise_polynomial <double> pP (&base)"
   ]
  },
  {
   "cell_type": "code",
   "execution_count": 9,
   "metadata": {},
   "outputs": [
    {
     "data": {
      "text/plain": [
       "true"
      ]
     },
     "execution_count": 9,
     "metadata": {},
     "output_type": "execute_result"
    }
   ],
   "source": [
    "pp.set(0,1)"
   ]
  },
  {
   "cell_type": "code",
   "execution_count": 10,
   "metadata": {},
   "outputs": [
    {
     "data": {
      "text/plain": [
       "{ 1.0000000, 1.0000000, 1.0000000 }"
      ]
     },
     "execution_count": 10,
     "metadata": {},
     "output_type": "execute_result"
    }
   ],
   "source": [
    "pp({1.0,2.0,4.5})"
   ]
  },
  {
   "cell_type": "code",
   "execution_count": 11,
   "metadata": {},
   "outputs": [
    {
     "data": {
      "text/plain": [
       "{ 1.0000000, 1.0000000, 1.0000000 }"
      ]
     },
     "execution_count": 11,
     "metadata": {},
     "output_type": "execute_result"
    }
   ],
   "source": [
    "pP.set(0,1);\n",
    "pP({1.0,2.0,4.5})"
   ]
  },
  {
   "cell_type": "code",
   "execution_count": 10,
   "metadata": {},
   "outputs": [
    {
     "data": {
      "text/plain": [
       "true"
      ]
     },
     "execution_count": 10,
     "metadata": {},
     "output_type": "execute_result"
    }
   ],
   "source": [
    "pp.set(2,4)"
   ]
  },
  {
   "cell_type": "code",
   "execution_count": 11,
   "metadata": {},
   "outputs": [],
   "source": [
    "auto d = square_range<double,1>(0.0,1.0)"
   ]
  },
  {
   "cell_type": "code",
   "execution_count": 12,
   "metadata": {},
   "outputs": [],
   "source": [
    "pp.set_domain(d)"
   ]
  },
  {
   "cell_type": "code",
   "execution_count": 13,
   "metadata": {},
   "outputs": [
    {
     "data": {
      "text/plain": [
       "{ 0.0000000, 0.0000000, 1.0000000, 2.0000000, 0.0000000, 0.0000000 }"
      ]
     },
     "execution_count": 13,
     "metadata": {},
     "output_type": "execute_result"
    }
   ],
   "source": [
    "pp({-1.0,-0.5,0.0,0.5,1.0,1.5})"
   ]
  },
  {
   "cell_type": "code",
   "execution_count": 14,
   "metadata": {},
   "outputs": [
    {
     "name": "stdout",
     "output_type": "stream",
     "text": [
      "polynomial :: constructor\n",
      "polynomial :: constructor\n"
     ]
    }
   ],
   "source": [
    "simple_piecewise_polynomial <double> p1(&base);\n",
    "simple_piecewise_polynomial <double> p2(&base);"
   ]
  },
  {
   "cell_type": "code",
   "execution_count": 15,
   "metadata": {},
   "outputs": [],
   "source": [
    "p1.set_domain(square_range<double,1>(0.0,1.0));\n",
    "p2.set_domain(square_range<double,1>(0.5,4.0));"
   ]
  },
  {
   "cell_type": "code",
   "execution_count": 16,
   "metadata": {},
   "outputs": [],
   "source": [
    "p1.set(0,2);\n",
    "p2.set(0,4);"
   ]
  },
  {
   "cell_type": "code",
   "execution_count": 17,
   "metadata": {},
   "outputs": [
    {
     "name": "stdout",
     "output_type": "stream",
     "text": [
      "polynomial :: constructor\n"
     ]
    }
   ],
   "source": [
    "auto p3 = p1*p2"
   ]
  },
  {
   "cell_type": "code",
   "execution_count": 18,
   "metadata": {},
   "outputs": [
    {
     "data": {
      "text/plain": [
       "{ 0.0000000, 0.0000000, 2.0000000, 2.0000000, 0.0000000, 0.0000000, 0.0000000, 0.0000000, 0.0000000, 0.0000000, 0.0000000, 0.0000000 }"
      ]
     },
     "execution_count": 18,
     "metadata": {},
     "output_type": "execute_result"
    }
   ],
   "source": [
    "p1({-1.0,-0.5,0.0,0.5,1.0,1.5,2.0,2.5,3.0,3.5,4.0,4.5})"
   ]
  },
  {
   "cell_type": "code",
   "execution_count": 19,
   "metadata": {},
   "outputs": [
    {
     "data": {
      "text/plain": [
       "{ 0.0000000, 0.0000000, 0.0000000, 4.0000000, 4.0000000, 4.0000000, 4.0000000, 4.0000000, 4.0000000, 4.0000000, 0.0000000, 0.0000000 }"
      ]
     },
     "execution_count": 19,
     "metadata": {},
     "output_type": "execute_result"
    }
   ],
   "source": [
    "p2({-1.0,-0.5,0.0,0.5,1.0,1.5,2.0,2.5,3.0,3.5,4.0,4.5})"
   ]
  },
  {
   "cell_type": "code",
   "execution_count": 20,
   "metadata": {},
   "outputs": [
    {
     "data": {
      "text/plain": [
       "{ 0.0000000, 0.0000000, 0.0000000, 8.0000000, 0.0000000, 0.0000000, 0.0000000, 0.0000000, 0.0000000, 0.0000000, 0.0000000, 0.0000000 }"
      ]
     },
     "execution_count": 20,
     "metadata": {},
     "output_type": "execute_result"
    }
   ],
   "source": [
    "p3({-1.0,-0.5,0.0,0.5,1.0,1.5,2.0,2.5,3.0,3.5,4.0,4.5})"
   ]
  },
  {
   "cell_type": "code",
   "execution_count": 21,
   "metadata": {},
   "outputs": [],
   "source": [
    "auto sum_p = 3.0*p1"
   ]
  },
  {
   "cell_type": "code",
   "execution_count": 22,
   "metadata": {},
   "outputs": [
    {
     "data": {
      "text/plain": [
       "{ 0.0000000, 0.0000000, 6.0000000, 6.0000000, 0.0000000, 0.0000000, 0.0000000, 0.0000000, 0.0000000, 0.0000000, 0.0000000, 0.0000000 }"
      ]
     },
     "execution_count": 22,
     "metadata": {},
     "output_type": "execute_result"
    }
   ],
   "source": [
    "sum_p({-1.0,-0.5,0.0,0.5,1.0,1.5,2.0,2.5,3.0,3.5,4.0,4.5})"
   ]
  },
  {
   "cell_type": "code",
   "execution_count": 23,
   "metadata": {},
   "outputs": [
    {
     "name": "stdout",
     "output_type": "stream",
     "text": [
      "polynomial :: constructor\n"
     ]
    },
    {
     "data": {
      "text/plain": [
       "@0x7fffcd15f010"
      ]
     },
     "execution_count": 23,
     "metadata": {},
     "output_type": "execute_result"
    }
   ],
   "source": [
    "p1*p1"
   ]
  },
  {
   "cell_type": "code",
   "execution_count": 24,
   "metadata": {},
   "outputs": [
    {
     "name": "stdout",
     "output_type": "stream",
     "text": [
      "polynomial :: constructor\n"
     ]
    },
    {
     "data": {
      "text/plain": [
       "@0x7fffcd607850"
      ]
     },
     "execution_count": 24,
     "metadata": {},
     "output_type": "execute_result"
    }
   ],
   "source": [
    "p2*p2"
   ]
  },
  {
   "cell_type": "code",
   "execution_count": 25,
   "metadata": {},
   "outputs": [],
   "source": [
    "polynomial<double,1> pol"
   ]
  },
  {
   "cell_type": "code",
   "execution_count": 26,
   "metadata": {},
   "outputs": [
    {
     "data": {
      "text/plain": [
       "@0x7fffd8652790"
      ]
     },
     "execution_count": 26,
     "metadata": {},
     "output_type": "execute_result"
    }
   ],
   "source": [
    "p1*pol"
   ]
  },
  {
   "cell_type": "code",
   "execution_count": 27,
   "metadata": {},
   "outputs": [
    {
     "data": {
      "text/plain": [
       "@0x7fffd84bd4b0"
      ]
     },
     "execution_count": 27,
     "metadata": {},
     "output_type": "execute_result"
    }
   ],
   "source": [
    "pol*p1"
   ]
  },
  {
   "cell_type": "code",
   "execution_count": null,
   "metadata": {},
   "outputs": [],
   "source": []
  }
 ],
 "metadata": {
  "kernelspec": {
   "display_name": "C++17",
   "language": "C++17",
   "name": "xcpp17"
  },
  "language_info": {
   "codemirror_mode": "text/x-c++src",
   "file_extension": ".cpp",
   "mimetype": "text/x-c++src",
   "name": "c++",
   "version": "17"
  },
  "latex_envs": {
   "LaTeX_envs_menu_present": true,
   "autoclose": true,
   "autocomplete": true,
   "bibliofile": "biblio.bib",
   "cite_by": "apalike",
   "current_citInitial": 1,
   "eqLabelWithNumbers": true,
   "eqNumInitial": 1,
   "hotkeys": {
    "equation": "Ctrl-E",
    "itemize": "Ctrl-I"
   },
   "labels_anchors": false,
   "latex_user_defs": false,
   "report_style_numbering": false,
   "user_envs_cfg": false
  },
  "toc": {
   "base_numbering": 1,
   "nav_menu": {},
   "number_sections": true,
   "sideBar": true,
   "skip_h1_title": false,
   "title_cell": "Table of Contents",
   "title_sidebar": "Contents",
   "toc_cell": false,
   "toc_position": {},
   "toc_section_display": true,
   "toc_window_display": false
  }
 },
 "nbformat": 4,
 "nbformat_minor": 4
}
