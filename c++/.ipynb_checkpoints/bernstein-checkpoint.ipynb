{
 "cells": [
  {
   "cell_type": "code",
   "execution_count": 1,
   "metadata": {},
   "outputs": [],
   "source": [
    ".include header"
   ]
  },
  {
   "cell_type": "code",
   "execution_count": 2,
   "metadata": {},
   "outputs": [
    {
     "name": "stdout",
     "output_type": "stream",
     "text": [
      "Overwriting header/bernstein.h\n"
     ]
    }
   ],
   "source": [
    "%%file header/bernstein.h\n",
    "#pragma once\n",
    "\n",
    "#include \"dynamic_vector.h\"\n",
    "#include \"tensor_product.h\"\n",
    "#include \"eliastocco_namespace_polynomial.h\"\n",
    "#include \"tensor_product.h\"\n",
    "#include \"basis.h\"\n",
    "#include \"polynomial.h\"\n",
    "\n",
    "\n",
    "namespace eliastocco {\n",
    "\n",
    "    namespace polynomial {\n",
    "    \n",
    "        template < class type , t_dim dimension = 1 >\n",
    "            basis < type , dimension > bernstein_basis (const t_deg<dimension> N );\n",
    "            \n",
    "        template < class type , t_dim dimension = 1 >\n",
    "            class make_bernstein ;\n",
    "            \n",
    "        template < class type , t_dim dimension = 1 >\n",
    "            polynomial<type,dimension> associated_bernstein_polynomial \n",
    "                ( const t_func<type,dimension> function , basis<type,dimension> & base );\n",
    "    \n",
    "            \n",
    "    }\n",
    "            \n",
    "}\n",
    "        \n",
    " namespace eliastocco {\n",
    "\n",
    "    namespace polynomial {\n",
    "        \n",
    "    \n",
    "        template < class type , t_dim dimension >\n",
    "            basis < type , dimension > bernstein_basis (const t_deg<dimension> N ){\n",
    "                \n",
    "                //costruttore\n",
    "                return basis < type , dimension > ( make_bernstein<type,dimension>(N).value );\n",
    "\n",
    "            };\n",
    "        \n",
    "        \n",
    "        template < class type >\n",
    "            class make_bernstein<type,1> {\n",
    "                \n",
    "                public :\n",
    "                    make_bernstein<type,1> ( const t_deg<1> N ){      \n",
    "                    \n",
    "                    \n",
    "                        //variabile di output\n",
    "                        value = std :: make_shared < t_basis_function<type,1> > ();\n",
    "        \n",
    "                        //calcolo i coefficienti binomiali\n",
    "                        //https://cp-algorithms.com/combinatorics/binomial-coefficients.html\n",
    "                        container :: dynamic :: dynamic_vector < 2 , t_deg<1> > C ( { N+1 , N+1 } );\n",
    "\n",
    "                        //std :: cout << \"coefficienti binomiali\" << std :: endl ; \n",
    "                        C[0][0] = 1;\n",
    "                        for ( t_deg<1> n = 1; n <= N; ++n) {\n",
    "                            C[n][0] = C[n][n] = 1;\n",
    "                            for ( t_deg<1> k = 1; k < n; ++k){\n",
    "                                C[n][k] = C[n - 1][k - 1] + C[n - 1][k];\n",
    "                            }\n",
    "                        }       \n",
    "\n",
    "                        //std :: cout << \"calcolo\" << std :: endl ; \n",
    "                         //\n",
    "                        for (auto k=0;k<=N;++k){\n",
    "                        \n",
    "                            auto f = [=](const t_var<type,1> x){\n",
    "\n",
    "                                return C [N][k] * pow ( 1 - x , N - k ) * pow ( x , k );\n",
    "\n",
    "                            }; \n",
    "                        \n",
    "                            (*value).insert(std :: make_pair(k,f));\n",
    "                        }\n",
    "                        \n",
    "                    }\n",
    "                \n",
    "                public :\n",
    "                    t_ptr < type , 1 > value;\n",
    "                \n",
    "            };\n",
    "        \n",
    "    \n",
    "        template < class type , t_dim dimension >\n",
    "            class make_bernstein {\n",
    "                \n",
    "                public :\n",
    "                    make_bernstein<type,dimension> ( const t_deg<dimension> N ){\n",
    "                        \n",
    "                        t_var<t_degree,1> N_0;\n",
    "                        t_var<t_degree,dimension-1> N_1;\n",
    "                                \n",
    "                        tensor_product::split_array<t_degree,1,dimension-1> X (N);\n",
    "                        std :: tie (N_0,N_1) =  X.value;\n",
    "            \n",
    "                        auto basis_1  = *(make_bernstein<type,1> (N_0).value);\n",
    "                        \n",
    "                        auto basis_N_inf = *(make_bernstein <type,dimension-1>(N_1).value);\n",
    "           \n",
    "                        auto T = tensor_product :: tensor_product<type,1,dimension-1>( basis_1 , basis_N_inf ).value;\n",
    "                        \n",
    "                        value = std :: make_shared<decltype(T)>(T);\n",
    "                        \n",
    "                    }\n",
    "                \n",
    "                public :\n",
    "                    t_ptr < type , dimension > value;\n",
    "                        \n",
    "                        \n",
    "            };  \n",
    "      \n",
    "    \n",
    "    }\n",
    "    \n",
    "}\n",
    "\n",
    "namespace eliastocco {\n",
    "    \n",
    "    namespace polynomial {\n",
    "        \n",
    "        template < class type , t_dim dimension >\n",
    "            polynomial<type,dimension> associated_bernstein_polynomial \n",
    "                ( const t_func<type,dimension> function , basis<type,dimension> & base ){\n",
    "                                \n",
    "                static_assert ( dimension == 1 , \"associated_bernstein_polynomial not implemented for dimension > 2\");\n",
    "                \n",
    "                auto N = base.size();\n",
    "                \n",
    "                \n",
    "                t_list<type,dimension> coeff (N);\n",
    "        \n",
    "                unsigned int k=0;\n",
    "                for ( auto it = coeff.begin(); it != coeff.end(); ++it){ \n",
    "                    //attenzione, N è il numero di polinomi, N-1 è il grado polinomiale\n",
    "                    (*it) = std :: make_pair ( k , function(static_cast<type>(k)/static_cast<type>(N-1)));\n",
    "                    k++;\n",
    "                }\n",
    "        \n",
    "                return polynomial<type,dimension>(coeff,&base);\n",
    "                \n",
    "                \n",
    "        }\n",
    "    }\n",
    "}"
   ]
  },
  {
   "cell_type": "code",
   "execution_count": 3,
   "metadata": {},
   "outputs": [],
   "source": [
    "#include \"bernstein.h\""
   ]
  },
  {
   "cell_type": "code",
   "execution_count": 4,
   "metadata": {},
   "outputs": [],
   "source": [
    "using namespace eliastocco :: polynomial;"
   ]
  },
  {
   "cell_type": "code",
   "execution_count": 5,
   "metadata": {
    "scrolled": true
   },
   "outputs": [],
   "source": [
    "auto base = bernstein_basis <double> (5)"
   ]
  },
  {
   "cell_type": "code",
   "execution_count": 6,
   "metadata": {},
   "outputs": [
    {
     "data": {
      "text/plain": [
       "6"
      ]
     },
     "execution_count": 6,
     "metadata": {},
     "output_type": "execute_result"
    }
   ],
   "source": [
    "base.size()"
   ]
  },
  {
   "cell_type": "code",
   "execution_count": 7,
   "metadata": {},
   "outputs": [
    {
     "data": {
      "text/plain": [
       "-1.0000000"
      ]
     },
     "execution_count": 7,
     "metadata": {},
     "output_type": "execute_result"
    }
   ],
   "source": [
    "base[0](2)"
   ]
  },
  {
   "cell_type": "code",
   "execution_count": 8,
   "metadata": {},
   "outputs": [],
   "source": [
    "auto associated = associated_bernstein_polynomial<double,1>(sin,base)"
   ]
  },
  {
   "cell_type": "code",
   "execution_count": 9,
   "metadata": {},
   "outputs": [
    {
     "data": {
      "text/plain": [
       "0.84147098"
      ]
     },
     "execution_count": 9,
     "metadata": {},
     "output_type": "execute_result"
    }
   ],
   "source": [
    "associated(1)"
   ]
  },
  {
   "cell_type": "code",
   "execution_count": null,
   "metadata": {},
   "outputs": [],
   "source": []
  }
 ],
 "metadata": {
  "kernelspec": {
   "display_name": "C++17",
   "language": "C++17",
   "name": "xcpp17"
  },
  "language_info": {
   "codemirror_mode": "text/x-c++src",
   "file_extension": ".cpp",
   "mimetype": "text/x-c++src",
   "name": "c++",
   "version": "17"
  },
  "latex_envs": {
   "LaTeX_envs_menu_present": true,
   "autoclose": true,
   "autocomplete": true,
   "bibliofile": "biblio.bib",
   "cite_by": "apalike",
   "current_citInitial": 1,
   "eqLabelWithNumbers": true,
   "eqNumInitial": 1,
   "hotkeys": {
    "equation": "Ctrl-E",
    "itemize": "Ctrl-I"
   },
   "labels_anchors": false,
   "latex_user_defs": false,
   "report_style_numbering": false,
   "user_envs_cfg": false
  },
  "toc": {
   "base_numbering": 1,
   "nav_menu": {},
   "number_sections": true,
   "sideBar": true,
   "skip_h1_title": false,
   "title_cell": "Table of Contents",
   "title_sidebar": "Contents",
   "toc_cell": false,
   "toc_position": {},
   "toc_section_display": true,
   "toc_window_display": false
  }
 },
 "nbformat": 4,
 "nbformat_minor": 4
}
