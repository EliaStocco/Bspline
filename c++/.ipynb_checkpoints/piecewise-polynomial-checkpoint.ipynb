{
 "cells": [
  {
   "cell_type": "code",
   "execution_count": 1,
   "metadata": {},
   "outputs": [],
   "source": [
    ".include header"
   ]
  },
  {
   "cell_type": "code",
   "execution_count": 2,
   "metadata": {},
   "outputs": [
    {
     "name": "stdout",
     "output_type": "stream",
     "text": [
      "Overwriting header/piecewise-polynomial.h\n"
     ]
    }
   ],
   "source": [
    "%%file header/piecewise-polynomial.h\n",
    "\n",
    "#pragma once\n",
    "\n",
    "#include <valarray>\n",
    "#include \"simple-piecewise-polynomial.h\"\n",
    "\n",
    "namespace eliastocco {\n",
    "\n",
    "    namespace polynomial {        \n",
    "    \n",
    "        template < class type , t_dim dimension = 1  , t_dim codimension = 1 >\n",
    "                class piecewise_polynomial :\n",
    "                    public std :: valarray <\n",
    "                        simple_piecewise_polynomial<type,dimension,codimension> > {       \n",
    "                        \n",
    "                        #define thisclass piecewise_polynomial<type,dimension,codimension>\n",
    "                        #define motherclass std::valarray<simple_piecewise_polynomial<type,dimension,codimension>>\n",
    "                        \n",
    "                        //uso di default i costruttori di std :: valarray\n",
    "                        using motherclass :: valarray;\n",
    "                        \n",
    "                        public :                             \n",
    "                            typedef simple_piecewise_polynomial<type,dimension,codimension> pol_t;\n",
    "                            typedef typename pol_t :: Type_out Type_out;\n",
    "                            typedef typename pol_t :: Type_in Type_in;\n",
    "                                \n",
    "                        //constructor\n",
    "                        public: \n",
    "                            thisclass ( const motherclass val ) \n",
    "                                : motherclass( val ) {};\n",
    "                                    \n",
    "                       //constructor\n",
    "                        public: \n",
    "                            thisclass ( const pol_t pol ) \n",
    "                                : motherclass( {pol} ) {};\n",
    "                                    \n",
    "//********************************************************************************************************************\n",
    "\n",
    "                        //valutazione del polinomio in x\n",
    "                        public :\n",
    "                             Type_out operator () ( const Type_in x ) const {\n",
    "                             \n",
    "                                 std :: cout << \"piecewise-polynomial operator()\" << std :: endl;\n",
    "                             \n",
    "                                typedef typename std :: conditional<  std :: less<t_degree>{}(1,codimension) ,\n",
    "                                    std :: valarray <type> , type > :: type coeff_type;\n",
    "                                \n",
    "                                coeff_type output = coeff_type ();                                \n",
    "                                const auto This = static_cast<motherclass>(*this);                                \n",
    "                                std :: cout << \"size:\" << motherclass :: size() << std :: endl;\n",
    "                                 \n",
    "                                for(auto it = std :: begin(This); it != std::end(This); ++it ){                                    \n",
    "                                    output += (*it)(x);\n",
    "                                }\n",
    "                                \n",
    "                                if constexpr ( codimension > 1 ){\n",
    "                                    Type_out Output;                            \n",
    "                                    std :: copy( std :: begin(output), std :: end(output), std :: begin(Output) );\n",
    "                                    return Output;\n",
    "                                } else {                                \n",
    "                                    return output;                            \n",
    "                                }                               \n",
    "              \n",
    "                            };\n",
    "\n",
    "                        //vectorized polinomial evaluation\n",
    "                        public :\n",
    "                        template < template < class ... > class vect = std :: vector >\n",
    "                            vect <Type_out> operator () ( const vect < Type_in > x ) const { \n",
    "                                vect <Type_out> y (x.size());\n",
    "                                std :: transform( std :: begin(x), std :: end(x), std :: begin(y),\n",
    "                                    [&]( auto a ) {return (*this)(a);});   \n",
    "                                return y;\n",
    "\n",
    "                            }; \n",
    "\n",
    "//********************************************************************************************************************\n",
    "                                        \n",
    "                    //definisco la somma tra polinomi definiti a tratti\n",
    "                    public :\n",
    "                        friend thisclass operator + ( const thisclass left , const thisclass right ){\n",
    "                            thisclass output ( left.size() + right.size() );\n",
    "                            auto it = std :: copy( std :: begin(left), std :: end (left) , std :: begin(output));\n",
    "                            //attenzione al std :: prev !!\n",
    "                            std :: copy ( std :: begin(right), std :: end (right) , std :: prev(it) );\n",
    "                            return output;                            \n",
    "                        };\n",
    "                        \n",
    "                    //definisco il prodotto di polinomi definiti a tratti\n",
    "                    public :\n",
    "                        friend thisclass operator * ( const pol_t left , const thisclass right ){   \n",
    "                        \n",
    "                            //constructor specifying dimension\n",
    "                            thisclass output ( right.size() );                        \n",
    "                            //contatore\n",
    "                            unsigned int k = 0 ;\n",
    "                            // ciclo sui polinomi di right\n",
    "                            for ( auto r = std :: begin(right) ; r != std::end(right) ; ++r ){   \n",
    "                                //moltiplicazione tra polinomi definiti a tratti\n",
    "                                output[k++]= left*(*r);\n",
    "                            }                  \n",
    "                            return output;  \n",
    "                        };\n",
    "                        \n",
    "                    //definisco il prodotto di polinomi definiti a tratti\n",
    "                    public :\n",
    "                        friend thisclass operator * ( const thisclass left , const thisclass right ){   \n",
    "                        \n",
    "                            //constructor specifying dimension\n",
    "                            thisclass output ( left.size() * right.size() );                        \n",
    "                            //contatore\n",
    "                            unsigned int k = 0 ;                            \n",
    "                             // ciclo sui polinomi di left\n",
    "                            for ( auto l = std :: begin(left) ; l != std::end(left) ; ++l ){\n",
    "                                // ciclo sui polinomi di right\n",
    "                                for ( auto r = std :: begin(right) ; r != std::end(right) ; ++r ){   \n",
    "                                    //moltiplicazione tra polinomi definiti a tratti\n",
    "                                    output[k++]= (*l)*(*r);\n",
    "                                }                        \n",
    "                            }                            \n",
    "                            return output;  \n",
    "                        };\n",
    "                        \n",
    "                        public :\n",
    "                            friend thisclass operator * ( const type factor , const thisclass right ){\n",
    "                                                           \n",
    "                                motherclass output (right.size());\n",
    "                                \n",
    "                                for(auto i = 0; i < right.size(); ++i ){ \n",
    "                                    output[i]=factor*static_cast<motherclass>(right)[i];\n",
    "                                }\n",
    "                                \n",
    "                                return output;\n",
    "                            \n",
    "                            };   \n",
    "\n",
    "                        #undef thisclass\n",
    "                        #undef motherclass\n",
    "                    \n",
    "                    };               \n",
    "        \n",
    "    }\n",
    "}"
   ]
  },
  {
   "cell_type": "code",
   "execution_count": 3,
   "metadata": {},
   "outputs": [],
   "source": [
    "#include \"piecewise-polynomial.h\""
   ]
  },
  {
   "cell_type": "code",
   "execution_count": 4,
   "metadata": {},
   "outputs": [],
   "source": [
    "using namespace eliastocco :: polynomial;"
   ]
  },
  {
   "cell_type": "code",
   "execution_count": 5,
   "metadata": {},
   "outputs": [],
   "source": [
    "piecewise_polynomial<double> a"
   ]
  },
  {
   "cell_type": "code",
   "execution_count": 6,
   "metadata": {},
   "outputs": [],
   "source": [
    "auto base = monomial_basis<double,1>(5)"
   ]
  },
  {
   "cell_type": "code",
   "execution_count": 7,
   "metadata": {},
   "outputs": [],
   "source": [
    "polynomial<double> pol (&base)"
   ]
  },
  {
   "cell_type": "code",
   "execution_count": 8,
   "metadata": {},
   "outputs": [
    {
     "data": {
      "text/plain": [
       "true"
      ]
     },
     "execution_count": 8,
     "metadata": {},
     "output_type": "execute_result"
    }
   ],
   "source": [
    "pol.set(0,1);\n",
    "pol.set(1,2);//1 + 2x"
   ]
  },
  {
   "cell_type": "code",
   "execution_count": 9,
   "metadata": {},
   "outputs": [],
   "source": [
    "simple_piecewise_polynomial<double> pw_pol"
   ]
  },
  {
   "cell_type": "code",
   "execution_count": 11,
   "metadata": {},
   "outputs": [
    {
     "data": {
      "text/plain": [
       "@0x7f3174e80028"
      ]
     },
     "execution_count": 11,
     "metadata": {},
     "output_type": "execute_result"
    }
   ],
   "source": [
    "a = pw_pol"
   ]
  },
  {
   "cell_type": "code",
   "execution_count": 14,
   "metadata": {},
   "outputs": [
    {
     "data": {
      "text/plain": [
       "@0x7f3174e80028"
      ]
     },
     "execution_count": 14,
     "metadata": {},
     "output_type": "execute_result"
    }
   ],
   "source": [
    "a = a + piecewise_polynomial<double>(pw_pol)"
   ]
  },
  {
   "cell_type": "code",
   "execution_count": 15,
   "metadata": {},
   "outputs": [
    {
     "data": {
      "text/plain": [
       "2"
      ]
     },
     "execution_count": 15,
     "metadata": {},
     "output_type": "execute_result"
    }
   ],
   "source": [
    "a.size()"
   ]
  },
  {
   "cell_type": "code",
   "execution_count": 16,
   "metadata": {},
   "outputs": [
    {
     "name": "stdout",
     "output_type": "stream",
     "text": [
      "size:2\n"
     ]
    },
    {
     "data": {
      "text/plain": [
       "0.0000000"
      ]
     },
     "execution_count": 16,
     "metadata": {},
     "output_type": "execute_result"
    }
   ],
   "source": [
    "a(2.0)"
   ]
  },
  {
   "cell_type": "code",
   "execution_count": 10,
   "metadata": {},
   "outputs": [
    {
     "data": {
      "text/plain": [
       "@0x7fb0c9120108"
      ]
     },
     "execution_count": 10,
     "metadata": {},
     "output_type": "execute_result"
    }
   ],
   "source": [
    "pw_pol = pol//1 + 2x"
   ]
  },
  {
   "cell_type": "code",
   "execution_count": 11,
   "metadata": {},
   "outputs": [
    {
     "data": {
      "text/plain": [
       "11.000000"
      ]
     },
     "execution_count": 11,
     "metadata": {},
     "output_type": "execute_result"
    }
   ],
   "source": [
    "pw_pol(5.0)"
   ]
  },
  {
   "cell_type": "code",
   "execution_count": 12,
   "metadata": {},
   "outputs": [
    {
     "data": {
      "text/plain": [
       "@0x7fffd6f06720"
      ]
     },
     "execution_count": 12,
     "metadata": {},
     "output_type": "execute_result"
    }
   ],
   "source": [
    "pol + pol //OK"
   ]
  },
  {
   "cell_type": "code",
   "execution_count": 14,
   "metadata": {},
   "outputs": [
    {
     "name": "stderr",
     "output_type": "stream",
     "text": [
      "\u001b[1minput_line_25:2:9: \u001b[0m\u001b[0;1;31merror: \u001b[0m\u001b[1moverload resolution selected deleted operator '+'\u001b[0m\n",
      " pw_pol + pw_pol //OK\n",
      "\u001b[0;1;32m ~~~~~~ ^ ~~~~~~\n",
      "\u001b[0m\u001b[1mheader/simple-piecewise-polynomial.h:134:42: \u001b[0m\u001b[0;1;30mnote: \u001b[0mcandidate function has been explicitly deleted\u001b[0m\n",
      "                        friend thisclass operator + \n",
      "\u001b[0;1;32m                                         ^\n",
      "\u001b[0m\u001b[1mheader/polynomial.h:219:42: \u001b[0m\u001b[0;1;30mnote: \u001b[0mcandidate function\u001b[0m\n",
      "                        friend thisclass operator + ( const thisclass left , const thisclass right ){ \n",
      "\u001b[0;1;32m                                         ^\n",
      "\u001b[0m"
     ]
    },
    {
     "ename": "Interpreter Error",
     "evalue": "",
     "output_type": "error",
     "traceback": [
      "Interpreter Error: "
     ]
    }
   ],
   "source": [
    "pw_pol + pw_pol //OK"
   ]
  },
  {
   "cell_type": "code",
   "execution_count": 15,
   "metadata": {},
   "outputs": [
    {
     "name": "stderr",
     "output_type": "stream",
     "text": [
      "\u001b[1minput_line_26:2:9: \u001b[0m\u001b[0;1;31merror: \u001b[0m\u001b[1muse of overloaded operator '+' is ambiguous (with operand types 'simple_piecewise_polynomial<double>' and\n",
      "      'polynomial<double>')\u001b[0m\n",
      " pw_pol + pol //OK\n",
      "\u001b[0;1;32m ~~~~~~ ^ ~~~\n",
      "\u001b[0m\u001b[1mheader/polynomial.h:219:42: \u001b[0m\u001b[0;1;30mnote: \u001b[0mcandidate function\u001b[0m\n",
      "                        friend thisclass operator + ( const thisclass left , const thisclass right ){ \n",
      "\u001b[0;1;32m                                         ^\n",
      "\u001b[0m\u001b[1mheader/simple-piecewise-polynomial.h:134:42: \u001b[0m\u001b[0;1;30mnote: \u001b[0mcandidate function has been explicitly deleted\u001b[0m\n",
      "                        friend thisclass operator + \n",
      "\u001b[0;1;32m                                         ^\n",
      "\u001b[0m"
     ]
    },
    {
     "ename": "Interpreter Error",
     "evalue": "",
     "output_type": "error",
     "traceback": [
      "Interpreter Error: "
     ]
    }
   ],
   "source": [
    "pw_pol + pol //OK"
   ]
  },
  {
   "cell_type": "code",
   "execution_count": 16,
   "metadata": {},
   "outputs": [
    {
     "data": {
      "text/plain": [
       "@0x7fffd6e6ad10"
      ]
     },
     "execution_count": 16,
     "metadata": {},
     "output_type": "execute_result"
    }
   ],
   "source": [
    "a + a//OK"
   ]
  },
  {
   "cell_type": "code",
   "execution_count": null,
   "metadata": {},
   "outputs": [],
   "source": [
    "2*a//OK"
   ]
  },
  {
   "cell_type": "code",
   "execution_count": null,
   "metadata": {},
   "outputs": [],
   "source": [
    "a*a//OK"
   ]
  },
  {
   "cell_type": "code",
   "execution_count": null,
   "metadata": {},
   "outputs": [],
   "source": [
    "pol*pol"
   ]
  },
  {
   "cell_type": "code",
   "execution_count": null,
   "metadata": {},
   "outputs": [],
   "source": [
    "pw_pol*pw_pol"
   ]
  },
  {
   "cell_type": "code",
   "execution_count": null,
   "metadata": {},
   "outputs": [],
   "source": [
    "pw_pol*pol"
   ]
  },
  {
   "cell_type": "code",
   "execution_count": null,
   "metadata": {},
   "outputs": [],
   "source": []
  },
  {
   "cell_type": "code",
   "execution_count": null,
   "metadata": {},
   "outputs": [],
   "source": []
  }
 ],
 "metadata": {
  "kernelspec": {
   "display_name": "C++17",
   "language": "C++17",
   "name": "xcpp17"
  },
  "language_info": {
   "codemirror_mode": "text/x-c++src",
   "file_extension": ".cpp",
   "mimetype": "text/x-c++src",
   "name": "c++",
   "version": "17"
  },
  "latex_envs": {
   "LaTeX_envs_menu_present": true,
   "autoclose": true,
   "autocomplete": true,
   "bibliofile": "biblio.bib",
   "cite_by": "apalike",
   "current_citInitial": 1,
   "eqLabelWithNumbers": true,
   "eqNumInitial": 1,
   "hotkeys": {
    "equation": "Ctrl-E",
    "itemize": "Ctrl-I"
   },
   "labels_anchors": false,
   "latex_user_defs": false,
   "report_style_numbering": false,
   "user_envs_cfg": false
  },
  "toc": {
   "base_numbering": 1,
   "nav_menu": {},
   "number_sections": true,
   "sideBar": true,
   "skip_h1_title": false,
   "title_cell": "Table of Contents",
   "title_sidebar": "Contents",
   "toc_cell": false,
   "toc_position": {},
   "toc_section_display": true,
   "toc_window_display": false
  }
 },
 "nbformat": 4,
 "nbformat_minor": 4
}
