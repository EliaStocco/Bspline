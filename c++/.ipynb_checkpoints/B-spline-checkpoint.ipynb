{
 "cells": [
  {
   "cell_type": "code",
   "execution_count": 1,
   "metadata": {},
   "outputs": [],
   "source": [
    ".include header"
   ]
  },
  {
   "cell_type": "code",
   "execution_count": 2,
   "metadata": {
    "code_folding": []
   },
   "outputs": [],
   "source": [
    "//%%file header/Bspline.h\n",
    "#pragma once\n",
    "\n",
    "#include <vector>\n",
    "#include <iostream>\n",
    "#include <stdexcept>\n",
    "#include <memory>\n",
    "#include <string>\n",
    "#include <iterator>\n",
    "\n",
    "#include \"eliastocco_namespace_Bspline.h\"\n",
    "#include \"knot_vector.h\"\n",
    "#include \"dynamic_vector.h\"\n",
    "#include \"Bspline_operator.h\"\n",
    "//#include \"metropolis.h\"\n",
    "\n",
    "\n",
    "namespace eliastocco {\n",
    "\n",
    "    namespace polynomial {\n",
    "\n",
    "        namespace Bspline {        \n",
    " \n",
    "            template < class type , ut_dim dimension = 1 , ut_dim codimension = 1 >\n",
    "                class Bspline {\n",
    "\n",
    "                    #define thisclass Bspline<type,dimension,codimension>    \n",
    "                    \n",
    "                    using namespace container :: dynamic;\n",
    "\n",
    "                    public :\n",
    "                        typedef std :: array<type,codimension> Type_out;\n",
    "                        typedef std :: array<type,dimension>   Type_in; \n",
    "                        typedef std :: array<Type_out,dimension>   jacobian_t;\n",
    "                        typedef metropolis<type,Type_in> metropolis_t;\n",
    "                    \n",
    "                        template < class Type , ut_dim Dim >\n",
    "                            using square_matrix_t = std :: array<std :: array < Type, Dim > , Dim>;\n",
    "\n",
    "                        typedef std :: array<t_dim,dimension>  Index_t;\n",
    "\n",
    "                        template < ut_dim Dim >\n",
    "                            using template_knots_t = std :: array < knot_vector<type> , Dim>;\n",
    "                        typedef template_knots_t<dimension> knots_t;\n",
    "                        \n",
    "                        typedef std :: array<type,codimension> single_cp_t;\n",
    "                        template < ut_dim Dim >\n",
    "                            using template_cp_t = \n",
    "                            /*container::dynamic::*/dynamic_vector < Dim , single_cp_t >;                    \n",
    "                        \n",
    "                        typedef template_cp_t<dimension> cp_t;\n",
    "\n",
    "//********************************************************************************************************************\n",
    "                    \n",
    "                    private :\n",
    "                        thisclass(){};\n",
    "                        \n",
    "                    public :\n",
    "                        thisclass ( const knots_t knots , const cp_t cp )\n",
    "                            :thisclass(knots){\n",
    "                                _cp = cp ;\n",
    "                            };\n",
    "                        \n",
    "                    //non sto controllando la correttezza degli indici dei control points\n",
    "                    //non sto controllande che ogni control point abbia la lunghezza giusta\n",
    "                    //per comodità ho deciso di optare per dei control points std :: valarray\n",
    "                    public :\n",
    "                        thisclass ( const knots_t knots )\n",
    "                            : _kv(knots)/*,metropolis_algorithm()*/{\n",
    "\n",
    "                                //std :: cout << \"constructor\" << std :: endl;\n",
    "                                Index_t init = Index_t();\n",
    "\n",
    "                                for(auto i=0; i<dimension; ++i){\n",
    "\n",
    "                                    auto p = _kv[i].p();\n",
    "                                    auto n = _kv[i].n();\n",
    "                                    auto k = _kv[i].knots();\n",
    "                                    auto v = k.size();\n",
    "\n",
    "                                    init[i]=n;\n",
    "\n",
    "                                    assert ( std::is_sorted(k.begin(),k.end()) %% \"knot vector not sorted\" );\n",
    "                                    assert ( p > 0 %% \"wrong polyniomial degree\" );\n",
    "                                    assert ( n > 1 %% \"wrong basis cardinality\" );\n",
    "                                    assert ( p+n+1 == v %% \"wrong knot vector size\" );\n",
    "\n",
    "                                }\n",
    "\n",
    "                                //std :: cout << \"_cp\" << std :: endl;\n",
    "                                _cp = cp_t (init);\n",
    "                                \n",
    "                                \n",
    "                            \n",
    "                            };\n",
    "                            \n",
    "//********************************************************************************************************************\n",
    "\n",
    "                    public :\n",
    "                        Type_out get ( const Index_t index , const bool check = true ) const { \n",
    "\n",
    "                            try { \n",
    "                                return _cp[index];\n",
    "                            } catch ( std::out_of_range e ){\n",
    "                                if ( check ){\n",
    "                                    std :: cout << \"error : Bspline.get\" << std :: endl;\n",
    "                                    std :: cout << e.what()<< std :: endl;  \n",
    "                                }\n",
    "                                return Type_out();\n",
    "                            } \n",
    "                            \n",
    "                        };                    \n",
    "\n",
    "//********************************************************************************************************************\n",
    "\n",
    "                    public : // piccola modifica\n",
    "                        bool set (const Index_t index, const Type_out value , const bool check = true ) {\n",
    "                            //std :: cout << \"set\" << std :: endl;\n",
    "                            try {\n",
    "                                _cp[index]=value; \n",
    "                            } catch ( std::out_of_range e ){  \n",
    "                                if ( check ){\n",
    "                                    std :: cout << \"error : Bspline.set\" << std :: endl;\n",
    "                                    std :: cout << e.what()<< std :: endl;  \n",
    "                                    return false;\n",
    "                                }\n",
    "                            } \n",
    "\n",
    "                            return true;\n",
    "\n",
    "                        };\n",
    "\n",
    "//********************************************************************************************************************\n",
    "\n",
    "                     protected :\n",
    "                        static int find_k( const type x , const knot_vector<type> t ) {\n",
    "                            \n",
    "                            //std :: cout << \"indide find_k\" << std :: endl;\n",
    "                            //std :: cout << \"size =\" << t.size() << std :: endl;\n",
    "                            int output = -1;\n",
    "                            for(auto i = 0 ; i < t.size()-1; ++i){\n",
    "                                //std :: cout << \"i: =\" << i << std :: endl;\n",
    "                                if ( t[i] <= x and x < t[i+1] ){ output = i ;}   \n",
    "                            }\n",
    "\n",
    "                            return output;\n",
    "\n",
    "                        };\n",
    "\n",
    "//********************************************************************************************************************\n",
    "                    \n",
    "                    public :\n",
    "                        Type_out deBoor ( const type x , const bool derivative = false ) const {\n",
    "                            \n",
    "                            // https://en.wikipedia.org/wiki/De_Boor%27s_algorithm\n",
    "                            \n",
    "                            //std :: cout << \"x:\" << x << std :: endl;\n",
    "\n",
    "                            static_assert ( dimension == 1 , \"dimension for deBoor algorithm is greater than 1\");\n",
    "\n",
    "                            //\n",
    "                            auto v = knots_vector();\n",
    "                            if ( v.size() > 1 ){\n",
    "                                std :: cout << \"deBoor error : v.size()>1\" << std :: endl ;\n",
    "                                throw std::exception ();\n",
    "                            }  \n",
    "                            \n",
    "                            //\n",
    "                            knot_vector<type> t = v[0];\n",
    "                            int p = t.p();\n",
    "                            template_cp_t<1> c = control_points();                                                     \n",
    "                            \n",
    "                            //\n",
    "                            int k = find_k(x,t); \n",
    "                            if ( k < 0 ){        \n",
    "                                std :: cout << \"deBoor error : k<0\" << std :: endl ;\n",
    "                                return Type_out();\n",
    "                            }\n",
    "\n",
    "                            //\n",
    "                            std :: array<t_dim,1> init ;\n",
    "                            init[0]=p+1;\n",
    "                            template_cp_t<1> d   (init);\n",
    "                            //template_cp_t<1> q   (init);\n",
    "                            \n",
    "                        //****************************\n",
    "                            if (derivative){\n",
    "                                \n",
    "                                //template_cp_t<1> q   (init);\n",
    "                            \n",
    "                                //\n",
    "                                //std :: cout << \"derivative\" << std :: endl ;\n",
    "                                auto jj=0;\n",
    "                                for(auto j=0; j!= p ; ++j){\n",
    "                                    //std :: cout << \"j : \" << j << std :: endl ;\n",
    "                                    //std :: cout << \"left\" << std :: endl ;\n",
    "                                    auto a = j+k-p+1;\n",
    "                                    auto left  = a>=0 and a<c.size() ? c[a] : Type_out();\n",
    "                                    //std :: cout << \"right\" << std :: endl ;\n",
    "                                    auto b = j+k-p;\n",
    "                                    auto right = b>= 0 and b<c.size() ? c[b] : Type_out();\n",
    "                                    //std :: cout << \"factor\" << std :: endl ;\n",
    "                                    auto factor = p/(t[j+k+1] - t[j+k-p+1]);\n",
    "                                    //std :: cout << \"q\" << std :: endl ;\n",
    "                                    d[j]=factor*(left+(-1.0)*right);\n",
    "                                    \n",
    "                                }\n",
    "                                \n",
    "                                 //\n",
    "                                //std :: cout << \"deBoor\" << std :: endl ;\n",
    "                                type alpha  =type();\n",
    "                                //type dalpha =type();\n",
    "                                for(auto r = 1 ; r !=p+1; ++r){\n",
    "                                    //std :: cout << \"r : \" << r << std :: endl ;\n",
    "                                    for(auto j = p-1; j!=r-1; --j){\n",
    "                                        //std :: cout << \"r : \" << r << std :: endl ;\n",
    "                                        auto right = j+1+k-r;\n",
    "                                        auto left = j+k-(p-1);\n",
    "                                        alpha = (x - t[left]) / (t[right] - t[left]);\n",
    "                                        d[j] = (1.0 - alpha) * d[j-1] + alpha * d[j];\n",
    "\n",
    "                                    }\n",
    "                                }                                \n",
    "                                \n",
    "                                Type_out output;\n",
    "                                auto out = d[p-1];                                \n",
    "                                std::copy(std::begin(out),std::end(out),std::begin(output));                                \n",
    "                                return output;                                \n",
    "                                \n",
    "                            } else {\n",
    "  \n",
    "                    //****************************       \n",
    "\n",
    "                                //\n",
    "                                auto jj=0;\n",
    "                                for(auto j=0; j!= p+1 ; ++j){\n",
    "                                    if(j+k-p>=0 and j+k-p < c.size() ){\n",
    "                                        d[j]=c[j+k-p];\n",
    "                                    }else {\n",
    "                                        d[j] = Type_out();\n",
    "                                    }\n",
    "                                }\n",
    "\n",
    "                                //\n",
    "                                std :: cout << \"k : \" << k << std :: endl ;\n",
    "                                type alpha = type();\n",
    "                                for(auto r = 1 ; r !=p+1; ++r){\n",
    "                                    for(auto j = p; j!=r-1; --j){\n",
    "                                        alpha  = (x - t[j+k-p]) / (t[j+1+k-r] - t[j+k-p]);\n",
    "                                        d[j] = (1.0 - alpha) * d[j-1] + alpha * d[j];                                       \n",
    "                                    }\n",
    "                                }\n",
    "\n",
    "                                //\n",
    "                                Type_out output;\n",
    "                                single_cp_t out = d[p];                   \n",
    "                                std::copy(std::begin(out),std::end(out),std::begin(output));\n",
    "                                return output;\n",
    "                            \n",
    "                            }\n",
    "\n",
    "\n",
    "                        };\n",
    "                    \n",
    "//********************************************************************************************************************\n",
    "\n",
    "                    protected :\n",
    "                       Bspline<type,1,codimension> iterative_deBoor (const Type_in x) const {\n",
    "                           \n",
    "                            // https://pages.mtu.edu/~shene/COURSES/cs3621/NOTES/surface/bspline-de-boor.html\n",
    "\n",
    "                                //\n",
    "                                std :: array<type,dimension-1> x_surf;\n",
    "                                std :: copy(std::next(x.begin()),x.end(),x_surf.begin());\n",
    "\n",
    "                                //\n",
    "                                template_knots_t<dimension-1> curve_knot = {} ;\n",
    "                                std :: copy ( std :: next (_kv.begin()) , _kv.end() , curve_knot.begin() );\n",
    "\n",
    "                                //\n",
    "                                t_dim m  = _kv[0].n();\n",
    "                                    \n",
    "                                //\n",
    "                                template_cp_t<1> surface_cp = {{m}};  \n",
    "                                Bspline<type,dimension-1,codimension> curve(curve_knot);\n",
    "\n",
    "                                //                                    \n",
    "                                for(auto i=0; i<m ; ++i){                                       \n",
    "                                    curve.set_control_points(_cp[i]);                                        \n",
    "                                    surface_cp[i]=curve(x_surf);\n",
    "                                }\n",
    "                                    \n",
    "                                //\n",
    "                                template_knots_t<1> sub_kv = {_kv[0]};\n",
    "                                    \n",
    "                                //                           \n",
    "                                return Bspline<type,1,codimension>(sub_kv,surface_cp);\n",
    "                           \n",
    "                       }\n",
    "                    \n",
    "//********************************************************************************************************************\n",
    "\n",
    "                    //valutazione del polinomio in x\n",
    "                    public :\n",
    "                        Type_out operator () ( const Type_in x ) const {\n",
    "                                if constexpr ( dimension == 1 ){                                    \n",
    "                                    return deBoor(x[0]);                                       \n",
    "                                } else {\n",
    "                                    auto curve_final = iterative_deBoor(x); \n",
    "                                    return curve_final.deBoor(x[0]);\n",
    "                                }\n",
    "                        };\n",
    "\n",
    "                    //vectorized polinomial evaluation\n",
    "                    public :\n",
    "                        template < template < class ... > class vect = std :: vector >\n",
    "                            vect <Type_out> operator () ( const vect < Type_in > x ) const { \n",
    "                                vect <Type_out> y (x.size());\n",
    "                                std :: transform( std :: begin(x), std :: end(x), std :: begin(y),\n",
    "                                    [&]( const auto a ) { return (*this)(a);});   \n",
    "                                return y;\n",
    "\n",
    "                            };\n",
    "                    \n",
    "//********************************************************************************************************************\n",
    "                    \n",
    "                    public :\n",
    "                        thisclass transpose (const t_dim left , const t_dim right)const{\n",
    "                            \n",
    "                            if (left==right){return *this;}\n",
    "                            \n",
    "                            knots_t new_kv = this->knots_vector();\n",
    "                            std::swap(new_kv[left],new_kv[right]); \n",
    "                            \n",
    "                            auto new_cp = this->control_points();\n",
    "                            new_cp = new_cp.transpose(left,right);\n",
    "                            \n",
    "                            return thisclass (new_kv,new_cp);\n",
    "                            \n",
    "                        }\n",
    "                 \n",
    "                    public :\n",
    "                        jacobian_t jacobian ( const Type_in x ) const {\n",
    "                            \n",
    "                            //curve costanti a tratti: lo jacobian è nullo\n",
    "                            if(_kv[0].p()<=0){ return jacobian_t();}\n",
    "                            \n",
    "                            if constexpr (dimension==1){   \n",
    "                                \n",
    "                                //questo funziona\n",
    "                                auto out = deBoor(x[0],true);                                \n",
    "                                jacobian_t output;                                \n",
    "                                for(auto i=0;i<codimension;++i){\n",
    "                                    output[0][i]=out[i];\n",
    "                                }                                 \n",
    "                                return output;\n",
    "                                    \n",
    "                            } else {\n",
    "                                \n",
    "                                jacobian_t output;                                \n",
    "                                thisclass newBspline;\n",
    "                                \n",
    "                                for(auto i=0;i<dimension;++i){                                    \n",
    "                                   \n",
    "                                    auto newBspline = this->transpose(0,i);\n",
    "                                    Bspline<type,1,codimension> curve_final = newBspline.iterative_deBoor(x);\n",
    "                                    \n",
    "                                    std :: array<type,1> X = {x[0]};                                    \n",
    "                                    std::array<std::array<type,codimension>,1> a = curve_final.jacobian(X);                                    \n",
    "                                    std::array<double,codimension> b = a[0];                                    \n",
    "                                    output[i]=b;\n",
    "                                }\n",
    "                                \n",
    "                                return output;            \n",
    "                                \n",
    "                            }\n",
    "                            \n",
    "                        }\n",
    "                    \n",
    "                    public :\n",
    "                        template < template < class ... > class vect = std :: vector >\n",
    "                            vect <jacobian_t> jacobian ( const vect < Type_in > x ) const { \n",
    "                                vect <jacobian_t> y (x.size());\n",
    "                                std :: transform( std :: begin(x), std :: end(x), std :: begin(y),\n",
    "                                    [&]( const auto a ) { return jacobian(a);});   \n",
    "                                return y;\n",
    "\n",
    "                            };\n",
    "                    \n",
    "//********************************************************************************************************************                    \n",
    "                    \n",
    "                    public :\n",
    "                        template < ut_dim Dim >\n",
    "                            type determinant ( const square_matrix_t<type,Dim> mat ) const {\n",
    "\n",
    "                                std :: cout << \"determinant \" << Dim << std :: endl;\n",
    "                                if constexpr ( Dim == 1 ){\n",
    "                                    return mat[0][0];\n",
    "                                } else if ( Dim == 2 ){\n",
    "                                    return (mat[0][0] * mat[1][1]) - (mat[1][0] * mat[0][1]);\n",
    "                                } else {\n",
    "                                    \n",
    "                                    square_matrix_t<type,Dim-1> submat;\n",
    "                                    type d = type ();   \n",
    "                                    for (auto c = 0; c < Dim; ++c){                                        \n",
    "                                        int subi = 0; //submatrix's i value                                        \n",
    "                                        for (auto i = 1; i < Dim; ++i){\n",
    "                                            int subj = 0;\n",
    "                                            for (auto j = 0; j < Dim; ++j){\n",
    "                                                if (j == c){\n",
    "                                                    continue;\n",
    "                                                }\n",
    "\n",
    "                                                submat[subi][subj] = mat[i][j];\n",
    "                                                subj++;                \n",
    "                                            }          \n",
    "                                            subi++;\n",
    "                                        }\n",
    "                                        d += std::pow(-1, c) * mat[0][c] * determinant(submat);\n",
    "                                    }      \n",
    "                                    \n",
    "                                   return d ; \n",
    "                                }\n",
    "\n",
    "                            };\n",
    "                    \n",
    "                    public :\n",
    "                        type jacobian_determinant ( const Type_in x ) const { \n",
    "                            \n",
    "                            static_assert(codimension>=dimension,\"error:codimension < dimension\");\n",
    "                            \n",
    "                            auto jac = this->jacobian(x);\n",
    "                            \n",
    "                            if constexpr (dimension==codimension){\n",
    "                                \n",
    "                                std :: cout << \"jacobian_determinant \" << \"dimension==codimension\" << std :: endl;\n",
    "                                \n",
    "                                auto d = determinant(jac);\n",
    "                                return std :: abs (d);\n",
    "                                \n",
    "                            } else if (dimension == 1){\n",
    "                                \n",
    "                                std :: cout << \"jacobian_determinant \" << \"dimension == 1\" << std :: endl;\n",
    "                                              \n",
    "                                type det = type();                                \n",
    "                                for(auto i=0;i<codimension;++i){\n",
    "                                   det += std :: pow(jac[i][0],2.0);\n",
    "                                }\n",
    "                                return std :: sqrt(det);\n",
    "                                \n",
    "                            } else {           \n",
    "                                \n",
    "                                std :: cout << \"jacobian_determinant \" << \"else\" << std :: endl;\n",
    "                                return type();\n",
    "                            }\n",
    "                            \n",
    "                        };\n",
    "                    \n",
    "                    public :\n",
    "                        template < template < class ... > class vect = std :: vector >\n",
    "                            vect <type> jacobian_determinant ( const vect < Type_in > x ) const { \n",
    "                                vect <type> y (x.size());\n",
    "                                std :: transform( std :: begin(x), std :: end(x), std :: begin(y),\n",
    "                                    [&]( const auto a ) { return jacobian_determinant(a);});   \n",
    "                                return y;\n",
    "\n",
    "                            };\n",
    "                    \n",
    "//********************************************************************************************************************\n",
    "                    \n",
    "                    public :\n",
    "                        dynamic_vector < dimension , bool > basis_domain( const Index_t index ){\n",
    "                            \n",
    "                            //https://pages.mtu.edu/~shene/COURSES/cs3621/NOTES/spline/B-spline/bspline-basis.html\n",
    "                            \n",
    "                            if constexpr ( dimension == 1 ){\n",
    "                                \n",
    "                                auto p = this -> p();\n",
    "                                auto i = index[0];\n",
    "                                auto k = this-> knots(0);\n",
    "                                auto N = k.size();\n",
    "                                \n",
    "                                std :: vector < bool > out (N,false);\n",
    "                                \n",
    "                                for(auto j=i;j!=p+i;++j){\n",
    "                                    //if(j<=i and j < p+i ){\n",
    "                                        out[j]=true;\n",
    "                                    //}\n",
    "                                }\n",
    "                                \n",
    "                                \n",
    "                                \n",
    "                                dynamic_vector < 1 , bool > out = {{ N }} ;\n",
    "                                \n",
    "                                \n",
    "                                \n",
    "                            } else {\n",
    "                                \n",
    "                                \n",
    "                            }\n",
    "                            \n",
    "                            \n",
    "                        }\n",
    "                    \n",
    "//********************************************************************************************************************\n",
    "\n",
    "                    public :\n",
    "                        inline auto knots(const t_dim index) const { return _kv[index].knots(); }                    \n",
    "                    public :\n",
    "                        inline knots_t knots_vector() const { return _kv; }      \n",
    "                    public :\n",
    "                        inline auto intervals(const t_dim index) const { \n",
    "                            auto a = this->knots(index);\n",
    "                            return std :: unique (a.begin(),a.end());                        \n",
    "                        }  \n",
    "                    public :\n",
    "                        inline auto p() const { return _kv.p(); }                    \n",
    "                     public :\n",
    "                        inline auto n() const { return _kv.n(); }\n",
    "                    public :\n",
    "                        inline cp_t control_points() const { return _cp; }\n",
    "                    \n",
    "//********************************************************************************************************************\n",
    "                    \n",
    "                    public :\n",
    "                        auto clear (){                            \n",
    "                                Index_t init = Index_t();\n",
    "                                for(auto i=0; i<dimension; ++i){                               \n",
    "                                    init[i]=_kv[i].n();      \n",
    "                                }\n",
    "                                _cp = cp_t (init);\n",
    "                            \n",
    "                            return init;\n",
    "                            \n",
    "                        };\n",
    "                        \n",
    "//********************************************************************************************************************\n",
    "\n",
    "                     protected :\n",
    "                        inline void set_knots(const knots_t user_kv ) { _kv = user_kv ; }\n",
    "                        \n",
    "                     public :\n",
    "                        inline void set_control_points(const cp_t user_cp ) { _cp = user_cp ; }\n",
    "\n",
    "\n",
    "//********************************************************************************************************************\n",
    "\n",
    "                    protected :\n",
    "                        cp_t _cp; //control points\n",
    "\n",
    "                    protected :\n",
    "                        knots_t _kv; //knot vectors\n",
    "                    \n",
    "                    /*protected :\n",
    "                        metropolis_t metropolis_algorithm;*/\n",
    "                        \n",
    "\n",
    "                    #undef thisclass\n",
    "                };\n",
    "\n",
    "            }\n",
    "\n",
    "        }\n",
    "\n",
    "}"
   ]
  },
  {
   "cell_type": "code",
   "execution_count": 2,
   "metadata": {},
   "outputs": [],
   "source": [
    "#include \"Bspline.h\""
   ]
  },
  {
   "cell_type": "code",
   "execution_count": 3,
   "metadata": {},
   "outputs": [],
   "source": [
    "using namespace eliastocco :: polynomial :: Bspline;"
   ]
  },
  {
   "cell_type": "code",
   "execution_count": 4,
   "metadata": {},
   "outputs": [],
   "source": [
    "knot_vector<double> kv = {1,4,{0,1,2,3,4,5}}"
   ]
  },
  {
   "cell_type": "code",
   "execution_count": 5,
   "metadata": {},
   "outputs": [],
   "source": [
    "std :: array<knot_vector<double>,1> kv_v = {kv}"
   ]
  },
  {
   "cell_type": "code",
   "execution_count": 6,
   "metadata": {},
   "outputs": [],
   "source": [
    "Bspline<double,1,1> bs (kv_v)"
   ]
  },
  {
   "cell_type": "code",
   "execution_count": 7,
   "metadata": {},
   "outputs": [],
   "source": [
    "std :: array<double,1> a = {1}"
   ]
  },
  {
   "cell_type": "code",
   "execution_count": 8,
   "metadata": {},
   "outputs": [],
   "source": [
    "std :: array<t_dim,1> i ;\n",
    "std :: array<double,1> coeff ;"
   ]
  },
  {
   "cell_type": "code",
   "execution_count": 9,
   "metadata": {},
   "outputs": [
    {
     "data": {
      "text/plain": [
       "0.50000000"
      ]
     },
     "execution_count": 9,
     "metadata": {},
     "output_type": "execute_result"
    }
   ],
   "source": [
    "bs.clear();\n",
    "i[0]=0;\n",
    "coeff[0]=1.0;\n",
    "a[0]=0.5;\n",
    "bs.set(i,coeff);\n",
    "bs(a)[0]"
   ]
  },
  {
   "cell_type": "code",
   "execution_count": 10,
   "metadata": {},
   "outputs": [
    {
     "data": {
      "text/plain": [
       "{ @0x7fffc926f0e0, @0x7fffc926f0e8, @0x7fffc926f0f0 }"
      ]
     },
     "execution_count": 10,
     "metadata": {},
     "output_type": "execute_result"
    }
   ],
   "source": [
    "bs({{2.0},{3.0},{4.0}})"
   ]
  },
  {
   "cell_type": "code",
   "execution_count": 11,
   "metadata": {},
   "outputs": [],
   "source": [
    "auto g = bs.jacobian({3.0})"
   ]
  },
  {
   "cell_type": "code",
   "execution_count": 12,
   "metadata": {},
   "outputs": [
    {
     "data": {
      "text/plain": [
       "@0x7ff93f1e00b8"
      ]
     },
     "execution_count": 12,
     "metadata": {},
     "output_type": "execute_result"
    }
   ],
   "source": [
    "g = bs.jacobian({4.0})"
   ]
  },
  {
   "cell_type": "code",
   "execution_count": 17,
   "metadata": {},
   "outputs": [
    {
     "data": {
      "text/plain": [
       "1.0000000"
      ]
     },
     "execution_count": 17,
     "metadata": {},
     "output_type": "execute_result"
    }
   ],
   "source": [
    "bs.jacobian_determinant({1.0})"
   ]
  },
  {
   "cell_type": "code",
   "execution_count": 13,
   "metadata": {},
   "outputs": [],
   "source": [
    "auto cp = bs.control_points()"
   ]
  },
  {
   "cell_type": "code",
   "execution_count": 14,
   "metadata": {},
   "outputs": [],
   "source": [
    "std :: vector < std :: array < double , 1 > > ciao (3)"
   ]
  },
  {
   "cell_type": "code",
   "execution_count": 15,
   "metadata": {},
   "outputs": [],
   "source": [
    "ciao[0][0]=2.0;\n",
    "ciao[1][0]=3.0;\n",
    "ciao[2][0]=3.0;"
   ]
  },
  {
   "cell_type": "code",
   "execution_count": 16,
   "metadata": {},
   "outputs": [
    {
     "data": {
      "text/plain": [
       "{ @0x7fffed22b310, @0x7fffed22b318, @0x7fffed22b320 }"
      ]
     },
     "execution_count": 16,
     "metadata": {},
     "output_type": "execute_result"
    }
   ],
   "source": [
    "bs.jacobian(ciao)"
   ]
  },
  {
   "cell_type": "code",
   "execution_count": 17,
   "metadata": {},
   "outputs": [
    {
     "data": {
      "text/plain": [
       "0.0000000"
      ]
     },
     "execution_count": 17,
     "metadata": {},
     "output_type": "execute_result"
    }
   ],
   "source": [
    "g[0][0]"
   ]
  },
  {
   "cell_type": "code",
   "execution_count": 18,
   "metadata": {},
   "outputs": [],
   "source": [
    "std :: array<knot_vector<double>,2> kv_v2 = {kv,kv}"
   ]
  },
  {
   "cell_type": "code",
   "execution_count": 19,
   "metadata": {},
   "outputs": [
    {
     "data": {
      "text/plain": [
       "{ 0.0000000, 1.0000000, 2.0000000, 3.0000000, 4.0000000, 5.0000000 }"
      ]
     },
     "execution_count": 19,
     "metadata": {},
     "output_type": "execute_result"
    }
   ],
   "source": [
    "kv"
   ]
  },
  {
   "cell_type": "code",
   "execution_count": 20,
   "metadata": {},
   "outputs": [],
   "source": [
    "Bspline<double,2,1> bs2 (kv_v2)"
   ]
  },
  {
   "cell_type": "code",
   "execution_count": 21,
   "metadata": {},
   "outputs": [],
   "source": [
    "std :: array < double , 2 > x2 = {0.0,0.0}"
   ]
  },
  {
   "cell_type": "code",
   "execution_count": 22,
   "metadata": {},
   "outputs": [
    {
     "data": {
      "text/plain": [
       "@0x7fffedfb73c0"
      ]
     },
     "execution_count": 22,
     "metadata": {},
     "output_type": "execute_result"
    }
   ],
   "source": [
    "bs2(x2)"
   ]
  },
  {
   "cell_type": "code",
   "execution_count": 23,
   "metadata": {},
   "outputs": [],
   "source": [
    "std :: vector < std :: array < double , 2 > > Ciao (3)"
   ]
  },
  {
   "cell_type": "code",
   "execution_count": 24,
   "metadata": {},
   "outputs": [],
   "source": [
    "Ciao[0]={2.0,3.0};\n",
    "Ciao[1]={3.0,1.0};\n",
    "Ciao[2]={1.0,2.0};"
   ]
  },
  {
   "cell_type": "code",
   "execution_count": 25,
   "metadata": {},
   "outputs": [],
   "source": [
    "auto gg = bs2.jacobian(Ciao[0])"
   ]
  },
  {
   "cell_type": "code",
   "execution_count": 26,
   "metadata": {},
   "outputs": [],
   "source": [
    "auto G = bs2.jacobian(Ciao[0])"
   ]
  },
  {
   "cell_type": "code",
   "execution_count": 27,
   "metadata": {},
   "outputs": [
    {
     "data": {
      "text/plain": [
       "0.0000000"
      ]
     },
     "execution_count": 27,
     "metadata": {},
     "output_type": "execute_result"
    }
   ],
   "source": [
    "G.at(1).at(0)"
   ]
  },
  {
   "cell_type": "code",
   "execution_count": 28,
   "metadata": {},
   "outputs": [
    {
     "data": {
      "text/plain": [
       "{ @0x7fffed4233a0, @0x7fffed4233a8, @0x7fffed4233b0 }"
      ]
     },
     "execution_count": 28,
     "metadata": {},
     "output_type": "execute_result"
    }
   ],
   "source": [
    "bs2({{2.0,1.0},{3.0,4.0},{4.0,4.0}})"
   ]
  },
  {
   "cell_type": "code",
   "execution_count": null,
   "metadata": {},
   "outputs": [],
   "source": []
  }
 ],
 "metadata": {
  "kernelspec": {
   "display_name": "C++17",
   "language": "C++17",
   "name": "xcpp17"
  },
  "language_info": {
   "codemirror_mode": "text/x-c++src",
   "file_extension": ".cpp",
   "mimetype": "text/x-c++src",
   "name": "c++",
   "version": "17"
  },
  "latex_envs": {
   "LaTeX_envs_menu_present": true,
   "autoclose": true,
   "autocomplete": true,
   "bibliofile": "biblio.bib",
   "cite_by": "apalike",
   "current_citInitial": 1,
   "eqLabelWithNumbers": true,
   "eqNumInitial": 1,
   "hotkeys": {
    "equation": "Ctrl-E",
    "itemize": "Ctrl-I"
   },
   "labels_anchors": false,
   "latex_user_defs": false,
   "report_style_numbering": false,
   "user_envs_cfg": false
  },
  "toc": {
   "base_numbering": 1,
   "nav_menu": {},
   "number_sections": true,
   "sideBar": true,
   "skip_h1_title": false,
   "title_cell": "Table of Contents",
   "title_sidebar": "Contents",
   "toc_cell": false,
   "toc_position": {},
   "toc_section_display": true,
   "toc_window_display": false
  }
 },
 "nbformat": 4,
 "nbformat_minor": 4
}
