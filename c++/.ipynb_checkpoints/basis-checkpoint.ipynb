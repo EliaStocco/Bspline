{
 "cells": [
  {
   "cell_type": "code",
   "execution_count": 3,
   "metadata": {},
   "outputs": [],
   "source": [
    ".include header"
   ]
  },
  {
   "cell_type": "code",
   "execution_count": 4,
   "metadata": {},
   "outputs": [
    {
     "name": "stdout",
     "output_type": "stream",
     "text": [
      "Overwriting header/basis.h\n"
     ]
    }
   ],
   "source": [
    "%%file header/basis.h\n",
    "#pragma once\n",
    "\n",
    "#include \"eliastocco_namespace_polynomial.h\"\n",
    "//necessario includerlo\n",
    "#include \"evaluate.h\"\n",
    "\n",
    "namespace eliastocco {\n",
    "\n",
    "    namespace polynomial {    \n",
    "\n",
    "        template < class type , t_dim dimension > //, t_dim codimension = 1 >\n",
    "            class basis : public t_ptr<type,dimension> {\n",
    "\n",
    "                //default constructor\n",
    "                public :\n",
    "                    basis() : t_ptr<type,dimension> (){};\n",
    "                    \n",
    "                //copy constuctor            \n",
    "                public :\n",
    "                    basis ( const t_ptr<type,dimension> user_basis) \n",
    "                        : basis(user_basis , \n",
    "                        eliastocco::polynomial::default_polynomial_evaluation<type,dimension,1>){};\n",
    "                        \n",
    "                //copy constuctor            \n",
    "                public :\n",
    "                    basis ( const t_ptr<type,dimension> user_basis , \n",
    "                                t_eval<type,dimension,1> user_evaluate ) \n",
    "                        : t_ptr<type,dimension> (user_basis),\n",
    "                            evaluate_lambda(user_evaluate) {};\n",
    "\n",
    "                \n",
    "                            \n",
    "//*******************************************************************************************************************\n",
    "\n",
    "                public:\n",
    "                    virtual type evaluate \n",
    "                        ( const t_coeff_array_basis <type,dimension> _coeffs ,\n",
    "                            const t_var<type,dimension> x ) {\n",
    "\n",
    "                        return evaluate_lambda(_coeffs,(*this),x);\n",
    "\n",
    "                    };\n",
    "                    \n",
    "                public :\n",
    "                    virtual const t_func < type , dimension > operator [](const t_deg<dimension> index) const {                    \n",
    "                        const auto & a = dereference();\n",
    "                        return a.at(index);\n",
    "                    };\n",
    "                    \n",
    "//*******************************************************************************************************************\n",
    "\n",
    "                private :\n",
    "                    inline const auto & dereference () const \n",
    "                        { return *( t_ptr<type,dimension> :: get () ) ; }\n",
    "\n",
    "                \n",
    "\n",
    "                public :\n",
    "                    auto size () const {                 \n",
    "                        const auto & a = dereference();\n",
    "                        return a.size();                \n",
    "                    };\n",
    "\n",
    "                protected :\n",
    "                    t_eval<type,dimension,1> evaluate_lambda;                  \n",
    "              \n",
    "\n",
    "\n",
    "            };\n",
    "    \n",
    "    }\n",
    "        \n",
    "}"
   ]
  },
  {
   "cell_type": "code",
   "execution_count": 8,
   "metadata": {},
   "outputs": [
    {
     "name": "stderr",
     "output_type": "stream",
     "text": [
      "\u001b[1minput_line_7:2:2: \u001b[0m\u001b[0;1;31merror: \u001b[0m\u001b[1muse of undeclared identifier 'eliastocco'\u001b[0m\n",
      " eliastocco :: polynomial :: basis < double , 1 > \n",
      "\u001b[0;1;32m ^\n",
      "\u001b[0m\u001b[1minput_line_7:2:45: \u001b[0m\u001b[0;1;31merror: \u001b[0m\u001b[1mexpected '(' for function-style cast or type construction\u001b[0m\n",
      " eliastocco :: polynomial :: basis < double , 1 > \n",
      "\u001b[0;1;32m                                     ~~~~~~ ^\n",
      "\u001b[0m\u001b[1minput_line_7:3:1: \u001b[0m\u001b[0;1;31merror: \u001b[0m\u001b[1mexpected expression\u001b[0m\n",
      ";\n",
      "\u001b[0;1;32m^\n",
      "\u001b[0m"
     ]
    },
    {
     "ename": "Interpreter Error",
     "evalue": "",
     "output_type": "error",
     "traceback": [
      "Interpreter Error: "
     ]
    }
   ],
   "source": [
    "eliastocco :: polynomial :: basis < double , 1 > "
   ]
  }
 ],
 "metadata": {
  "kernelspec": {
   "display_name": "C++14",
   "language": "C++14",
   "name": "xcpp14"
  },
  "language_info": {
   "codemirror_mode": "text/x-c++src",
   "file_extension": ".cpp",
   "mimetype": "text/x-c++src",
   "name": "c++",
   "version": "14"
  },
  "latex_envs": {
   "LaTeX_envs_menu_present": true,
   "autoclose": true,
   "autocomplete": true,
   "bibliofile": "biblio.bib",
   "cite_by": "apalike",
   "current_citInitial": 1,
   "eqLabelWithNumbers": true,
   "eqNumInitial": 1,
   "hotkeys": {
    "equation": "Ctrl-E",
    "itemize": "Ctrl-I"
   },
   "labels_anchors": false,
   "latex_user_defs": false,
   "report_style_numbering": false,
   "user_envs_cfg": false
  },
  "toc": {
   "base_numbering": 1,
   "nav_menu": {},
   "number_sections": true,
   "sideBar": true,
   "skip_h1_title": false,
   "title_cell": "Table of Contents",
   "title_sidebar": "Contents",
   "toc_cell": false,
   "toc_position": {},
   "toc_section_display": true,
   "toc_window_display": false
  }
 },
 "nbformat": 4,
 "nbformat_minor": 4
}
