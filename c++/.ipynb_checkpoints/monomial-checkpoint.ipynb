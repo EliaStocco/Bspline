{
 "cells": [
  {
   "cell_type": "code",
   "execution_count": 1,
   "metadata": {},
   "outputs": [],
   "source": [
    ".include header"
   ]
  },
  {
   "cell_type": "code",
   "execution_count": 2,
   "metadata": {},
   "outputs": [
    {
     "name": "stdout",
     "output_type": "stream",
     "text": [
      "Overwriting header/monomial.h\n"
     ]
    }
   ],
   "source": [
    "%%file header/monomial.h\n",
    "#pragma once\n",
    "\n",
    "#include \"tensor_product.h\"\n",
    "#include \"eliastocco_namespace_polynomial.h\"\n",
    "#include \"basis.h\"\n",
    "#include \"evaluate.h\"\n",
    "\n",
    "\n",
    "namespace eliastocco {\n",
    "\n",
    "    namespace polynomial {\n",
    "    \n",
    "    \n",
    "        template < class type , t_dim dimension >\n",
    "            basis < type , dimension > monomial_basis (const t_deg<dimension> N ){\n",
    "                \n",
    "                //costruttore\n",
    "                return basis < type , dimension > ( make_monomials<type,dimension>(N).value );\n",
    "\n",
    "            };\n",
    "        \n",
    "        \n",
    "        template < class type >\n",
    "            class make_monomials<type,1> {\n",
    "                \n",
    "                public :\n",
    "                    make_monomials<type,1> ( const t_deg<1> N ){                        \n",
    "                        \n",
    "                         value = std :: make_shared < t_basis_function < type , 1 > >();\n",
    "                     \n",
    "                         for (auto i=0;i<=N;++i){\n",
    "                    \n",
    "                            (*value).insert(std :: make_pair(i,[=](const t_var<type,1> x){ return pow(x,i); }));\n",
    "                         }\n",
    "                        \n",
    "                    }\n",
    "                \n",
    "                public :\n",
    "                    t_ptr < type , 1 > value;\n",
    "                \n",
    "            };\n",
    "        \n",
    "    \n",
    "        template < class type , t_dim dimension >\n",
    "            class make_monomials {\n",
    "                \n",
    "                public :\n",
    "                    make_monomials<type,dimension> ( const t_deg<dimension> N ){\n",
    "                        \n",
    "                        t_var<t_degree,1> N_0;\n",
    "                        t_var<t_degree,dimension-1> N_1;\n",
    "                                \n",
    "                        tensor_product::split_array<t_degree,1,dimension-1> X (N);\n",
    "                        std :: tie (N_0,N_1) =  X.value;\n",
    "            \n",
    "                        auto basis_1  = *(make_monomials<type,1> (N_0).value);\n",
    "                        \n",
    "                        auto basis_N_inf = *(make_monomials <type,dimension-1>(N_1).value);\n",
    "           \n",
    "                        auto T = tensor_product :: tensor_product<type,1,dimension-1>( basis_1 , basis_N_inf ).value;\n",
    "                        \n",
    "                        value = std :: make_shared<decltype(T)>(T);\n",
    "                        \n",
    "                    }\n",
    "                \n",
    "                public :\n",
    "                    t_ptr < type , dimension > value;\n",
    "                        \n",
    "                        \n",
    "            };  \n",
    "      \n",
    "    \n",
    "    }\n",
    "    \n",
    "}"
   ]
  },
  {
   "cell_type": "code",
   "execution_count": 3,
   "metadata": {},
   "outputs": [],
   "source": [
    "#include \"monomial.h\""
   ]
  },
  {
   "cell_type": "code",
   "execution_count": 4,
   "metadata": {},
   "outputs": [],
   "source": [
    "using namespace eliastocco :: polynomial;"
   ]
  },
  {
   "cell_type": "code",
   "execution_count": 5,
   "metadata": {},
   "outputs": [],
   "source": [
    "auto A = *(make_monomials<double> (3).value)"
   ]
  },
  {
   "cell_type": "code",
   "execution_count": 6,
   "metadata": {},
   "outputs": [
    {
     "data": {
      "text/plain": [
       "4"
      ]
     },
     "execution_count": 6,
     "metadata": {},
     "output_type": "execute_result"
    }
   ],
   "source": [
    "A.size()"
   ]
  },
  {
   "cell_type": "code",
   "execution_count": 7,
   "metadata": {},
   "outputs": [],
   "source": [
    "auto B = *(make_monomials<double,1> (3).value)"
   ]
  },
  {
   "cell_type": "code",
   "execution_count": 8,
   "metadata": {},
   "outputs": [],
   "source": [
    "auto C = *(make_monomials<double,2> ({3,3}).value)"
   ]
  },
  {
   "cell_type": "code",
   "execution_count": 9,
   "metadata": {},
   "outputs": [],
   "source": [
    "auto T = tensor_product::tensor_product<double,1,1>(A,B).value;"
   ]
  },
  {
   "cell_type": "code",
   "execution_count": 10,
   "metadata": {},
   "outputs": [],
   "source": [
    "auto T3 = tensor_product::tensor_product<double,1,2>(A,T).value;"
   ]
  },
  {
   "cell_type": "code",
   "execution_count": 11,
   "metadata": {},
   "outputs": [],
   "source": [
    "auto t3 = T3 [{0,0,0}]"
   ]
  },
  {
   "cell_type": "code",
   "execution_count": 12,
   "metadata": {},
   "outputs": [
    {
     "data": {
      "text/plain": [
       "1.0000000"
      ]
     },
     "execution_count": 12,
     "metadata": {},
     "output_type": "execute_result"
    }
   ],
   "source": [
    "t3({2,3,4})"
   ]
  },
  {
   "cell_type": "code",
   "execution_count": 13,
   "metadata": {},
   "outputs": [],
   "source": [
    "//auto M3 = *(make_monomials<double,3> ({2,3,4}).value)"
   ]
  },
  {
   "cell_type": "code",
   "execution_count": 14,
   "metadata": {},
   "outputs": [],
   "source": [
    "auto base_polinomiale_1D = monomial_basis<double,1>(3)"
   ]
  },
  {
   "cell_type": "code",
   "execution_count": 15,
   "metadata": {},
   "outputs": [
    {
     "data": {
      "text/plain": [
       "4"
      ]
     },
     "execution_count": 15,
     "metadata": {},
     "output_type": "execute_result"
    }
   ],
   "source": [
    "base_polinomiale_1D.size()"
   ]
  },
  {
   "cell_type": "code",
   "execution_count": 16,
   "metadata": {},
   "outputs": [],
   "source": [
    "auto base_polinomiale_2D = monomial_basis<double,2>({3,4})"
   ]
  },
  {
   "cell_type": "code",
   "execution_count": 17,
   "metadata": {},
   "outputs": [
    {
     "data": {
      "text/plain": [
       "20"
      ]
     },
     "execution_count": 17,
     "metadata": {},
     "output_type": "execute_result"
    }
   ],
   "source": [
    "base_polinomiale_2D.size()"
   ]
  },
  {
   "cell_type": "code",
   "execution_count": 19,
   "metadata": {},
   "outputs": [],
   "source": [
    "auto p = base_polinomiale_2D[{0,0}]"
   ]
  },
  {
   "cell_type": "code",
   "execution_count": 20,
   "metadata": {},
   "outputs": [
    {
     "data": {
      "text/plain": [
       "1.0000000"
      ]
     },
     "execution_count": 20,
     "metadata": {},
     "output_type": "execute_result"
    }
   ],
   "source": [
    "p({2,2})"
   ]
  },
  {
   "cell_type": "markdown",
   "metadata": {},
   "source": [
    "\n",
    "/*   \n",
    "    template < class type > \n",
    "        class monomial_basis : public basis < type > {\n",
    "            \n",
    "            #define thisclass monomial_basis<type>      \n",
    "            \n",
    "            private :\n",
    "                thisclass () {};\n",
    "            \n",
    "            //public :\n",
    "            //    thisclass (const t_basis_function<type> user_monomials ) : monomials (user_monomials) {}\n",
    "            \n",
    "            public :\n",
    "                thisclass (const unsigned int N) \n",
    "                    : thisclass ( N , eliastocco :: default_polynomial_evaluation < type > ) {};\n",
    "              \n",
    "            public :\n",
    "                thisclass (const unsigned int N, const t_eval<type> user_evaluate) \n",
    "                    : basis<type> (make_monomials <type> (N)){\n",
    "                    \n",
    "                    assert ( N > 0 && \"polynomial degree must be greater than 0\");\n",
    "                    // = monomials = ;                    \n",
    "                    _evaluate = user_evaluate;\n",
    "                    \n",
    "                };         \n",
    "            \n",
    "            //virtual specialization\n",
    "            public :\n",
    "                type evaluate (const t_coeff_array<type> coeff, const type x) override { \n",
    "                    return _evaluate(coeff,(*this),x); \n",
    "                };\n",
    "            \n",
    "           \n",
    "            \n",
    "            private :\n",
    "                //t_ptr<type> monomials;\n",
    "                t_eval<type> _evaluate;\n",
    "            \n",
    "            #undef thisclass      \n",
    "            \n",
    "        };\n",
    "        \n",
    "        */\n",
    "    "
   ]
  },
  {
   "cell_type": "code",
   "execution_count": null,
   "metadata": {},
   "outputs": [],
   "source": [
    "//%%file header/monomial.h\n",
    "#pragma once\n",
    "\n",
    "#include \"eliastocco_namespace.h\"\n",
    "#include \"basis.h\"\n",
    "#include \"tensor_product.h\"\n",
    "\n",
    "namespace eliastocco {\n",
    "\n",
    "    namespace polynomial {\n",
    "    \n",
    "        \n",
    "        template < class type >\n",
    "            basis < type , 1 > monomial_basis (const t_deg<1> N ){\n",
    "                \n",
    "                //costruttore\n",
    "                return basis < type , 1 > ( make_monomials<type>(N) );\n",
    "\n",
    "            };\n",
    "        \n",
    "        /*template < class type >\n",
    "            basis < type , 2 > monomial_basis (const t_deg<2> N ){\n",
    "                \n",
    "                //costruttore\n",
    "                return basis < type , 2 > ( make_monomials<type>(N) );\n",
    "\n",
    "            };*/\n",
    "        \n",
    "        template < class type , t_dim dimension >\n",
    "            basis < type , dimension > monomial_basis (const t_deg<dimension> N ){\n",
    "                \n",
    "                //costruttore\n",
    "                return basis < type , dimension > ( make_monomials<type,dimension>(N) );\n",
    "\n",
    "            };\n",
    "        \n",
    "        \n",
    "        \n",
    "        \n",
    "        \n",
    "        //template function overloading\n",
    "        /* template < class type >\n",
    "             t_ptr < type , 1 > make_monomials (const std :: array < t_degree,1> N ){ \n",
    "             \n",
    "                 return make_monomials<type>(N[0]);\n",
    "         \n",
    "         };*/\n",
    "    \n",
    "         //template function overloading\n",
    "         template < class type >\n",
    "             t_ptr < type , 1 > make_monomials (const t_deg<1> N){\n",
    "\n",
    "                 t_ptr < type , 1 > output = std :: make_shared < t_basis_function < type , 1 > >();\n",
    "                     \n",
    "                 for (auto i=0;i<=N;++i){\n",
    "                    //I[0]=i;\n",
    "                    (*output).insert(std :: make_pair(i,[=](const t_var<type,1> x){ return pow(x,i); }));\n",
    "                 }\n",
    "                    return output;\n",
    "                };\n",
    "        \n",
    "         //template function implementation\n",
    "        template < class type >\n",
    "            t_ptr < type , 2 > make_monomials (const t_deg<2> N){\n",
    "            \n",
    "                //static_assert ( dimension > 2 , \"dimension is not greater than 2\");\n",
    "                //creo la base polinomiale di grado 1\n",
    "                auto basis_1  = *make_monomials<type> (N[0]+1);\n",
    "            \n",
    "                auto basis_2  = *make_monomials<type> (N[1]+1);\n",
    "            \n",
    "                auto T = tensor_product :: tensor_product<type>( basis_1 , basis_2 );\n",
    "            \n",
    "                return std :: make_shared<decltype(T)>(T);\n",
    "\n",
    "            \n",
    "            };\n",
    "        \n",
    "        //template function implementation\n",
    "        template < class type , t_dim dimension >\n",
    "            t_ptr < type , dimension > make_monomials (const t_deg<dimension> N){\n",
    "            \n",
    "                //static_assert ( dimension > 2 , \"dimension is not greater than 2\");\n",
    "                //creo la base polinomiale di grado 1\n",
    "            \n",
    "                t_var<t_degree,1> N_0;\n",
    "                t_var<t_degree,dimension-1> N_1;\n",
    "                                \n",
    "                tensor_product::split_array<t_degree,1,dimension-1> X (N);\n",
    "                std :: tie (N_0,N_1) =  X.value;\n",
    "            \n",
    "                auto basis_1  = *make_monomials<type> (N_0+1);\n",
    "            \n",
    "                \n",
    "                //t_ptr < type , dimension-1> basis_N_inf  ;\n",
    "            \n",
    "                //creo un array con i rimanenti gradi polinomiali\n",
    "                //t_deg <dimension-1> N_inf ;\n",
    "                //for ( auto i = 0; i < (dimension-1);++i){ N_inf[i]=N[i+1]; }\n",
    "                    \n",
    "                //creo la base polinomiale di grado inferiore\n",
    "                auto basis_N_inf = *make_monomials < type >(N_1);\n",
    "           \n",
    "                auto T = tensor_product :: tensor_product<type,1,dimension-1>( basis_1 , basis_N_inf );\n",
    "            \n",
    "                return std :: make_shared<decltype(T)>(T);\n",
    "\n",
    "            \n",
    "            };\n",
    "    \n",
    "    }\n",
    "    \n",
    "}"
   ]
  }
 ],
 "metadata": {
  "kernelspec": {
   "display_name": "C++17",
   "language": "C++17",
   "name": "xcpp17"
  },
  "language_info": {
   "codemirror_mode": "text/x-c++src",
   "file_extension": ".cpp",
   "mimetype": "text/x-c++src",
   "name": "c++",
   "version": "17"
  },
  "latex_envs": {
   "LaTeX_envs_menu_present": true,
   "autoclose": true,
   "autocomplete": true,
   "bibliofile": "biblio.bib",
   "cite_by": "apalike",
   "current_citInitial": 1,
   "eqLabelWithNumbers": true,
   "eqNumInitial": 1,
   "hotkeys": {
    "equation": "Ctrl-E",
    "itemize": "Ctrl-I"
   },
   "labels_anchors": false,
   "latex_user_defs": false,
   "report_style_numbering": false,
   "user_envs_cfg": false
  },
  "toc": {
   "base_numbering": 1,
   "nav_menu": {},
   "number_sections": true,
   "sideBar": true,
   "skip_h1_title": false,
   "title_cell": "Table of Contents",
   "title_sidebar": "Contents",
   "toc_cell": false,
   "toc_position": {},
   "toc_section_display": true,
   "toc_window_display": false
  }
 },
 "nbformat": 4,
 "nbformat_minor": 4
}
