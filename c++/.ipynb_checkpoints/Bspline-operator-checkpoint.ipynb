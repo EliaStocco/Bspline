{
 "cells": [
  {
   "cell_type": "code",
   "execution_count": 2,
   "metadata": {},
   "outputs": [],
   "source": [
    ".include header"
   ]
  },
  {
   "cell_type": "code",
   "execution_count": 3,
   "metadata": {},
   "outputs": [
    {
     "name": "stdout",
     "output_type": "stream",
     "text": [
      "Writing header/Bspline-operator.h\n"
     ]
    }
   ],
   "source": [
    "%%file header/Bspline_operator.h\n",
    "#pragma once\n",
    "\n",
    "#include \"eliastocco_namespace_Bspline.h\"\n",
    "\n",
    "\n",
    "namespace eliastocco {\n",
    "\n",
    "    namespace polynomial {\n",
    "\n",
    "        namespace Bspline {\n",
    "            \n",
    "            template < class type , t_dim dimension > \n",
    "                std :: array<type,dimension> operator* \n",
    "                    (const std :: array<type,dimension> left , const type right ){\n",
    "                    \n",
    "                        std :: array<type,dimension> output;\n",
    "\n",
    "                        for(auto i=0; i<dimension ; ++i){\n",
    "                            output[i]=left[i]*right;\n",
    "                        }\n",
    "                        return output;\n",
    "                    \n",
    "                };\n",
    "            \n",
    "            template < class type , t_dim dimension > \n",
    "                std :: array<type,dimension> operator* \n",
    "                    (const type left , const std :: array<type,dimension> right ){\n",
    "                    \n",
    "                        std :: array<type,dimension> output;\n",
    "\n",
    "                        for(auto i=0; i<dimension ; ++i){\n",
    "                            output[i]=left*right[i];\n",
    "                        }\n",
    "                        return output;\n",
    "                    \n",
    "                };\n",
    "            \n",
    "            template < class type , t_dim dimension > \n",
    "                std :: array<type,dimension> operator+ \n",
    "                    (const std :: array<type,dimension> left , const std :: array<type,dimension> right ){\n",
    "                    \n",
    "                        std :: array<type,dimension> output;\n",
    "\n",
    "                        for(auto i=0; i<dimension ; ++i){\n",
    "                            output[i]=left[i]+right[i];\n",
    "                        }\n",
    "                        return output;\n",
    "                    \n",
    "                };\n",
    "            \n",
    "        }\n",
    "        \n",
    "    }\n",
    "    \n",
    "}"
   ]
  },
  {
   "cell_type": "code",
   "execution_count": null,
   "metadata": {},
   "outputs": [],
   "source": []
  }
 ],
 "metadata": {
  "kernelspec": {
   "display_name": "C++17",
   "language": "C++17",
   "name": "xcpp17"
  },
  "language_info": {
   "codemirror_mode": "text/x-c++src",
   "file_extension": ".cpp",
   "mimetype": "text/x-c++src",
   "name": "c++",
   "version": "17"
  },
  "latex_envs": {
   "LaTeX_envs_menu_present": true,
   "autoclose": true,
   "autocomplete": true,
   "bibliofile": "biblio.bib",
   "cite_by": "apalike",
   "current_citInitial": 1,
   "eqLabelWithNumbers": true,
   "eqNumInitial": 1,
   "hotkeys": {
    "equation": "Ctrl-E",
    "itemize": "Ctrl-I"
   },
   "labels_anchors": false,
   "latex_user_defs": false,
   "report_style_numbering": false,
   "user_envs_cfg": false
  },
  "toc": {
   "base_numbering": 1,
   "nav_menu": {},
   "number_sections": true,
   "sideBar": true,
   "skip_h1_title": false,
   "title_cell": "Table of Contents",
   "title_sidebar": "Contents",
   "toc_cell": false,
   "toc_position": {},
   "toc_section_display": true,
   "toc_window_display": false
  }
 },
 "nbformat": 4,
 "nbformat_minor": 4
}
