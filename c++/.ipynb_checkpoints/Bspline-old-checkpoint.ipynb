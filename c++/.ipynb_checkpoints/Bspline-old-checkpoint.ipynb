{
 "cells": [
  {
   "cell_type": "code",
   "execution_count": 1,
   "metadata": {},
   "outputs": [],
   "source": [
    ".include header"
   ]
  },
  {
   "cell_type": "code",
   "execution_count": 2,
   "metadata": {},
   "outputs": [
    {
     "name": "stdout",
     "output_type": "stream",
     "text": [
      "Overwriting header/Bspline.h\n"
     ]
    }
   ],
   "source": [
    "%%file header/Bspline.h\n",
    "#pragma once\n",
    "\n",
    "#include <vector>\n",
    "#include <exception>\n",
    "#include <memory>\n",
    "\n",
    "#include \"eliastocco_namespace_Bspline.h\"\n",
    "#include \"piecewise-polynomial.h\"\n",
    "#include \"polynomial.h\"\n",
    "#include \"knot_vector.h\"\n",
    "#include \"monomial.h\"\n",
    "#include \"deBoor.h\"\n",
    "\n",
    "namespace eliastocco {\n",
    "\n",
    "    namespace polynomial {    \n",
    "    \n",
    "        namespace Bspline {     \n",
    "        \n",
    "            template < class type , t_dim dimension = 1, t_dim codimension = 1>\n",
    "                using Bspline = polynomial<type,dimension,codimension>;\n",
    "                        \n",
    "                \n",
    "            template < class type , t_dim codimension >\n",
    "                class Bspline_basis\n",
    "                    : public basis<type,1> {   \n",
    "                    \n",
    "                    #define motherclass basis<type,1>\n",
    "                    #define Mothermotherclass t_ptr<type,1>\n",
    "                \n",
    "                    public :\n",
    "                        //definiamo dei polinomi definiti a tratti\n",
    "                        typedef simple_piecewise_polynomial <type,1,1> s_pol_t;      \n",
    "                        typedef piecewise_polynomial <type,1,1> pol_t;                     \n",
    "\n",
    "                    public :\n",
    "                        Bspline_basis<type> ( const knot_vector<type> kv ) \n",
    "                            : basis<type,1>(std :: make_shared < t_basis_function < type , 1 > >()),\n",
    "                             N(kv.n()),\n",
    "                             P(kv.p()),\n",
    "                             knots(kv.knots()),\n",
    "                             deBoor(make_deBoor<type,1,codimension>(kv.n(),kv.p(),kv.knots())),\n",
    "                             zero(){      \n",
    "                        \n",
    "                            //questo è il numero di funzioni di base\n",
    "                            //const auto N = kv.n();\n",
    "                            \n",
    "                            //dovrò iterare p volte per ottenere la corretta base di funzioni\n",
    "                            //const auto P = kv.p();\n",
    "                            \n",
    "                            //knots\n",
    "                            //const auto knots = kv.knots();\n",
    "                            \n",
    "                //****************************************************************\n",
    "                            \n",
    "                            //definisco un array di polinomi definiti a tratti\n",
    "                            //std :: vector < pol_t > Basis (N+P);\n",
    "                            Basis = std :: vector < pol_t >(N+P);\n",
    "                            \n",
    "                            //muore la base!!\n",
    "                            //auto mon_base = monomial_basis<type,1>(P);\n",
    "                            mon_base = monomial_basis<type,1>(P);\n",
    "                            \n",
    "                            //definisco la base con p=0\n",
    "                            for ( auto i = 0 ; i < Basis.size() ; ++i ){\n",
    "                            \n",
    "                                //inizializzo i polinomi\n",
    "                                s_pol_t temp (&mon_base);                                \n",
    "                                //\n",
    "                                auto domain = square_range<type,1>(knots[i],knots[i+1]);\n",
    "                                //imposto i coefficienti\n",
    "                                temp.set(0,1);\n",
    "                                //imposto il dominio\n",
    "                                temp.set_domain(domain);\n",
    "                                \n",
    "                                //\n",
    "                                Basis.at(i) = temp ;   \n",
    "                                \n",
    "                            }\n",
    "                            \n",
    "                //****************************************************************\n",
    "                            \n",
    "                            //identità : prima era sbagliato\n",
    "                            s_pol_t z = polynomial <type,1,1> ({ {0,1} } , &mon_base); \n",
    "                            //std :: cout << \"identity : \" << z(0.0) << std :: endl;\n",
    "                        \n",
    "                            //alloco la base in cui inserirò le funzioni di gradi p-1\n",
    "                            std :: vector < pol_t > old ;\n",
    "                            \n",
    "                            unsigned int p = 1 ;\n",
    "                            do {\n",
    "                            \n",
    "                                old = Basis;\n",
    "                                //modifico la lunghezza della base\n",
    "                                Basis.resize(Basis.size()-1);\n",
    "                                \n",
    "                                // moltiplico tra di loro le funzioni di base\n",
    "                                for ( auto i = 0 ; i < Basis.size() ; ++i ){\n",
    "                                \n",
    "                                    auto den_1 = 1.0 / ( knots[i+p] - knots[i] );\n",
    "                                    auto den_2 = 1.0 / ( knots[i+p+1] - knots[i+1] );\n",
    "                                    \n",
    "                                    auto uno = den_1*(z*old[i]);\n",
    "                                    auto due = (-knots[i]*den_1)*old[i];\n",
    "                                    auto tre = (knots[i+p+1]*den_2)*old[i+1];\n",
    "                                    auto qua = (-den_2)*(z*old[i+1]);\n",
    "                                    \n",
    "                                    Basis[i] = uno + due + tre + qua ;\n",
    "                                   \n",
    "                                }\n",
    "                            \n",
    "                                p++;\n",
    "                            \n",
    "                            } while(p <= P);\n",
    "                            \n",
    "                //****************************************************************  \n",
    "                \n",
    "                            if ( Basis.size() != N ) {\n",
    "                                std :: cout << \"basis size different from theoretic one : \" \n",
    "                                    << Basis.size() << \" !=\" << N << std :: endl; \n",
    "                                throw std::exception();\n",
    "                            }\n",
    "                             \n",
    "                             for (auto i=0;i<Basis.size();++i){\n",
    "                             \n",
    "                                 zero.insert(std :: make_pair(i, t_var<type,codimension>()));\n",
    "                      \n",
    "                                (*static_cast<Mothermotherclass>(*this)).insert(\n",
    "                                    std :: make_pair(i,\n",
    "                                        [&](const t_var<type,1> x){ \n",
    "                                            return Basis[i](x);                                         \n",
    "                                        }  ));\n",
    "                             }\n",
    "                 \n",
    "\n",
    "                        };\n",
    "                        \n",
    "//*******************************************************************************************************************\n",
    "\n",
    "                public:\n",
    "                    virtual type evaluate \n",
    "                        ( const t_coeff_array_basis <type,1> _coeffs ,\n",
    "                            const t_var<type,1> x ) override {\n",
    "                           \n",
    "                           // de Boor algorithm\n",
    "                           \n",
    "                           //_coeffs : control points\n",
    "                           \n",
    "                           return type();\n",
    "\n",
    "                    };\n",
    "                    \n",
    "                 public :\n",
    "                    virtual const t_func < type , 1 > operator [](const t_deg<1> index) const override { \n",
    "                        //return [=](const auto x ){return Basis[index](x);};\n",
    "                        std :: cout << \"Bspline :: operator[]\" << std :: endl;\n",
    "                        return Basis.at(index);\n",
    "                    };\n",
    "                    \n",
    "//*******************************************************************************************************************\n",
    "\n",
    "                public :\n",
    "                   inline auto get_N () const { return N; } ;\n",
    "                \n",
    "                public :\n",
    "                   inline auto get_P () const { return P; } ;\n",
    "                   \n",
    "                public :\n",
    "                   inline auto get_knots () const { return knots; } ;\n",
    "                   \n",
    "//*******************************************************************************************************************\n",
    "                    public :\n",
    "                        std :: vector < pol_t > Basis;\n",
    "                        basis < type , 1 > mon_base;\n",
    "                        \n",
    "                        \n",
    "                         //questo è il numero di funzioni di base\n",
    "                         unsigned int N;\n",
    "                            \n",
    "                         //dovrò iterare p volte per ottenere la corretta base di funzioni\n",
    "                         unsigned int P;\n",
    "                            \n",
    "                         //knots\n",
    "                         std :: vector<type> knots;\n",
    "                         \n",
    "                    public :\n",
    "                        t_eval<type,1,codimension> deBoor;\n",
    "                        t_coeff_array<type,1,codimension> zero;\n",
    "                        \n",
    "                        \n",
    "                    #undef motherclass\n",
    "                    \n",
    "\n",
    "                };               \n",
    "\n",
    "        \n",
    "        }\n",
    "        \n",
    "    }\n",
    "    \n",
    "}"
   ]
  },
  {
   "cell_type": "code",
   "execution_count": 3,
   "metadata": {},
   "outputs": [],
   "source": [
    "#include \"Bspline.h\""
   ]
  },
  {
   "cell_type": "code",
   "execution_count": 4,
   "metadata": {},
   "outputs": [],
   "source": [
    "using namespace eliastocco :: polynomial;"
   ]
  },
  {
   "cell_type": "code",
   "execution_count": 5,
   "metadata": {},
   "outputs": [],
   "source": [
    "Bspline :: knot_vector<double> kv ( 2 , 2 , {1,2,3,4,5} )"
   ]
  },
  {
   "cell_type": "code",
   "execution_count": 6,
   "metadata": {},
   "outputs": [],
   "source": [
    "Bspline ::  Bspline_basis<double,1> base(kv)"
   ]
  },
  {
   "cell_type": "code",
   "execution_count": 7,
   "metadata": {},
   "outputs": [],
   "source": [
    "Bspline ::  Bspline_basis<double,2> base2(kv)"
   ]
  },
  {
   "cell_type": "code",
   "execution_count": 8,
   "metadata": {},
   "outputs": [],
   "source": [
    "auto Base = Bspline :: Bspline_basis<double,1>(kv);"
   ]
  },
  {
   "cell_type": "code",
   "execution_count": 9,
   "metadata": {},
   "outputs": [],
   "source": [
    "auto l = Base[0]"
   ]
  },
  {
   "cell_type": "code",
   "execution_count": 10,
   "metadata": {},
   "outputs": [],
   "source": [
    "//base.at(0) // ERROR"
   ]
  },
  {
   "cell_type": "code",
   "execution_count": 11,
   "metadata": {},
   "outputs": [
    {
     "data": {
      "text/plain": [
       "@0x7ffff48e4f00"
      ]
     },
     "execution_count": 11,
     "metadata": {},
     "output_type": "execute_result"
    }
   ],
   "source": [
    "base.Basis.at(0)//OK"
   ]
  },
  {
   "cell_type": "code",
   "execution_count": 12,
   "metadata": {},
   "outputs": [
    {
     "data": {
      "text/plain": [
       "@0x7ffff62c8c50"
      ]
     },
     "execution_count": 12,
     "metadata": {},
     "output_type": "execute_result"
    }
   ],
   "source": [
    "base[0]//OK"
   ]
  },
  {
   "cell_type": "code",
   "execution_count": 13,
   "metadata": {},
   "outputs": [],
   "source": [
    "polynomial<double,1> pol (&base);"
   ]
  },
  {
   "cell_type": "code",
   "execution_count": 14,
   "metadata": {},
   "outputs": [],
   "source": [
    "polynomial<double,1> pol2 (&base2);"
   ]
  },
  {
   "cell_type": "code",
   "execution_count": 15,
   "metadata": {},
   "outputs": [],
   "source": [
    "Bspline :: Bspline <double,1> POL (&base);//OK"
   ]
  },
  {
   "cell_type": "code",
   "execution_count": 16,
   "metadata": {},
   "outputs": [],
   "source": [
    "Bspline :: Bspline <double,1> Pol (&base)//(base.zero,&base,base.deBoor);//OK"
   ]
  },
  {
   "cell_type": "code",
   "execution_count": 17,
   "metadata": {},
   "outputs": [],
   "source": [
    "Pol.set(0,1);\n",
    "Pol.set(1,3.0);"
   ]
  },
  {
   "cell_type": "code",
   "execution_count": 18,
   "metadata": {},
   "outputs": [
    {
     "ename": "Standard Exception",
     "evalue": "std::bad_alloc",
     "output_type": "error",
     "traceback": [
      "Standard Exception: std::bad_alloc"
     ]
    }
   ],
   "source": [
    "Pol(2.0)"
   ]
  },
  {
   "cell_type": "code",
   "execution_count": 19,
   "metadata": {},
   "outputs": [
    {
     "data": {
      "text/plain": [
       "true"
      ]
     },
     "execution_count": 19,
     "metadata": {},
     "output_type": "execute_result"
    }
   ],
   "source": [
    "pol.set(0,1)"
   ]
  },
  {
   "cell_type": "code",
   "execution_count": 20,
   "metadata": {},
   "outputs": [
    {
     "ename": "Standard Exception",
     "evalue": "std::bad_alloc",
     "output_type": "error",
     "traceback": [
      "Standard Exception: std::bad_alloc"
     ]
    }
   ],
   "source": [
    "pol(1.0)"
   ]
  },
  {
   "cell_type": "code",
   "execution_count": 16,
   "metadata": {},
   "outputs": [],
   "source": [
    "polynomial<double,1> Pol (&Base);"
   ]
  },
  {
   "cell_type": "code",
   "execution_count": 17,
   "metadata": {},
   "outputs": [
    {
     "data": {
      "text/plain": [
       "\"N10eliastocco10polynomial10polynomialIdLj1ELj1EEE\""
      ]
     },
     "execution_count": 17,
     "metadata": {},
     "output_type": "execute_result"
    }
   ],
   "source": [
    "typeid(pol).name()"
   ]
  },
  {
   "cell_type": "code",
   "execution_count": 18,
   "metadata": {},
   "outputs": [
    {
     "data": {
      "text/plain": [
       "true"
      ]
     },
     "execution_count": 18,
     "metadata": {},
     "output_type": "execute_result"
    }
   ],
   "source": [
    "pol.set(0,1)"
   ]
  },
  {
   "cell_type": "code",
   "execution_count": 19,
   "metadata": {},
   "outputs": [
    {
     "data": {
      "text/plain": [
       "0.0000000"
      ]
     },
     "execution_count": 19,
     "metadata": {},
     "output_type": "execute_result"
    }
   ],
   "source": [
    "pol(1.0)"
   ]
  },
  {
   "cell_type": "code",
   "execution_count": 10,
   "metadata": {},
   "outputs": [],
   "source": [
    "Bspline::Bspline<double,1> pw (&base)"
   ]
  },
  {
   "cell_type": "code",
   "execution_count": 11,
   "metadata": {},
   "outputs": [
    {
     "data": {
      "text/plain": [
       "\"N10eliastocco10polynomial10polynomialIdLj1ELj1EEE\""
      ]
     },
     "execution_count": 11,
     "metadata": {},
     "output_type": "execute_result"
    }
   ],
   "source": [
    "typeid(pw).name()"
   ]
  },
  {
   "cell_type": "code",
   "execution_count": 13,
   "metadata": {},
   "outputs": [],
   "source": [
    "pw.clear()"
   ]
  },
  {
   "cell_type": "code",
   "execution_count": 14,
   "metadata": {},
   "outputs": [
    {
     "data": {
      "text/plain": [
       "0.0000000"
      ]
     },
     "execution_count": 14,
     "metadata": {},
     "output_type": "execute_result"
    }
   ],
   "source": [
    "pw(1.0)"
   ]
  },
  {
   "cell_type": "code",
   "execution_count": 12,
   "metadata": {},
   "outputs": [],
   "source": [
    "simple_piecewise_polynomial<double> spw (&base)"
   ]
  },
  {
   "cell_type": "code",
   "execution_count": 13,
   "metadata": {},
   "outputs": [
    {
     "data": {
      "text/plain": [
       "0.0000000"
      ]
     },
     "execution_count": 13,
     "metadata": {},
     "output_type": "execute_result"
    }
   ],
   "source": [
    "spw(1.0)"
   ]
  },
  {
   "cell_type": "code",
   "execution_count": 14,
   "metadata": {},
   "outputs": [],
   "source": [
    "auto Mbase = monomial_basis<double,1>(5)"
   ]
  },
  {
   "cell_type": "code",
   "execution_count": 15,
   "metadata": {},
   "outputs": [],
   "source": [
    "simple_piecewise_polynomial<double> spw2 (&Mbase)"
   ]
  },
  {
   "cell_type": "code",
   "execution_count": 16,
   "metadata": {},
   "outputs": [
    {
     "data": {
      "text/plain": [
       "0.0000000"
      ]
     },
     "execution_count": 16,
     "metadata": {},
     "output_type": "execute_result"
    }
   ],
   "source": [
    "spw2(1.0)"
   ]
  },
  {
   "cell_type": "code",
   "execution_count": null,
   "metadata": {},
   "outputs": [],
   "source": []
  },
  {
   "cell_type": "code",
   "execution_count": 2,
   "metadata": {},
   "outputs": [
    {
     "name": "stdout",
     "output_type": "stream",
     "text": [
      "Overwriting header/Bspline.h\n"
     ]
    }
   ],
   "source": [
    "%%file header/Bspline.h\n",
    "\n",
    "#pragma once\n",
    "#include <vector>\n",
    "#include <exception>\n",
    "#include <memory>\n",
    "\n",
    "#include \"eliastocco_namespace_Bspline.h\"\n",
    "#include \"piecewise-polynomial.h\"\n",
    "#include \"polynomial.h\"\n",
    "#include \"knot_vector.h\"\n",
    "#include \"monomial.h\"\n",
    "\n",
    "namespace eliastocco {\n",
    "\n",
    "    namespace polynomial {    \n",
    "    \n",
    "        namespace Bspline {     \n",
    "        \n",
    "            template < class type , t_dim dimension = 1, t_dim codimension = 1>\n",
    "                using Bspline = polynomial<type,dimension,codimension>;\n",
    "        \n",
    "            template < class type , t_dim dimension >\n",
    "                basis < type , dimension > Bspline_basis ( const knot_vector<type> kv ){\n",
    "\n",
    "                    //costruttore\n",
    "                    return basis < type , dimension > ( make_Bspline_basis<type,dimension>(kv).value );\n",
    "\n",
    "                };\n",
    "                \n",
    "                \n",
    "            template < class type >\n",
    "                class make_Bspline_basis<type,1> {                \n",
    "                    \n",
    "\n",
    "                    public :\n",
    "                        make_Bspline_basis<type,1> ( const knot_vector<type> kv ){      \n",
    "                        \n",
    "                            //questo è il numero di funzioni di base\n",
    "                            const auto N = kv.n();\n",
    "                            \n",
    "                            //dovrò iterare p volte per ottenere la corretta base di funzioni\n",
    "                            const auto P = kv.p();\n",
    "                            \n",
    "                            //knots\n",
    "                            const auto knots = kv.knots();\n",
    "                            \n",
    "                //****************************************************************\n",
    "                \n",
    "                            //definiamo dei polinomi definiti a tratti\n",
    "                            typedef simple_piecewise_polynomial <type,1,1> s_pol_t;      \n",
    "                            typedef piecewise_polynomial <type,1,1> pol_t;    \n",
    "                            \n",
    "                            //definisco un array di polinomi definiti a tratti\n",
    "                            std :: vector < pol_t > Basis (N+P);\n",
    "                            \n",
    "                            auto mon_base = monomial_basis<type,1>(P);\n",
    "                            \n",
    "                            //definisco la base con p=0\n",
    "                            for ( auto i = 0 ; i < Basis.size() ; ++i ){\n",
    "                            \n",
    "                                //inizializzo i polinomi\n",
    "                                s_pol_t temp (&mon_base);                                \n",
    "                                //\n",
    "                                auto domain = square_range<type,1>(knots[i],knots[i+1]);\n",
    "                                //imposto i coefficienti\n",
    "                                temp.set(0,1);\n",
    "                                //imposto il dominio\n",
    "                                temp.set_domain(domain);\n",
    "                                \n",
    "                                //std :: cout << i << \":\" << temp(0.0) << std :: endl;\n",
    "                                \n",
    "                                //\n",
    "                                Basis.at(i) = temp ;     \n",
    "                                \n",
    "                                //std :: cout << i << \":\" << Basis.at(i)(0.0) << std :: endl;\n",
    "                                \n",
    "                            }\n",
    "                            \n",
    "                //****************************************************************\n",
    "                            \n",
    "                            //identità : prima era sbagliato\n",
    "                            s_pol_t z = polynomial <type,1,1> ({ {0,1} } , &mon_base); \n",
    "                            //std :: cout << \"identity : \" << z(0.0) << std :: endl;\n",
    "                        \n",
    "                            //alloco la base in cui inserirò le funzioni di gradi p-1\n",
    "                            std :: vector < pol_t > old ;\n",
    "                            \n",
    "                            unsigned int p = 1 ;\n",
    "                            do {\n",
    "                            \n",
    "                                old = Basis;\n",
    "                                //modifico la lunghezza della base\n",
    "                                Basis.resize(Basis.size()-1);\n",
    "                                \n",
    "                                // moltiplico tra di loro le funzioni di base\n",
    "                                for ( auto i = 0 ; i < Basis.size() ; ++i ){\n",
    "                                \n",
    "                                    auto den_1 = 1.0 / ( knots[i+p] - knots[i] );\n",
    "                                    auto den_2 = 1.0 / ( knots[i+p+1] - knots[i+1] );\n",
    "                                    \n",
    "                                    auto uno = den_1*(z*old[i]);\n",
    "                                    auto due = (-knots[i]*den_1)*old[i];\n",
    "                                    auto tre = (knots[i+p+1]*den_2)*old[i+1];\n",
    "                                    auto qua = (-den_2)*(z*old[i+1]);\n",
    "                                    \n",
    "                                    Basis[i] = uno + due + tre + qua ;\n",
    "                                    \n",
    "                                    /*std :: cout << uno(0.0) << \" | \"\n",
    "                                                << due(0.0) << \" | \"\n",
    "                                                << tre(0.0) << \" | \"\n",
    "                                                << qua(0.0) << std :: endl;*/\n",
    "                                    \n",
    "                                    /*den_1*(z*old[i]) +\n",
    "                                               (-knots[i]*den_1)*old[i] +\n",
    "                                               (knots[i+p+1]*den_2)*old[i+1] + \n",
    "                                               (-den_2)*(z*old[i+1]);*/\n",
    "                                   \n",
    "                                }\n",
    "                            \n",
    "                                p++;\n",
    "                            \n",
    "                            } while(p <= P);\n",
    "                            \n",
    "                //****************************************************************  \n",
    "                \n",
    "                            if ( Basis.size() != N ) {\n",
    "                                std :: cout << \"basis size different from theoretic one : \" \n",
    "                                    << Basis.size() << \" !=\" << N << std :: endl; \n",
    "                                throw std::exception();\n",
    "                            }\n",
    "                           \n",
    "                             value = std :: make_shared < t_basis_function < type , 1 > >();\n",
    "                             \n",
    "                             //faccio una porcata solo per salvare tutto il lavoro\n",
    "                             auto Basis_ptr = std :: make_shared<std :: vector < pol_t >> (Basis);\n",
    "                             //auto Basis_ptr = new std :: vector < pol_t > (Basis);\n",
    "                             //questo non si cancella dopo che esco dal costruttore\n",
    "                             \n",
    "                             std :: cout << Basis_ptr << std :: endl ; \n",
    "                             \n",
    "                             for (auto i=0;i<Basis.size();++i){\n",
    "                             \n",
    "                                 std :: cout << i << \":\" << (*Basis_ptr)[i](2.0) << std :: endl;\n",
    "\n",
    "                                (*value).insert(\n",
    "                                    std :: make_pair(i,\n",
    "                                        [=](const t_var<type,1> x){ \n",
    "                                        \n",
    "                                            std :: cout << i << Basis_ptr << std :: endl ; \n",
    "                                            return (*Basis_ptr)[i](x); \n",
    "                                        \n",
    "                                        }  ));\n",
    "                             }\n",
    "                             \n",
    "                //****************************************************************  \n",
    "\n",
    "                        }\n",
    "\n",
    "                    public :\n",
    "                        t_ptr < type , 1 > value;\n",
    "\n",
    "                };\n",
    "                \n",
    "             template < class type , t_dim dimension >\n",
    "                class make_Bspline_basis {\n",
    "                \n",
    "                     public :\n",
    "                        t_ptr < type , dimension > value;\n",
    "                \n",
    "                };\n",
    "                \n",
    "\n",
    "        \n",
    "        }\n",
    "        \n",
    "    }\n",
    "    \n",
    "}"
   ]
  }
 ],
 "metadata": {
  "kernelspec": {
   "display_name": "C++17",
   "language": "C++17",
   "name": "xcpp17"
  },
  "language_info": {
   "codemirror_mode": "text/x-c++src",
   "file_extension": ".cpp",
   "mimetype": "text/x-c++src",
   "name": "c++",
   "version": "17"
  },
  "latex_envs": {
   "LaTeX_envs_menu_present": true,
   "autoclose": true,
   "autocomplete": true,
   "bibliofile": "biblio.bib",
   "cite_by": "apalike",
   "current_citInitial": 1,
   "eqLabelWithNumbers": true,
   "eqNumInitial": 1,
   "hotkeys": {
    "equation": "Ctrl-E",
    "itemize": "Ctrl-I"
   },
   "labels_anchors": false,
   "latex_user_defs": false,
   "report_style_numbering": false,
   "user_envs_cfg": false
  },
  "toc": {
   "base_numbering": 1,
   "nav_menu": {},
   "number_sections": true,
   "sideBar": true,
   "skip_h1_title": false,
   "title_cell": "Table of Contents",
   "title_sidebar": "Contents",
   "toc_cell": false,
   "toc_position": {},
   "toc_section_display": true,
   "toc_window_display": false
  }
 },
 "nbformat": 4,
 "nbformat_minor": 4
}
