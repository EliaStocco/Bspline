{
 "cells": [
  {
   "cell_type": "code",
   "execution_count": 1,
   "metadata": {},
   "outputs": [],
   "source": [
    ".include header"
   ]
  },
  {
   "cell_type": "code",
   "execution_count": 2,
   "metadata": {},
   "outputs": [
    {
     "name": "stdout",
     "output_type": "stream",
     "text": [
      "Writing header/eliastocco_namespace_polynomial_tensor_product.h\n"
     ]
    }
   ],
   "source": [
    "%%file header/eliastocco_namespace_polynomial_tensor_product.h\n",
    "#pragma once\n",
    "\n",
    "#include <memory>\n",
    "#include <functional>\n",
    "#include <vector>\n",
    "#include <cmath>\n",
    "#include <array>\n",
    "#include <map>\n",
    "\n",
    "#include \"eliastocco_namespace_polynomial.h\"\n",
    "\n",
    "\n",
    "namespace eliastocco {\n",
    "\n",
    "    namespace polynomial {\n",
    "    \n",
    "        namespace tensor_product {\n",
    "            \n",
    "            template < class type , t_dim A_dim , t_dim B_dim > class merge_array ;\n",
    "                \n",
    "            template < class type , t_dim A_dim , t_dim B_dim > class split_array ;\n",
    "                \n",
    "            template < class type , t_dim A_dim, t_dim B_dim > class tensor_product ;\n",
    "    \n",
    "\n",
    "        }\n",
    "        \n",
    "    }\n",
    "        \n",
    "}"
   ]
  },
  {
   "cell_type": "code",
   "execution_count": null,
   "metadata": {},
   "outputs": [],
   "source": []
  }
 ],
 "metadata": {
  "kernelspec": {
   "display_name": "C++14",
   "language": "C++14",
   "name": "xcpp14"
  },
  "language_info": {
   "codemirror_mode": "text/x-c++src",
   "file_extension": ".cpp",
   "mimetype": "text/x-c++src",
   "name": "c++",
   "version": "14"
  },
  "latex_envs": {
   "LaTeX_envs_menu_present": true,
   "autoclose": true,
   "autocomplete": true,
   "bibliofile": "biblio.bib",
   "cite_by": "apalike",
   "current_citInitial": 1,
   "eqLabelWithNumbers": true,
   "eqNumInitial": 1,
   "hotkeys": {
    "equation": "Ctrl-E",
    "itemize": "Ctrl-I"
   },
   "labels_anchors": false,
   "latex_user_defs": false,
   "report_style_numbering": false,
   "user_envs_cfg": false
  },
  "toc": {
   "base_numbering": 1,
   "nav_menu": {},
   "number_sections": true,
   "sideBar": true,
   "skip_h1_title": false,
   "title_cell": "Table of Contents",
   "title_sidebar": "Contents",
   "toc_cell": false,
   "toc_position": {},
   "toc_section_display": true,
   "toc_window_display": false
  }
 },
 "nbformat": 4,
 "nbformat_minor": 4
}
