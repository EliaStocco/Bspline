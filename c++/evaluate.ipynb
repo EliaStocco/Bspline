{
 "cells": [
  {
   "cell_type": "code",
   "execution_count": 1,
   "metadata": {},
   "outputs": [],
   "source": [
    ".include header"
   ]
  },
  {
   "cell_type": "code",
   "execution_count": 2,
   "metadata": {},
   "outputs": [
    {
     "name": "stdout",
     "output_type": "stream",
     "text": [
      "Overwriting header/evaluate.h\n"
     ]
    }
   ],
   "source": [
    "%%file header/evaluate.h\n",
    "#pragma once\n",
    "\n",
    "#include <iostream>\n",
    "\n",
    "#include \"eliastocco_namespace_polynomial.h\"\n",
    "#include <valarray>\n",
    "#include <iterator>\n",
    "\n",
    "namespace eliastocco {\n",
    "\n",
    "    namespace polynomial {   \n",
    "            \n",
    "            //template function\n",
    "            template < class type , t_dim dimension , t_dim codimension >\n",
    "                /*std :: valarray<type>*/t_var<type,codimension>   default_polynomial_evaluation\n",
    "                    ( const t_coeff_array<type,dimension,codimension> & _coeffs ,\n",
    "                        const t_ptr < type , dimension > _basis_function , //non usare la reference qui !!!\n",
    "                            const t_var < type,dimension > x ){\n",
    "\n",
    "                            //std :: cout << \"default_polynomial_evaluation\" << std :: endl;\n",
    "       \n",
    "                            typedef typename std :: conditional<  std :: less<t_degree>{}(1,codimension) ,\n",
    "                                std :: valarray <type> , type > :: type coeff_type;\n",
    "\n",
    "                            //attenzione ad inizializzare !!\n",
    "                            coeff_type output = coeff_type ();\n",
    "                            coeff_type coefficient = coeff_type (); \n",
    "                            \n",
    "                            if constexpr ( codimension > 1 ){\n",
    "                            \n",
    "                                output.resize(codimension);\n",
    "                                coefficient.resize(codimension);                                    \n",
    "                                       \n",
    "                            } \n",
    "\n",
    "\n",
    "                            try {\n",
    "\n",
    "                               // basis_function deve essere già dotata di tutte le std::functional necessarie\n",
    "                                for ( auto it = _coeffs.begin(); it != _coeffs.end(); ++it ) {                    \n",
    "\n",
    "\n",
    "                                    if constexpr ( codimension > 1 ){\n",
    "                                    \n",
    "                                        auto & c = it->second;\n",
    "                                        std :: copy( std :: begin(c), std :: end(c), std :: begin(coefficient) );\n",
    "                                    \n",
    "                                    } else {\n",
    "                                    \n",
    "                                        coefficient = it->second ;\n",
    "                                    \n",
    "                                    }\n",
    "                                    \n",
    "                                    output+= /*_coeffs.at*/coefficient * (*_basis_function)[it->first](x);\n",
    "                                }\n",
    "\n",
    "                                //return output;\n",
    "\n",
    "                            } catch (  std::out_of_range e ) {\n",
    "                                std :: cout << \"error : default_polynomial_evaluation\" << std :: endl;\n",
    "                                std :: cout << e.what() << std :: endl ;      \n",
    "                                //throw std::out_of_range();\n",
    "\n",
    "                            }\n",
    "                            \n",
    "                            if constexpr ( codimension > 1 ){\n",
    "                                t_var<type,codimension> Output;                            \n",
    "                                std :: copy( std :: begin(output), std :: end(output), std :: begin(Output) );\n",
    "                                return Output;\n",
    "                            } else {                                \n",
    "                                return output;                            \n",
    "                            }                            \n",
    "\n",
    "            };\n",
    "       \n",
    "    }\n",
    "   \n",
    "}"
   ]
  },
  {
   "cell_type": "code",
   "execution_count": 4,
   "metadata": {},
   "outputs": [],
   "source": [
    "#include <valarray>\n",
    "#include <array>"
   ]
  },
  {
   "cell_type": "code",
   "execution_count": 5,
   "metadata": {},
   "outputs": [],
   "source": [
    "std :: array<double,3> a = {1,2,3}"
   ]
  },
  {
   "cell_type": "code",
   "execution_count": 6,
   "metadata": {},
   "outputs": [],
   "source": [
    "std :: valarray<double> b (3)"
   ]
  },
  {
   "cell_type": "code",
   "execution_count": 11,
   "metadata": {},
   "outputs": [
    {
     "data": {
      "text/plain": [
       "@0x7fffd3d28458"
      ]
     },
     "execution_count": 11,
     "metadata": {},
     "output_type": "execute_result"
    }
   ],
   "source": [
    "end(a)"
   ]
  },
  {
   "cell_type": "code",
   "execution_count": 13,
   "metadata": {},
   "outputs": [],
   "source": [
    "std :: copy( begin(a), end(a), begin(b) );"
   ]
  },
  {
   "cell_type": "markdown",
   "metadata": {},
   "source": [
    "%%file header/evaluate.h\n",
    "#pragma once\n",
    "\n",
    "#include <iostream>\n",
    "\n",
    "#include \"eliastocco_namespace_polynomial.h\"\n",
    "\n",
    "namespace eliastocco {\n",
    "\n",
    "    namespace polynomial {    \n",
    "        \n",
    "        //template function\n",
    "        template < class type , t_dim dimension >\n",
    "            type  default_polynomial_evaluation \n",
    "                ( const t_coeff_array < type , dimension > & _coeffs ,\n",
    "                    const t_ptr < type , dimension > & _basis_function , \n",
    "                        const t_var < type , dimension > x ){\n",
    "                        \n",
    "                        type output = type();           \n",
    "                                           \n",
    "                        try {\n",
    "\n",
    "                             \n",
    "                           // basis_function deve essere già dotata di tutte le std::functional necessarie\n",
    "                            for ( auto it = _coeffs.begin(); it != _coeffs.end(); ++it ) {                    \n",
    "                                //output+=coefficiente*monomial(x)  \n",
    "                                output+= /*_coeffs.at*/(it->second) * (*_basis_function).at(it->first)(x);\n",
    "                            }\n",
    "\n",
    "                            //return output;\n",
    "\n",
    "                        } catch (  std::out_of_range e ) {\n",
    "                            std :: cout << \"error : default_polynomial_evaluation\" << std :: endl;\n",
    "                            std :: cout << e.what() << std :: endl ;      \n",
    "                            //throw std::out_of_range();\n",
    "\n",
    "                        }\n",
    "                        \n",
    "                        return output;\n",
    "\n",
    "        };\n",
    "    \n",
    "    \n",
    "    }\n",
    "   \n",
    "}"
   ]
  },
  {
   "cell_type": "code",
   "execution_count": null,
   "metadata": {},
   "outputs": [],
   "source": []
  }
 ],
 "metadata": {
  "kernelspec": {
   "display_name": "C++14",
   "language": "C++14",
   "name": "xcpp14"
  },
  "language_info": {
   "codemirror_mode": "text/x-c++src",
   "file_extension": ".cpp",
   "mimetype": "text/x-c++src",
   "name": "c++",
   "version": "14"
  },
  "latex_envs": {
   "LaTeX_envs_menu_present": true,
   "autoclose": true,
   "autocomplete": true,
   "bibliofile": "biblio.bib",
   "cite_by": "apalike",
   "current_citInitial": 1,
   "eqLabelWithNumbers": true,
   "eqNumInitial": 1,
   "hotkeys": {
    "equation": "Ctrl-E",
    "itemize": "Ctrl-I"
   },
   "labels_anchors": false,
   "latex_user_defs": false,
   "report_style_numbering": false,
   "user_envs_cfg": false
  },
  "toc": {
   "base_numbering": 1,
   "nav_menu": {},
   "number_sections": true,
   "sideBar": true,
   "skip_h1_title": false,
   "title_cell": "Table of Contents",
   "title_sidebar": "Contents",
   "toc_cell": false,
   "toc_position": {},
   "toc_section_display": true,
   "toc_window_display": false
  }
 },
 "nbformat": 4,
 "nbformat_minor": 4
}
