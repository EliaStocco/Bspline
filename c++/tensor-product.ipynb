{
 "cells": [
  {
   "cell_type": "code",
   "execution_count": 1,
   "metadata": {},
   "outputs": [],
   "source": [
    ".include header"
   ]
  },
  {
   "cell_type": "code",
   "execution_count": 2,
   "metadata": {},
   "outputs": [
    {
     "name": "stdout",
     "output_type": "stream",
     "text": [
      "Overwriting header/tensor_product.h\n"
     ]
    }
   ],
   "source": [
    "%%file header/tensor_product.h\n",
    "#pragma once\n",
    "\n",
    "#include <iostream>\n",
    "#include <functional>\n",
    "#include <tuple>\n",
    "\n",
    "#include \"split_array.h\"\n",
    "#include \"merge_array.h\"\n",
    "\n",
    "#include \"eliastocco_namespace_polynomial.h\"\n",
    "#include \"eliastocco_namespace_polynomial_tensor_product.h\"\n",
    "\n",
    "namespace eliastocco {\n",
    "    \n",
    "    namespace polynomial {\n",
    "\n",
    "        namespace tensor_product {   \n",
    "           \n",
    "             template < class type , t_dim A_dim, t_dim B_dim >\n",
    "                 class tensor_product {\n",
    "                 \n",
    "                     public :\n",
    "                         tensor_product<type,A_dim,B_dim> ( const t_basis_function<type,A_dim> A ,\n",
    "                                        const t_basis_function<type,B_dim> B ) : value(){\n",
    "                                        \n",
    "                           \n",
    "                            typedef typename decltype(A)::mapped_type lambda_A;\n",
    "                            typedef typename decltype(B)::mapped_type lambda_B;                         \n",
    "\n",
    "                            typedef typename lambda_A :: result_type result_A;\n",
    "                            typedef typename lambda_B :: result_type result_B;\n",
    "                            static_assert ( std::is_same<result_A, result_B>::value ,\n",
    "                                \"EliaStocco: different result types\" );\n",
    "                            typedef result_A result_type;                            \n",
    "\n",
    "                            typedef result_type Type;\n",
    "\n",
    "                            static_assert ( std::is_same<Type, type>::value ,\n",
    "                                \"EliaStocco: result type different form template type\" );\n",
    "\n",
    "                            typedef typename std :: array < type , A_dim + B_dim > parameter;  \n",
    "\n",
    "                            typename decltype(value)::key_type key;\n",
    "                            typename decltype(value)::mapped_type lambda;\n",
    "\n",
    "                            typedef typename decltype(value)::mapped_type::argument_type argument;\n",
    "\n",
    "                            static_assert ( std::is_same<argument, parameter>::value ,\n",
    "                                \"EliaStocco: argument type different form parameter type\" );\n",
    "                                \n",
    "\n",
    "                            for ( auto a = A.begin(); a!=A.end();++a){\n",
    "                                for ( auto b = B.begin(); b!=B.end();++b){\n",
    "                                    \n",
    "                                    merge_array<t_degree,A_dim,B_dim> app ((*a).first , (*b).first);\n",
    "                                    key =app.value;\n",
    "\n",
    "                                    \n",
    "                                    auto a_2 = (*a).second;\n",
    "                                    auto b_2 = (*b).second;\n",
    "\n",
    "                                    lambda = [=](const parameter x ){\n",
    "\n",
    "                                        t_var<type,A_dim> x_0;\n",
    "                                        t_var<type,B_dim> x_1;\n",
    "\n",
    "                                        split_array<type,A_dim,B_dim> X (x);\n",
    "                                        std :: tie (x_0,x_1) =  X.value;\n",
    "\n",
    "\n",
    "                                        auto y_0 = a_2(x_0);\n",
    "                                        auto y_1 = b_2(x_1);\n",
    "                                        return y_0*y_1;\n",
    "\n",
    "                                    };                                   \n",
    "\n",
    "                                    value.insert(std :: make_pair (key,lambda));\n",
    "\n",
    "                                }\n",
    "                            \n",
    "                            }                                        \n",
    "                                        \n",
    "                        };\n",
    "                                        \n",
    "                public :\n",
    "                    t_basis_function <type,A_dim+B_dim> value;\n",
    "                    \n",
    "                    \n",
    "                 };\n",
    "                    \n",
    "                \n",
    "            };\n",
    "           \n",
    "        }\n",
    "        \n",
    "    }"
   ]
  },
  {
   "cell_type": "code",
   "execution_count": 3,
   "metadata": {},
   "outputs": [],
   "source": [
    "#include \"monomial.h\""
   ]
  },
  {
   "cell_type": "code",
   "execution_count": 4,
   "metadata": {},
   "outputs": [],
   "source": [
    "using namespace eliastocco :: polynomial;"
   ]
  },
  {
   "cell_type": "code",
   "execution_count": 5,
   "metadata": {},
   "outputs": [],
   "source": [
    "auto A = *(make_monomials<double,1> (3).value)"
   ]
  },
  {
   "cell_type": "code",
   "execution_count": 6,
   "metadata": {},
   "outputs": [],
   "source": [
    "auto B = *(make_monomials<double,1> (3).value)"
   ]
  },
  {
   "cell_type": "code",
   "execution_count": 7,
   "metadata": {},
   "outputs": [],
   "source": [
    "auto T = tensor_product::tensor_product<double,1,1>(A,B).value;"
   ]
  },
  {
   "cell_type": "code",
   "execution_count": 8,
   "metadata": {},
   "outputs": [],
   "source": [
    "auto t = T[{0,0}]"
   ]
  },
  {
   "cell_type": "code",
   "execution_count": 9,
   "metadata": {},
   "outputs": [
    {
     "data": {
      "text/plain": [
       "1.0000000"
      ]
     },
     "execution_count": 9,
     "metadata": {},
     "output_type": "execute_result"
    }
   ],
   "source": [
    "t({1,3})"
   ]
  },
  {
   "cell_type": "code",
   "execution_count": null,
   "metadata": {},
   "outputs": [],
   "source": []
  }
 ],
 "metadata": {
  "kernelspec": {
   "display_name": "C++14",
   "language": "C++14",
   "name": "xcpp14"
  },
  "language_info": {
   "codemirror_mode": "text/x-c++src",
   "file_extension": ".cpp",
   "mimetype": "text/x-c++src",
   "name": "c++",
   "version": "14"
  },
  "latex_envs": {
   "LaTeX_envs_menu_present": true,
   "autoclose": true,
   "autocomplete": true,
   "bibliofile": "biblio.bib",
   "cite_by": "apalike",
   "current_citInitial": 1,
   "eqLabelWithNumbers": true,
   "eqNumInitial": 1,
   "hotkeys": {
    "equation": "Ctrl-E",
    "itemize": "Ctrl-I"
   },
   "labels_anchors": false,
   "latex_user_defs": false,
   "report_style_numbering": false,
   "user_envs_cfg": false
  },
  "toc": {
   "base_numbering": 1,
   "nav_menu": {},
   "number_sections": true,
   "sideBar": true,
   "skip_h1_title": false,
   "title_cell": "Table of Contents",
   "title_sidebar": "Contents",
   "toc_cell": false,
   "toc_position": {},
   "toc_section_display": true,
   "toc_window_display": false
  }
 },
 "nbformat": 4,
 "nbformat_minor": 4
}
