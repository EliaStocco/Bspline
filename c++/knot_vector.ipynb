{
 "cells": [
  {
   "cell_type": "code",
   "execution_count": 3,
   "metadata": {},
   "outputs": [],
   "source": [
    ".include header"
   ]
  },
  {
   "cell_type": "code",
   "execution_count": 4,
   "metadata": {},
   "outputs": [
    {
     "name": "stdout",
     "output_type": "stream",
     "text": [
      "Overwriting header/knot_vector.h\n"
     ]
    }
   ],
   "source": [
    "%%file header/knot_vector.h\n",
    "\n",
    "#pragma once\n",
    "#include <vector>\n",
    "#include <stdexcept>\n",
    "#include \"eliastocco_namespace_Bspline.h\"\n",
    "\n",
    "namespace eliastocco {\n",
    "\n",
    "    namespace polynomial {    \n",
    "    \n",
    "        namespace Bspline {\n",
    "        \n",
    "            template < class type >\n",
    "                class knot_vector\n",
    "                    : public std :: vector <type> {\n",
    "                \n",
    "                        #define thisclass knot_vector<type>\n",
    "                        #define motherclass std :: vector <type>\n",
    "                        \n",
    "                        public :\n",
    "                            thisclass(){};\n",
    "                            \n",
    "                        public :\n",
    "                            thisclass( const unsigned int p,\n",
    "                                       const unsigned int n,\n",
    "                                       std :: vector <type> v )\n",
    "                                       : pol_order(p),\n",
    "                                           basis_card(n), \n",
    "                                            motherclass(v) {\n",
    "                                            \n",
    "                                if ( p+n+1 != v.size() ){\n",
    "                                    std :: cout << \"knot_vector\" << std :: endl;\n",
    "                                    std :: cout << \"p : \" << p << std :: endl ;\n",
    "                                    std :: cout << \"n : \" << n << std :: endl ;\n",
    "                                    std :: cout << \"v : \" << v.size() << std :: endl ;\n",
    "                                    std :: cout << \"knot_vector error : wrong vector size\" << std :: endl ;\n",
    "                                    throw std::exception ();\n",
    "                                }\n",
    "                                       \n",
    "                                       \n",
    "                            };\n",
    "                            \n",
    "                        public :\n",
    "                            inline unsigned int p () const { return pol_order ; }\n",
    "                            \n",
    "                        public :\n",
    "                            inline unsigned int n () const { return basis_card ; }\n",
    "                            \n",
    "                        public :\n",
    "                            inline motherclass knots () const { return (*this) ; }\n",
    "                            \n",
    "                        private :\n",
    "                            unsigned int pol_order; //grado polinomiale\n",
    "                            unsigned int basis_card;//cardinalità della base\n",
    "                        \n",
    "                        #undef thisclass\n",
    "                        #undef motherclass\n",
    "                };\n",
    "                \n",
    "            }\n",
    "            \n",
    "        }\n",
    "\n",
    "}"
   ]
  },
  {
   "cell_type": "code",
   "execution_count": null,
   "metadata": {},
   "outputs": [],
   "source": []
  }
 ],
 "metadata": {
  "kernelspec": {
   "display_name": "C++17",
   "language": "C++17",
   "name": "xcpp17"
  },
  "language_info": {
   "codemirror_mode": "text/x-c++src",
   "file_extension": ".cpp",
   "mimetype": "text/x-c++src",
   "name": "c++",
   "version": "17"
  },
  "latex_envs": {
   "LaTeX_envs_menu_present": true,
   "autoclose": true,
   "autocomplete": true,
   "bibliofile": "biblio.bib",
   "cite_by": "apalike",
   "current_citInitial": 1,
   "eqLabelWithNumbers": true,
   "eqNumInitial": 1,
   "hotkeys": {
    "equation": "Ctrl-E",
    "itemize": "Ctrl-I"
   },
   "labels_anchors": false,
   "latex_user_defs": false,
   "report_style_numbering": false,
   "user_envs_cfg": false
  },
  "toc": {
   "base_numbering": 1,
   "nav_menu": {},
   "number_sections": true,
   "sideBar": true,
   "skip_h1_title": false,
   "title_cell": "Table of Contents",
   "title_sidebar": "Contents",
   "toc_cell": false,
   "toc_position": {},
   "toc_section_display": true,
   "toc_window_display": false
  }
 },
 "nbformat": 4,
 "nbformat_minor": 4
}
