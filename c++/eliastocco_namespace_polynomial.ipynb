{
 "cells": [
  {
   "cell_type": "code",
   "execution_count": 1,
   "metadata": {},
   "outputs": [],
   "source": [
    ".include header"
   ]
  },
  {
   "cell_type": "code",
   "execution_count": 2,
   "metadata": {},
   "outputs": [
    {
     "name": "stdout",
     "output_type": "stream",
     "text": [
      "Overwriting header/eliastocco_namespace_polynomial.h\n"
     ]
    }
   ],
   "source": [
    "%%file header/eliastocco_namespace_polynomial.h\n",
    "#pragma once\n",
    "\n",
    "#include <memory>\n",
    "#include <functional>\n",
    "#include <vector>\n",
    "#include <cmath>\n",
    "#include <array>\n",
    "#include <map>\n",
    "\n",
    "\n",
    "namespace eliastocco {\n",
    "\n",
    "    namespace polynomial {\n",
    "    \n",
    "        typedef unsigned int t_dim;   //potrei modificarlo con long o short\n",
    "        typedef unsigned int t_degree;//potrei modificarlo con long o short\n",
    "        \n",
    "        \n",
    "        \n",
    "        //grado polinomiale\n",
    "        template < t_dim dimension >\n",
    "          using t_deg = typename std::conditional < std :: less<t_degree>{}(1,dimension) ,\n",
    "                                      std :: array < t_degree, dimension > , t_degree > :: type ;        \n",
    "             \n",
    "        //variabile indipendente \n",
    "        template < class type , t_dim dimension >\n",
    "            using t_var = typename std::conditional < std :: less<t_degree>{}(1,dimension) ,\n",
    "                                    std :: array < type, dimension > , type > :: type ;        \n",
    "         \n",
    "        //contenitore per i coefficienti e i polinomi\n",
    "        //potrei modificarlo con un std :: map\n",
    "        template < t_dim dimension  , class contained >\n",
    "            using matrix = std :: map < t_deg < dimension > , contained >;\n",
    "            \n",
    "              \n",
    "        //polinomio\n",
    "        template < class type , t_dim dimension >\n",
    "            using t_func = std :: function < type ( t_var < type , dimension > ) >; \n",
    "\n",
    "       /*template < class type , t_dim dimension >\n",
    "            using t_list = std :: vector < std :: pair < t_deg < dimension > , type > >;*/\n",
    "             \n",
    "        \n",
    "\n",
    "\n",
    "        //array di polinomi : base polinomiale\n",
    "        //vettore,matrice, cubo, etc di polinomi\n",
    "        template < class type , t_dim dimension >\n",
    "            using t_basis_function = matrix < dimension , t_func < type , dimension > >;\n",
    "\n",
    "        //puntatore alla base polinomiale\n",
    "        template < class type , t_dim dimension >\n",
    "            using t_ptr = std :: shared_ptr < t_basis_function< type , dimension > >;   \n",
    "            \n",
    "            \n",
    "        template < class type , t_dim dimension > class basis ;\n",
    "        \n",
    "        template < class type , t_dim dimension = 1 , t_dim codimension = 1 > class polynomial ;\n",
    "        \n",
    "        template < class type , t_dim dimension , t_dim codimension >\n",
    "            polynomial<type,dimension,codimension> operator * \n",
    "                ( const type factor , const polynomial<type,dimension,codimension> right ); \n",
    "                \n",
    "        template < class type , t_dim dimension , t_dim codimension >\n",
    "            polynomial<type,dimension,codimension> operator * \n",
    "                ( const polynomial<type,dimension,codimension> right , const type factor );\n",
    "                \n",
    "        template < class type , t_dim dimension , t_dim codimension >\n",
    "            polynomial<type,dimension,codimension> operator + \n",
    "                ( const polynomial<type,dimension,codimension> right , const type factor );\n",
    "        \n",
    "        template < class type , t_dim dimension , t_dim codimension >\n",
    "            polynomial<type,dimension,codimension>\n",
    "                /*polynomial<type,dimension,codimension> ::*/ operator * \n",
    "                    ( const polynomial<type,dimension,codimension> left ,\n",
    "                         const polynomial<type,dimension,codimension> right ) ;\n",
    "                        \n",
    "        //monomials        \n",
    "                                        \n",
    "        template < class type , t_dim dimension = 1 >\n",
    "            basis < type , dimension > monomial_basis (const t_deg<dimension> );\n",
    "            \n",
    "        template < class type ,  t_dim dimension = 1 > class make_monomials;\n",
    "        \n",
    "        \n",
    "        template < class contained , t_dim dimension >\n",
    "                using t_list = std :: vector < std :: pair < t_deg < dimension > , contained > >;\n",
    "                \n",
    "        template < class type , t_dim dimension , t_dim codimension > \n",
    "                using t_coeff_array = matrix < dimension , t_var<type,codimension> >;  \n",
    "                \n",
    "        //array dei coefficienti di un polinomio\n",
    "        //vettore,matrice, cubo, etc di polinomi\n",
    "        template < class type , t_dim dimension > //, t_dim codimension > \n",
    "            using t_coeff_array_basis = t_coeff_array<type,dimension,1>;\n",
    "            //using t_coeff_array = matrix < dimension , t_var<type,codimension> >;\n",
    "        \n",
    "            /*template < class type , t_dim dimension , t_dim codimension>\n",
    "                using t_list_Bspline = \n",
    "                    std :: array < eliastocco :: polynomial :: t_list < type , dimension > , codimension >;*/\n",
    "\n",
    "            template < class type , t_dim codimension> \n",
    "                using control_point = t_var < type,codimension>;\n",
    "                \n",
    "                \n",
    "                  template < class type , t_dim dimension >\n",
    "                    std :: vector <type> from_array_to_vector ( std :: array <type,dimension> input );\n",
    "                    \n",
    "            template < class type , t_dim dimension >\n",
    "                    std :: vector <type> from_array_to_vector ( std :: array <type,dimension> input ){\n",
    "                         \n",
    "                        std :: vector < type > output;\n",
    "                        std::copy(input.begin(), input.end(), std::back_inserter(output));                            \n",
    "                        return output;\n",
    "                    \n",
    "                    };\n",
    "                    \n",
    "            //valutazione del punto\n",
    "            template < class type , t_dim dimension , t_dim codimension >\n",
    "                using t_eval = std :: function < t_var<type,codimension> \n",
    "                                            ( const t_coeff_array<type,dimension,codimension> & ,\n",
    "                                                        const t_ptr < type , dimension > , \n",
    "                                                            const t_var < type , dimension > ) >;\n",
    "                                                            \n",
    "                    //valutazione del punto\n",
    "            /*template < class type , t_dim dimension >\n",
    "                using t_eval_basis = t_eval<type,dimension,1>;*/\n",
    "                \n",
    "            /*    std :: function < type \n",
    "                                            ( const t_coeff_array_basis<type,dimension> & ,\n",
    "                                                        const t_ptr < type , dimension > & , \n",
    "                                                            const t_var < type , dimension > ) >; */\n",
    "                                                            \n",
    "                                                            \n",
    "            template < class type , t_dim dimension , t_dim codimension >\n",
    "                t_var<type,codimension>  default_polynomial_evaluation \n",
    "                       ( const t_coeff_array<type,dimension,codimension> & _coeffs ,\n",
    "                            const t_ptr < type , dimension > _basis_function , \n",
    "                                const t_var < type,dimension > x );\n",
    "        \n",
    "                   \n",
    "        }\n",
    "        \n",
    "}"
   ]
  },
  {
   "cell_type": "code",
   "execution_count": 3,
   "metadata": {},
   "outputs": [],
   "source": [
    "using namespace eliastocco :: polynomial;"
   ]
  },
  {
   "cell_type": "code",
   "execution_count": 4,
   "metadata": {},
   "outputs": [],
   "source": [
    "t_deg<2>a;"
   ]
  },
  {
   "cell_type": "code",
   "execution_count": 5,
   "metadata": {},
   "outputs": [
    {
     "data": {
      "text/plain": [
       "\"St5arrayIjLm2EE\""
      ]
     },
     "execution_count": 5,
     "metadata": {},
     "output_type": "execute_result"
    }
   ],
   "source": [
    "typeid(a).name()"
   ]
  },
  {
   "cell_type": "code",
   "execution_count": 6,
   "metadata": {},
   "outputs": [
    {
     "data": {
      "text/plain": [
       "\"St5arrayIjLm2EE\""
      ]
     },
     "execution_count": 6,
     "metadata": {},
     "output_type": "execute_result"
    }
   ],
   "source": [
    "typeid(std::array<unsigned int,2>).name()"
   ]
  },
  {
   "cell_type": "code",
   "execution_count": 6,
   "metadata": {},
   "outputs": [],
   "source": [
    "matrix < 1 , t_func < double , 1 > > b;"
   ]
  },
  {
   "cell_type": "code",
   "execution_count": 7,
   "metadata": {},
   "outputs": [],
   "source": [
    "t_basis_function < double , 1 > e;"
   ]
  },
  {
   "cell_type": "code",
   "execution_count": 10,
   "metadata": {},
   "outputs": [],
   "source": [
    "auto f = std :: make_shared < t_ptr<double,1> >"
   ]
  },
  {
   "cell_type": "code",
   "execution_count": null,
   "metadata": {},
   "outputs": [],
   "source": []
  }
 ],
 "metadata": {
  "kernelspec": {
   "display_name": "C++14",
   "language": "C++14",
   "name": "xcpp14"
  },
  "language_info": {
   "codemirror_mode": "text/x-c++src",
   "file_extension": ".cpp",
   "mimetype": "text/x-c++src",
   "name": "c++",
   "version": "14"
  },
  "latex_envs": {
   "LaTeX_envs_menu_present": true,
   "autoclose": true,
   "autocomplete": true,
   "bibliofile": "biblio.bib",
   "cite_by": "apalike",
   "current_citInitial": 1,
   "eqLabelWithNumbers": true,
   "eqNumInitial": 1,
   "hotkeys": {
    "equation": "Ctrl-E",
    "itemize": "Ctrl-I"
   },
   "labels_anchors": false,
   "latex_user_defs": false,
   "report_style_numbering": false,
   "user_envs_cfg": false
  },
  "toc": {
   "base_numbering": 1,
   "nav_menu": {},
   "number_sections": true,
   "sideBar": true,
   "skip_h1_title": false,
   "title_cell": "Table of Contents",
   "title_sidebar": "Contents",
   "toc_cell": false,
   "toc_position": {},
   "toc_section_display": true,
   "toc_window_display": false
  }
 },
 "nbformat": 4,
 "nbformat_minor": 4
}
